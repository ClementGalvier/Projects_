{
 "cells": [
  {
   "cell_type": "markdown",
   "metadata": {},
   "source": [
    "# `Part 3: Feature engineering and pre-EDA in PowerBI`"
   ]
  },
  {
   "cell_type": "markdown",
   "metadata": {},
   "source": [
    "- In the previous step we ended with lots of features with missing values. These features will either need to be imputed to removed to perfom a meaningful EDA and modeling.\n",
    "- We will also use this notebook to add on features and transform columns to have the best possible dataset before jumping on modeling"
   ]
  },
  {
   "cell_type": "code",
   "execution_count": 1,
   "metadata": {},
   "outputs": [],
   "source": [
    "import pandas as pd\n",
    "import numpy as np\n",
    "import os\n",
    "\n",
    "import matplotlib.pyplot as plt # for visualizations in python\n",
    "import seaborn as sns# for visualizations in python\n",
    "\n",
    "from sklearn.cluster import KMeans #for clustering lat and long \n",
    "\n",
    "# to access AWS\n",
    "import aws_creds\n",
    "import os\n",
    "from smart_open import smart_open\n",
    "import boto3 \n",
    "from io import StringIO # python3; python2: BytesIO "
   ]
  },
  {
   "cell_type": "code",
   "execution_count": 14,
   "metadata": {},
   "outputs": [],
   "source": [
    "#Helper functions\n",
    "def df_quality (df):\n",
    "    df_qual= pd.DataFrame(df.dtypes, columns={'dtypes'}) # creating a colum to display all data types\n",
    "    df_qual['isna%'] = np.round((df.isna().sum()/len(df))*100,1) # creating new columns = to missing values %\n",
    "    df_qual['isna']= df.isna().sum() # creating new columns eq to missing values\n",
    "    return df_qual.sort_values(by= 'isna%' , ascending=False)[:60] # sorting and shortlisting"
   ]
  },
  {
   "cell_type": "code",
   "execution_count": 3,
   "metadata": {},
   "outputs": [
    {
     "name": "stderr",
     "output_type": "stream",
     "text": [
      "C:\\Users\\galvi\\AppData\\Local\\Temp\\ipykernel_2168\\3738207705.py:10: DtypeWarning: Columns (34,35) have mixed types. Specify dtype option on import or set low_memory=False.\n",
      "  df = pd.read_csv(smart_open(path), index_col=[0]) # index_col=[0] to avoid unammed:0\n"
     ]
    }
   ],
   "source": [
    "#importing our file from AWS\n",
    "aws_key = aws_creds.aws_key\n",
    "aws_secret = aws_creds.aws_secret\n",
    "\n",
    "bucket_name = aws_creds.bucket\n",
    "object_key = 'df_english.csv'\n",
    "\n",
    "path = 's3://{}:{}@{}/{}'.format(aws_key, aws_secret, bucket_name, object_key)\n",
    "\n",
    "df = pd.read_csv(smart_open(path), index_col=[0]) # index_col=[0] to avoid unammed:0"
   ]
  },
  {
   "cell_type": "markdown",
   "metadata": {},
   "source": [
    "In order to make the most meaningful EDA, we can impute/ transform basic features"
   ]
  },
  {
   "cell_type": "markdown",
   "metadata": {},
   "source": [
    "### `Data imputation`"
   ]
  },
  {
   "cell_type": "markdown",
   "metadata": {},
   "source": [
    "Depending on the features we look at, some data can be imputed easily. \n",
    "1. max_speed\n",
    "2. events"
   ]
  },
  {
   "cell_type": "code",
   "execution_count": 4,
   "metadata": {},
   "outputs": [
    {
     "name": "stderr",
     "output_type": "stream",
     "text": [
      "C:\\Users\\galvi\\AppData\\Local\\Temp\\ipykernel_2168\\4251089470.py:3: SettingWithCopyWarning: \n",
      "A value is trying to be set on a copy of a slice from a DataFrame\n",
      "\n",
      "See the caveats in the documentation: https://pandas.pydata.org/pandas-docs/stable/user_guide/indexing.html#returning-a-view-versus-a-copy\n",
      "  df['max_speed_allowed'][df['max_speed_allowed'] > 130] = np.nan #max speed allowed in France is 130km/hr\n"
     ]
    }
   ],
   "source": [
    "### max_speed\n",
    "df['max_speed_allowed'].value_counts() # Speed allowed.  values do not make sense, we can impute straight away\n",
    "df['max_speed_allowed'][df['max_speed_allowed'] > 130] = np.nan #max speed allowed in France is 130km/hr\n",
    "df['max_speed_allowed'][df['max_speed_allowed'] <= 9] = np.nan #min speed allowed in France is 10km/hr\n",
    "df['max_speed_allowed'][df['max_speed_allowed'] == 12] = np.nan\n",
    "df['max_speed_allowed'][df['max_speed_allowed'] == 42] = np.nan\n",
    " "
   ]
  },
  {
   "cell_type": "code",
   "execution_count": 5,
   "metadata": {},
   "outputs": [],
   "source": [
    "#Grouping speed by buckets to reflect the different types of speed available in France\n",
    "speed_buckets= {10:1,\n",
    "15:1,\n",
    "20:1,\n",
    "25:1,\n",
    "30:2,\n",
    "35:2,\n",
    "40:2,\n",
    "45:2,\n",
    "50:3,\n",
    "55:4,\n",
    "60:4,\n",
    "65:4,\n",
    "70:4,\n",
    "75:4,\n",
    "80:4,\n",
    "90:5,\n",
    "100:6,\n",
    "110:6,\n",
    "120:6,\n",
    "130:7}\n",
    "\n",
    "df['speed_group'] = ''\n",
    "df['speed_group'] = df['max_speed_allowed'].map(speed_buckets) # mapping the vehicule type"
   ]
  },
  {
   "cell_type": "code",
   "execution_count": 6,
   "metadata": {},
   "outputs": [
    {
     "data": {
      "text/plain": [
       "3.0    196235\n",
       "4.0     81562\n",
       "2.0     29884\n",
       "5.0     27214\n",
       "6.0     15329\n",
       "7.0      9421\n",
       "1.0      1815\n",
       "Name: speed_group, dtype: int64"
      ]
     },
     "execution_count": 6,
     "metadata": {},
     "output_type": "execute_result"
    }
   ],
   "source": [
    "df['speed_group'].value_counts()"
   ]
  },
  {
   "cell_type": "code",
   "execution_count": 7,
   "metadata": {},
   "outputs": [],
   "source": [
    "### public_holidays\n",
    "df['event'] = df['event'].fillna('not_ph') # if not in the public_holidays dataframre, then not public holidays"
   ]
  },
  {
   "cell_type": "markdown",
   "metadata": {},
   "source": [
    "### `Features add / drop`"
   ]
  },
  {
   "cell_type": "code",
   "execution_count": 15,
   "metadata": {},
   "outputs": [
    {
     "data": {
      "text/html": [
       "<div>\n",
       "<style scoped>\n",
       "    .dataframe tbody tr th:only-of-type {\n",
       "        vertical-align: middle;\n",
       "    }\n",
       "\n",
       "    .dataframe tbody tr th {\n",
       "        vertical-align: top;\n",
       "    }\n",
       "\n",
       "    .dataframe thead th {\n",
       "        text-align: right;\n",
       "    }\n",
       "</style>\n",
       "<table border=\"1\" class=\"dataframe\">\n",
       "  <thead>\n",
       "    <tr style=\"text-align: right;\">\n",
       "      <th></th>\n",
       "      <th>dtypes</th>\n",
       "      <th>isna%</th>\n",
       "      <th>isna</th>\n",
       "    </tr>\n",
       "  </thead>\n",
       "  <tbody>\n",
       "    <tr>\n",
       "      <th>pedestrian_loc</th>\n",
       "      <td>object</td>\n",
       "      <td>92.7</td>\n",
       "      <td>340305</td>\n",
       "    </tr>\n",
       "    <tr>\n",
       "      <th>pedestrian_action</th>\n",
       "      <td>object</td>\n",
       "      <td>92.6</td>\n",
       "      <td>340168</td>\n",
       "    </tr>\n",
       "    <tr>\n",
       "      <th>pedestrian_group</th>\n",
       "      <td>object</td>\n",
       "      <td>92.3</td>\n",
       "      <td>338892</td>\n",
       "    </tr>\n",
       "    <tr>\n",
       "      <th>reserved_path</th>\n",
       "      <td>object</td>\n",
       "      <td>90.6</td>\n",
       "      <td>332675</td>\n",
       "    </tr>\n",
       "    <tr>\n",
       "      <th>fixed_obstacle_hurt</th>\n",
       "      <td>object</td>\n",
       "      <td>84.1</td>\n",
       "      <td>308898</td>\n",
       "    </tr>\n",
       "    <tr>\n",
       "      <th>infra_type</th>\n",
       "      <td>object</td>\n",
       "      <td>84.1</td>\n",
       "      <td>308930</td>\n",
       "    </tr>\n",
       "    <tr>\n",
       "      <th>safety_feat_2</th>\n",
       "      <td>object</td>\n",
       "      <td>47.9</td>\n",
       "      <td>175949</td>\n",
       "    </tr>\n",
       "    <tr>\n",
       "      <th>width_road_only</th>\n",
       "      <td>object</td>\n",
       "      <td>36.0</td>\n",
       "      <td>132045</td>\n",
       "    </tr>\n",
       "    <tr>\n",
       "      <th>journey_reason</th>\n",
       "      <td>object</td>\n",
       "      <td>26.6</td>\n",
       "      <td>97715</td>\n",
       "    </tr>\n",
       "    <tr>\n",
       "      <th>mobile_obstacle_hurt</th>\n",
       "      <td>object</td>\n",
       "      <td>19.2</td>\n",
       "      <td>70438</td>\n",
       "    </tr>\n",
       "    <tr>\n",
       "      <th>safety_feat_1</th>\n",
       "      <td>object</td>\n",
       "      <td>13.0</td>\n",
       "      <td>47861</td>\n",
       "    </tr>\n",
       "    <tr>\n",
       "      <th>lane_num</th>\n",
       "      <td>object</td>\n",
       "      <td>10.3</td>\n",
       "      <td>37656</td>\n",
       "    </tr>\n",
       "    <tr>\n",
       "      <th>engine_type</th>\n",
       "      <td>object</td>\n",
       "      <td>8.2</td>\n",
       "      <td>30096</td>\n",
       "    </tr>\n",
       "    <tr>\n",
       "      <th>navigation_direction</th>\n",
       "      <td>object</td>\n",
       "      <td>7.0</td>\n",
       "      <td>25623</td>\n",
       "    </tr>\n",
       "    <tr>\n",
       "      <th>road_num</th>\n",
       "      <td>float64</td>\n",
       "      <td>6.7</td>\n",
       "      <td>24564</td>\n",
       "    </tr>\n",
       "    <tr>\n",
       "      <th>impact_location</th>\n",
       "      <td>object</td>\n",
       "      <td>5.7</td>\n",
       "      <td>20854</td>\n",
       "    </tr>\n",
       "    <tr>\n",
       "      <th>was_doing</th>\n",
       "      <td>object</td>\n",
       "      <td>5.5</td>\n",
       "      <td>20100</td>\n",
       "    </tr>\n",
       "    <tr>\n",
       "      <th>travelling_direction</th>\n",
       "      <td>object</td>\n",
       "      <td>5.3</td>\n",
       "      <td>19322</td>\n",
       "    </tr>\n",
       "    <tr>\n",
       "      <th>max_speed_allowed</th>\n",
       "      <td>float64</td>\n",
       "      <td>1.6</td>\n",
       "      <td>5801</td>\n",
       "    </tr>\n",
       "    <tr>\n",
       "      <th>speed_group</th>\n",
       "      <td>float64</td>\n",
       "      <td>1.6</td>\n",
       "      <td>5801</td>\n",
       "    </tr>\n",
       "    <tr>\n",
       "      <th>collision_type</th>\n",
       "      <td>object</td>\n",
       "      <td>1.0</td>\n",
       "      <td>3745</td>\n",
       "    </tr>\n",
       "    <tr>\n",
       "      <th>postal_address</th>\n",
       "      <td>object</td>\n",
       "      <td>0.9</td>\n",
       "      <td>3173</td>\n",
       "    </tr>\n",
       "    <tr>\n",
       "      <th>age</th>\n",
       "      <td>float64</td>\n",
       "      <td>0.8</td>\n",
       "      <td>3067</td>\n",
       "    </tr>\n",
       "    <tr>\n",
       "      <th>age_group</th>\n",
       "      <td>category</td>\n",
       "      <td>0.8</td>\n",
       "      <td>3067</td>\n",
       "    </tr>\n",
       "    <tr>\n",
       "      <th>gender</th>\n",
       "      <td>object</td>\n",
       "      <td>0.8</td>\n",
       "      <td>3062</td>\n",
       "    </tr>\n",
       "    <tr>\n",
       "      <th>dob</th>\n",
       "      <td>float64</td>\n",
       "      <td>0.8</td>\n",
       "      <td>3067</td>\n",
       "    </tr>\n",
       "    <tr>\n",
       "      <th>vehi_grp</th>\n",
       "      <td>object</td>\n",
       "      <td>0.2</td>\n",
       "      <td>686</td>\n",
       "    </tr>\n",
       "    <tr>\n",
       "      <th>vehicule_type</th>\n",
       "      <td>object</td>\n",
       "      <td>0.2</td>\n",
       "      <td>686</td>\n",
       "    </tr>\n",
       "    <tr>\n",
       "      <th>road_location_accident</th>\n",
       "      <td>object</td>\n",
       "      <td>0.1</td>\n",
       "      <td>261</td>\n",
       "    </tr>\n",
       "    <tr>\n",
       "      <th>hour</th>\n",
       "      <td>int64</td>\n",
       "      <td>0.0</td>\n",
       "      <td>0</td>\n",
       "    </tr>\n",
       "    <tr>\n",
       "      <th>injury_level</th>\n",
       "      <td>object</td>\n",
       "      <td>0.0</td>\n",
       "      <td>60</td>\n",
       "    </tr>\n",
       "    <tr>\n",
       "      <th>lat</th>\n",
       "      <td>object</td>\n",
       "      <td>0.0</td>\n",
       "      <td>0</td>\n",
       "    </tr>\n",
       "    <tr>\n",
       "      <th>long</th>\n",
       "      <td>object</td>\n",
       "      <td>0.0</td>\n",
       "      <td>0</td>\n",
       "    </tr>\n",
       "    <tr>\n",
       "      <th>date</th>\n",
       "      <td>object</td>\n",
       "      <td>0.0</td>\n",
       "      <td>0</td>\n",
       "    </tr>\n",
       "    <tr>\n",
       "      <th>day_of_week</th>\n",
       "      <td>object</td>\n",
       "      <td>0.0</td>\n",
       "      <td>0</td>\n",
       "    </tr>\n",
       "    <tr>\n",
       "      <th>num_operating_lanes</th>\n",
       "      <td>int64</td>\n",
       "      <td>0.0</td>\n",
       "      <td>0</td>\n",
       "    </tr>\n",
       "    <tr>\n",
       "      <th>YYYY-MM</th>\n",
       "      <td>object</td>\n",
       "      <td>0.0</td>\n",
       "      <td>0</td>\n",
       "    </tr>\n",
       "    <tr>\n",
       "      <th>weather</th>\n",
       "      <td>object</td>\n",
       "      <td>0.0</td>\n",
       "      <td>32</td>\n",
       "    </tr>\n",
       "    <tr>\n",
       "      <th>user_type</th>\n",
       "      <td>object</td>\n",
       "      <td>0.0</td>\n",
       "      <td>0</td>\n",
       "    </tr>\n",
       "    <tr>\n",
       "      <th>country</th>\n",
       "      <td>object</td>\n",
       "      <td>0.0</td>\n",
       "      <td>0</td>\n",
       "    </tr>\n",
       "    <tr>\n",
       "      <th>seat</th>\n",
       "      <td>object</td>\n",
       "      <td>0.0</td>\n",
       "      <td>17</td>\n",
       "    </tr>\n",
       "    <tr>\n",
       "      <th>event</th>\n",
       "      <td>object</td>\n",
       "      <td>0.0</td>\n",
       "      <td>0</td>\n",
       "    </tr>\n",
       "    <tr>\n",
       "      <th>in_out_city</th>\n",
       "      <td>object</td>\n",
       "      <td>0.0</td>\n",
       "      <td>0</td>\n",
       "    </tr>\n",
       "    <tr>\n",
       "      <th>crossing</th>\n",
       "      <td>object</td>\n",
       "      <td>0.0</td>\n",
       "      <td>2</td>\n",
       "    </tr>\n",
       "    <tr>\n",
       "      <th>road_type</th>\n",
       "      <td>object</td>\n",
       "      <td>0.0</td>\n",
       "      <td>0</td>\n",
       "    </tr>\n",
       "    <tr>\n",
       "      <th>city</th>\n",
       "      <td>object</td>\n",
       "      <td>0.0</td>\n",
       "      <td>0</td>\n",
       "    </tr>\n",
       "    <tr>\n",
       "      <th>department_fr</th>\n",
       "      <td>object</td>\n",
       "      <td>0.0</td>\n",
       "      <td>0</td>\n",
       "    </tr>\n",
       "    <tr>\n",
       "      <th>light_conditions</th>\n",
       "      <td>object</td>\n",
       "      <td>0.0</td>\n",
       "      <td>6</td>\n",
       "    </tr>\n",
       "    <tr>\n",
       "      <th>hhmm</th>\n",
       "      <td>object</td>\n",
       "      <td>0.0</td>\n",
       "      <td>0</td>\n",
       "    </tr>\n",
       "    <tr>\n",
       "      <th>year</th>\n",
       "      <td>int64</td>\n",
       "      <td>0.0</td>\n",
       "      <td>0</td>\n",
       "    </tr>\n",
       "    <tr>\n",
       "      <th>month</th>\n",
       "      <td>int64</td>\n",
       "      <td>0.0</td>\n",
       "      <td>0</td>\n",
       "    </tr>\n",
       "    <tr>\n",
       "      <th>day</th>\n",
       "      <td>int64</td>\n",
       "      <td>0.0</td>\n",
       "      <td>0</td>\n",
       "    </tr>\n",
       "    <tr>\n",
       "      <th>road_surface</th>\n",
       "      <td>object</td>\n",
       "      <td>0.0</td>\n",
       "      <td>100</td>\n",
       "    </tr>\n",
       "    <tr>\n",
       "      <th>id_vehicule</th>\n",
       "      <td>object</td>\n",
       "      <td>0.0</td>\n",
       "      <td>0</td>\n",
       "    </tr>\n",
       "    <tr>\n",
       "      <th>road_curve</th>\n",
       "      <td>object</td>\n",
       "      <td>0.0</td>\n",
       "      <td>56</td>\n",
       "    </tr>\n",
       "    <tr>\n",
       "      <th>road_incline</th>\n",
       "      <td>object</td>\n",
       "      <td>0.0</td>\n",
       "      <td>64</td>\n",
       "    </tr>\n",
       "    <tr>\n",
       "      <th>acc_num</th>\n",
       "      <td>int64</td>\n",
       "      <td>0.0</td>\n",
       "      <td>0</td>\n",
       "    </tr>\n",
       "  </tbody>\n",
       "</table>\n",
       "</div>"
      ],
      "text/plain": [
       "                          dtypes  isna%    isna\n",
       "pedestrian_loc            object   92.7  340305\n",
       "pedestrian_action         object   92.6  340168\n",
       "pedestrian_group          object   92.3  338892\n",
       "reserved_path             object   90.6  332675\n",
       "fixed_obstacle_hurt       object   84.1  308898\n",
       "infra_type                object   84.1  308930\n",
       "safety_feat_2             object   47.9  175949\n",
       "width_road_only           object   36.0  132045\n",
       "journey_reason            object   26.6   97715\n",
       "mobile_obstacle_hurt      object   19.2   70438\n",
       "safety_feat_1             object   13.0   47861\n",
       "lane_num                  object   10.3   37656\n",
       "engine_type               object    8.2   30096\n",
       "navigation_direction      object    7.0   25623\n",
       "road_num                 float64    6.7   24564\n",
       "impact_location           object    5.7   20854\n",
       "was_doing                 object    5.5   20100\n",
       "travelling_direction      object    5.3   19322\n",
       "max_speed_allowed        float64    1.6    5801\n",
       "speed_group              float64    1.6    5801\n",
       "collision_type            object    1.0    3745\n",
       "postal_address            object    0.9    3173\n",
       "age                      float64    0.8    3067\n",
       "age_group               category    0.8    3067\n",
       "gender                    object    0.8    3062\n",
       "dob                      float64    0.8    3067\n",
       "vehi_grp                  object    0.2     686\n",
       "vehicule_type             object    0.2     686\n",
       "road_location_accident    object    0.1     261\n",
       "hour                       int64    0.0       0\n",
       "injury_level              object    0.0      60\n",
       "lat                       object    0.0       0\n",
       "long                      object    0.0       0\n",
       "date                      object    0.0       0\n",
       "day_of_week               object    0.0       0\n",
       "num_operating_lanes        int64    0.0       0\n",
       "YYYY-MM                   object    0.0       0\n",
       "weather                   object    0.0      32\n",
       "user_type                 object    0.0       0\n",
       "country                   object    0.0       0\n",
       "seat                      object    0.0      17\n",
       "event                     object    0.0       0\n",
       "in_out_city               object    0.0       0\n",
       "crossing                  object    0.0       2\n",
       "road_type                 object    0.0       0\n",
       "city                      object    0.0       0\n",
       "department_fr             object    0.0       0\n",
       "light_conditions          object    0.0       6\n",
       "hhmm                      object    0.0       0\n",
       "year                       int64    0.0       0\n",
       "month                      int64    0.0       0\n",
       "day                        int64    0.0       0\n",
       "road_surface              object    0.0     100\n",
       "id_vehicule               object    0.0       0\n",
       "road_curve                object    0.0      56\n",
       "road_incline              object    0.0      64\n",
       "acc_num                    int64    0.0       0"
      ]
     },
     "execution_count": 15,
     "metadata": {},
     "output_type": "execute_result"
    }
   ],
   "source": [
    "df_quality(df)"
   ]
  },
  {
   "cell_type": "code",
   "execution_count": 9,
   "metadata": {},
   "outputs": [],
   "source": [
    "### Drop These features have too many missing and we will not be able to perform any meaningful analysis\n",
    "df = df.drop(columns = [\n",
    "    'road_separator_width', \n",
    "    'safety_feat_3', \n",
    "    'passenger_on_public_transport',\n",
    "    'road_alphanum',\n",
    "    'milestone_num',\n",
    "    'nearest_milestone_distance'\n",
    "    ])"
   ]
  },
  {
   "cell_type": "code",
   "execution_count": 10,
   "metadata": {},
   "outputs": [],
   "source": [
    "### Add for geolocation in powerbi\n",
    "df['country'] = 'France' "
   ]
  },
  {
   "cell_type": "code",
   "execution_count": 11,
   "metadata": {},
   "outputs": [],
   "source": [
    "###Group vehicles in 4 wheels vs 2 wheels\n",
    "dict_vehi_type = {'car':'4_wheels', \n",
    "'tractor':'4_wheels', \n",
    "'moto': '2_wheels',\n",
    "'mini_cars': '4_wheels',\n",
    "'scoot_blw_125': '2_wheels',\n",
    "'bus':'other',\n",
    "'pedestrian_scooters':'2_wheels', \n",
    "'prof_van':'4_wheels', \n",
    "'bicycle':'2_wheels',\n",
    "'tramway':'other',\n",
    "'heavy_truck':'other', \n",
    "'others': 'other',\n",
    "'scooters_blw_50':'2_wheels',\n",
    "'electric_bike':'2_wheels',\n",
    "'light_truck' :'other',\n",
    "'special_convoy':'other',\n",
    "'quad':'other',\n",
    "'train':'other'\n",
    "}\n",
    "df['vehi_grp'] = ''\n",
    "df['vehi_grp'] = df['vehicule_type'].map(dict_vehi_type) # mapping the vehicule type"
   ]
  },
  {
   "cell_type": "code",
   "execution_count": 12,
   "metadata": {},
   "outputs": [
    {
     "data": {
      "image/png": "[encoded data removed]",
      "text/plain": [
       "<Figure size 432x288 with 1 Axes>"
      ]
     },
     "metadata": {
      "needs_background": "light"
     },
     "output_type": "display_data"
    }
   ],
   "source": [
    "#Grouping people by age group\n",
    "df['age'] = df['year']-df['dob']\n",
    "sns.histplot(df['age'])\n",
    "bins= [0,18,25,60,80, 140]\n",
    "labels = ['0_18','18_25','26_60','60_80','80_over']\n",
    "df['age_group'] = pd.cut(df['age'], bins=bins, labels=labels, right=False)"
   ]
  },
  {
   "cell_type": "markdown",
   "metadata": {},
   "source": [
    "### Transforming data types"
   ]
  },
  {
   "cell_type": "code",
   "execution_count": 29,
   "metadata": {},
   "outputs": [],
   "source": [
    "#replacing lat long ',' by '.'\n",
    "df['lat']= df['lat'].str.replace(',','.')\n",
    "df['long']= df['long'].str.replace(',','.')\n",
    "df['lat']=pd.to_numeric(df['lat'])\n",
    "df['long']=pd.to_numeric(df['long'])"
   ]
  },
  {
   "cell_type": "code",
   "execution_count": 30,
   "metadata": {},
   "outputs": [
    {
     "data": {
      "text/html": [
       "<div>\n",
       "<style scoped>\n",
       "    .dataframe tbody tr th:only-of-type {\n",
       "        vertical-align: middle;\n",
       "    }\n",
       "\n",
       "    .dataframe tbody tr th {\n",
       "        vertical-align: top;\n",
       "    }\n",
       "\n",
       "    .dataframe thead th {\n",
       "        text-align: right;\n",
       "    }\n",
       "</style>\n",
       "<table border=\"1\" class=\"dataframe\">\n",
       "  <thead>\n",
       "    <tr style=\"text-align: right;\">\n",
       "      <th></th>\n",
       "      <th>dtypes</th>\n",
       "      <th>isna%</th>\n",
       "      <th>isna</th>\n",
       "    </tr>\n",
       "  </thead>\n",
       "  <tbody>\n",
       "    <tr>\n",
       "      <th>pedestrian_loc</th>\n",
       "      <td>object</td>\n",
       "      <td>92.7</td>\n",
       "      <td>340305</td>\n",
       "    </tr>\n",
       "    <tr>\n",
       "      <th>pedestrian_action</th>\n",
       "      <td>object</td>\n",
       "      <td>92.6</td>\n",
       "      <td>340168</td>\n",
       "    </tr>\n",
       "    <tr>\n",
       "      <th>pedestrian_group</th>\n",
       "      <td>object</td>\n",
       "      <td>92.3</td>\n",
       "      <td>338892</td>\n",
       "    </tr>\n",
       "    <tr>\n",
       "      <th>reserved_path</th>\n",
       "      <td>object</td>\n",
       "      <td>90.6</td>\n",
       "      <td>332675</td>\n",
       "    </tr>\n",
       "    <tr>\n",
       "      <th>fixed_obstacle_hurt</th>\n",
       "      <td>object</td>\n",
       "      <td>84.1</td>\n",
       "      <td>308898</td>\n",
       "    </tr>\n",
       "    <tr>\n",
       "      <th>infra_type</th>\n",
       "      <td>object</td>\n",
       "      <td>84.1</td>\n",
       "      <td>308930</td>\n",
       "    </tr>\n",
       "    <tr>\n",
       "      <th>safety_feat_2</th>\n",
       "      <td>object</td>\n",
       "      <td>47.9</td>\n",
       "      <td>175949</td>\n",
       "    </tr>\n",
       "    <tr>\n",
       "      <th>width_road_only</th>\n",
       "      <td>object</td>\n",
       "      <td>36.0</td>\n",
       "      <td>132045</td>\n",
       "    </tr>\n",
       "    <tr>\n",
       "      <th>journey_reason</th>\n",
       "      <td>object</td>\n",
       "      <td>26.6</td>\n",
       "      <td>97715</td>\n",
       "    </tr>\n",
       "    <tr>\n",
       "      <th>mobile_obstacle_hurt</th>\n",
       "      <td>object</td>\n",
       "      <td>19.2</td>\n",
       "      <td>70438</td>\n",
       "    </tr>\n",
       "    <tr>\n",
       "      <th>safety_feat_1</th>\n",
       "      <td>object</td>\n",
       "      <td>13.0</td>\n",
       "      <td>47861</td>\n",
       "    </tr>\n",
       "    <tr>\n",
       "      <th>lane_num</th>\n",
       "      <td>object</td>\n",
       "      <td>10.3</td>\n",
       "      <td>37656</td>\n",
       "    </tr>\n",
       "    <tr>\n",
       "      <th>engine_type</th>\n",
       "      <td>object</td>\n",
       "      <td>8.2</td>\n",
       "      <td>30096</td>\n",
       "    </tr>\n",
       "    <tr>\n",
       "      <th>navigation_direction</th>\n",
       "      <td>object</td>\n",
       "      <td>7.0</td>\n",
       "      <td>25623</td>\n",
       "    </tr>\n",
       "    <tr>\n",
       "      <th>road_num</th>\n",
       "      <td>float64</td>\n",
       "      <td>6.7</td>\n",
       "      <td>24564</td>\n",
       "    </tr>\n",
       "    <tr>\n",
       "      <th>impact_location</th>\n",
       "      <td>object</td>\n",
       "      <td>5.7</td>\n",
       "      <td>20854</td>\n",
       "    </tr>\n",
       "    <tr>\n",
       "      <th>was_doing</th>\n",
       "      <td>object</td>\n",
       "      <td>5.5</td>\n",
       "      <td>20100</td>\n",
       "    </tr>\n",
       "    <tr>\n",
       "      <th>travelling_direction</th>\n",
       "      <td>object</td>\n",
       "      <td>5.3</td>\n",
       "      <td>19322</td>\n",
       "    </tr>\n",
       "    <tr>\n",
       "      <th>max_speed_allowed</th>\n",
       "      <td>float64</td>\n",
       "      <td>1.6</td>\n",
       "      <td>5801</td>\n",
       "    </tr>\n",
       "    <tr>\n",
       "      <th>speed_group</th>\n",
       "      <td>float64</td>\n",
       "      <td>1.6</td>\n",
       "      <td>5801</td>\n",
       "    </tr>\n",
       "  </tbody>\n",
       "</table>\n",
       "</div>"
      ],
      "text/plain": [
       "                       dtypes  isna%    isna\n",
       "pedestrian_loc         object   92.7  340305\n",
       "pedestrian_action      object   92.6  340168\n",
       "pedestrian_group       object   92.3  338892\n",
       "reserved_path          object   90.6  332675\n",
       "fixed_obstacle_hurt    object   84.1  308898\n",
       "infra_type             object   84.1  308930\n",
       "safety_feat_2          object   47.9  175949\n",
       "width_road_only        object   36.0  132045\n",
       "journey_reason         object   26.6   97715\n",
       "mobile_obstacle_hurt   object   19.2   70438\n",
       "safety_feat_1          object   13.0   47861\n",
       "lane_num               object   10.3   37656\n",
       "engine_type            object    8.2   30096\n",
       "navigation_direction   object    7.0   25623\n",
       "road_num              float64    6.7   24564\n",
       "impact_location        object    5.7   20854\n",
       "was_doing              object    5.5   20100\n",
       "travelling_direction   object    5.3   19322\n",
       "max_speed_allowed     float64    1.6    5801\n",
       "speed_group           float64    1.6    5801"
      ]
     },
     "execution_count": 30,
     "metadata": {},
     "output_type": "execute_result"
    }
   ],
   "source": [
    "df_quality(df)"
   ]
  },
  {
   "cell_type": "code",
   "execution_count": 31,
   "metadata": {},
   "outputs": [
    {
     "data": {
      "text/plain": [
       "OK        300996\n",
       "not_ok     66205\n",
       "Name: injury_level, dtype: int64"
      ]
     },
     "execution_count": 31,
     "metadata": {},
     "output_type": "execute_result"
    }
   ],
   "source": [
    "df['injury_level'].value_counts()"
   ]
  },
  {
   "cell_type": "markdown",
   "metadata": {},
   "source": [
    "### Impute missing values"
   ]
  },
  {
   "cell_type": "markdown",
   "metadata": {},
   "source": [
    "Let's check out the distribution for each"
   ]
  },
  {
   "cell_type": "code",
   "execution_count": 35,
   "metadata": {},
   "outputs": [
    {
     "data": {
      "text/plain": [
       "<AxesSubplot:>"
      ]
     },
     "execution_count": 35,
     "metadata": {},
     "output_type": "execute_result"
    },
    {
     "data": {
      "image/png": "[encoded data removed]",
      "text/plain": [
       "<Figure size 432x288 with 1 Axes>"
      ]
     },
     "metadata": {
      "needs_background": "light"
     },
     "output_type": "display_data"
    }
   ],
   "source": [
    "df['road_curve'].value_counts().plot(kind = 'bar')"
   ]
  },
  {
   "cell_type": "markdown",
   "metadata": {},
   "source": [
    "We can use straight line with confidence"
   ]
  },
  {
   "cell_type": "code",
   "execution_count": 36,
   "metadata": {},
   "outputs": [
    {
     "data": {
      "text/plain": [
       "<AxesSubplot:>"
      ]
     },
     "execution_count": 36,
     "metadata": {},
     "output_type": "execute_result"
    },
    {
     "data": {
      "image/png": "[encoded data removed]",
      "text/plain": [
       "<Figure size 432x288 with 1 Axes>"
      ]
     },
     "metadata": {
      "needs_background": "light"
     },
     "output_type": "display_data"
    }
   ],
   "source": [
    "df['road_surface'].value_counts().plot(kind = 'bar')"
   ]
  },
  {
   "cell_type": "markdown",
   "metadata": {},
   "source": [
    "we can use Normal with confidence"
   ]
  },
  {
   "cell_type": "code",
   "execution_count": 37,
   "metadata": {},
   "outputs": [
    {
     "data": {
      "text/plain": [
       "<AxesSubplot:>"
      ]
     },
     "execution_count": 37,
     "metadata": {},
     "output_type": "execute_result"
    },
    {
     "data": {
      "image/png": "[encoded data removed]",
      "text/plain": [
       "<Figure size 432x288 with 1 Axes>"
      ]
     },
     "metadata": {
      "needs_background": "light"
     },
     "output_type": "display_data"
    }
   ],
   "source": [
    "df['road_incline'].value_counts().plot(kind = 'bar')"
   ]
  },
  {
   "cell_type": "markdown",
   "metadata": {},
   "source": [
    "We can use \"flat\" to impute"
   ]
  },
  {
   "cell_type": "code",
   "execution_count": 38,
   "metadata": {},
   "outputs": [
    {
     "data": {
      "text/plain": [
       "<AxesSubplot:>"
      ]
     },
     "execution_count": 38,
     "metadata": {},
     "output_type": "execute_result"
    },
    {
     "data": {
      "image/png": "[encoded data removed]",
      "text/plain": [
       "<Figure size 432x288 with 1 Axes>"
      ]
     },
     "metadata": {
      "needs_background": "light"
     },
     "output_type": "display_data"
    }
   ],
   "source": [
    "df['weather'].value_counts().plot(kind = 'bar')"
   ]
  },
  {
   "cell_type": "markdown",
   "metadata": {},
   "source": [
    "Same thing for weather, we can use \"Normal\""
   ]
  },
  {
   "cell_type": "code",
   "execution_count": 39,
   "metadata": {},
   "outputs": [
    {
     "data": {
      "text/plain": [
       "<AxesSubplot:>"
      ]
     },
     "execution_count": 39,
     "metadata": {},
     "output_type": "execute_result"
    },
    {
     "data": {
      "image/png": "[encoded data removed]",
      "text/plain": [
       "<Figure size 432x288 with 1 Axes>"
      ]
     },
     "metadata": {
      "needs_background": "light"
     },
     "output_type": "display_data"
    }
   ],
   "source": [
    "df['road_location_accident'].value_counts().plot(kind = 'bar')"
   ]
  },
  {
   "cell_type": "markdown",
   "metadata": {},
   "source": [
    "We can impute using \"road\""
   ]
  },
  {
   "cell_type": "code",
   "execution_count": 41,
   "metadata": {},
   "outputs": [
    {
     "data": {
      "text/plain": [
       "<AxesSubplot:>"
      ]
     },
     "execution_count": 41,
     "metadata": {},
     "output_type": "execute_result"
    },
    {
     "data": {
      "image/png": "[encoded data removed]",
      "text/plain": [
       "<Figure size 432x288 with 1 Axes>"
      ]
     },
     "metadata": {
      "needs_background": "light"
     },
     "output_type": "display_data"
    }
   ],
   "source": [
    "df['was_doing'].value_counts().plot(kind = 'bar')"
   ]
  },
  {
   "cell_type": "markdown",
   "metadata": {},
   "source": [
    "and finally, straight line is the answer"
   ]
  },
  {
   "cell_type": "code",
   "execution_count": 42,
   "metadata": {},
   "outputs": [
    {
     "data": {
      "text/plain": [
       "<AxesSubplot:>"
      ]
     },
     "execution_count": 42,
     "metadata": {},
     "output_type": "execute_result"
    },
    {
     "data": {
      "image/png": "[encoded data removed]",
      "text/plain": [
       "<Figure size 432x288 with 1 Axes>"
      ]
     },
     "metadata": {
      "needs_background": "light"
     },
     "output_type": "display_data"
    }
   ],
   "source": [
    "df['vehicule_type'].value_counts().plot(kind = 'bar')"
   ]
  },
  {
   "cell_type": "markdown",
   "metadata": {},
   "source": [
    "We can use car here as well"
   ]
  },
  {
   "cell_type": "code",
   "execution_count": 43,
   "metadata": {},
   "outputs": [],
   "source": [
    "#imputation \n",
    "df['road_curve'] =  df['road_curve'].fillna('straight_line')\n",
    "df['road_surface'] =  df['road_surface'].fillna('normal')\n",
    "df['road_incline'] =  df['road_incline'].fillna('flat')\n",
    "df['weather'] =  df['weather'].fillna('normal')\n",
    "df['road_location_accident'] =  df['road_location_accident'].fillna('road')\n",
    "df['vehicule_type'] =  df['vehicule_type'].fillna('car') # car since 477 out of 500 missing are on road location = road \n",
    "df['was_doing'] =  df['was_doing'].fillna('straight_line')"
   ]
  },
  {
   "cell_type": "code",
   "execution_count": 44,
   "metadata": {},
   "outputs": [
    {
     "data": {
      "text/plain": [
       "(367261, 57)"
      ]
     },
     "execution_count": 44,
     "metadata": {},
     "output_type": "execute_result"
    }
   ],
   "source": [
    "df.shape"
   ]
  },
  {
   "cell_type": "markdown",
   "metadata": {},
   "source": [
    "drop records for some of the missing values ( either critical or super low volume of records)"
   ]
  },
  {
   "cell_type": "code",
   "execution_count": 46,
   "metadata": {},
   "outputs": [
    {
     "data": {
      "text/plain": [
       "acc_num                        0\n",
       "month                          0\n",
       "road_surface                   0\n",
       "year                           0\n",
       "road_curve                     0\n",
       "road_incline                   0\n",
       "hhmm                           0\n",
       "num_operating_lanes            0\n",
       "department_fr                  0\n",
       "city                           0\n",
       "road_type                      0\n",
       "in_out_city                    0\n",
       "was_doing                      0\n",
       "road_location_accident         0\n",
       "lat                            0\n",
       "weather                        0\n",
       "long                           0\n",
       "id_vehicule                    0\n",
       "user_type                      0\n",
       "vehicule_type                  0\n",
       "event                          0\n",
       "country                        0\n",
       "hour                           0\n",
       "day_of_week                    0\n",
       "date                           0\n",
       "YYYY-MM                        0\n",
       "day                            0\n",
       "crossing                       2\n",
       "light_conditions               6\n",
       "seat                          17\n",
       "injury_level                  60\n",
       "vehi_grp                     686\n",
       "gender                      3062\n",
       "age_group                   3067\n",
       "age                         3067\n",
       "dob                         3067\n",
       "postal_address              3173\n",
       "collision_type              3745\n",
       "max_speed_allowed           5801\n",
       "speed_group                 5801\n",
       "travelling_direction       19322\n",
       "impact_location            20854\n",
       "road_num                   24564\n",
       "navigation_direction       25623\n",
       "engine_type                30096\n",
       "lane_num                   37656\n",
       "safety_feat_1              47861\n",
       "mobile_obstacle_hurt       70438\n",
       "journey_reason             97715\n",
       "width_road_only           132045\n",
       "safety_feat_2             175949\n",
       "fixed_obstacle_hurt       308898\n",
       "infra_type                308930\n",
       "reserved_path             332675\n",
       "pedestrian_group          338892\n",
       "pedestrian_action         340168\n",
       "pedestrian_loc            340305\n",
       "dtype: int64"
      ]
     },
     "execution_count": 46,
     "metadata": {},
     "output_type": "execute_result"
    }
   ],
   "source": [
    "df.isna().sum().sort_values()"
   ]
  },
  {
   "cell_type": "code",
   "execution_count": 47,
   "metadata": {},
   "outputs": [
    {
     "data": {
      "text/plain": [
       "(367193, 57)"
      ]
     },
     "execution_count": 47,
     "metadata": {},
     "output_type": "execute_result"
    }
   ],
   "source": [
    "#We will drop the records for missing injury level, light condition and crossing  \n",
    "df= df[~df['injury_level'].isna()] # 60 records\n",
    "df = df[~df['light_conditions'].isna()] #17 records\n",
    "df = df[~df['crossing'].isna()] #2 records\n",
    "df.shape"
   ]
  },
  {
   "cell_type": "code",
   "execution_count": 49,
   "metadata": {},
   "outputs": [
    {
     "data": {
      "text/html": [
       "<div>\n",
       "<style scoped>\n",
       "    .dataframe tbody tr th:only-of-type {\n",
       "        vertical-align: middle;\n",
       "    }\n",
       "\n",
       "    .dataframe tbody tr th {\n",
       "        vertical-align: top;\n",
       "    }\n",
       "\n",
       "    .dataframe thead th {\n",
       "        text-align: right;\n",
       "    }\n",
       "</style>\n",
       "<table border=\"1\" class=\"dataframe\">\n",
       "  <thead>\n",
       "    <tr style=\"text-align: right;\">\n",
       "      <th></th>\n",
       "      <th>dtypes</th>\n",
       "      <th>isna%</th>\n",
       "      <th>isna</th>\n",
       "    </tr>\n",
       "  </thead>\n",
       "  <tbody>\n",
       "    <tr>\n",
       "      <th>pedestrian_loc</th>\n",
       "      <td>object</td>\n",
       "      <td>92.7</td>\n",
       "      <td>340237</td>\n",
       "    </tr>\n",
       "    <tr>\n",
       "      <th>pedestrian_action</th>\n",
       "      <td>object</td>\n",
       "      <td>92.6</td>\n",
       "      <td>340101</td>\n",
       "    </tr>\n",
       "    <tr>\n",
       "      <th>pedestrian_group</th>\n",
       "      <td>object</td>\n",
       "      <td>92.3</td>\n",
       "      <td>338825</td>\n",
       "    </tr>\n",
       "    <tr>\n",
       "      <th>reserved_path</th>\n",
       "      <td>object</td>\n",
       "      <td>90.6</td>\n",
       "      <td>332615</td>\n",
       "    </tr>\n",
       "    <tr>\n",
       "      <th>fixed_obstacle_hurt</th>\n",
       "      <td>object</td>\n",
       "      <td>84.1</td>\n",
       "      <td>308839</td>\n",
       "    </tr>\n",
       "    <tr>\n",
       "      <th>infra_type</th>\n",
       "      <td>object</td>\n",
       "      <td>84.1</td>\n",
       "      <td>308873</td>\n",
       "    </tr>\n",
       "    <tr>\n",
       "      <th>safety_feat_2</th>\n",
       "      <td>object</td>\n",
       "      <td>47.9</td>\n",
       "      <td>175883</td>\n",
       "    </tr>\n",
       "    <tr>\n",
       "      <th>width_road_only</th>\n",
       "      <td>object</td>\n",
       "      <td>36.0</td>\n",
       "      <td>132045</td>\n",
       "    </tr>\n",
       "    <tr>\n",
       "      <th>journey_reason</th>\n",
       "      <td>object</td>\n",
       "      <td>26.6</td>\n",
       "      <td>97649</td>\n",
       "    </tr>\n",
       "    <tr>\n",
       "      <th>mobile_obstacle_hurt</th>\n",
       "      <td>object</td>\n",
       "      <td>19.2</td>\n",
       "      <td>70420</td>\n",
       "    </tr>\n",
       "    <tr>\n",
       "      <th>safety_feat_1</th>\n",
       "      <td>object</td>\n",
       "      <td>13.0</td>\n",
       "      <td>47800</td>\n",
       "    </tr>\n",
       "    <tr>\n",
       "      <th>lane_num</th>\n",
       "      <td>object</td>\n",
       "      <td>10.3</td>\n",
       "      <td>37644</td>\n",
       "    </tr>\n",
       "    <tr>\n",
       "      <th>engine_type</th>\n",
       "      <td>object</td>\n",
       "      <td>8.2</td>\n",
       "      <td>30070</td>\n",
       "    </tr>\n",
       "    <tr>\n",
       "      <th>navigation_direction</th>\n",
       "      <td>object</td>\n",
       "      <td>7.0</td>\n",
       "      <td>25607</td>\n",
       "    </tr>\n",
       "    <tr>\n",
       "      <th>road_num</th>\n",
       "      <td>float64</td>\n",
       "      <td>6.7</td>\n",
       "      <td>24564</td>\n",
       "    </tr>\n",
       "    <tr>\n",
       "      <th>impact_location</th>\n",
       "      <td>object</td>\n",
       "      <td>5.7</td>\n",
       "      <td>20837</td>\n",
       "    </tr>\n",
       "    <tr>\n",
       "      <th>travelling_direction</th>\n",
       "      <td>object</td>\n",
       "      <td>5.3</td>\n",
       "      <td>19315</td>\n",
       "    </tr>\n",
       "    <tr>\n",
       "      <th>max_speed_allowed</th>\n",
       "      <td>float64</td>\n",
       "      <td>1.6</td>\n",
       "      <td>5797</td>\n",
       "    </tr>\n",
       "    <tr>\n",
       "      <th>speed_group</th>\n",
       "      <td>float64</td>\n",
       "      <td>1.6</td>\n",
       "      <td>5797</td>\n",
       "    </tr>\n",
       "    <tr>\n",
       "      <th>collision_type</th>\n",
       "      <td>object</td>\n",
       "      <td>1.0</td>\n",
       "      <td>3745</td>\n",
       "    </tr>\n",
       "  </tbody>\n",
       "</table>\n",
       "</div>"
      ],
      "text/plain": [
       "                       dtypes  isna%    isna\n",
       "pedestrian_loc         object   92.7  340237\n",
       "pedestrian_action      object   92.6  340101\n",
       "pedestrian_group       object   92.3  338825\n",
       "reserved_path          object   90.6  332615\n",
       "fixed_obstacle_hurt    object   84.1  308839\n",
       "infra_type             object   84.1  308873\n",
       "safety_feat_2          object   47.9  175883\n",
       "width_road_only        object   36.0  132045\n",
       "journey_reason         object   26.6   97649\n",
       "mobile_obstacle_hurt   object   19.2   70420\n",
       "safety_feat_1          object   13.0   47800\n",
       "lane_num               object   10.3   37644\n",
       "engine_type            object    8.2   30070\n",
       "navigation_direction   object    7.0   25607\n",
       "road_num              float64    6.7   24564\n",
       "impact_location        object    5.7   20837\n",
       "travelling_direction   object    5.3   19315\n",
       "max_speed_allowed     float64    1.6    5797\n",
       "speed_group           float64    1.6    5797\n",
       "collision_type         object    1.0    3745"
      ]
     },
     "execution_count": 49,
     "metadata": {},
     "output_type": "execute_result"
    }
   ],
   "source": [
    "df_quality(df)"
   ]
  },
  {
   "cell_type": "code",
   "execution_count": 50,
   "metadata": {},
   "outputs": [],
   "source": [
    "#clustering lat and longitude into 50 location clusters\n",
    "# extract lat and long\n",
    "X_lat = df['lat']\n",
    "X_long = df['long']\n",
    "\n",
    "# define all points\n",
    "X_cluster = np.array((list(zip(X_lat, X_long))))\n",
    "\n",
    "#kmeans gives us the cluster\n",
    "clustering = KMeans(n_clusters=50, random_state=0)\n",
    "clustering.fit(X_cluster)\n",
    "\n",
    "# back to df_engineered\n",
    "geo = pd.Series(clustering.labels_)\n",
    "df['geo'] = geo"
   ]
  },
  {
   "cell_type": "code",
   "execution_count": 51,
   "metadata": {},
   "outputs": [
    {
     "data": {
      "text/html": [
       "<div>\n",
       "<style scoped>\n",
       "    .dataframe tbody tr th:only-of-type {\n",
       "        vertical-align: middle;\n",
       "    }\n",
       "\n",
       "    .dataframe tbody tr th {\n",
       "        vertical-align: top;\n",
       "    }\n",
       "\n",
       "    .dataframe thead th {\n",
       "        text-align: right;\n",
       "    }\n",
       "</style>\n",
       "<table border=\"1\" class=\"dataframe\">\n",
       "  <thead>\n",
       "    <tr style=\"text-align: right;\">\n",
       "      <th></th>\n",
       "      <th>acc_num</th>\n",
       "      <th>id_vehicule</th>\n",
       "      <th>seat</th>\n",
       "      <th>user_type</th>\n",
       "      <th>injury_level</th>\n",
       "      <th>gender</th>\n",
       "      <th>dob</th>\n",
       "      <th>journey_reason</th>\n",
       "      <th>safety_feat_1</th>\n",
       "      <th>safety_feat_2</th>\n",
       "      <th>...</th>\n",
       "      <th>day_of_week</th>\n",
       "      <th>hour</th>\n",
       "      <th>YYYY-MM</th>\n",
       "      <th>event</th>\n",
       "      <th>speed_group</th>\n",
       "      <th>country</th>\n",
       "      <th>vehi_grp</th>\n",
       "      <th>age</th>\n",
       "      <th>age_group</th>\n",
       "      <th>geo</th>\n",
       "    </tr>\n",
       "  </thead>\n",
       "  <tbody>\n",
       "    <tr>\n",
       "      <th>0</th>\n",
       "      <td>201900000001</td>\n",
       "      <td>138 306 524</td>\n",
       "      <td>driver</td>\n",
       "      <td>driver</td>\n",
       "      <td>OK</td>\n",
       "      <td>f</td>\n",
       "      <td>1993.0</td>\n",
       "      <td>leasure</td>\n",
       "      <td>safety_belt</td>\n",
       "      <td>no_equip</td>\n",
       "      <td>...</td>\n",
       "      <td>Saturday</td>\n",
       "      <td>1</td>\n",
       "      <td>2019-11</td>\n",
       "      <td>not_ph</td>\n",
       "      <td>4.0</td>\n",
       "      <td>France</td>\n",
       "      <td>4_wheels</td>\n",
       "      <td>26.0</td>\n",
       "      <td>26_60</td>\n",
       "      <td>11.0</td>\n",
       "    </tr>\n",
       "    <tr>\n",
       "      <th>1</th>\n",
       "      <td>201900000001</td>\n",
       "      <td>138 306 524</td>\n",
       "      <td>main_pass_front</td>\n",
       "      <td>passenger</td>\n",
       "      <td>OK</td>\n",
       "      <td>f</td>\n",
       "      <td>2002.0</td>\n",
       "      <td>NaN</td>\n",
       "      <td>safety_belt</td>\n",
       "      <td>no_equip</td>\n",
       "      <td>...</td>\n",
       "      <td>Saturday</td>\n",
       "      <td>1</td>\n",
       "      <td>2019-11</td>\n",
       "      <td>not_ph</td>\n",
       "      <td>4.0</td>\n",
       "      <td>France</td>\n",
       "      <td>4_wheels</td>\n",
       "      <td>17.0</td>\n",
       "      <td>0_18</td>\n",
       "      <td>11.0</td>\n",
       "    </tr>\n",
       "    <tr>\n",
       "      <th>2</th>\n",
       "      <td>201900000001</td>\n",
       "      <td>138 306 525</td>\n",
       "      <td>driver</td>\n",
       "      <td>driver</td>\n",
       "      <td>OK</td>\n",
       "      <td>m</td>\n",
       "      <td>1959.0</td>\n",
       "      <td>NaN</td>\n",
       "      <td>safety_belt</td>\n",
       "      <td>no_equip</td>\n",
       "      <td>...</td>\n",
       "      <td>Saturday</td>\n",
       "      <td>1</td>\n",
       "      <td>2019-11</td>\n",
       "      <td>not_ph</td>\n",
       "      <td>4.0</td>\n",
       "      <td>France</td>\n",
       "      <td>4_wheels</td>\n",
       "      <td>60.0</td>\n",
       "      <td>60_80</td>\n",
       "      <td>11.0</td>\n",
       "    </tr>\n",
       "    <tr>\n",
       "      <th>3</th>\n",
       "      <td>201900000002</td>\n",
       "      <td>138 306 523</td>\n",
       "      <td>driver</td>\n",
       "      <td>driver</td>\n",
       "      <td>OK</td>\n",
       "      <td>f</td>\n",
       "      <td>1994.0</td>\n",
       "      <td>NaN</td>\n",
       "      <td>safety_belt</td>\n",
       "      <td>no_equip</td>\n",
       "      <td>...</td>\n",
       "      <td>Saturday</td>\n",
       "      <td>2</td>\n",
       "      <td>2019-11</td>\n",
       "      <td>not_ph</td>\n",
       "      <td>4.0</td>\n",
       "      <td>France</td>\n",
       "      <td>4_wheels</td>\n",
       "      <td>25.0</td>\n",
       "      <td>26_60</td>\n",
       "      <td>11.0</td>\n",
       "    </tr>\n",
       "    <tr>\n",
       "      <th>4</th>\n",
       "      <td>201900000003</td>\n",
       "      <td>138 306 520</td>\n",
       "      <td>driver</td>\n",
       "      <td>driver</td>\n",
       "      <td>OK</td>\n",
       "      <td>m</td>\n",
       "      <td>1996.0</td>\n",
       "      <td>NaN</td>\n",
       "      <td>safety_belt</td>\n",
       "      <td>no_equip</td>\n",
       "      <td>...</td>\n",
       "      <td>Thursday</td>\n",
       "      <td>15</td>\n",
       "      <td>2019-11</td>\n",
       "      <td>not_ph</td>\n",
       "      <td>5.0</td>\n",
       "      <td>France</td>\n",
       "      <td>4_wheels</td>\n",
       "      <td>23.0</td>\n",
       "      <td>18_25</td>\n",
       "      <td>11.0</td>\n",
       "    </tr>\n",
       "  </tbody>\n",
       "</table>\n",
       "<p>5 rows × 58 columns</p>\n",
       "</div>"
      ],
      "text/plain": [
       "        acc_num  id_vehicule             seat  user_type injury_level gender  \\\n",
       "0  201900000001  138 306 524           driver     driver           OK      f   \n",
       "1  201900000001  138 306 524  main_pass_front  passenger           OK      f   \n",
       "2  201900000001  138 306 525           driver     driver           OK      m   \n",
       "3  201900000002  138 306 523           driver     driver           OK      f   \n",
       "4  201900000003  138 306 520           driver     driver           OK      m   \n",
       "\n",
       "      dob journey_reason safety_feat_1 safety_feat_2  ... day_of_week hour  \\\n",
       "0  1993.0        leasure   safety_belt      no_equip  ...    Saturday    1   \n",
       "1  2002.0            NaN   safety_belt      no_equip  ...    Saturday    1   \n",
       "2  1959.0            NaN   safety_belt      no_equip  ...    Saturday    1   \n",
       "3  1994.0            NaN   safety_belt      no_equip  ...    Saturday    2   \n",
       "4  1996.0            NaN   safety_belt      no_equip  ...    Thursday   15   \n",
       "\n",
       "   YYYY-MM   event speed_group country  vehi_grp   age age_group   geo  \n",
       "0  2019-11  not_ph         4.0  France  4_wheels  26.0     26_60  11.0  \n",
       "1  2019-11  not_ph         4.0  France  4_wheels  17.0      0_18  11.0  \n",
       "2  2019-11  not_ph         4.0  France  4_wheels  60.0     60_80  11.0  \n",
       "3  2019-11  not_ph         4.0  France  4_wheels  25.0     26_60  11.0  \n",
       "4  2019-11  not_ph         5.0  France  4_wheels  23.0     18_25  11.0  \n",
       "\n",
       "[5 rows x 58 columns]"
      ]
     },
     "execution_count": 51,
     "metadata": {},
     "output_type": "execute_result"
    }
   ],
   "source": [
    "df.head()"
   ]
  },
  {
   "cell_type": "markdown",
   "metadata": {},
   "source": [
    "We are exporting this file to visualize the data in PowerBi"
   ]
  },
  {
   "cell_type": "code",
   "execution_count": 52,
   "metadata": {},
   "outputs": [
    {
     "data": {
      "text/plain": [
       "{'ResponseMetadata': {'RequestId': 'T96FG5FGJMN42R5Q',\n",
       "  'HostId': 'rcuHlZ3CwLr6mQ6LqciKweeZwlqQVnnzYTPllJrP9DMO0IuR8PMFKpCBv4DQ0T4Aca2NTHkreKg=',\n",
       "  'HTTPStatusCode': 200,\n",
       "  'HTTPHeaders': {'x-amz-id-2': 'rcuHlZ3CwLr6mQ6LqciKweeZwlqQVnnzYTPllJrP9DMO0IuR8PMFKpCBv4DQ0T4Aca2NTHkreKg=',\n",
       "   'x-amz-request-id': 'T96FG5FGJMN42R5Q',\n",
       "   'date': 'Tue, 06 Dec 2022 11:45:55 GMT',\n",
       "   'etag': '\"9c8362487bb9b80612f34c90cff46666\"',\n",
       "   'server': 'AmazonS3',\n",
       "   'content-length': '0'},\n",
       "  'RetryAttempts': 1},\n",
       " 'ETag': '\"9c8362487bb9b80612f34c90cff46666\"'}"
      ]
     },
     "execution_count": 52,
     "metadata": {},
     "output_type": "execute_result"
    }
   ],
   "source": [
    "#exporting fiel ready for EDA  to AWS S3\n",
    "bucket = aws_creds.bucket # already created on S3\n",
    "csv_buffer = StringIO()\n",
    "df.to_csv(csv_buffer)\n",
    "s3_resource = boto3.resource('s3')\n",
    "s3_resource.Object(bucket, 'df_eda.csv').put(Body=csv_buffer.getvalue()) # exporting the dataframe to a csv file as 'df_english_sql.csv'"
   ]
  }
 ],
 "metadata": {
  "kernelspec": {
   "display_name": "Python 3.9.12 ('base')",
   "language": "python",
   "name": "python3"
  },
  "language_info": {
   "codemirror_mode": {
    "name": "ipython",
    "version": 3
   },
   "file_extension": ".py",
   "mimetype": "text/x-python",
   "name": "python",
   "nbconvert_exporter": "python",
   "pygments_lexer": "ipython3",
   "version": "3.9.12"
  },
  "orig_nbformat": 4,
  "vscode": {
   "interpreter": {
    "hash": "25a04f5bcc4cce45f88f55048bde1d1871ccb10dc4647418ede9299c65043aaf"
   }
  }
 },
 "nbformat": 4,
 "nbformat_minor": 2
}
