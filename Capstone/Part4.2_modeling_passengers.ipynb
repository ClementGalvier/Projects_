{
 "cells": [
  {
   "cell_type": "markdown",
   "metadata": {},
   "source": [
    "# `Predicting outcomes for passengers`<br>\n",
    "Baseline, Hypothesis testing for feature selection and model improvement"
   ]
  },
  {
   "cell_type": "markdown",
   "metadata": {},
   "source": [
    "In this notebook, we want to assess how well our model perform to predict the inrjury level for passengers. Will will improve the model by adding hypothesis testing for feature selection and try to improve our score"
   ]
  },
  {
   "cell_type": "code",
   "execution_count": 1,
   "metadata": {},
   "outputs": [],
   "source": [
    "#Importing data manipulation and visualization libraries\n",
    "import pandas as pd # for dataframe manipulation\n",
    "import numpy as np # for numbers manipulations\n",
    "\n",
    "\n",
    "import seaborn as sns # for data visualization\n",
    "import matplotlib.pyplot as plt # for data visualization\n",
    "import scipy.stats as stats # # we never just \"import scipy\" as all the juice is in the submodules\n",
    "\n",
    "import plotly.express as px # for data visualization\n",
    "import plotly.figure_factory as ff# for data visualization\n",
    "\n",
    "from sklearn.preprocessing import LabelEncoder,FunctionTransformer,StandardScaler #for data preprocessing and scaling\n",
    "from sklearn.feature_selection import chi2 #for hypothesis testing on categorical variables\n",
    "from sklearn.pipeline import Pipeline #for chaining operations prior to the gridsearch\n",
    "\n",
    "from sklearn.model_selection import train_test_split, cross_val_score,GridSearchCV #for modeling preparation\n",
    "\n",
    "#importing our models\n",
    "from sklearn.linear_model import LogisticRegression \n",
    "from sklearn.ensemble import GradientBoostingClassifier, AdaBoostClassifier\n",
    "from sklearn.svm import SVC, LinearSVC\n",
    "from xgboost import XGBClassifier, plot_importance\n",
    "\n",
    "#importing metrics to evaluate models performance\n",
    "from sklearn.metrics import classification_report,confusion_matrix\n",
    "from sklearn.metrics import  precision_score, recall_score, roc_auc_score, accuracy_score,f1_score,confusion_matrix,ConfusionMatrixDisplay, RocCurveDisplay, plot_roc_curve \n",
    "from imblearn.metrics import specificity_score\n",
    "\n",
    "import warnings\n",
    "warnings.filterwarnings(\"ignore\")\n",
    "\n",
    "# to access AWS\n",
    "import aws_creds\n",
    "import os\n",
    "from smart_open import smart_open\n",
    "import boto3 \n",
    "from io import StringIO # python3; python2: BytesIO \n",
    "\n",
    "#check time it takes to run the entire notebook\n",
    "import time\n",
    "st = time.time()"
   ]
  },
  {
   "cell_type": "markdown",
   "metadata": {},
   "source": [
    "Helper functions"
   ]
  },
  {
   "cell_type": "code",
   "execution_count": 2,
   "metadata": {},
   "outputs": [],
   "source": [
    "#this function will fit models and generate visualization\n",
    "def meta_func (model,model_name,param_grid,X_train,y_train,X_test,y_test,score_dict):\n",
    "        #model\n",
    "        gs_model = GridSearchCV(\n",
    "        model,\n",
    "        param_grid=param_grid,\n",
    "        cv=3,\n",
    "        verbose=1,\n",
    "        n_jobs=-1\n",
    "        )\n",
    "\n",
    "        #fitting model -------------------------------------------------------\n",
    "        gs_model.fit(X_train,y_train)\n",
    "\n",
    "        #getting predictions\n",
    "        train_preds = gs_model.predict(X_train)\n",
    "        preds = gs_model.predict(X_test)\n",
    "        \n",
    "        #getting the test metrics ready\n",
    "        test_f1score=f1_score(y_test,preds)\n",
    "        test_precision=precision_score(y_test,preds)\n",
    "        test_accuracy=accuracy_score(y_test,preds)\n",
    "        test_recall=recall_score(y_test,preds)\n",
    "        test_roc_auc=roc_auc_score(y_test,preds)\n",
    "        test_specificity = specificity_score(y_test,preds)\n",
    "\n",
    "        #getting the train metrics\n",
    "        train_f1score=f1_score(y_train,train_preds)\n",
    "        train_specificity = specificity_score(y_train,train_preds)\n",
    "        train_precision=precision_score(y_train,train_preds)\n",
    "        train_accuracy=accuracy_score(y_train,train_preds)\n",
    "        train_recall=recall_score(y_train,train_preds)\n",
    "        train_roc_auc=roc_auc_score(y_train,train_preds)\n",
    "        #printing results-----------------------------------------------------------------\n",
    "\n",
    "        print(f'best params : {gs_model.best_params_}')\n",
    "\n",
    "        print(f'Test_f1_score : {test_f1score}')\n",
    "        print(f'Test_precision score : {test_precision}')\n",
    "        print(f'Test_accuracy score : {test_accuracy}')\n",
    "        print(f'Test_recall score : {test_recall}')\n",
    "        print(f'Test_roc_auc score : {test_roc_auc}')\n",
    "                \n",
    "        # #update various metrics onto results list-------------------------------------------------------------\n",
    "        score_dict[model_name] = {\n",
    "                'Train_acc':train_accuracy,\n",
    "                'Test_acc':test_accuracy,\n",
    "                'Train_recall':train_recall,\n",
    "                'Test_recall':test_recall,\n",
    "                'Train_preci':train_precision,\n",
    "                'Test_preci':test_precision,\n",
    "                'Train_f1score':train_f1score,\n",
    "                'Test_f1score':test_f1score,\n",
    "                'Train_roc_auc':train_roc_auc,\n",
    "                'Test_roc_auc':test_roc_auc,\n",
    "                'Train_specificity': train_specificity,\n",
    "                'Test_specificity':test_specificity\n",
    "                }\n",
    "\n",
    "        tn, fp, fn, tp = confusion_matrix(y_test, preds).ravel()\n",
    "        cm = confusion_matrix(y_test,preds)\n",
    "        displ = ConfusionMatrixDisplay(cm)\n",
    "        displ.plot();\n",
    "\n",
    "        plot_roc_curve(gs_model.best_estimator_, X_test, y_test)\n",
    "        plt.plot([0, 1], [0, 1],\n",
    "        label='baseline', linestyle='--') # to simulate random guess \n",
    "        plt.legend();\n",
    "\n",
    "        return gs_model"
   ]
  },
  {
   "cell_type": "code",
   "execution_count": 3,
   "metadata": {},
   "outputs": [],
   "source": [
    "#Helper functions - showing dataframe quality\n",
    "def df_quality (df):\n",
    "    df_qual= pd.DataFrame(df.dtypes, columns={'dtypes'}) # creating a colum to display all data types\n",
    "    df_qual['isna%'] = np.round((df.isna().sum()/len(df))*100,1) # creating new columns = to missing values %\n",
    "    df_qual['isna']= df.isna().sum()\n",
    "    df_qual['unique']=df.nunique() # creating new columns eq to missing values\n",
    "    return df_qual.sort_values(by= 'isna%' , ascending=False)[:40] # sorting and shortlisting"
   ]
  },
  {
   "cell_type": "code",
   "execution_count": 4,
   "metadata": {},
   "outputs": [],
   "source": [
    "#function to test for statistical significance, and chosing the right test depending on data distribution\n",
    "#borrowed from Shilpa's github  -https://github.com/shilpaleo/employee_resignation_prediction/blob/main/notebook/Resignation%20Case%20Study.ipynb\n",
    "\n",
    "def cont_stat_sig_test(df,col):\n",
    "    # defining function for normality + statistical significance check\n",
    "    # Step 1: normality test\n",
    "    stat, p_value = stats.normaltest(df[col].values)\n",
    "    \n",
    "    # Step 2: filter series    \n",
    "    df_ok = df[df['injury_level']=='OK'][col].values\n",
    "    df_not_ok = df[df['injury_level']=='not_ok'][col].values\n",
    "    \n",
    "    # Step 3: determining appropriate statistical significance test based on normality\n",
    "    if p_value>0.01:\n",
    "        distribution = 'normal distribution'\n",
    "        test = 'Anova test'\n",
    "        stat, p_value = stats.f_oneway(df_ok, df_not_ok)\n",
    "    \n",
    "    else:\n",
    "        distribution = 'non-normal distribution'\n",
    "        test = 'KS test'\n",
    "        stat, p_value = stats.ks_2samp(df_ok, df_not_ok)\n",
    "    \n",
    "    # Step 4: conclude on statistical significance\n",
    "    if p_value>0.05:\n",
    "        sig = 'not statistically significant'\n",
    "    else:\n",
    "        sig = 'statistically significant'\n",
    "\n",
    "    print(f'{col} has {distribution}: running {test}. result: {sig}')\n",
    "    return p_value\n"
   ]
  },
  {
   "cell_type": "code",
   "execution_count": 5,
   "metadata": {},
   "outputs": [],
   "source": [
    "#dictionary to store our results\n",
    "score_dict_passengers={}"
   ]
  },
  {
   "cell_type": "markdown",
   "metadata": {},
   "source": [
    "### 1. Preping data for 1st run"
   ]
  },
  {
   "cell_type": "markdown",
   "metadata": {},
   "source": [
    "Importing file"
   ]
  },
  {
   "cell_type": "code",
   "execution_count": 6,
   "metadata": {},
   "outputs": [],
   "source": [
    "#importing our file from AWS\n",
    "aws_key = aws_creds.aws_key\n",
    "aws_secret = aws_creds.aws_secret\n",
    "\n",
    "bucket_name = aws_creds.bucket\n",
    "object_key = 'df_eda.csv'\n",
    "\n",
    "path = 's3://{}:{}@{}/{}'.format(aws_key, aws_secret, bucket_name, object_key)\n",
    "\n",
    "df = pd.read_csv(smart_open(path), index_col=[0]) # index_col=[0] to avoid unammed:0"
   ]
  },
  {
   "cell_type": "code",
   "execution_count": 7,
   "metadata": {},
   "outputs": [
    {
     "data": {
      "text/plain": [
       "1    54628\n",
       "0    10898\n",
       "Name: injury_level, dtype: int64"
      ]
     },
     "execution_count": 7,
     "metadata": {},
     "output_type": "execute_result"
    }
   ],
   "source": [
    "df['injury_level'] = df['injury_level'].map({'OK':1,'not_ok':0}) #mapping target variable\n",
    "df_pass = df[(df['user_type']=='passenger')] # targeting passengers\n",
    "df_pass['injury_level'].value_counts()"
   ]
  },
  {
   "cell_type": "code",
   "execution_count": 8,
   "metadata": {},
   "outputs": [
    {
     "data": {
      "text/html": [
       "<div>\n",
       "<style scoped>\n",
       "    .dataframe tbody tr th:only-of-type {\n",
       "        vertical-align: middle;\n",
       "    }\n",
       "\n",
       "    .dataframe tbody tr th {\n",
       "        vertical-align: top;\n",
       "    }\n",
       "\n",
       "    .dataframe thead th {\n",
       "        text-align: right;\n",
       "    }\n",
       "</style>\n",
       "<table border=\"1\" class=\"dataframe\">\n",
       "  <thead>\n",
       "    <tr style=\"text-align: right;\">\n",
       "      <th></th>\n",
       "      <th>dtypes</th>\n",
       "      <th>isna%</th>\n",
       "      <th>isna</th>\n",
       "      <th>unique</th>\n",
       "    </tr>\n",
       "  </thead>\n",
       "  <tbody>\n",
       "    <tr>\n",
       "      <th>pedestrian_loc</th>\n",
       "      <td>object</td>\n",
       "      <td>100.0</td>\n",
       "      <td>65526</td>\n",
       "      <td>0</td>\n",
       "    </tr>\n",
       "    <tr>\n",
       "      <th>pedestrian_action</th>\n",
       "      <td>object</td>\n",
       "      <td>100.0</td>\n",
       "      <td>65526</td>\n",
       "      <td>0</td>\n",
       "    </tr>\n",
       "    <tr>\n",
       "      <th>pedestrian_group</th>\n",
       "      <td>object</td>\n",
       "      <td>100.0</td>\n",
       "      <td>65526</td>\n",
       "      <td>0</td>\n",
       "    </tr>\n",
       "    <tr>\n",
       "      <th>reserved_path</th>\n",
       "      <td>object</td>\n",
       "      <td>93.1</td>\n",
       "      <td>60986</td>\n",
       "      <td>2</td>\n",
       "    </tr>\n",
       "    <tr>\n",
       "      <th>infra_type</th>\n",
       "      <td>object</td>\n",
       "      <td>83.7</td>\n",
       "      <td>54869</td>\n",
       "      <td>9</td>\n",
       "    </tr>\n",
       "    <tr>\n",
       "      <th>fixed_obstacle_hurt</th>\n",
       "      <td>object</td>\n",
       "      <td>73.8</td>\n",
       "      <td>48327</td>\n",
       "      <td>15</td>\n",
       "    </tr>\n",
       "    <tr>\n",
       "      <th>safety_feat_2</th>\n",
       "      <td>object</td>\n",
       "      <td>53.0</td>\n",
       "      <td>34708</td>\n",
       "      <td>9</td>\n",
       "    </tr>\n",
       "    <tr>\n",
       "      <th>width_road_only</th>\n",
       "      <td>object</td>\n",
       "      <td>36.8</td>\n",
       "      <td>24088</td>\n",
       "      <td>129</td>\n",
       "    </tr>\n",
       "    <tr>\n",
       "      <th>mobile_obstacle_hurt</th>\n",
       "      <td>object</td>\n",
       "      <td>29.4</td>\n",
       "      <td>19256</td>\n",
       "      <td>6</td>\n",
       "    </tr>\n",
       "    <tr>\n",
       "      <th>journey_reason</th>\n",
       "      <td>object</td>\n",
       "      <td>25.6</td>\n",
       "      <td>16760</td>\n",
       "      <td>6</td>\n",
       "    </tr>\n",
       "    <tr>\n",
       "      <th>safety_feat_1</th>\n",
       "      <td>object</td>\n",
       "      <td>10.7</td>\n",
       "      <td>6982</td>\n",
       "      <td>9</td>\n",
       "    </tr>\n",
       "    <tr>\n",
       "      <th>road_num</th>\n",
       "      <td>float64</td>\n",
       "      <td>9.3</td>\n",
       "      <td>6079</td>\n",
       "      <td>4</td>\n",
       "    </tr>\n",
       "    <tr>\n",
       "      <th>lane_num</th>\n",
       "      <td>object</td>\n",
       "      <td>7.9</td>\n",
       "      <td>5191</td>\n",
       "      <td>10579</td>\n",
       "    </tr>\n",
       "    <tr>\n",
       "      <th>engine_type</th>\n",
       "      <td>object</td>\n",
       "      <td>7.1</td>\n",
       "      <td>4639</td>\n",
       "      <td>6</td>\n",
       "    </tr>\n",
       "    <tr>\n",
       "      <th>navigation_direction</th>\n",
       "      <td>object</td>\n",
       "      <td>5.9</td>\n",
       "      <td>3867</td>\n",
       "      <td>3</td>\n",
       "    </tr>\n",
       "    <tr>\n",
       "      <th>impact_location</th>\n",
       "      <td>object</td>\n",
       "      <td>4.7</td>\n",
       "      <td>3066</td>\n",
       "      <td>9</td>\n",
       "    </tr>\n",
       "    <tr>\n",
       "      <th>travelling_direction</th>\n",
       "      <td>object</td>\n",
       "      <td>4.2</td>\n",
       "      <td>2726</td>\n",
       "      <td>4</td>\n",
       "    </tr>\n",
       "    <tr>\n",
       "      <th>max_speed_allowed</th>\n",
       "      <td>float64</td>\n",
       "      <td>1.7</td>\n",
       "      <td>1125</td>\n",
       "      <td>16</td>\n",
       "    </tr>\n",
       "    <tr>\n",
       "      <th>speed_group</th>\n",
       "      <td>float64</td>\n",
       "      <td>1.7</td>\n",
       "      <td>1125</td>\n",
       "      <td>7</td>\n",
       "    </tr>\n",
       "    <tr>\n",
       "      <th>postal_address</th>\n",
       "      <td>object</td>\n",
       "      <td>1.3</td>\n",
       "      <td>837</td>\n",
       "      <td>22821</td>\n",
       "    </tr>\n",
       "    <tr>\n",
       "      <th>collision_type</th>\n",
       "      <td>object</td>\n",
       "      <td>0.9</td>\n",
       "      <td>574</td>\n",
       "      <td>7</td>\n",
       "    </tr>\n",
       "    <tr>\n",
       "      <th>long</th>\n",
       "      <td>float64</td>\n",
       "      <td>0.0</td>\n",
       "      <td>0</td>\n",
       "      <td>39077</td>\n",
       "    </tr>\n",
       "    <tr>\n",
       "      <th>lat</th>\n",
       "      <td>float64</td>\n",
       "      <td>0.0</td>\n",
       "      <td>0</td>\n",
       "      <td>38916</td>\n",
       "    </tr>\n",
       "    <tr>\n",
       "      <th>weather</th>\n",
       "      <td>object</td>\n",
       "      <td>0.0</td>\n",
       "      <td>0</td>\n",
       "      <td>9</td>\n",
       "    </tr>\n",
       "    <tr>\n",
       "      <th>crossing</th>\n",
       "      <td>object</td>\n",
       "      <td>0.0</td>\n",
       "      <td>0</td>\n",
       "      <td>5</td>\n",
       "    </tr>\n",
       "    <tr>\n",
       "      <th>in_out_city</th>\n",
       "      <td>object</td>\n",
       "      <td>0.0</td>\n",
       "      <td>0</td>\n",
       "      <td>2</td>\n",
       "    </tr>\n",
       "    <tr>\n",
       "      <th>acc_num</th>\n",
       "      <td>int64</td>\n",
       "      <td>0.0</td>\n",
       "      <td>0</td>\n",
       "      <td>39897</td>\n",
       "    </tr>\n",
       "    <tr>\n",
       "      <th>date</th>\n",
       "      <td>object</td>\n",
       "      <td>0.0</td>\n",
       "      <td>0</td>\n",
       "      <td>1096</td>\n",
       "    </tr>\n",
       "    <tr>\n",
       "      <th>day_of_week</th>\n",
       "      <td>object</td>\n",
       "      <td>0.0</td>\n",
       "      <td>0</td>\n",
       "      <td>7</td>\n",
       "    </tr>\n",
       "    <tr>\n",
       "      <th>hour</th>\n",
       "      <td>int64</td>\n",
       "      <td>0.0</td>\n",
       "      <td>0</td>\n",
       "      <td>24</td>\n",
       "    </tr>\n",
       "    <tr>\n",
       "      <th>department_fr</th>\n",
       "      <td>object</td>\n",
       "      <td>0.0</td>\n",
       "      <td>0</td>\n",
       "      <td>116</td>\n",
       "    </tr>\n",
       "    <tr>\n",
       "      <th>YYYY-MM</th>\n",
       "      <td>object</td>\n",
       "      <td>0.0</td>\n",
       "      <td>0</td>\n",
       "      <td>36</td>\n",
       "    </tr>\n",
       "    <tr>\n",
       "      <th>event</th>\n",
       "      <td>object</td>\n",
       "      <td>0.0</td>\n",
       "      <td>0</td>\n",
       "      <td>12</td>\n",
       "    </tr>\n",
       "    <tr>\n",
       "      <th>country</th>\n",
       "      <td>object</td>\n",
       "      <td>0.0</td>\n",
       "      <td>0</td>\n",
       "      <td>1</td>\n",
       "    </tr>\n",
       "    <tr>\n",
       "      <th>vehi_grp</th>\n",
       "      <td>object</td>\n",
       "      <td>0.0</td>\n",
       "      <td>28</td>\n",
       "      <td>3</td>\n",
       "    </tr>\n",
       "    <tr>\n",
       "      <th>age</th>\n",
       "      <td>float64</td>\n",
       "      <td>0.0</td>\n",
       "      <td>0</td>\n",
       "      <td>107</td>\n",
       "    </tr>\n",
       "    <tr>\n",
       "      <th>age_group</th>\n",
       "      <td>object</td>\n",
       "      <td>0.0</td>\n",
       "      <td>0</td>\n",
       "      <td>5</td>\n",
       "    </tr>\n",
       "    <tr>\n",
       "      <th>city</th>\n",
       "      <td>object</td>\n",
       "      <td>0.0</td>\n",
       "      <td>0</td>\n",
       "      <td>10280</td>\n",
       "    </tr>\n",
       "    <tr>\n",
       "      <th>road_surface</th>\n",
       "      <td>object</td>\n",
       "      <td>0.0</td>\n",
       "      <td>0</td>\n",
       "      <td>8</td>\n",
       "    </tr>\n",
       "    <tr>\n",
       "      <th>light_conditions</th>\n",
       "      <td>object</td>\n",
       "      <td>0.0</td>\n",
       "      <td>0</td>\n",
       "      <td>3</td>\n",
       "    </tr>\n",
       "  </tbody>\n",
       "</table>\n",
       "</div>"
      ],
      "text/plain": [
       "                       dtypes  isna%   isna  unique\n",
       "pedestrian_loc         object  100.0  65526       0\n",
       "pedestrian_action      object  100.0  65526       0\n",
       "pedestrian_group       object  100.0  65526       0\n",
       "reserved_path          object   93.1  60986       2\n",
       "infra_type             object   83.7  54869       9\n",
       "fixed_obstacle_hurt    object   73.8  48327      15\n",
       "safety_feat_2          object   53.0  34708       9\n",
       "width_road_only        object   36.8  24088     129\n",
       "mobile_obstacle_hurt   object   29.4  19256       6\n",
       "journey_reason         object   25.6  16760       6\n",
       "safety_feat_1          object   10.7   6982       9\n",
       "road_num              float64    9.3   6079       4\n",
       "lane_num               object    7.9   5191   10579\n",
       "engine_type            object    7.1   4639       6\n",
       "navigation_direction   object    5.9   3867       3\n",
       "impact_location        object    4.7   3066       9\n",
       "travelling_direction   object    4.2   2726       4\n",
       "max_speed_allowed     float64    1.7   1125      16\n",
       "speed_group           float64    1.7   1125       7\n",
       "postal_address         object    1.3    837   22821\n",
       "collision_type         object    0.9    574       7\n",
       "long                  float64    0.0      0   39077\n",
       "lat                   float64    0.0      0   38916\n",
       "weather                object    0.0      0       9\n",
       "crossing               object    0.0      0       5\n",
       "in_out_city            object    0.0      0       2\n",
       "acc_num                 int64    0.0      0   39897\n",
       "date                   object    0.0      0    1096\n",
       "day_of_week            object    0.0      0       7\n",
       "hour                    int64    0.0      0      24\n",
       "department_fr          object    0.0      0     116\n",
       "YYYY-MM                object    0.0      0      36\n",
       "event                  object    0.0      0      12\n",
       "country                object    0.0      0       1\n",
       "vehi_grp               object    0.0     28       3\n",
       "age                   float64    0.0      0     107\n",
       "age_group              object    0.0      0       5\n",
       "city                   object    0.0      0   10280\n",
       "road_surface           object    0.0      0       8\n",
       "light_conditions       object    0.0      0       3"
      ]
     },
     "execution_count": 8,
     "metadata": {},
     "output_type": "execute_result"
    }
   ],
   "source": [
    "df_quality (df_pass)"
   ]
  },
  {
   "cell_type": "markdown",
   "metadata": {},
   "source": [
    "Let's clear the NaN before fitting models. Given the NaNs identified above and the information contained in the columns, we make the choice to cut any feature with more than 10% NaN"
   ]
  },
  {
   "cell_type": "code",
   "execution_count": 9,
   "metadata": {},
   "outputs": [
    {
     "name": "stdout",
     "output_type": "stream",
     "text": [
      "after dropping high_nan features, shape is : (65526, 47)\n",
      "after dropping high_nan and remaining nan, shape is: (43267, 47)\n",
      "after dropping duplicates, final shape is : (43267, 28)\n"
     ]
    }
   ],
   "source": [
    "#Let's remove all 10% above NaN features\n",
    "high_nans = [col for col in df_pass.columns if ((df_pass[col].isna().sum()/len(df_pass)))>0.1]\n",
    "df_pass = df_pass.drop(columns = high_nans)\n",
    "print(f'after dropping high_nan features, shape is : {df_pass.shape}')\n",
    "\n",
    "#then we drop any columns with NaNs remaining \n",
    "df_pass = df_pass.dropna()\n",
    "print(f'after dropping high_nan and remaining nan, shape is: {df_pass.shape}')\n",
    "\n",
    "#finally, we manually renmove these columns as they are either duplicates or strongly correlated to other features\n",
    "pass_cols_todrop = [\n",
    "    'acc_num', # not informative \n",
    "    'id_vehicule', #not informative\n",
    "    #'seat',only valid for passengers and passengers\n",
    "    'user_type',# already filtered on passengers + passengers\n",
    "    'day',#duplicate with day of the week and month\n",
    "    'year',# dropping year but keeping month for seasonality\n",
    "    'lat',#duplicate with geo\n",
    "    'long', #duplicate with geo\n",
    "    'date',#duplicate with day of the week and Month - we do not need that much details\n",
    "    'hhmm',#already captured in hh\n",
    "    'YYYY-MM',#another date duplicate only used for EDA\n",
    "    'country',#not informative\n",
    "    'lane_num',\n",
    "    'max_speed_allowed', # we are going with speed_group instead\n",
    "    'city',\n",
    "    'age',\n",
    "    'geo',\n",
    "    'dob',\n",
    "    'postal_address',\n",
    "    'department_fr']\n",
    "\n",
    "df_pass = df_pass.drop(columns = pass_cols_todrop)\n",
    "print(f'after dropping duplicates, final shape is : {df_pass.shape}')"
   ]
  },
  {
   "cell_type": "code",
   "execution_count": 10,
   "metadata": {},
   "outputs": [
    {
     "data": {
      "text/html": [
       "<div>\n",
       "<style scoped>\n",
       "    .dataframe tbody tr th:only-of-type {\n",
       "        vertical-align: middle;\n",
       "    }\n",
       "\n",
       "    .dataframe tbody tr th {\n",
       "        vertical-align: top;\n",
       "    }\n",
       "\n",
       "    .dataframe thead th {\n",
       "        text-align: right;\n",
       "    }\n",
       "</style>\n",
       "<table border=\"1\" class=\"dataframe\">\n",
       "  <thead>\n",
       "    <tr style=\"text-align: right;\">\n",
       "      <th></th>\n",
       "      <th>dtypes</th>\n",
       "      <th>isna%</th>\n",
       "      <th>isna</th>\n",
       "      <th>unique</th>\n",
       "    </tr>\n",
       "  </thead>\n",
       "  <tbody>\n",
       "    <tr>\n",
       "      <th>seat</th>\n",
       "      <td>object</td>\n",
       "      <td>0.0</td>\n",
       "      <td>0</td>\n",
       "      <td>9</td>\n",
       "    </tr>\n",
       "    <tr>\n",
       "      <th>injury_level</th>\n",
       "      <td>int64</td>\n",
       "      <td>0.0</td>\n",
       "      <td>0</td>\n",
       "      <td>2</td>\n",
       "    </tr>\n",
       "    <tr>\n",
       "      <th>vehi_grp</th>\n",
       "      <td>object</td>\n",
       "      <td>0.0</td>\n",
       "      <td>0</td>\n",
       "      <td>3</td>\n",
       "    </tr>\n",
       "    <tr>\n",
       "      <th>speed_group</th>\n",
       "      <td>float64</td>\n",
       "      <td>0.0</td>\n",
       "      <td>0</td>\n",
       "      <td>7</td>\n",
       "    </tr>\n",
       "    <tr>\n",
       "      <th>event</th>\n",
       "      <td>object</td>\n",
       "      <td>0.0</td>\n",
       "      <td>0</td>\n",
       "      <td>12</td>\n",
       "    </tr>\n",
       "    <tr>\n",
       "      <th>hour</th>\n",
       "      <td>int64</td>\n",
       "      <td>0.0</td>\n",
       "      <td>0</td>\n",
       "      <td>24</td>\n",
       "    </tr>\n",
       "    <tr>\n",
       "      <th>day_of_week</th>\n",
       "      <td>object</td>\n",
       "      <td>0.0</td>\n",
       "      <td>0</td>\n",
       "      <td>7</td>\n",
       "    </tr>\n",
       "    <tr>\n",
       "      <th>collision_type</th>\n",
       "      <td>object</td>\n",
       "      <td>0.0</td>\n",
       "      <td>0</td>\n",
       "      <td>7</td>\n",
       "    </tr>\n",
       "    <tr>\n",
       "      <th>weather</th>\n",
       "      <td>object</td>\n",
       "      <td>0.0</td>\n",
       "      <td>0</td>\n",
       "      <td>9</td>\n",
       "    </tr>\n",
       "    <tr>\n",
       "      <th>crossing</th>\n",
       "      <td>object</td>\n",
       "      <td>0.0</td>\n",
       "      <td>0</td>\n",
       "      <td>5</td>\n",
       "    </tr>\n",
       "    <tr>\n",
       "      <th>in_out_city</th>\n",
       "      <td>object</td>\n",
       "      <td>0.0</td>\n",
       "      <td>0</td>\n",
       "      <td>2</td>\n",
       "    </tr>\n",
       "    <tr>\n",
       "      <th>light_conditions</th>\n",
       "      <td>object</td>\n",
       "      <td>0.0</td>\n",
       "      <td>0</td>\n",
       "      <td>3</td>\n",
       "    </tr>\n",
       "    <tr>\n",
       "      <th>month</th>\n",
       "      <td>int64</td>\n",
       "      <td>0.0</td>\n",
       "      <td>0</td>\n",
       "      <td>12</td>\n",
       "    </tr>\n",
       "    <tr>\n",
       "      <th>road_location_accident</th>\n",
       "      <td>object</td>\n",
       "      <td>0.0</td>\n",
       "      <td>0</td>\n",
       "      <td>7</td>\n",
       "    </tr>\n",
       "    <tr>\n",
       "      <th>road_surface</th>\n",
       "      <td>object</td>\n",
       "      <td>0.0</td>\n",
       "      <td>0</td>\n",
       "      <td>8</td>\n",
       "    </tr>\n",
       "    <tr>\n",
       "      <th>road_curve</th>\n",
       "      <td>object</td>\n",
       "      <td>0.0</td>\n",
       "      <td>0</td>\n",
       "      <td>4</td>\n",
       "    </tr>\n",
       "    <tr>\n",
       "      <th>road_incline</th>\n",
       "      <td>object</td>\n",
       "      <td>0.0</td>\n",
       "      <td>0</td>\n",
       "      <td>4</td>\n",
       "    </tr>\n",
       "    <tr>\n",
       "      <th>num_operating_lanes</th>\n",
       "      <td>int64</td>\n",
       "      <td>0.0</td>\n",
       "      <td>0</td>\n",
       "      <td>14</td>\n",
       "    </tr>\n",
       "    <tr>\n",
       "      <th>travelling_direction</th>\n",
       "      <td>object</td>\n",
       "      <td>0.0</td>\n",
       "      <td>0</td>\n",
       "      <td>4</td>\n",
       "    </tr>\n",
       "    <tr>\n",
       "      <th>road_num</th>\n",
       "      <td>float64</td>\n",
       "      <td>0.0</td>\n",
       "      <td>0</td>\n",
       "      <td>4</td>\n",
       "    </tr>\n",
       "    <tr>\n",
       "      <th>road_type</th>\n",
       "      <td>object</td>\n",
       "      <td>0.0</td>\n",
       "      <td>0</td>\n",
       "      <td>7</td>\n",
       "    </tr>\n",
       "    <tr>\n",
       "      <th>engine_type</th>\n",
       "      <td>object</td>\n",
       "      <td>0.0</td>\n",
       "      <td>0</td>\n",
       "      <td>6</td>\n",
       "    </tr>\n",
       "    <tr>\n",
       "      <th>was_doing</th>\n",
       "      <td>object</td>\n",
       "      <td>0.0</td>\n",
       "      <td>0</td>\n",
       "      <td>20</td>\n",
       "    </tr>\n",
       "    <tr>\n",
       "      <th>impact_location</th>\n",
       "      <td>object</td>\n",
       "      <td>0.0</td>\n",
       "      <td>0</td>\n",
       "      <td>9</td>\n",
       "    </tr>\n",
       "    <tr>\n",
       "      <th>vehicule_type</th>\n",
       "      <td>object</td>\n",
       "      <td>0.0</td>\n",
       "      <td>0</td>\n",
       "      <td>18</td>\n",
       "    </tr>\n",
       "    <tr>\n",
       "      <th>navigation_direction</th>\n",
       "      <td>object</td>\n",
       "      <td>0.0</td>\n",
       "      <td>0</td>\n",
       "      <td>3</td>\n",
       "    </tr>\n",
       "    <tr>\n",
       "      <th>gender</th>\n",
       "      <td>object</td>\n",
       "      <td>0.0</td>\n",
       "      <td>0</td>\n",
       "      <td>2</td>\n",
       "    </tr>\n",
       "    <tr>\n",
       "      <th>age_group</th>\n",
       "      <td>object</td>\n",
       "      <td>0.0</td>\n",
       "      <td>0</td>\n",
       "      <td>5</td>\n",
       "    </tr>\n",
       "  </tbody>\n",
       "</table>\n",
       "</div>"
      ],
      "text/plain": [
       "                         dtypes  isna%  isna  unique\n",
       "seat                     object    0.0     0       9\n",
       "injury_level              int64    0.0     0       2\n",
       "vehi_grp                 object    0.0     0       3\n",
       "speed_group             float64    0.0     0       7\n",
       "event                    object    0.0     0      12\n",
       "hour                      int64    0.0     0      24\n",
       "day_of_week              object    0.0     0       7\n",
       "collision_type           object    0.0     0       7\n",
       "weather                  object    0.0     0       9\n",
       "crossing                 object    0.0     0       5\n",
       "in_out_city              object    0.0     0       2\n",
       "light_conditions         object    0.0     0       3\n",
       "month                     int64    0.0     0      12\n",
       "road_location_accident   object    0.0     0       7\n",
       "road_surface             object    0.0     0       8\n",
       "road_curve               object    0.0     0       4\n",
       "road_incline             object    0.0     0       4\n",
       "num_operating_lanes       int64    0.0     0      14\n",
       "travelling_direction     object    0.0     0       4\n",
       "road_num                float64    0.0     0       4\n",
       "road_type                object    0.0     0       7\n",
       "engine_type              object    0.0     0       6\n",
       "was_doing                object    0.0     0      20\n",
       "impact_location          object    0.0     0       9\n",
       "vehicule_type            object    0.0     0      18\n",
       "navigation_direction     object    0.0     0       3\n",
       "gender                   object    0.0     0       2\n",
       "age_group                object    0.0     0       5"
      ]
     },
     "execution_count": 10,
     "metadata": {},
     "output_type": "execute_result"
    }
   ],
   "source": [
    "df_quality(df_pass)"
   ]
  },
  {
   "cell_type": "code",
   "execution_count": 11,
   "metadata": {},
   "outputs": [],
   "source": [
    "#preparing our X and y\n",
    "X = df_pass.drop(columns='injury_level')\n",
    "y=df_pass['injury_level']"
   ]
  },
  {
   "cell_type": "code",
   "execution_count": 12,
   "metadata": {},
   "outputs": [
    {
     "name": "stdout",
     "output_type": "stream",
     "text": [
      "(43267, 137)\n"
     ]
    }
   ],
   "source": [
    "##encoding categorical variables\n",
    "X = pd.get_dummies(X, columns=X.select_dtypes('object').columns, drop_first=True)\n",
    "X_train,X_test,y_train,y_test = train_test_split(X,y, random_state=42, test_size=0.2, stratify=y)\n",
    "print(X.shape)"
   ]
  },
  {
   "cell_type": "markdown",
   "metadata": {},
   "source": [
    "### 2. Modeling"
   ]
  },
  {
   "attachments": {},
   "cell_type": "markdown",
   "metadata": {},
   "source": [
    "#### Logistic Regression"
   ]
  },
  {
   "cell_type": "code",
   "execution_count": 13,
   "metadata": {},
   "outputs": [
    {
     "name": "stdout",
     "output_type": "stream",
     "text": [
      "Fitting 3 folds for each of 4 candidates, totalling 12 fits\n",
      "best params : {'lr__C': 0.2, 'lr__class_weight': 'balanced', 'lr__penalty': 'l1'}\n",
      "Test_f1_score : 0.8134542354491203\n",
      "Test_precision score : 0.9396598030438675\n",
      "Test_accuracy score : 0.72186272244049\n",
      "Test_recall score : 0.7171358294616015\n",
      "Test_roc_auc score : 0.7324451602397828\n",
      "CPU times: total: 11.8 s\n",
      "Wall time: 1min 10s\n"
     ]
    },
    {
     "data": {
      "image/png": "[encoded data removed]",
      "text/plain": [
       "<Figure size 432x288 with 2 Axes>"
      ]
     },
     "metadata": {
      "needs_background": "light"
     },
     "output_type": "display_data"
    },
    {
     "data": {
      "image/png": "[encoded data removed]",
      "text/plain": [
       "<Figure size 432x288 with 1 Axes>"
      ]
     },
     "metadata": {
      "needs_background": "light"
     },
     "output_type": "display_data"
    }
   ],
   "source": [
    "%%time\n",
    "model = meta_func (\n",
    "    model=\n",
    "        Pipeline(\n",
    "    [\n",
    "    ('ss',StandardScaler()),\n",
    "    ('lr', LogisticRegression(random_state=42, solver='saga'))\n",
    "    ]\n",
    ")\n",
    ",\n",
    "    model_name='lr_1st_round',\n",
    "    param_grid=\n",
    "    {\"lr__penalty\":['l1','l2'],\n",
    "    \"lr__C\":[0.2,0.3],#Inverse of regularization strength; must be a positive float. Like in support vector machines, smaller values specify stronger regularization.\n",
    "    \"lr__class_weight\":['balanced']     \n",
    "    }\n",
    ",\n",
    "    X_train=X_train,\n",
    "    y_train=y_train,\n",
    "    X_test=X_test,\n",
    "    y_test=y_test,\n",
    "    score_dict= score_dict_passengers\n",
    ")"
   ]
  },
  {
   "cell_type": "code",
   "execution_count": 14,
   "metadata": {},
   "outputs": [
    {
     "data": {
      "text/html": [
       "<div>\n",
       "<style scoped>\n",
       "    .dataframe tbody tr th:only-of-type {\n",
       "        vertical-align: middle;\n",
       "    }\n",
       "\n",
       "    .dataframe tbody tr th {\n",
       "        vertical-align: top;\n",
       "    }\n",
       "\n",
       "    .dataframe thead th {\n",
       "        text-align: right;\n",
       "    }\n",
       "</style>\n",
       "<table border=\"1\" class=\"dataframe\">\n",
       "  <thead>\n",
       "    <tr style=\"text-align: right;\">\n",
       "      <th></th>\n",
       "      <th>Features</th>\n",
       "      <th>Coef_</th>\n",
       "    </tr>\n",
       "  </thead>\n",
       "  <tbody>\n",
       "    <tr>\n",
       "      <th>16</th>\n",
       "      <td>vehicule_type_bus</td>\n",
       "      <td>0.240557</td>\n",
       "    </tr>\n",
       "    <tr>\n",
       "      <th>36</th>\n",
       "      <td>impact_location_rear</td>\n",
       "      <td>0.228172</td>\n",
       "    </tr>\n",
       "    <tr>\n",
       "      <th>72</th>\n",
       "      <td>travelling_direction_unidirectional</td>\n",
       "      <td>0.225996</td>\n",
       "    </tr>\n",
       "    <tr>\n",
       "      <th>109</th>\n",
       "      <td>collision_type_three_or_more_vehicules_chain</td>\n",
       "      <td>0.222251</td>\n",
       "    </tr>\n",
       "    <tr>\n",
       "      <th>58</th>\n",
       "      <td>was_doing_turning</td>\n",
       "      <td>0.204738</td>\n",
       "    </tr>\n",
       "    <tr>\n",
       "      <th>...</th>\n",
       "      <td>...</td>\n",
       "      <td>...</td>\n",
       "    </tr>\n",
       "    <tr>\n",
       "      <th>22</th>\n",
       "      <td>vehicule_type_moto</td>\n",
       "      <td>-0.223425</td>\n",
       "    </tr>\n",
       "    <tr>\n",
       "      <th>136</th>\n",
       "      <td>age_group_80_over</td>\n",
       "      <td>-0.236011</td>\n",
       "    </tr>\n",
       "    <tr>\n",
       "      <th>95</th>\n",
       "      <td>in_out_city_out_of_city</td>\n",
       "      <td>-0.240361</td>\n",
       "    </tr>\n",
       "    <tr>\n",
       "      <th>135</th>\n",
       "      <td>age_group_60_80</td>\n",
       "      <td>-0.250895</td>\n",
       "    </tr>\n",
       "    <tr>\n",
       "      <th>4</th>\n",
       "      <td>speed_group</td>\n",
       "      <td>-0.415621</td>\n",
       "    </tr>\n",
       "  </tbody>\n",
       "</table>\n",
       "<p>137 rows × 2 columns</p>\n",
       "</div>"
      ],
      "text/plain": [
       "                                         Features     Coef_\n",
       "16                              vehicule_type_bus  0.240557\n",
       "36                           impact_location_rear  0.228172\n",
       "72            travelling_direction_unidirectional  0.225996\n",
       "109  collision_type_three_or_more_vehicules_chain  0.222251\n",
       "58                              was_doing_turning  0.204738\n",
       "..                                            ...       ...\n",
       "22                             vehicule_type_moto -0.223425\n",
       "136                             age_group_80_over -0.236011\n",
       "95                        in_out_city_out_of_city -0.240361\n",
       "135                               age_group_60_80 -0.250895\n",
       "4                                     speed_group -0.415621\n",
       "\n",
       "[137 rows x 2 columns]"
      ]
     },
     "execution_count": 14,
     "metadata": {},
     "output_type": "execute_result"
    }
   ],
   "source": [
    "#extract top features\n",
    "pd_features = pd.DataFrame({'Features': X_train.columns,'Coef_': model.best_estimator_.steps[-1][1].coef_[0]})\n",
    "pd_features.sort_values(by='Coef_', ascending=False)"
   ]
  },
  {
   "attachments": {},
   "cell_type": "markdown",
   "metadata": {},
   "source": [
    "#### AdaBoost"
   ]
  },
  {
   "cell_type": "code",
   "execution_count": 15,
   "metadata": {},
   "outputs": [
    {
     "name": "stdout",
     "output_type": "stream",
     "text": [
      "Fitting 3 folds for each of 4 candidates, totalling 12 fits\n",
      "best params : {'learning_rate': 1, 'n_estimators': 150}\n",
      "Test_f1_score : 0.91743708269132\n",
      "Test_precision score : 0.8652216032937757\n",
      "Test_accuracy score : 0.8513981973653801\n",
      "Test_recall score : 0.9763596611095928\n",
      "Test_roc_auc score : 0.5716379143871317\n",
      "CPU times: total: 17.4 s\n",
      "Wall time: 1min 45s\n"
     ]
    },
    {
     "data": {
      "image/png": "[encoded data removed]",
      "text/plain": [
       "<Figure size 432x288 with 2 Axes>"
      ]
     },
     "metadata": {
      "needs_background": "light"
     },
     "output_type": "display_data"
    },
    {
     "data": {
      "image/png": "[encoded data removed]",
      "text/plain": [
       "<Figure size 432x288 with 1 Axes>"
      ]
     },
     "metadata": {
      "needs_background": "light"
     },
     "output_type": "display_data"
    }
   ],
   "source": [
    "%%time\n",
    "model = meta_func (\n",
    "    model=AdaBoostClassifier(random_state=42)\n",
    ",\n",
    "    model_name='abc_1st_round',\n",
    "    param_grid=\n",
    "{\n",
    "    'n_estimators': [150,300], \n",
    "    'learning_rate': [1, 2]\n",
    "    }\n",
    ",\n",
    "    X_train=X_train,\n",
    "    y_train=y_train,\n",
    "    X_test=X_test,\n",
    "    y_test=y_test,\n",
    "    score_dict= score_dict_passengers\n",
    ")"
   ]
  },
  {
   "cell_type": "code",
   "execution_count": 16,
   "metadata": {},
   "outputs": [
    {
     "data": {
      "text/html": [
       "<div>\n",
       "<style scoped>\n",
       "    .dataframe tbody tr th:only-of-type {\n",
       "        vertical-align: middle;\n",
       "    }\n",
       "\n",
       "    .dataframe tbody tr th {\n",
       "        vertical-align: top;\n",
       "    }\n",
       "\n",
       "    .dataframe thead th {\n",
       "        text-align: right;\n",
       "    }\n",
       "</style>\n",
       "<table border=\"1\" class=\"dataframe\">\n",
       "  <thead>\n",
       "    <tr style=\"text-align: right;\">\n",
       "      <th></th>\n",
       "      <th>Features</th>\n",
       "      <th>Coef_</th>\n",
       "    </tr>\n",
       "  </thead>\n",
       "  <tbody>\n",
       "    <tr>\n",
       "      <th>1</th>\n",
       "      <td>num_operating_lanes</td>\n",
       "      <td>0.086667</td>\n",
       "    </tr>\n",
       "    <tr>\n",
       "      <th>4</th>\n",
       "      <td>speed_group</td>\n",
       "      <td>0.073333</td>\n",
       "    </tr>\n",
       "    <tr>\n",
       "      <th>3</th>\n",
       "      <td>hour</td>\n",
       "      <td>0.066667</td>\n",
       "    </tr>\n",
       "    <tr>\n",
       "      <th>95</th>\n",
       "      <td>in_out_city_out_of_city</td>\n",
       "      <td>0.040000</td>\n",
       "    </tr>\n",
       "    <tr>\n",
       "      <th>36</th>\n",
       "      <td>impact_location_rear</td>\n",
       "      <td>0.026667</td>\n",
       "    </tr>\n",
       "    <tr>\n",
       "      <th>...</th>\n",
       "      <td>...</td>\n",
       "      <td>...</td>\n",
       "    </tr>\n",
       "    <tr>\n",
       "      <th>96</th>\n",
       "      <td>crossing_others</td>\n",
       "      <td>0.000000</td>\n",
       "    </tr>\n",
       "    <tr>\n",
       "      <th>32</th>\n",
       "      <td>vehicule_type_tramway</td>\n",
       "      <td>0.000000</td>\n",
       "    </tr>\n",
       "    <tr>\n",
       "      <th>99</th>\n",
       "      <td>crossing_train_crossing</td>\n",
       "      <td>0.000000</td>\n",
       "    </tr>\n",
       "    <tr>\n",
       "      <th>100</th>\n",
       "      <td>weather_fog</td>\n",
       "      <td>0.000000</td>\n",
       "    </tr>\n",
       "    <tr>\n",
       "      <th>75</th>\n",
       "      <td>road_incline_hill_top</td>\n",
       "      <td>0.000000</td>\n",
       "    </tr>\n",
       "  </tbody>\n",
       "</table>\n",
       "<p>137 rows × 2 columns</p>\n",
       "</div>"
      ],
      "text/plain": [
       "                    Features     Coef_\n",
       "1        num_operating_lanes  0.086667\n",
       "4                speed_group  0.073333\n",
       "3                       hour  0.066667\n",
       "95   in_out_city_out_of_city  0.040000\n",
       "36      impact_location_rear  0.026667\n",
       "..                       ...       ...\n",
       "96           crossing_others  0.000000\n",
       "32     vehicule_type_tramway  0.000000\n",
       "99   crossing_train_crossing  0.000000\n",
       "100              weather_fog  0.000000\n",
       "75     road_incline_hill_top  0.000000\n",
       "\n",
       "[137 rows x 2 columns]"
      ]
     },
     "execution_count": 16,
     "metadata": {},
     "output_type": "execute_result"
    }
   ],
   "source": [
    "pd_features = pd.DataFrame({'Features': X_train.columns,'Coef_': model.best_estimator_.feature_importances_})\n",
    "pd_features.sort_values(by='Coef_', ascending=False)"
   ]
  },
  {
   "attachments": {},
   "cell_type": "markdown",
   "metadata": {},
   "source": [
    "#### XGBoost"
   ]
  },
  {
   "cell_type": "code",
   "execution_count": 17,
   "metadata": {},
   "outputs": [
    {
     "name": "stdout",
     "output_type": "stream",
     "text": [
      "Fitting 3 folds for each of 8 candidates, totalling 24 fits\n",
      "best params : {'learning_rate': 0.5, 'max_depth': 2, 'min_split_loss': 1}\n",
      "Test_f1_score : 0.9179970507148811\n",
      "Test_precision score : 0.8647179611064139\n",
      "Test_accuracy score : 0.8522070718742778\n",
      "Test_recall score : 0.9782727521180651\n",
      "Test_roc_auc score : 0.569974699412326\n",
      "CPU times: total: 21.6 s\n",
      "Wall time: 56.9 s\n"
     ]
    },
    {
     "data": {
      "image/png": "[encoded data removed]",
      "text/plain": [
       "<Figure size 432x288 with 2 Axes>"
      ]
     },
     "metadata": {
      "needs_background": "light"
     },
     "output_type": "display_data"
    },
    {
     "data": {
      "image/png": "[encoded data removed]",
      "text/plain": [
       "<Figure size 432x288 with 1 Axes>"
      ]
     },
     "metadata": {
      "needs_background": "light"
     },
     "output_type": "display_data"
    }
   ],
   "source": [
    "%%time\n",
    "model = meta_func (\n",
    "    model=XGBClassifier(random_state=42)\n",
    ",\n",
    "    model_name='xgb_1st_round',\n",
    "    param_grid=\n",
    "{\n",
    "    'learning_rate': [0.5,1], \n",
    "    'min_split_loss': [1,2], #The larger gamma is, the more conservative the algorithm will be\n",
    "    'max_depth':[2,3] #Maximum depth of a tree. Increasing this value will make the model more complex and more likely to overfit.\n",
    "     # Beware that XGBoost aggressively consumes memory when training a deep tree\n",
    "    }\n",
    ",\n",
    "    X_train=X_train,\n",
    "    y_train=y_train,\n",
    "    X_test=X_test,\n",
    "    y_test=y_test,\n",
    "    score_dict= score_dict_passengers\n",
    ")"
   ]
  },
  {
   "cell_type": "code",
   "execution_count": 18,
   "metadata": {},
   "outputs": [
    {
     "data": {
      "text/html": [
       "<div>\n",
       "<style scoped>\n",
       "    .dataframe tbody tr th:only-of-type {\n",
       "        vertical-align: middle;\n",
       "    }\n",
       "\n",
       "    .dataframe tbody tr th {\n",
       "        vertical-align: top;\n",
       "    }\n",
       "\n",
       "    .dataframe thead th {\n",
       "        text-align: right;\n",
       "    }\n",
       "</style>\n",
       "<table border=\"1\" class=\"dataframe\">\n",
       "  <thead>\n",
       "    <tr style=\"text-align: right;\">\n",
       "      <th></th>\n",
       "      <th>Features</th>\n",
       "      <th>Coef_</th>\n",
       "    </tr>\n",
       "  </thead>\n",
       "  <tbody>\n",
       "    <tr>\n",
       "      <th>89</th>\n",
       "      <td>road_location_accident_road</td>\n",
       "      <td>0.128886</td>\n",
       "    </tr>\n",
       "    <tr>\n",
       "      <th>95</th>\n",
       "      <td>in_out_city_out_of_city</td>\n",
       "      <td>0.063680</td>\n",
       "    </tr>\n",
       "    <tr>\n",
       "      <th>22</th>\n",
       "      <td>vehicule_type_moto</td>\n",
       "      <td>0.058320</td>\n",
       "    </tr>\n",
       "    <tr>\n",
       "      <th>36</th>\n",
       "      <td>impact_location_rear</td>\n",
       "      <td>0.058056</td>\n",
       "    </tr>\n",
       "    <tr>\n",
       "      <th>108</th>\n",
       "      <td>collision_type_other_collision</td>\n",
       "      <td>0.056989</td>\n",
       "    </tr>\n",
       "    <tr>\n",
       "      <th>...</th>\n",
       "      <td>...</td>\n",
       "      <td>...</td>\n",
       "    </tr>\n",
       "    <tr>\n",
       "      <th>99</th>\n",
       "      <td>crossing_train_crossing</td>\n",
       "      <td>0.000000</td>\n",
       "    </tr>\n",
       "    <tr>\n",
       "      <th>100</th>\n",
       "      <td>weather_fog</td>\n",
       "      <td>0.000000</td>\n",
       "    </tr>\n",
       "    <tr>\n",
       "      <th>101</th>\n",
       "      <td>weather_heavy_rain</td>\n",
       "      <td>0.000000</td>\n",
       "    </tr>\n",
       "    <tr>\n",
       "      <th>103</th>\n",
       "      <td>weather_light_rain</td>\n",
       "      <td>0.000000</td>\n",
       "    </tr>\n",
       "    <tr>\n",
       "      <th>73</th>\n",
       "      <td>travelling_direction_variable_lanes</td>\n",
       "      <td>0.000000</td>\n",
       "    </tr>\n",
       "  </tbody>\n",
       "</table>\n",
       "<p>137 rows × 2 columns</p>\n",
       "</div>"
      ],
      "text/plain": [
       "                                Features     Coef_\n",
       "89           road_location_accident_road  0.128886\n",
       "95               in_out_city_out_of_city  0.063680\n",
       "22                    vehicule_type_moto  0.058320\n",
       "36                  impact_location_rear  0.058056\n",
       "108       collision_type_other_collision  0.056989\n",
       "..                                   ...       ...\n",
       "99               crossing_train_crossing  0.000000\n",
       "100                          weather_fog  0.000000\n",
       "101                   weather_heavy_rain  0.000000\n",
       "103                   weather_light_rain  0.000000\n",
       "73   travelling_direction_variable_lanes  0.000000\n",
       "\n",
       "[137 rows x 2 columns]"
      ]
     },
     "execution_count": 18,
     "metadata": {},
     "output_type": "execute_result"
    }
   ],
   "source": [
    "pd_features = pd.DataFrame({'Features': X_train.columns,'Coef_': model.best_estimator_.feature_importances_})\n",
    "pd_features.sort_values(by='Coef_', ascending=False)"
   ]
  },
  {
   "attachments": {},
   "cell_type": "markdown",
   "metadata": {},
   "source": [
    "#### Linear Support Vectors Classifiers"
   ]
  },
  {
   "cell_type": "code",
   "execution_count": 19,
   "metadata": {},
   "outputs": [
    {
     "name": "stdout",
     "output_type": "stream",
     "text": [
      "Fitting 3 folds for each of 24 candidates, totalling 72 fits\n",
      "best params : {'lsvc__C': 0.1, 'lsvc__dual': True, 'lsvc__max_iter': 500, 'lsvc__penalty': 'l2'}\n",
      "Test_f1_score : 0.8133622694155946\n",
      "Test_precision score : 0.9396489971346705\n",
      "Test_accuracy score : 0.7217471689392189\n",
      "Test_recall score : 0.7169991801038536\n",
      "Test_roc_auc score : 0.7323768355609088\n",
      "CPU times: total: 10.3 s\n",
      "Wall time: 1min 58s\n"
     ]
    },
    {
     "data": {
      "image/png": "[encoded data removed]",
      "text/plain": [
       "<Figure size 432x288 with 2 Axes>"
      ]
     },
     "metadata": {
      "needs_background": "light"
     },
     "output_type": "display_data"
    },
    {
     "data": {
      "image/png": "[encoded data removed]",
      "text/plain": [
       "<Figure size 432x288 with 1 Axes>"
      ]
     },
     "metadata": {
      "needs_background": "light"
     },
     "output_type": "display_data"
    }
   ],
   "source": [
    "%%time\n",
    "model = meta_func (\n",
    "    model=Pipeline(\n",
    "        [\n",
    "            ('ss',StandardScaler()),\n",
    "            ('lsvc', LinearSVC(class_weight='balanced'))\n",
    "        ]\n",
    "    ),\n",
    "    model_name='lsvc_1st_round',\n",
    "    param_grid=\n",
    "{   'lsvc__max_iter':[500,1000],\n",
    "    'lsvc__C': [0.001,0.01,0.1], \n",
    "    'lsvc__dual': [True, False],     \n",
    "    'lsvc__penalty':['l1','l2']   \n",
    "},\n",
    "    X_train=X_train,\n",
    "    y_train=y_train,\n",
    "    X_test=X_test,\n",
    "    y_test=y_test,\n",
    "    score_dict= score_dict_passengers\n",
    ")"
   ]
  },
  {
   "cell_type": "markdown",
   "metadata": {},
   "source": [
    "#### Checking our baseline models"
   ]
  },
  {
   "cell_type": "code",
   "execution_count": 20,
   "metadata": {},
   "outputs": [
    {
     "data": {
      "text/html": [
       "<div>\n",
       "<style scoped>\n",
       "    .dataframe tbody tr th:only-of-type {\n",
       "        vertical-align: middle;\n",
       "    }\n",
       "\n",
       "    .dataframe tbody tr th {\n",
       "        vertical-align: top;\n",
       "    }\n",
       "\n",
       "    .dataframe thead th {\n",
       "        text-align: right;\n",
       "    }\n",
       "</style>\n",
       "<table border=\"1\" class=\"dataframe\">\n",
       "  <thead>\n",
       "    <tr style=\"text-align: right;\">\n",
       "      <th></th>\n",
       "      <th>Train_acc</th>\n",
       "      <th>Test_acc</th>\n",
       "      <th>Train_recall</th>\n",
       "      <th>Test_recall</th>\n",
       "      <th>Train_preci</th>\n",
       "      <th>Test_preci</th>\n",
       "      <th>Train_f1score</th>\n",
       "      <th>Test_f1score</th>\n",
       "      <th>Train_roc_auc</th>\n",
       "      <th>Test_roc_auc</th>\n",
       "      <th>Train_specificity</th>\n",
       "      <th>Test_specificity</th>\n",
       "    </tr>\n",
       "  </thead>\n",
       "  <tbody>\n",
       "    <tr>\n",
       "      <th>lr_1st_round</th>\n",
       "      <td>0.716638</td>\n",
       "      <td>0.721863</td>\n",
       "      <td>0.711709</td>\n",
       "      <td>0.717136</td>\n",
       "      <td>0.938291</td>\n",
       "      <td>0.939660</td>\n",
       "      <td>0.809442</td>\n",
       "      <td>0.813454</td>\n",
       "      <td>0.727673</td>\n",
       "      <td>0.732445</td>\n",
       "      <td>0.743638</td>\n",
       "      <td>0.747754</td>\n",
       "    </tr>\n",
       "    <tr>\n",
       "      <th>abc_1st_round</th>\n",
       "      <td>0.847254</td>\n",
       "      <td>0.851398</td>\n",
       "      <td>0.975196</td>\n",
       "      <td>0.976360</td>\n",
       "      <td>0.862222</td>\n",
       "      <td>0.865222</td>\n",
       "      <td>0.915236</td>\n",
       "      <td>0.917437</td>\n",
       "      <td>0.560858</td>\n",
       "      <td>0.571638</td>\n",
       "      <td>0.146519</td>\n",
       "      <td>0.166916</td>\n",
       "    </tr>\n",
       "    <tr>\n",
       "      <th>xgb_1st_round</th>\n",
       "      <td>0.851472</td>\n",
       "      <td>0.852207</td>\n",
       "      <td>0.978988</td>\n",
       "      <td>0.978273</td>\n",
       "      <td>0.863593</td>\n",
       "      <td>0.864718</td>\n",
       "      <td>0.917677</td>\n",
       "      <td>0.917997</td>\n",
       "      <td>0.566028</td>\n",
       "      <td>0.569975</td>\n",
       "      <td>0.153069</td>\n",
       "      <td>0.161677</td>\n",
       "    </tr>\n",
       "    <tr>\n",
       "      <th>lsvc_1st_round</th>\n",
       "      <td>0.715829</td>\n",
       "      <td>0.721747</td>\n",
       "      <td>0.710240</td>\n",
       "      <td>0.716999</td>\n",
       "      <td>0.938807</td>\n",
       "      <td>0.939649</td>\n",
       "      <td>0.808683</td>\n",
       "      <td>0.813362</td>\n",
       "      <td>0.728342</td>\n",
       "      <td>0.732377</td>\n",
       "      <td>0.746445</td>\n",
       "      <td>0.747754</td>\n",
       "    </tr>\n",
       "  </tbody>\n",
       "</table>\n",
       "</div>"
      ],
      "text/plain": [
       "                Train_acc  Test_acc  Train_recall  Test_recall  Train_preci  \\\n",
       "lr_1st_round     0.716638  0.721863      0.711709     0.717136     0.938291   \n",
       "abc_1st_round    0.847254  0.851398      0.975196     0.976360     0.862222   \n",
       "xgb_1st_round    0.851472  0.852207      0.978988     0.978273     0.863593   \n",
       "lsvc_1st_round   0.715829  0.721747      0.710240     0.716999     0.938807   \n",
       "\n",
       "                Test_preci  Train_f1score  Test_f1score  Train_roc_auc  \\\n",
       "lr_1st_round      0.939660       0.809442      0.813454       0.727673   \n",
       "abc_1st_round     0.865222       0.915236      0.917437       0.560858   \n",
       "xgb_1st_round     0.864718       0.917677      0.917997       0.566028   \n",
       "lsvc_1st_round    0.939649       0.808683      0.813362       0.728342   \n",
       "\n",
       "                Test_roc_auc  Train_specificity  Test_specificity  \n",
       "lr_1st_round        0.732445           0.743638          0.747754  \n",
       "abc_1st_round       0.571638           0.146519          0.166916  \n",
       "xgb_1st_round       0.569975           0.153069          0.161677  \n",
       "lsvc_1st_round      0.732377           0.746445          0.747754  "
      ]
     },
     "execution_count": 20,
     "metadata": {},
     "output_type": "execute_result"
    }
   ],
   "source": [
    "passengers_score_df= pd.DataFrame(score_dict_passengers).T\n",
    "passengers_score_df"
   ]
  },
  {
   "cell_type": "markdown",
   "metadata": {},
   "source": [
    "### 3. Feature selection based on statistical significance - Hypothesis testing"
   ]
  },
  {
   "cell_type": "markdown",
   "metadata": {},
   "source": [
    "Categorical - Continuous Split"
   ]
  },
  {
   "cell_type": "code",
   "execution_count": 21,
   "metadata": {},
   "outputs": [
    {
     "data": {
      "text/plain": [
       "(43267, 28)"
      ]
     },
     "execution_count": 21,
     "metadata": {},
     "output_type": "execute_result"
    }
   ],
   "source": [
    "df_pass.shape"
   ]
  },
  {
   "cell_type": "code",
   "execution_count": 22,
   "metadata": {},
   "outputs": [],
   "source": [
    "df_pass['injury_level'] = df_pass['injury_level'].map({1:'OK',0:'not_ok'})"
   ]
  },
  {
   "cell_type": "code",
   "execution_count": 23,
   "metadata": {},
   "outputs": [],
   "source": [
    "# subsetting categorical and continuous features to run chi-square test\n",
    "pass_cat = df_pass.select_dtypes(include=['object'])\n",
    "pass_cont = df_pass.select_dtypes(include=['int64','float64'])"
   ]
  },
  {
   "cell_type": "code",
   "execution_count": 24,
   "metadata": {},
   "outputs": [
    {
     "name": "stdout",
     "output_type": "stream",
     "text": [
      "(43267, 23)\n",
      "(43267, 5)\n"
     ]
    }
   ],
   "source": [
    "print(pass_cat.shape)\n",
    "print(pass_cont.shape)"
   ]
  },
  {
   "cell_type": "code",
   "execution_count": 25,
   "metadata": {},
   "outputs": [
    {
     "data": {
      "text/html": [
       "<div>\n",
       "<style scoped>\n",
       "    .dataframe tbody tr th:only-of-type {\n",
       "        vertical-align: middle;\n",
       "    }\n",
       "\n",
       "    .dataframe tbody tr th {\n",
       "        vertical-align: top;\n",
       "    }\n",
       "\n",
       "    .dataframe thead th {\n",
       "        text-align: right;\n",
       "    }\n",
       "</style>\n",
       "<table border=\"1\" class=\"dataframe\">\n",
       "  <thead>\n",
       "    <tr style=\"text-align: right;\">\n",
       "      <th></th>\n",
       "      <th>road_num</th>\n",
       "      <th>num_operating_lanes</th>\n",
       "      <th>month</th>\n",
       "      <th>hour</th>\n",
       "      <th>speed_group</th>\n",
       "    </tr>\n",
       "  </thead>\n",
       "  <tbody>\n",
       "    <tr>\n",
       "      <th>1</th>\n",
       "      <td>0.0</td>\n",
       "      <td>10</td>\n",
       "      <td>11</td>\n",
       "      <td>1</td>\n",
       "      <td>4.0</td>\n",
       "    </tr>\n",
       "  </tbody>\n",
       "</table>\n",
       "</div>"
      ],
      "text/plain": [
       "   road_num  num_operating_lanes  month  hour  speed_group\n",
       "1       0.0                   10     11     1          4.0"
      ]
     },
     "execution_count": 25,
     "metadata": {},
     "output_type": "execute_result"
    }
   ],
   "source": [
    "# subsetting continuous features to run anova/KS test\n",
    "pass_cont.head(1)\n"
   ]
  },
  {
   "cell_type": "code",
   "execution_count": 26,
   "metadata": {},
   "outputs": [
    {
     "name": "stdout",
     "output_type": "stream",
     "text": [
      "(43267, 6)\n"
     ]
    },
    {
     "data": {
      "text/html": [
       "<div>\n",
       "<style scoped>\n",
       "    .dataframe tbody tr th:only-of-type {\n",
       "        vertical-align: middle;\n",
       "    }\n",
       "\n",
       "    .dataframe tbody tr th {\n",
       "        vertical-align: top;\n",
       "    }\n",
       "\n",
       "    .dataframe thead th {\n",
       "        text-align: right;\n",
       "    }\n",
       "</style>\n",
       "<table border=\"1\" class=\"dataframe\">\n",
       "  <thead>\n",
       "    <tr style=\"text-align: right;\">\n",
       "      <th></th>\n",
       "      <th>road_num</th>\n",
       "      <th>num_operating_lanes</th>\n",
       "      <th>month</th>\n",
       "      <th>hour</th>\n",
       "      <th>speed_group</th>\n",
       "      <th>injury_level</th>\n",
       "    </tr>\n",
       "  </thead>\n",
       "  <tbody>\n",
       "    <tr>\n",
       "      <th>1</th>\n",
       "      <td>0.0</td>\n",
       "      <td>10</td>\n",
       "      <td>11</td>\n",
       "      <td>1</td>\n",
       "      <td>4.0</td>\n",
       "      <td>OK</td>\n",
       "    </tr>\n",
       "    <tr>\n",
       "      <th>5</th>\n",
       "      <td>0.0</td>\n",
       "      <td>8</td>\n",
       "      <td>11</td>\n",
       "      <td>15</td>\n",
       "      <td>5.0</td>\n",
       "      <td>OK</td>\n",
       "    </tr>\n",
       "    <tr>\n",
       "      <th>10</th>\n",
       "      <td>0.0</td>\n",
       "      <td>5</td>\n",
       "      <td>11</td>\n",
       "      <td>20</td>\n",
       "      <td>5.0</td>\n",
       "      <td>OK</td>\n",
       "    </tr>\n",
       "    <tr>\n",
       "      <th>14</th>\n",
       "      <td>0.0</td>\n",
       "      <td>3</td>\n",
       "      <td>11</td>\n",
       "      <td>4</td>\n",
       "      <td>5.0</td>\n",
       "      <td>OK</td>\n",
       "    </tr>\n",
       "    <tr>\n",
       "      <th>66</th>\n",
       "      <td>0.0</td>\n",
       "      <td>4</td>\n",
       "      <td>11</td>\n",
       "      <td>1</td>\n",
       "      <td>4.0</td>\n",
       "      <td>OK</td>\n",
       "    </tr>\n",
       "  </tbody>\n",
       "</table>\n",
       "</div>"
      ],
      "text/plain": [
       "    road_num  num_operating_lanes  month  hour  speed_group injury_level\n",
       "1        0.0                   10     11     1          4.0           OK\n",
       "5        0.0                    8     11    15          5.0           OK\n",
       "10       0.0                    5     11    20          5.0           OK\n",
       "14       0.0                    3     11     4          5.0           OK\n",
       "66       0.0                    4     11     1          4.0           OK"
      ]
     },
     "execution_count": 26,
     "metadata": {},
     "output_type": "execute_result"
    }
   ],
   "source": [
    "# joining response variable, injury_level, into continuous features dataframe\n",
    "injury_level_serie = pass_cat[['injury_level']]\n",
    "pass_cont = pass_cont.join(injury_level_serie)\n",
    "print(pass_cont.shape)\n",
    "pass_cont.head()"
   ]
  },
  {
   "cell_type": "markdown",
   "metadata": {},
   "source": [
    "#### Categorical features selection<br>\n",
    "Pick statistically significant features"
   ]
  },
  {
   "cell_type": "code",
   "execution_count": 27,
   "metadata": {},
   "outputs": [
    {
     "name": "stdout",
     "output_type": "stream",
     "text": [
      "(43267, 23)\n"
     ]
    },
    {
     "data": {
      "text/html": [
       "<div>\n",
       "<style scoped>\n",
       "    .dataframe tbody tr th:only-of-type {\n",
       "        vertical-align: middle;\n",
       "    }\n",
       "\n",
       "    .dataframe tbody tr th {\n",
       "        vertical-align: top;\n",
       "    }\n",
       "\n",
       "    .dataframe thead th {\n",
       "        text-align: right;\n",
       "    }\n",
       "</style>\n",
       "<table border=\"1\" class=\"dataframe\">\n",
       "  <thead>\n",
       "    <tr style=\"text-align: right;\">\n",
       "      <th></th>\n",
       "      <th>seat</th>\n",
       "      <th>injury_level</th>\n",
       "      <th>gender</th>\n",
       "      <th>navigation_direction</th>\n",
       "      <th>vehicule_type</th>\n",
       "      <th>impact_location</th>\n",
       "      <th>was_doing</th>\n",
       "      <th>engine_type</th>\n",
       "      <th>road_type</th>\n",
       "      <th>travelling_direction</th>\n",
       "      <th>...</th>\n",
       "      <th>road_location_accident</th>\n",
       "      <th>light_conditions</th>\n",
       "      <th>in_out_city</th>\n",
       "      <th>crossing</th>\n",
       "      <th>weather</th>\n",
       "      <th>collision_type</th>\n",
       "      <th>day_of_week</th>\n",
       "      <th>event</th>\n",
       "      <th>vehi_grp</th>\n",
       "      <th>age_group</th>\n",
       "    </tr>\n",
       "  </thead>\n",
       "  <tbody>\n",
       "    <tr>\n",
       "      <th>0</th>\n",
       "      <td>2</td>\n",
       "      <td>0</td>\n",
       "      <td>0</td>\n",
       "      <td>1</td>\n",
       "      <td>2</td>\n",
       "      <td>6</td>\n",
       "      <td>16</td>\n",
       "      <td>1</td>\n",
       "      <td>1</td>\n",
       "      <td>1</td>\n",
       "      <td>...</td>\n",
       "      <td>3</td>\n",
       "      <td>2</td>\n",
       "      <td>1</td>\n",
       "      <td>0</td>\n",
       "      <td>5</td>\n",
       "      <td>4</td>\n",
       "      <td>2</td>\n",
       "      <td>11</td>\n",
       "      <td>1</td>\n",
       "      <td>0</td>\n",
       "    </tr>\n",
       "    <tr>\n",
       "      <th>1</th>\n",
       "      <td>2</td>\n",
       "      <td>0</td>\n",
       "      <td>0</td>\n",
       "      <td>2</td>\n",
       "      <td>2</td>\n",
       "      <td>0</td>\n",
       "      <td>17</td>\n",
       "      <td>1</td>\n",
       "      <td>1</td>\n",
       "      <td>1</td>\n",
       "      <td>...</td>\n",
       "      <td>3</td>\n",
       "      <td>0</td>\n",
       "      <td>1</td>\n",
       "      <td>0</td>\n",
       "      <td>5</td>\n",
       "      <td>2</td>\n",
       "      <td>4</td>\n",
       "      <td>11</td>\n",
       "      <td>1</td>\n",
       "      <td>4</td>\n",
       "    </tr>\n",
       "    <tr>\n",
       "      <th>2</th>\n",
       "      <td>2</td>\n",
       "      <td>0</td>\n",
       "      <td>0</td>\n",
       "      <td>1</td>\n",
       "      <td>2</td>\n",
       "      <td>4</td>\n",
       "      <td>16</td>\n",
       "      <td>1</td>\n",
       "      <td>1</td>\n",
       "      <td>1</td>\n",
       "      <td>...</td>\n",
       "      <td>3</td>\n",
       "      <td>2</td>\n",
       "      <td>1</td>\n",
       "      <td>0</td>\n",
       "      <td>5</td>\n",
       "      <td>2</td>\n",
       "      <td>2</td>\n",
       "      <td>11</td>\n",
       "      <td>1</td>\n",
       "      <td>2</td>\n",
       "    </tr>\n",
       "    <tr>\n",
       "      <th>3</th>\n",
       "      <td>2</td>\n",
       "      <td>0</td>\n",
       "      <td>1</td>\n",
       "      <td>2</td>\n",
       "      <td>2</td>\n",
       "      <td>4</td>\n",
       "      <td>1</td>\n",
       "      <td>1</td>\n",
       "      <td>1</td>\n",
       "      <td>2</td>\n",
       "      <td>...</td>\n",
       "      <td>3</td>\n",
       "      <td>2</td>\n",
       "      <td>1</td>\n",
       "      <td>0</td>\n",
       "      <td>5</td>\n",
       "      <td>4</td>\n",
       "      <td>2</td>\n",
       "      <td>11</td>\n",
       "      <td>1</td>\n",
       "      <td>1</td>\n",
       "    </tr>\n",
       "    <tr>\n",
       "      <th>4</th>\n",
       "      <td>2</td>\n",
       "      <td>0</td>\n",
       "      <td>0</td>\n",
       "      <td>1</td>\n",
       "      <td>7</td>\n",
       "      <td>0</td>\n",
       "      <td>1</td>\n",
       "      <td>1</td>\n",
       "      <td>4</td>\n",
       "      <td>0</td>\n",
       "      <td>...</td>\n",
       "      <td>3</td>\n",
       "      <td>2</td>\n",
       "      <td>1</td>\n",
       "      <td>0</td>\n",
       "      <td>5</td>\n",
       "      <td>1</td>\n",
       "      <td>2</td>\n",
       "      <td>11</td>\n",
       "      <td>0</td>\n",
       "      <td>2</td>\n",
       "    </tr>\n",
       "  </tbody>\n",
       "</table>\n",
       "<p>5 rows × 23 columns</p>\n",
       "</div>"
      ],
      "text/plain": [
       "   seat  injury_level  gender  navigation_direction  vehicule_type  \\\n",
       "0     2             0       0                     1              2   \n",
       "1     2             0       0                     2              2   \n",
       "2     2             0       0                     1              2   \n",
       "3     2             0       1                     2              2   \n",
       "4     2             0       0                     1              7   \n",
       "\n",
       "   impact_location  was_doing  engine_type  road_type  travelling_direction  \\\n",
       "0                6         16            1          1                     1   \n",
       "1                0         17            1          1                     1   \n",
       "2                4         16            1          1                     1   \n",
       "3                4          1            1          1                     2   \n",
       "4                0          1            1          4                     0   \n",
       "\n",
       "   ...  road_location_accident  light_conditions  in_out_city  crossing  \\\n",
       "0  ...                       3                 2            1         0   \n",
       "1  ...                       3                 0            1         0   \n",
       "2  ...                       3                 2            1         0   \n",
       "3  ...                       3                 2            1         0   \n",
       "4  ...                       3                 2            1         0   \n",
       "\n",
       "   weather  collision_type  day_of_week  event  vehi_grp  age_group  \n",
       "0        5               4            2     11         1          0  \n",
       "1        5               2            4     11         1          4  \n",
       "2        5               2            2     11         1          2  \n",
       "3        5               4            2     11         1          1  \n",
       "4        5               1            2     11         0          2  \n",
       "\n",
       "[5 rows x 23 columns]"
      ]
     },
     "execution_count": 27,
     "metadata": {},
     "output_type": "execute_result"
    }
   ],
   "source": [
    "# label encoding for categorical features with more than 2 values\n",
    "label_encoder = LabelEncoder()\n",
    "\n",
    "cat_train_transformed_dict = {}\n",
    "\n",
    "for col in pass_cat.columns:\n",
    "    cat_train_transformed = label_encoder.fit_transform(pass_cat[col])\n",
    "    cat_train_transformed_dict[col] = cat_train_transformed\n",
    "    \n",
    "cat_train_transformed = pd.DataFrame(cat_train_transformed_dict)\n",
    "print(cat_train_transformed.shape)\n",
    "cat_train_transformed.head()"
   ]
  },
  {
   "cell_type": "code",
   "execution_count": 28,
   "metadata": {},
   "outputs": [
    {
     "data": {
      "application/vnd.plotly.v1+json": {
       "config": {
        "plotlyServerURL": "https://plot.ly"
       },
       "data": [
        {
         "alignmentgroup": "True",
         "hovertemplate": "variable=0<br>index=%{x}<br>p_value=%{y}<extra></extra>",
         "legendgroup": "0",
         "marker": {
          "color": "#636efa",
          "pattern": {
           "shape": ""
          }
         },
         "name": "0",
         "offsetgroup": "0",
         "orientation": "v",
         "showlegend": true,
         "textposition": "auto",
         "type": "bar",
         "x": [
          "travelling_direction",
          "collision_type",
          "impact_location",
          "in_out_city",
          "vehicule_type",
          "road_curve",
          "road_incline",
          "was_doing",
          "age_group",
          "light_conditions",
          "crossing",
          "road_type",
          "vehi_grp",
          "road_location_accident",
          "day_of_week",
          "seat",
          "road_surface",
          "navigation_direction",
          "gender",
          "weather",
          "event",
          "engine_type"
         ],
         "xaxis": "x",
         "y": [
          1.3806012277643537e-174,
          3.046746224872551e-145,
          4.1243981610499364e-125,
          8.163841293179063e-124,
          1.034216574094321e-81,
          1.6365983964435943e-54,
          2.7940787679429053e-43,
          1.005767660170297e-40,
          7.786878605466446e-40,
          1.9393818533736786e-20,
          5.26202746807143e-17,
          5.942011952445585e-17,
          4.9942439384632626e-14,
          5.1589499171879035e-8,
          0.000021058459909016477,
          0.004301701200242235,
          0.014527083911601318,
          0.03891762651393618,
          0.04397108873162499,
          0.32841590842904034,
          0.6545811899416244,
          0.8102456668963292
         ],
         "yaxis": "y"
        }
       ],
       "layout": {
        "barmode": "relative",
        "height": 500,
        "legend": {
         "title": {
          "text": "variable"
         },
         "tracegroupgap": 0
        },
        "margin": {
         "t": 60
        },
        "shapes": [
         {
          "line": {
           "color": "red",
           "dash": "dash"
          },
          "type": "line",
          "x0": 0,
          "x1": 1,
          "xref": "x domain",
          "y0": 0.05,
          "y1": 0.05,
          "yref": "y"
         }
        ],
        "showlegend": false,
        "template": {
         "data": {
          "bar": [
           {
            "error_x": {
             "color": "#2a3f5f"
            },
            "error_y": {
             "color": "#2a3f5f"
            },
            "marker": {
             "line": {
              "color": "#E5ECF6",
              "width": 0.5
             },
             "pattern": {
              "fillmode": "overlay",
              "size": 10,
              "solidity": 0.2
             }
            },
            "type": "bar"
           }
          ],
          "barpolar": [
           {
            "marker": {
             "line": {
              "color": "#E5ECF6",
              "width": 0.5
             },
             "pattern": {
              "fillmode": "overlay",
              "size": 10,
              "solidity": 0.2
             }
            },
            "type": "barpolar"
           }
          ],
          "carpet": [
           {
            "aaxis": {
             "endlinecolor": "#2a3f5f",
             "gridcolor": "white",
             "linecolor": "white",
             "minorgridcolor": "white",
             "startlinecolor": "#2a3f5f"
            },
            "baxis": {
             "endlinecolor": "#2a3f5f",
             "gridcolor": "white",
             "linecolor": "white",
             "minorgridcolor": "white",
             "startlinecolor": "#2a3f5f"
            },
            "type": "carpet"
           }
          ],
          "choropleth": [
           {
            "colorbar": {
             "outlinewidth": 0,
             "ticks": ""
            },
            "type": "choropleth"
           }
          ],
          "contour": [
           {
            "colorbar": {
             "outlinewidth": 0,
             "ticks": ""
            },
            "colorscale": [
             [
              0,
              "#0d0887"
             ],
             [
              0.1111111111111111,
              "#46039f"
             ],
             [
              0.2222222222222222,
              "#7201a8"
             ],
             [
              0.3333333333333333,
              "#9c179e"
             ],
             [
              0.4444444444444444,
              "#bd3786"
             ],
             [
              0.5555555555555556,
              "#d8576b"
             ],
             [
              0.6666666666666666,
              "#ed7953"
             ],
             [
              0.7777777777777778,
              "#fb9f3a"
             ],
             [
              0.8888888888888888,
              "#fdca26"
             ],
             [
              1,
              "#f0f921"
             ]
            ],
            "type": "contour"
           }
          ],
          "contourcarpet": [
           {
            "colorbar": {
             "outlinewidth": 0,
             "ticks": ""
            },
            "type": "contourcarpet"
           }
          ],
          "heatmap": [
           {
            "colorbar": {
             "outlinewidth": 0,
             "ticks": ""
            },
            "colorscale": [
             [
              0,
              "#0d0887"
             ],
             [
              0.1111111111111111,
              "#46039f"
             ],
             [
              0.2222222222222222,
              "#7201a8"
             ],
             [
              0.3333333333333333,
              "#9c179e"
             ],
             [
              0.4444444444444444,
              "#bd3786"
             ],
             [
              0.5555555555555556,
              "#d8576b"
             ],
             [
              0.6666666666666666,
              "#ed7953"
             ],
             [
              0.7777777777777778,
              "#fb9f3a"
             ],
             [
              0.8888888888888888,
              "#fdca26"
             ],
             [
              1,
              "#f0f921"
             ]
            ],
            "type": "heatmap"
           }
          ],
          "heatmapgl": [
           {
            "colorbar": {
             "outlinewidth": 0,
             "ticks": ""
            },
            "colorscale": [
             [
              0,
              "#0d0887"
             ],
             [
              0.1111111111111111,
              "#46039f"
             ],
             [
              0.2222222222222222,
              "#7201a8"
             ],
             [
              0.3333333333333333,
              "#9c179e"
             ],
             [
              0.4444444444444444,
              "#bd3786"
             ],
             [
              0.5555555555555556,
              "#d8576b"
             ],
             [
              0.6666666666666666,
              "#ed7953"
             ],
             [
              0.7777777777777778,
              "#fb9f3a"
             ],
             [
              0.8888888888888888,
              "#fdca26"
             ],
             [
              1,
              "#f0f921"
             ]
            ],
            "type": "heatmapgl"
           }
          ],
          "histogram": [
           {
            "marker": {
             "pattern": {
              "fillmode": "overlay",
              "size": 10,
              "solidity": 0.2
             }
            },
            "type": "histogram"
           }
          ],
          "histogram2d": [
           {
            "colorbar": {
             "outlinewidth": 0,
             "ticks": ""
            },
            "colorscale": [
             [
              0,
              "#0d0887"
             ],
             [
              0.1111111111111111,
              "#46039f"
             ],
             [
              0.2222222222222222,
              "#7201a8"
             ],
             [
              0.3333333333333333,
              "#9c179e"
             ],
             [
              0.4444444444444444,
              "#bd3786"
             ],
             [
              0.5555555555555556,
              "#d8576b"
             ],
             [
              0.6666666666666666,
              "#ed7953"
             ],
             [
              0.7777777777777778,
              "#fb9f3a"
             ],
             [
              0.8888888888888888,
              "#fdca26"
             ],
             [
              1,
              "#f0f921"
             ]
            ],
            "type": "histogram2d"
           }
          ],
          "histogram2dcontour": [
           {
            "colorbar": {
             "outlinewidth": 0,
             "ticks": ""
            },
            "colorscale": [
             [
              0,
              "#0d0887"
             ],
             [
              0.1111111111111111,
              "#46039f"
             ],
             [
              0.2222222222222222,
              "#7201a8"
             ],
             [
              0.3333333333333333,
              "#9c179e"
             ],
             [
              0.4444444444444444,
              "#bd3786"
             ],
             [
              0.5555555555555556,
              "#d8576b"
             ],
             [
              0.6666666666666666,
              "#ed7953"
             ],
             [
              0.7777777777777778,
              "#fb9f3a"
             ],
             [
              0.8888888888888888,
              "#fdca26"
             ],
             [
              1,
              "#f0f921"
             ]
            ],
            "type": "histogram2dcontour"
           }
          ],
          "mesh3d": [
           {
            "colorbar": {
             "outlinewidth": 0,
             "ticks": ""
            },
            "type": "mesh3d"
           }
          ],
          "parcoords": [
           {
            "line": {
             "colorbar": {
              "outlinewidth": 0,
              "ticks": ""
             }
            },
            "type": "parcoords"
           }
          ],
          "pie": [
           {
            "automargin": true,
            "type": "pie"
           }
          ],
          "scatter": [
           {
            "fillpattern": {
             "fillmode": "overlay",
             "size": 10,
             "solidity": 0.2
            },
            "type": "scatter"
           }
          ],
          "scatter3d": [
           {
            "line": {
             "colorbar": {
              "outlinewidth": 0,
              "ticks": ""
             }
            },
            "marker": {
             "colorbar": {
              "outlinewidth": 0,
              "ticks": ""
             }
            },
            "type": "scatter3d"
           }
          ],
          "scattercarpet": [
           {
            "marker": {
             "colorbar": {
              "outlinewidth": 0,
              "ticks": ""
             }
            },
            "type": "scattercarpet"
           }
          ],
          "scattergeo": [
           {
            "marker": {
             "colorbar": {
              "outlinewidth": 0,
              "ticks": ""
             }
            },
            "type": "scattergeo"
           }
          ],
          "scattergl": [
           {
            "marker": {
             "colorbar": {
              "outlinewidth": 0,
              "ticks": ""
             }
            },
            "type": "scattergl"
           }
          ],
          "scattermapbox": [
           {
            "marker": {
             "colorbar": {
              "outlinewidth": 0,
              "ticks": ""
             }
            },
            "type": "scattermapbox"
           }
          ],
          "scatterpolar": [
           {
            "marker": {
             "colorbar": {
              "outlinewidth": 0,
              "ticks": ""
             }
            },
            "type": "scatterpolar"
           }
          ],
          "scatterpolargl": [
           {
            "marker": {
             "colorbar": {
              "outlinewidth": 0,
              "ticks": ""
             }
            },
            "type": "scatterpolargl"
           }
          ],
          "scatterternary": [
           {
            "marker": {
             "colorbar": {
              "outlinewidth": 0,
              "ticks": ""
             }
            },
            "type": "scatterternary"
           }
          ],
          "surface": [
           {
            "colorbar": {
             "outlinewidth": 0,
             "ticks": ""
            },
            "colorscale": [
             [
              0,
              "#0d0887"
             ],
             [
              0.1111111111111111,
              "#46039f"
             ],
             [
              0.2222222222222222,
              "#7201a8"
             ],
             [
              0.3333333333333333,
              "#9c179e"
             ],
             [
              0.4444444444444444,
              "#bd3786"
             ],
             [
              0.5555555555555556,
              "#d8576b"
             ],
             [
              0.6666666666666666,
              "#ed7953"
             ],
             [
              0.7777777777777778,
              "#fb9f3a"
             ],
             [
              0.8888888888888888,
              "#fdca26"
             ],
             [
              1,
              "#f0f921"
             ]
            ],
            "type": "surface"
           }
          ],
          "table": [
           {
            "cells": {
             "fill": {
              "color": "#EBF0F8"
             },
             "line": {
              "color": "white"
             }
            },
            "header": {
             "fill": {
              "color": "#C8D4E3"
             },
             "line": {
              "color": "white"
             }
            },
            "type": "table"
           }
          ]
         },
         "layout": {
          "annotationdefaults": {
           "arrowcolor": "#2a3f5f",
           "arrowhead": 0,
           "arrowwidth": 1
          },
          "autotypenumbers": "strict",
          "coloraxis": {
           "colorbar": {
            "outlinewidth": 0,
            "ticks": ""
           }
          },
          "colorscale": {
           "diverging": [
            [
             0,
             "#8e0152"
            ],
            [
             0.1,
             "#c51b7d"
            ],
            [
             0.2,
             "#de77ae"
            ],
            [
             0.3,
             "#f1b6da"
            ],
            [
             0.4,
             "#fde0ef"
            ],
            [
             0.5,
             "#f7f7f7"
            ],
            [
             0.6,
             "#e6f5d0"
            ],
            [
             0.7,
             "#b8e186"
            ],
            [
             0.8,
             "#7fbc41"
            ],
            [
             0.9,
             "#4d9221"
            ],
            [
             1,
             "#276419"
            ]
           ],
           "sequential": [
            [
             0,
             "#0d0887"
            ],
            [
             0.1111111111111111,
             "#46039f"
            ],
            [
             0.2222222222222222,
             "#7201a8"
            ],
            [
             0.3333333333333333,
             "#9c179e"
            ],
            [
             0.4444444444444444,
             "#bd3786"
            ],
            [
             0.5555555555555556,
             "#d8576b"
            ],
            [
             0.6666666666666666,
             "#ed7953"
            ],
            [
             0.7777777777777778,
             "#fb9f3a"
            ],
            [
             0.8888888888888888,
             "#fdca26"
            ],
            [
             1,
             "#f0f921"
            ]
           ],
           "sequentialminus": [
            [
             0,
             "#0d0887"
            ],
            [
             0.1111111111111111,
             "#46039f"
            ],
            [
             0.2222222222222222,
             "#7201a8"
            ],
            [
             0.3333333333333333,
             "#9c179e"
            ],
            [
             0.4444444444444444,
             "#bd3786"
            ],
            [
             0.5555555555555556,
             "#d8576b"
            ],
            [
             0.6666666666666666,
             "#ed7953"
            ],
            [
             0.7777777777777778,
             "#fb9f3a"
            ],
            [
             0.8888888888888888,
             "#fdca26"
            ],
            [
             1,
             "#f0f921"
            ]
           ]
          },
          "colorway": [
           "#636efa",
           "#EF553B",
           "#00cc96",
           "#ab63fa",
           "#FFA15A",
           "#19d3f3",
           "#FF6692",
           "#B6E880",
           "#FF97FF",
           "#FECB52"
          ],
          "font": {
           "color": "#2a3f5f"
          },
          "geo": {
           "bgcolor": "white",
           "lakecolor": "white",
           "landcolor": "#E5ECF6",
           "showlakes": true,
           "showland": true,
           "subunitcolor": "white"
          },
          "hoverlabel": {
           "align": "left"
          },
          "hovermode": "closest",
          "mapbox": {
           "style": "light"
          },
          "paper_bgcolor": "white",
          "plot_bgcolor": "#E5ECF6",
          "polar": {
           "angularaxis": {
            "gridcolor": "white",
            "linecolor": "white",
            "ticks": ""
           },
           "bgcolor": "#E5ECF6",
           "radialaxis": {
            "gridcolor": "white",
            "linecolor": "white",
            "ticks": ""
           }
          },
          "scene": {
           "xaxis": {
            "backgroundcolor": "#E5ECF6",
            "gridcolor": "white",
            "gridwidth": 2,
            "linecolor": "white",
            "showbackground": true,
            "ticks": "",
            "zerolinecolor": "white"
           },
           "yaxis": {
            "backgroundcolor": "#E5ECF6",
            "gridcolor": "white",
            "gridwidth": 2,
            "linecolor": "white",
            "showbackground": true,
            "ticks": "",
            "zerolinecolor": "white"
           },
           "zaxis": {
            "backgroundcolor": "#E5ECF6",
            "gridcolor": "white",
            "gridwidth": 2,
            "linecolor": "white",
            "showbackground": true,
            "ticks": "",
            "zerolinecolor": "white"
           }
          },
          "shapedefaults": {
           "line": {
            "color": "#2a3f5f"
           }
          },
          "ternary": {
           "aaxis": {
            "gridcolor": "white",
            "linecolor": "white",
            "ticks": ""
           },
           "baxis": {
            "gridcolor": "white",
            "linecolor": "white",
            "ticks": ""
           },
           "bgcolor": "#E5ECF6",
           "caxis": {
            "gridcolor": "white",
            "linecolor": "white",
            "ticks": ""
           }
          },
          "title": {
           "x": 0.05
          },
          "xaxis": {
           "automargin": true,
           "gridcolor": "white",
           "linecolor": "white",
           "ticks": "",
           "title": {
            "standoff": 15
           },
           "zerolinecolor": "white",
           "zerolinewidth": 2
          },
          "yaxis": {
           "automargin": true,
           "gridcolor": "white",
           "linecolor": "white",
           "ticks": "",
           "title": {
            "standoff": 15
           },
           "zerolinecolor": "white",
           "zerolinewidth": 2
          }
         }
        },
        "width": 600,
        "xaxis": {
         "anchor": "y",
         "domain": [
          0,
          1
         ],
         "tickangle": 90,
         "title": {
          "text": "index"
         }
        },
        "yaxis": {
         "anchor": "x",
         "domain": [
          0,
          1
         ],
         "title": {
          "text": "p_value"
         }
        }
       }
      }
     },
     "metadata": {},
     "output_type": "display_data"
    }
   ],
   "source": [
    "# chi-square test\n",
    "X = cat_train_transformed.drop('injury_level',axis=1)\n",
    "y = cat_train_transformed['injury_level']\n",
    "\n",
    "chi_scores = chi2(X,y)\n",
    "\n",
    "# top correlated features + p_values visualization from chi-square test\n",
    "p_values = pd.Series(chi_scores[1],index = X.columns)\n",
    "p_values.sort_values(inplace = True)\n",
    "\n",
    "fig=px.bar(p_values, labels={'value': 'p_value'}, width=600, height=500)\n",
    "fig.add_hline(y=0.05, line_dash=\"dash\", line_color=\"red\")\n",
    "fig.update_layout(showlegend=False)\n",
    "fig.update_xaxes(tickangle = 90)"
   ]
  },
  {
   "cell_type": "code",
   "execution_count": 29,
   "metadata": {},
   "outputs": [
    {
     "data": {
      "text/html": [
       "<div>\n",
       "<style scoped>\n",
       "    .dataframe tbody tr th:only-of-type {\n",
       "        vertical-align: middle;\n",
       "    }\n",
       "\n",
       "    .dataframe tbody tr th {\n",
       "        vertical-align: top;\n",
       "    }\n",
       "\n",
       "    .dataframe thead th {\n",
       "        text-align: right;\n",
       "    }\n",
       "</style>\n",
       "<table border=\"1\" class=\"dataframe\">\n",
       "  <thead>\n",
       "    <tr style=\"text-align: right;\">\n",
       "      <th></th>\n",
       "      <th>p_value</th>\n",
       "    </tr>\n",
       "  </thead>\n",
       "  <tbody>\n",
       "    <tr>\n",
       "      <th>engine_type</th>\n",
       "      <td>8.102457e-01</td>\n",
       "    </tr>\n",
       "    <tr>\n",
       "      <th>event</th>\n",
       "      <td>6.545812e-01</td>\n",
       "    </tr>\n",
       "    <tr>\n",
       "      <th>weather</th>\n",
       "      <td>3.284159e-01</td>\n",
       "    </tr>\n",
       "    <tr>\n",
       "      <th>gender</th>\n",
       "      <td>4.397109e-02</td>\n",
       "    </tr>\n",
       "    <tr>\n",
       "      <th>navigation_direction</th>\n",
       "      <td>3.891763e-02</td>\n",
       "    </tr>\n",
       "    <tr>\n",
       "      <th>road_surface</th>\n",
       "      <td>1.452708e-02</td>\n",
       "    </tr>\n",
       "    <tr>\n",
       "      <th>seat</th>\n",
       "      <td>4.301701e-03</td>\n",
       "    </tr>\n",
       "    <tr>\n",
       "      <th>day_of_week</th>\n",
       "      <td>2.105846e-05</td>\n",
       "    </tr>\n",
       "    <tr>\n",
       "      <th>road_location_accident</th>\n",
       "      <td>5.158950e-08</td>\n",
       "    </tr>\n",
       "    <tr>\n",
       "      <th>vehi_grp</th>\n",
       "      <td>4.994244e-14</td>\n",
       "    </tr>\n",
       "    <tr>\n",
       "      <th>road_type</th>\n",
       "      <td>5.942012e-17</td>\n",
       "    </tr>\n",
       "    <tr>\n",
       "      <th>crossing</th>\n",
       "      <td>5.262027e-17</td>\n",
       "    </tr>\n",
       "    <tr>\n",
       "      <th>light_conditions</th>\n",
       "      <td>1.939382e-20</td>\n",
       "    </tr>\n",
       "    <tr>\n",
       "      <th>age_group</th>\n",
       "      <td>7.786879e-40</td>\n",
       "    </tr>\n",
       "    <tr>\n",
       "      <th>was_doing</th>\n",
       "      <td>1.005768e-40</td>\n",
       "    </tr>\n",
       "    <tr>\n",
       "      <th>road_incline</th>\n",
       "      <td>2.794079e-43</td>\n",
       "    </tr>\n",
       "    <tr>\n",
       "      <th>road_curve</th>\n",
       "      <td>1.636598e-54</td>\n",
       "    </tr>\n",
       "  </tbody>\n",
       "</table>\n",
       "</div>"
      ],
      "text/plain": [
       "                             p_value\n",
       "engine_type             8.102457e-01\n",
       "event                   6.545812e-01\n",
       "weather                 3.284159e-01\n",
       "gender                  4.397109e-02\n",
       "navigation_direction    3.891763e-02\n",
       "road_surface            1.452708e-02\n",
       "seat                    4.301701e-03\n",
       "day_of_week             2.105846e-05\n",
       "road_location_accident  5.158950e-08\n",
       "vehi_grp                4.994244e-14\n",
       "road_type               5.942012e-17\n",
       "crossing                5.262027e-17\n",
       "light_conditions        1.939382e-20\n",
       "age_group               7.786879e-40\n",
       "was_doing               1.005768e-40\n",
       "road_incline            2.794079e-43\n",
       "road_curve              1.636598e-54"
      ]
     },
     "execution_count": 29,
     "metadata": {},
     "output_type": "execute_result"
    }
   ],
   "source": [
    "# top correlated features + p_values converted to dataframe for top features list extraction\n",
    "cat_pvals_df = pd.DataFrame(p_values, columns=['p_value'])\n",
    "cat_pvals_df.sort_values(by = 'p_value',ascending=False).head(-5)"
   ]
  },
  {
   "cell_type": "code",
   "execution_count": 30,
   "metadata": {},
   "outputs": [
    {
     "name": "stdout",
     "output_type": "stream",
     "text": [
      "19\n"
     ]
    }
   ],
   "source": [
    "# list of top correlated categorical features\n",
    "top_cat_features_list = cat_pvals_df[cat_pvals_df['p_value']<0.05].index.to_list()\n",
    "top_cat_features_list\n",
    "print(len(top_cat_features_list))"
   ]
  },
  {
   "cell_type": "markdown",
   "metadata": {},
   "source": [
    "We get our categorical features to include in our 2nd round"
   ]
  },
  {
   "cell_type": "code",
   "execution_count": 31,
   "metadata": {},
   "outputs": [],
   "source": [
    "# for col in top_cat_features_list:\n",
    "#     injury_summary = pd.crosstab(pass_cat[col], pass_cat['injury_level'])\n",
    "#     injury_summary['Total'] = injury_summary['OK'] + injury_summary['not_ok']\n",
    "#     injury_summary['ok_pct'] = (injury_summary['OK']*100)/injury_summary['Total']\n",
    "#     display(injury_summary[['OK', 'not_ok', 'ok_pct']].style.background_gradient(cmap='Reds'))"
   ]
  },
  {
   "cell_type": "markdown",
   "metadata": {},
   "source": [
    "#### Continuous features selection\n",
    "1. Pick non-correlated features\n",
    "2. If 2 columns are correlated, pick the column with better statistical significance"
   ]
  },
  {
   "cell_type": "code",
   "execution_count": 32,
   "metadata": {},
   "outputs": [
    {
     "name": "stdout",
     "output_type": "stream",
     "text": [
      "5\n"
     ]
    },
    {
     "data": {
      "text/plain": [
       "['road_num', 'num_operating_lanes', 'month', 'hour', 'speed_group']"
      ]
     },
     "execution_count": 32,
     "metadata": {},
     "output_type": "execute_result"
    }
   ],
   "source": [
    "# extracting all continuous feature column\n",
    "pass_cont_columns = [col for col in pass_cont if col not in ['injury_level']]\n",
    "print(len(pass_cont_columns))\n",
    "pass_cont_columns"
   ]
  },
  {
   "cell_type": "code",
   "execution_count": 33,
   "metadata": {},
   "outputs": [
    {
     "name": "stdout",
     "output_type": "stream",
     "text": [
      "road_num has non-normal distribution: running KS test. result: statistically significant\n",
      "num_operating_lanes has non-normal distribution: running KS test. result: statistically significant\n",
      "month has non-normal distribution: running KS test. result: not statistically significant\n",
      "hour has non-normal distribution: running KS test. result: statistically significant\n",
      "speed_group has non-normal distribution: running KS test. result: statistically significant\n"
     ]
    },
    {
     "data": {
      "application/vnd.plotly.v1+json": {
       "config": {
        "plotlyServerURL": "https://plot.ly"
       },
       "data": [
        {
         "alignmentgroup": "True",
         "hovertemplate": "variable=p_value<br>index=%{x}<br>p_value=%{y}<extra></extra>",
         "legendgroup": "p_value",
         "marker": {
          "color": "#636efa",
          "pattern": {
           "shape": ""
          }
         },
         "name": "p_value",
         "offsetgroup": "p_value",
         "orientation": "v",
         "showlegend": true,
         "textposition": "auto",
         "type": "bar",
         "x": [
          "speed_group",
          "road_num",
          "num_operating_lanes",
          "hour",
          "month"
         ],
         "xaxis": "x",
         "y": [
          1.6209691350415662e-234,
          1.7794701063080305e-135,
          1.1538912618421064e-94,
          6.0874445117480774e-33,
          0.09345772218226367
         ],
         "yaxis": "y"
        }
       ],
       "layout": {
        "barmode": "relative",
        "height": 500,
        "legend": {
         "title": {
          "text": "variable"
         },
         "tracegroupgap": 0
        },
        "margin": {
         "t": 60
        },
        "shapes": [
         {
          "line": {
           "color": "red",
           "dash": "dash"
          },
          "type": "line",
          "x0": 0,
          "x1": 1,
          "xref": "x domain",
          "y0": 0.05,
          "y1": 0.05,
          "yref": "y"
         }
        ],
        "showlegend": false,
        "template": {
         "data": {
          "bar": [
           {
            "error_x": {
             "color": "#2a3f5f"
            },
            "error_y": {
             "color": "#2a3f5f"
            },
            "marker": {
             "line": {
              "color": "#E5ECF6",
              "width": 0.5
             },
             "pattern": {
              "fillmode": "overlay",
              "size": 10,
              "solidity": 0.2
             }
            },
            "type": "bar"
           }
          ],
          "barpolar": [
           {
            "marker": {
             "line": {
              "color": "#E5ECF6",
              "width": 0.5
             },
             "pattern": {
              "fillmode": "overlay",
              "size": 10,
              "solidity": 0.2
             }
            },
            "type": "barpolar"
           }
          ],
          "carpet": [
           {
            "aaxis": {
             "endlinecolor": "#2a3f5f",
             "gridcolor": "white",
             "linecolor": "white",
             "minorgridcolor": "white",
             "startlinecolor": "#2a3f5f"
            },
            "baxis": {
             "endlinecolor": "#2a3f5f",
             "gridcolor": "white",
             "linecolor": "white",
             "minorgridcolor": "white",
             "startlinecolor": "#2a3f5f"
            },
            "type": "carpet"
           }
          ],
          "choropleth": [
           {
            "colorbar": {
             "outlinewidth": 0,
             "ticks": ""
            },
            "type": "choropleth"
           }
          ],
          "contour": [
           {
            "colorbar": {
             "outlinewidth": 0,
             "ticks": ""
            },
            "colorscale": [
             [
              0,
              "#0d0887"
             ],
             [
              0.1111111111111111,
              "#46039f"
             ],
             [
              0.2222222222222222,
              "#7201a8"
             ],
             [
              0.3333333333333333,
              "#9c179e"
             ],
             [
              0.4444444444444444,
              "#bd3786"
             ],
             [
              0.5555555555555556,
              "#d8576b"
             ],
             [
              0.6666666666666666,
              "#ed7953"
             ],
             [
              0.7777777777777778,
              "#fb9f3a"
             ],
             [
              0.8888888888888888,
              "#fdca26"
             ],
             [
              1,
              "#f0f921"
             ]
            ],
            "type": "contour"
           }
          ],
          "contourcarpet": [
           {
            "colorbar": {
             "outlinewidth": 0,
             "ticks": ""
            },
            "type": "contourcarpet"
           }
          ],
          "heatmap": [
           {
            "colorbar": {
             "outlinewidth": 0,
             "ticks": ""
            },
            "colorscale": [
             [
              0,
              "#0d0887"
             ],
             [
              0.1111111111111111,
              "#46039f"
             ],
             [
              0.2222222222222222,
              "#7201a8"
             ],
             [
              0.3333333333333333,
              "#9c179e"
             ],
             [
              0.4444444444444444,
              "#bd3786"
             ],
             [
              0.5555555555555556,
              "#d8576b"
             ],
             [
              0.6666666666666666,
              "#ed7953"
             ],
             [
              0.7777777777777778,
              "#fb9f3a"
             ],
             [
              0.8888888888888888,
              "#fdca26"
             ],
             [
              1,
              "#f0f921"
             ]
            ],
            "type": "heatmap"
           }
          ],
          "heatmapgl": [
           {
            "colorbar": {
             "outlinewidth": 0,
             "ticks": ""
            },
            "colorscale": [
             [
              0,
              "#0d0887"
             ],
             [
              0.1111111111111111,
              "#46039f"
             ],
             [
              0.2222222222222222,
              "#7201a8"
             ],
             [
              0.3333333333333333,
              "#9c179e"
             ],
             [
              0.4444444444444444,
              "#bd3786"
             ],
             [
              0.5555555555555556,
              "#d8576b"
             ],
             [
              0.6666666666666666,
              "#ed7953"
             ],
             [
              0.7777777777777778,
              "#fb9f3a"
             ],
             [
              0.8888888888888888,
              "#fdca26"
             ],
             [
              1,
              "#f0f921"
             ]
            ],
            "type": "heatmapgl"
           }
          ],
          "histogram": [
           {
            "marker": {
             "pattern": {
              "fillmode": "overlay",
              "size": 10,
              "solidity": 0.2
             }
            },
            "type": "histogram"
           }
          ],
          "histogram2d": [
           {
            "colorbar": {
             "outlinewidth": 0,
             "ticks": ""
            },
            "colorscale": [
             [
              0,
              "#0d0887"
             ],
             [
              0.1111111111111111,
              "#46039f"
             ],
             [
              0.2222222222222222,
              "#7201a8"
             ],
             [
              0.3333333333333333,
              "#9c179e"
             ],
             [
              0.4444444444444444,
              "#bd3786"
             ],
             [
              0.5555555555555556,
              "#d8576b"
             ],
             [
              0.6666666666666666,
              "#ed7953"
             ],
             [
              0.7777777777777778,
              "#fb9f3a"
             ],
             [
              0.8888888888888888,
              "#fdca26"
             ],
             [
              1,
              "#f0f921"
             ]
            ],
            "type": "histogram2d"
           }
          ],
          "histogram2dcontour": [
           {
            "colorbar": {
             "outlinewidth": 0,
             "ticks": ""
            },
            "colorscale": [
             [
              0,
              "#0d0887"
             ],
             [
              0.1111111111111111,
              "#46039f"
             ],
             [
              0.2222222222222222,
              "#7201a8"
             ],
             [
              0.3333333333333333,
              "#9c179e"
             ],
             [
              0.4444444444444444,
              "#bd3786"
             ],
             [
              0.5555555555555556,
              "#d8576b"
             ],
             [
              0.6666666666666666,
              "#ed7953"
             ],
             [
              0.7777777777777778,
              "#fb9f3a"
             ],
             [
              0.8888888888888888,
              "#fdca26"
             ],
             [
              1,
              "#f0f921"
             ]
            ],
            "type": "histogram2dcontour"
           }
          ],
          "mesh3d": [
           {
            "colorbar": {
             "outlinewidth": 0,
             "ticks": ""
            },
            "type": "mesh3d"
           }
          ],
          "parcoords": [
           {
            "line": {
             "colorbar": {
              "outlinewidth": 0,
              "ticks": ""
             }
            },
            "type": "parcoords"
           }
          ],
          "pie": [
           {
            "automargin": true,
            "type": "pie"
           }
          ],
          "scatter": [
           {
            "fillpattern": {
             "fillmode": "overlay",
             "size": 10,
             "solidity": 0.2
            },
            "type": "scatter"
           }
          ],
          "scatter3d": [
           {
            "line": {
             "colorbar": {
              "outlinewidth": 0,
              "ticks": ""
             }
            },
            "marker": {
             "colorbar": {
              "outlinewidth": 0,
              "ticks": ""
             }
            },
            "type": "scatter3d"
           }
          ],
          "scattercarpet": [
           {
            "marker": {
             "colorbar": {
              "outlinewidth": 0,
              "ticks": ""
             }
            },
            "type": "scattercarpet"
           }
          ],
          "scattergeo": [
           {
            "marker": {
             "colorbar": {
              "outlinewidth": 0,
              "ticks": ""
             }
            },
            "type": "scattergeo"
           }
          ],
          "scattergl": [
           {
            "marker": {
             "colorbar": {
              "outlinewidth": 0,
              "ticks": ""
             }
            },
            "type": "scattergl"
           }
          ],
          "scattermapbox": [
           {
            "marker": {
             "colorbar": {
              "outlinewidth": 0,
              "ticks": ""
             }
            },
            "type": "scattermapbox"
           }
          ],
          "scatterpolar": [
           {
            "marker": {
             "colorbar": {
              "outlinewidth": 0,
              "ticks": ""
             }
            },
            "type": "scatterpolar"
           }
          ],
          "scatterpolargl": [
           {
            "marker": {
             "colorbar": {
              "outlinewidth": 0,
              "ticks": ""
             }
            },
            "type": "scatterpolargl"
           }
          ],
          "scatterternary": [
           {
            "marker": {
             "colorbar": {
              "outlinewidth": 0,
              "ticks": ""
             }
            },
            "type": "scatterternary"
           }
          ],
          "surface": [
           {
            "colorbar": {
             "outlinewidth": 0,
             "ticks": ""
            },
            "colorscale": [
             [
              0,
              "#0d0887"
             ],
             [
              0.1111111111111111,
              "#46039f"
             ],
             [
              0.2222222222222222,
              "#7201a8"
             ],
             [
              0.3333333333333333,
              "#9c179e"
             ],
             [
              0.4444444444444444,
              "#bd3786"
             ],
             [
              0.5555555555555556,
              "#d8576b"
             ],
             [
              0.6666666666666666,
              "#ed7953"
             ],
             [
              0.7777777777777778,
              "#fb9f3a"
             ],
             [
              0.8888888888888888,
              "#fdca26"
             ],
             [
              1,
              "#f0f921"
             ]
            ],
            "type": "surface"
           }
          ],
          "table": [
           {
            "cells": {
             "fill": {
              "color": "#EBF0F8"
             },
             "line": {
              "color": "white"
             }
            },
            "header": {
             "fill": {
              "color": "#C8D4E3"
             },
             "line": {
              "color": "white"
             }
            },
            "type": "table"
           }
          ]
         },
         "layout": {
          "annotationdefaults": {
           "arrowcolor": "#2a3f5f",
           "arrowhead": 0,
           "arrowwidth": 1
          },
          "autotypenumbers": "strict",
          "coloraxis": {
           "colorbar": {
            "outlinewidth": 0,
            "ticks": ""
           }
          },
          "colorscale": {
           "diverging": [
            [
             0,
             "#8e0152"
            ],
            [
             0.1,
             "#c51b7d"
            ],
            [
             0.2,
             "#de77ae"
            ],
            [
             0.3,
             "#f1b6da"
            ],
            [
             0.4,
             "#fde0ef"
            ],
            [
             0.5,
             "#f7f7f7"
            ],
            [
             0.6,
             "#e6f5d0"
            ],
            [
             0.7,
             "#b8e186"
            ],
            [
             0.8,
             "#7fbc41"
            ],
            [
             0.9,
             "#4d9221"
            ],
            [
             1,
             "#276419"
            ]
           ],
           "sequential": [
            [
             0,
             "#0d0887"
            ],
            [
             0.1111111111111111,
             "#46039f"
            ],
            [
             0.2222222222222222,
             "#7201a8"
            ],
            [
             0.3333333333333333,
             "#9c179e"
            ],
            [
             0.4444444444444444,
             "#bd3786"
            ],
            [
             0.5555555555555556,
             "#d8576b"
            ],
            [
             0.6666666666666666,
             "#ed7953"
            ],
            [
             0.7777777777777778,
             "#fb9f3a"
            ],
            [
             0.8888888888888888,
             "#fdca26"
            ],
            [
             1,
             "#f0f921"
            ]
           ],
           "sequentialminus": [
            [
             0,
             "#0d0887"
            ],
            [
             0.1111111111111111,
             "#46039f"
            ],
            [
             0.2222222222222222,
             "#7201a8"
            ],
            [
             0.3333333333333333,
             "#9c179e"
            ],
            [
             0.4444444444444444,
             "#bd3786"
            ],
            [
             0.5555555555555556,
             "#d8576b"
            ],
            [
             0.6666666666666666,
             "#ed7953"
            ],
            [
             0.7777777777777778,
             "#fb9f3a"
            ],
            [
             0.8888888888888888,
             "#fdca26"
            ],
            [
             1,
             "#f0f921"
            ]
           ]
          },
          "colorway": [
           "#636efa",
           "#EF553B",
           "#00cc96",
           "#ab63fa",
           "#FFA15A",
           "#19d3f3",
           "#FF6692",
           "#B6E880",
           "#FF97FF",
           "#FECB52"
          ],
          "font": {
           "color": "#2a3f5f"
          },
          "geo": {
           "bgcolor": "white",
           "lakecolor": "white",
           "landcolor": "#E5ECF6",
           "showlakes": true,
           "showland": true,
           "subunitcolor": "white"
          },
          "hoverlabel": {
           "align": "left"
          },
          "hovermode": "closest",
          "mapbox": {
           "style": "light"
          },
          "paper_bgcolor": "white",
          "plot_bgcolor": "#E5ECF6",
          "polar": {
           "angularaxis": {
            "gridcolor": "white",
            "linecolor": "white",
            "ticks": ""
           },
           "bgcolor": "#E5ECF6",
           "radialaxis": {
            "gridcolor": "white",
            "linecolor": "white",
            "ticks": ""
           }
          },
          "scene": {
           "xaxis": {
            "backgroundcolor": "#E5ECF6",
            "gridcolor": "white",
            "gridwidth": 2,
            "linecolor": "white",
            "showbackground": true,
            "ticks": "",
            "zerolinecolor": "white"
           },
           "yaxis": {
            "backgroundcolor": "#E5ECF6",
            "gridcolor": "white",
            "gridwidth": 2,
            "linecolor": "white",
            "showbackground": true,
            "ticks": "",
            "zerolinecolor": "white"
           },
           "zaxis": {
            "backgroundcolor": "#E5ECF6",
            "gridcolor": "white",
            "gridwidth": 2,
            "linecolor": "white",
            "showbackground": true,
            "ticks": "",
            "zerolinecolor": "white"
           }
          },
          "shapedefaults": {
           "line": {
            "color": "#2a3f5f"
           }
          },
          "ternary": {
           "aaxis": {
            "gridcolor": "white",
            "linecolor": "white",
            "ticks": ""
           },
           "baxis": {
            "gridcolor": "white",
            "linecolor": "white",
            "ticks": ""
           },
           "bgcolor": "#E5ECF6",
           "caxis": {
            "gridcolor": "white",
            "linecolor": "white",
            "ticks": ""
           }
          },
          "title": {
           "x": 0.05
          },
          "xaxis": {
           "automargin": true,
           "gridcolor": "white",
           "linecolor": "white",
           "ticks": "",
           "title": {
            "standoff": 15
           },
           "zerolinecolor": "white",
           "zerolinewidth": 2
          },
          "yaxis": {
           "automargin": true,
           "gridcolor": "white",
           "linecolor": "white",
           "ticks": "",
           "title": {
            "standoff": 15
           },
           "zerolinecolor": "white",
           "zerolinewidth": 2
          }
         }
        },
        "width": 600,
        "xaxis": {
         "anchor": "y",
         "domain": [
          0,
          1
         ],
         "tickangle": 90,
         "title": {
          "text": "index"
         }
        },
        "yaxis": {
         "anchor": "x",
         "domain": [
          0,
          1
         ],
         "title": {
          "text": "p_value"
         }
        }
       }
      }
     },
     "metadata": {},
     "output_type": "display_data"
    }
   ],
   "source": [
    "# running normality and statistical significance tests on continuous features\n",
    "\n",
    "results_dict = {col:cont_stat_sig_test(pass_cont,col) for col in pass_cont_columns}\n",
    "cont_stat_results_df = pd.DataFrame.from_dict(results_dict, orient='index', columns=['p_value']).sort_values(by='p_value')\n",
    "\n",
    "fig=px.bar(cont_stat_results_df, labels={'value': 'p_value'}, width=600, height=500)\n",
    "fig.add_hline(y=0.05, line_dash=\"dash\", line_color=\"red\")\n",
    "fig.update_layout(showlegend=False)\n",
    "fig.update_xaxes(tickangle = 90)\n"
   ]
  },
  {
   "cell_type": "markdown",
   "metadata": {},
   "source": [
    "All our continuous features are statistically significant in predicting severity of an accident"
   ]
  },
  {
   "cell_type": "code",
   "execution_count": 34,
   "metadata": {},
   "outputs": [
    {
     "name": "stdout",
     "output_type": "stream",
     "text": [
      "(43267, 6)\n"
     ]
    },
    {
     "data": {
      "text/html": [
       "<div>\n",
       "<style scoped>\n",
       "    .dataframe tbody tr th:only-of-type {\n",
       "        vertical-align: middle;\n",
       "    }\n",
       "\n",
       "    .dataframe tbody tr th {\n",
       "        vertical-align: top;\n",
       "    }\n",
       "\n",
       "    .dataframe thead th {\n",
       "        text-align: right;\n",
       "    }\n",
       "</style>\n",
       "<table border=\"1\" class=\"dataframe\">\n",
       "  <thead>\n",
       "    <tr style=\"text-align: right;\">\n",
       "      <th></th>\n",
       "      <th>injury_level</th>\n",
       "      <th>speed_group</th>\n",
       "      <th>road_num</th>\n",
       "      <th>num_operating_lanes</th>\n",
       "      <th>hour</th>\n",
       "      <th>month</th>\n",
       "    </tr>\n",
       "  </thead>\n",
       "  <tbody>\n",
       "    <tr>\n",
       "      <th>1</th>\n",
       "      <td>OK</td>\n",
       "      <td>4.0</td>\n",
       "      <td>0.0</td>\n",
       "      <td>10</td>\n",
       "      <td>1</td>\n",
       "      <td>11</td>\n",
       "    </tr>\n",
       "    <tr>\n",
       "      <th>5</th>\n",
       "      <td>OK</td>\n",
       "      <td>5.0</td>\n",
       "      <td>0.0</td>\n",
       "      <td>8</td>\n",
       "      <td>15</td>\n",
       "      <td>11</td>\n",
       "    </tr>\n",
       "    <tr>\n",
       "      <th>10</th>\n",
       "      <td>OK</td>\n",
       "      <td>5.0</td>\n",
       "      <td>0.0</td>\n",
       "      <td>5</td>\n",
       "      <td>20</td>\n",
       "      <td>11</td>\n",
       "    </tr>\n",
       "    <tr>\n",
       "      <th>14</th>\n",
       "      <td>OK</td>\n",
       "      <td>5.0</td>\n",
       "      <td>0.0</td>\n",
       "      <td>3</td>\n",
       "      <td>4</td>\n",
       "      <td>11</td>\n",
       "    </tr>\n",
       "    <tr>\n",
       "      <th>66</th>\n",
       "      <td>OK</td>\n",
       "      <td>4.0</td>\n",
       "      <td>0.0</td>\n",
       "      <td>4</td>\n",
       "      <td>1</td>\n",
       "      <td>11</td>\n",
       "    </tr>\n",
       "  </tbody>\n",
       "</table>\n",
       "</div>"
      ],
      "text/plain": [
       "   injury_level  speed_group  road_num  num_operating_lanes  hour  month\n",
       "1            OK          4.0       0.0                   10     1     11\n",
       "5            OK          5.0       0.0                    8    15     11\n",
       "10           OK          5.0       0.0                    5    20     11\n",
       "14           OK          5.0       0.0                    3     4     11\n",
       "66           OK          4.0       0.0                    4     1     11"
      ]
     },
     "execution_count": 34,
     "metadata": {},
     "output_type": "execute_result"
    }
   ],
   "source": [
    "# rearranging pass_cont dataset's feature columns in the order of statistical significance\n",
    "pass_cont = pass_cont[['injury_level']+cont_stat_results_df.index.tolist()]\n",
    "cont_feature_cols = pass_cont.columns.tolist()\n",
    "cont_feature_cols.remove('injury_level')\n",
    "print(pass_cont.shape)\n",
    "pass_cont.head()"
   ]
  },
  {
   "cell_type": "code",
   "execution_count": 35,
   "metadata": {},
   "outputs": [
    {
     "data": {
      "application/vnd.plotly.v1+json": {
       "config": {
        "plotlyServerURL": "https://plot.ly"
       },
       "data": [
        {
         "coloraxis": "coloraxis",
         "hovertemplate": "x: %{x}<br>y: %{y}<br>color: %{z}<extra></extra>",
         "name": "0",
         "type": "heatmap",
         "x": [
          "speed_group",
          "road_num",
          "num_operating_lanes",
          "hour",
          "month"
         ],
         "xaxis": "x",
         "y": [
          "speed_group",
          "road_num",
          "num_operating_lanes",
          "hour",
          "month"
         ],
         "yaxis": "y",
         "z": [
          [
           0,
           0,
           0,
           0,
           0
          ],
          [
           0,
           0,
           0,
           0,
           0
          ],
          [
           0,
           0,
           0,
           0,
           0
          ],
          [
           0,
           0,
           0,
           0,
           0
          ],
          [
           0,
           0,
           0,
           0,
           0
          ]
         ]
        }
       ],
       "layout": {
        "coloraxis": {
         "colorscale": [
          [
           0,
           "#636EFA"
          ],
          [
           0.1111111111111111,
           "#EF553B"
          ],
          [
           0.2222222222222222,
           "#00CC96"
          ],
          [
           0.3333333333333333,
           "#AB63FA"
          ],
          [
           0.4444444444444444,
           "#FFA15A"
          ],
          [
           0.5555555555555556,
           "#19D3F3"
          ],
          [
           0.6666666666666666,
           "#FF6692"
          ],
          [
           0.7777777777777778,
           "#B6E880"
          ],
          [
           0.8888888888888888,
           "#FF97FF"
          ],
          [
           1,
           "#FECB52"
          ]
         ],
         "showscale": false
        },
        "height": 800,
        "template": {
         "data": {
          "bar": [
           {
            "error_x": {
             "color": "#2a3f5f"
            },
            "error_y": {
             "color": "#2a3f5f"
            },
            "marker": {
             "line": {
              "color": "#E5ECF6",
              "width": 0.5
             },
             "pattern": {
              "fillmode": "overlay",
              "size": 10,
              "solidity": 0.2
             }
            },
            "type": "bar"
           }
          ],
          "barpolar": [
           {
            "marker": {
             "line": {
              "color": "#E5ECF6",
              "width": 0.5
             },
             "pattern": {
              "fillmode": "overlay",
              "size": 10,
              "solidity": 0.2
             }
            },
            "type": "barpolar"
           }
          ],
          "carpet": [
           {
            "aaxis": {
             "endlinecolor": "#2a3f5f",
             "gridcolor": "white",
             "linecolor": "white",
             "minorgridcolor": "white",
             "startlinecolor": "#2a3f5f"
            },
            "baxis": {
             "endlinecolor": "#2a3f5f",
             "gridcolor": "white",
             "linecolor": "white",
             "minorgridcolor": "white",
             "startlinecolor": "#2a3f5f"
            },
            "type": "carpet"
           }
          ],
          "choropleth": [
           {
            "colorbar": {
             "outlinewidth": 0,
             "ticks": ""
            },
            "type": "choropleth"
           }
          ],
          "contour": [
           {
            "colorbar": {
             "outlinewidth": 0,
             "ticks": ""
            },
            "colorscale": [
             [
              0,
              "#0d0887"
             ],
             [
              0.1111111111111111,
              "#46039f"
             ],
             [
              0.2222222222222222,
              "#7201a8"
             ],
             [
              0.3333333333333333,
              "#9c179e"
             ],
             [
              0.4444444444444444,
              "#bd3786"
             ],
             [
              0.5555555555555556,
              "#d8576b"
             ],
             [
              0.6666666666666666,
              "#ed7953"
             ],
             [
              0.7777777777777778,
              "#fb9f3a"
             ],
             [
              0.8888888888888888,
              "#fdca26"
             ],
             [
              1,
              "#f0f921"
             ]
            ],
            "type": "contour"
           }
          ],
          "contourcarpet": [
           {
            "colorbar": {
             "outlinewidth": 0,
             "ticks": ""
            },
            "type": "contourcarpet"
           }
          ],
          "heatmap": [
           {
            "colorbar": {
             "outlinewidth": 0,
             "ticks": ""
            },
            "colorscale": [
             [
              0,
              "#0d0887"
             ],
             [
              0.1111111111111111,
              "#46039f"
             ],
             [
              0.2222222222222222,
              "#7201a8"
             ],
             [
              0.3333333333333333,
              "#9c179e"
             ],
             [
              0.4444444444444444,
              "#bd3786"
             ],
             [
              0.5555555555555556,
              "#d8576b"
             ],
             [
              0.6666666666666666,
              "#ed7953"
             ],
             [
              0.7777777777777778,
              "#fb9f3a"
             ],
             [
              0.8888888888888888,
              "#fdca26"
             ],
             [
              1,
              "#f0f921"
             ]
            ],
            "type": "heatmap"
           }
          ],
          "heatmapgl": [
           {
            "colorbar": {
             "outlinewidth": 0,
             "ticks": ""
            },
            "colorscale": [
             [
              0,
              "#0d0887"
             ],
             [
              0.1111111111111111,
              "#46039f"
             ],
             [
              0.2222222222222222,
              "#7201a8"
             ],
             [
              0.3333333333333333,
              "#9c179e"
             ],
             [
              0.4444444444444444,
              "#bd3786"
             ],
             [
              0.5555555555555556,
              "#d8576b"
             ],
             [
              0.6666666666666666,
              "#ed7953"
             ],
             [
              0.7777777777777778,
              "#fb9f3a"
             ],
             [
              0.8888888888888888,
              "#fdca26"
             ],
             [
              1,
              "#f0f921"
             ]
            ],
            "type": "heatmapgl"
           }
          ],
          "histogram": [
           {
            "marker": {
             "pattern": {
              "fillmode": "overlay",
              "size": 10,
              "solidity": 0.2
             }
            },
            "type": "histogram"
           }
          ],
          "histogram2d": [
           {
            "colorbar": {
             "outlinewidth": 0,
             "ticks": ""
            },
            "colorscale": [
             [
              0,
              "#0d0887"
             ],
             [
              0.1111111111111111,
              "#46039f"
             ],
             [
              0.2222222222222222,
              "#7201a8"
             ],
             [
              0.3333333333333333,
              "#9c179e"
             ],
             [
              0.4444444444444444,
              "#bd3786"
             ],
             [
              0.5555555555555556,
              "#d8576b"
             ],
             [
              0.6666666666666666,
              "#ed7953"
             ],
             [
              0.7777777777777778,
              "#fb9f3a"
             ],
             [
              0.8888888888888888,
              "#fdca26"
             ],
             [
              1,
              "#f0f921"
             ]
            ],
            "type": "histogram2d"
           }
          ],
          "histogram2dcontour": [
           {
            "colorbar": {
             "outlinewidth": 0,
             "ticks": ""
            },
            "colorscale": [
             [
              0,
              "#0d0887"
             ],
             [
              0.1111111111111111,
              "#46039f"
             ],
             [
              0.2222222222222222,
              "#7201a8"
             ],
             [
              0.3333333333333333,
              "#9c179e"
             ],
             [
              0.4444444444444444,
              "#bd3786"
             ],
             [
              0.5555555555555556,
              "#d8576b"
             ],
             [
              0.6666666666666666,
              "#ed7953"
             ],
             [
              0.7777777777777778,
              "#fb9f3a"
             ],
             [
              0.8888888888888888,
              "#fdca26"
             ],
             [
              1,
              "#f0f921"
             ]
            ],
            "type": "histogram2dcontour"
           }
          ],
          "mesh3d": [
           {
            "colorbar": {
             "outlinewidth": 0,
             "ticks": ""
            },
            "type": "mesh3d"
           }
          ],
          "parcoords": [
           {
            "line": {
             "colorbar": {
              "outlinewidth": 0,
              "ticks": ""
             }
            },
            "type": "parcoords"
           }
          ],
          "pie": [
           {
            "automargin": true,
            "type": "pie"
           }
          ],
          "scatter": [
           {
            "fillpattern": {
             "fillmode": "overlay",
             "size": 10,
             "solidity": 0.2
            },
            "type": "scatter"
           }
          ],
          "scatter3d": [
           {
            "line": {
             "colorbar": {
              "outlinewidth": 0,
              "ticks": ""
             }
            },
            "marker": {
             "colorbar": {
              "outlinewidth": 0,
              "ticks": ""
             }
            },
            "type": "scatter3d"
           }
          ],
          "scattercarpet": [
           {
            "marker": {
             "colorbar": {
              "outlinewidth": 0,
              "ticks": ""
             }
            },
            "type": "scattercarpet"
           }
          ],
          "scattergeo": [
           {
            "marker": {
             "colorbar": {
              "outlinewidth": 0,
              "ticks": ""
             }
            },
            "type": "scattergeo"
           }
          ],
          "scattergl": [
           {
            "marker": {
             "colorbar": {
              "outlinewidth": 0,
              "ticks": ""
             }
            },
            "type": "scattergl"
           }
          ],
          "scattermapbox": [
           {
            "marker": {
             "colorbar": {
              "outlinewidth": 0,
              "ticks": ""
             }
            },
            "type": "scattermapbox"
           }
          ],
          "scatterpolar": [
           {
            "marker": {
             "colorbar": {
              "outlinewidth": 0,
              "ticks": ""
             }
            },
            "type": "scatterpolar"
           }
          ],
          "scatterpolargl": [
           {
            "marker": {
             "colorbar": {
              "outlinewidth": 0,
              "ticks": ""
             }
            },
            "type": "scatterpolargl"
           }
          ],
          "scatterternary": [
           {
            "marker": {
             "colorbar": {
              "outlinewidth": 0,
              "ticks": ""
             }
            },
            "type": "scatterternary"
           }
          ],
          "surface": [
           {
            "colorbar": {
             "outlinewidth": 0,
             "ticks": ""
            },
            "colorscale": [
             [
              0,
              "#0d0887"
             ],
             [
              0.1111111111111111,
              "#46039f"
             ],
             [
              0.2222222222222222,
              "#7201a8"
             ],
             [
              0.3333333333333333,
              "#9c179e"
             ],
             [
              0.4444444444444444,
              "#bd3786"
             ],
             [
              0.5555555555555556,
              "#d8576b"
             ],
             [
              0.6666666666666666,
              "#ed7953"
             ],
             [
              0.7777777777777778,
              "#fb9f3a"
             ],
             [
              0.8888888888888888,
              "#fdca26"
             ],
             [
              1,
              "#f0f921"
             ]
            ],
            "type": "surface"
           }
          ],
          "table": [
           {
            "cells": {
             "fill": {
              "color": "#EBF0F8"
             },
             "line": {
              "color": "white"
             }
            },
            "header": {
             "fill": {
              "color": "#C8D4E3"
             },
             "line": {
              "color": "white"
             }
            },
            "type": "table"
           }
          ]
         },
         "layout": {
          "annotationdefaults": {
           "arrowcolor": "#2a3f5f",
           "arrowhead": 0,
           "arrowwidth": 1
          },
          "autotypenumbers": "strict",
          "coloraxis": {
           "colorbar": {
            "outlinewidth": 0,
            "ticks": ""
           }
          },
          "colorscale": {
           "diverging": [
            [
             0,
             "#8e0152"
            ],
            [
             0.1,
             "#c51b7d"
            ],
            [
             0.2,
             "#de77ae"
            ],
            [
             0.3,
             "#f1b6da"
            ],
            [
             0.4,
             "#fde0ef"
            ],
            [
             0.5,
             "#f7f7f7"
            ],
            [
             0.6,
             "#e6f5d0"
            ],
            [
             0.7,
             "#b8e186"
            ],
            [
             0.8,
             "#7fbc41"
            ],
            [
             0.9,
             "#4d9221"
            ],
            [
             1,
             "#276419"
            ]
           ],
           "sequential": [
            [
             0,
             "#0d0887"
            ],
            [
             0.1111111111111111,
             "#46039f"
            ],
            [
             0.2222222222222222,
             "#7201a8"
            ],
            [
             0.3333333333333333,
             "#9c179e"
            ],
            [
             0.4444444444444444,
             "#bd3786"
            ],
            [
             0.5555555555555556,
             "#d8576b"
            ],
            [
             0.6666666666666666,
             "#ed7953"
            ],
            [
             0.7777777777777778,
             "#fb9f3a"
            ],
            [
             0.8888888888888888,
             "#fdca26"
            ],
            [
             1,
             "#f0f921"
            ]
           ],
           "sequentialminus": [
            [
             0,
             "#0d0887"
            ],
            [
             0.1111111111111111,
             "#46039f"
            ],
            [
             0.2222222222222222,
             "#7201a8"
            ],
            [
             0.3333333333333333,
             "#9c179e"
            ],
            [
             0.4444444444444444,
             "#bd3786"
            ],
            [
             0.5555555555555556,
             "#d8576b"
            ],
            [
             0.6666666666666666,
             "#ed7953"
            ],
            [
             0.7777777777777778,
             "#fb9f3a"
            ],
            [
             0.8888888888888888,
             "#fdca26"
            ],
            [
             1,
             "#f0f921"
            ]
           ]
          },
          "colorway": [
           "#636efa",
           "#EF553B",
           "#00cc96",
           "#ab63fa",
           "#FFA15A",
           "#19d3f3",
           "#FF6692",
           "#B6E880",
           "#FF97FF",
           "#FECB52"
          ],
          "font": {
           "color": "#2a3f5f"
          },
          "geo": {
           "bgcolor": "white",
           "lakecolor": "white",
           "landcolor": "#E5ECF6",
           "showlakes": true,
           "showland": true,
           "subunitcolor": "white"
          },
          "hoverlabel": {
           "align": "left"
          },
          "hovermode": "closest",
          "mapbox": {
           "style": "light"
          },
          "paper_bgcolor": "white",
          "plot_bgcolor": "#E5ECF6",
          "polar": {
           "angularaxis": {
            "gridcolor": "white",
            "linecolor": "white",
            "ticks": ""
           },
           "bgcolor": "#E5ECF6",
           "radialaxis": {
            "gridcolor": "white",
            "linecolor": "white",
            "ticks": ""
           }
          },
          "scene": {
           "xaxis": {
            "backgroundcolor": "#E5ECF6",
            "gridcolor": "white",
            "gridwidth": 2,
            "linecolor": "white",
            "showbackground": true,
            "ticks": "",
            "zerolinecolor": "white"
           },
           "yaxis": {
            "backgroundcolor": "#E5ECF6",
            "gridcolor": "white",
            "gridwidth": 2,
            "linecolor": "white",
            "showbackground": true,
            "ticks": "",
            "zerolinecolor": "white"
           },
           "zaxis": {
            "backgroundcolor": "#E5ECF6",
            "gridcolor": "white",
            "gridwidth": 2,
            "linecolor": "white",
            "showbackground": true,
            "ticks": "",
            "zerolinecolor": "white"
           }
          },
          "shapedefaults": {
           "line": {
            "color": "#2a3f5f"
           }
          },
          "ternary": {
           "aaxis": {
            "gridcolor": "white",
            "linecolor": "white",
            "ticks": ""
           },
           "baxis": {
            "gridcolor": "white",
            "linecolor": "white",
            "ticks": ""
           },
           "bgcolor": "#E5ECF6",
           "caxis": {
            "gridcolor": "white",
            "linecolor": "white",
            "ticks": ""
           }
          },
          "title": {
           "x": 0.05
          },
          "xaxis": {
           "automargin": true,
           "gridcolor": "white",
           "linecolor": "white",
           "ticks": "",
           "title": {
            "standoff": 15
           },
           "zerolinecolor": "white",
           "zerolinewidth": 2
          },
          "yaxis": {
           "automargin": true,
           "gridcolor": "white",
           "linecolor": "white",
           "ticks": "",
           "title": {
            "standoff": 15
           },
           "zerolinecolor": "white",
           "zerolinewidth": 2
          }
         }
        },
        "title": {
         "text": "heat map: continuous feature correlations with >0.9 correlation coefficient"
        },
        "width": 800,
        "xaxis": {
         "anchor": "y",
         "constrain": "domain",
         "domain": [
          0,
          1
         ],
         "scaleanchor": "y"
        },
        "yaxis": {
         "anchor": "x",
         "autorange": "reversed",
         "constrain": "domain",
         "domain": [
          0,
          1
         ]
        }
       }
      }
     },
     "metadata": {},
     "output_type": "display_data"
    }
   ],
   "source": [
    "# heatmap to visualize correlated features\n",
    "pearson_corr_features = pass_cont.corr()\n",
    "corr_data = np.tril(pearson_corr_features,k=-1)\n",
    "corr_data = abs(corr_data)>0.90\n",
    "\n",
    "fig = px.imshow(corr_data, x=pearson_corr_features.columns, y=pearson_corr_features.index,\n",
    "                color_continuous_scale=px.colors.qualitative.Plotly, width=800, height=800,\n",
    "                title=\"heat map: continuous feature correlations with >0.9 correlation coefficient\")\n",
    "fig.update(layout_coloraxis_showscale=False)\n",
    "fig.show()\n"
   ]
  },
  {
   "cell_type": "markdown",
   "metadata": {},
   "source": [
    "No correlation"
   ]
  },
  {
   "cell_type": "code",
   "execution_count": 36,
   "metadata": {},
   "outputs": [
    {
     "name": "stdout",
     "output_type": "stream",
     "text": [
      "[]\n",
      "['speed_group', 'road_num', 'num_operating_lanes', 'hour', 'month']\n"
     ]
    }
   ],
   "source": [
    "# getting final list of features for modeling\n",
    "# if 2 columns are correlated (yellow color), pick the column with better statistical significance\n",
    "index_list = [idx for idx,row in enumerate(corr_data) if np.sum(row)>0]\n",
    "print(index_list)\n",
    "\n",
    "top_cont_feature_list = [col for idx, col in enumerate(cont_feature_cols) if idx not in index_list]\n",
    "print(top_cont_feature_list)\n"
   ]
  },
  {
   "cell_type": "markdown",
   "metadata": {},
   "source": [
    "### Model evaluation post features selection"
   ]
  },
  {
   "cell_type": "code",
   "execution_count": 37,
   "metadata": {},
   "outputs": [
    {
     "name": "stdout",
     "output_type": "stream",
     "text": [
      "(43267, 25)\n"
     ]
    },
    {
     "data": {
      "text/html": [
       "<div>\n",
       "<style scoped>\n",
       "    .dataframe tbody tr th:only-of-type {\n",
       "        vertical-align: middle;\n",
       "    }\n",
       "\n",
       "    .dataframe tbody tr th {\n",
       "        vertical-align: top;\n",
       "    }\n",
       "\n",
       "    .dataframe thead th {\n",
       "        text-align: right;\n",
       "    }\n",
       "</style>\n",
       "<table border=\"1\" class=\"dataframe\">\n",
       "  <thead>\n",
       "    <tr style=\"text-align: right;\">\n",
       "      <th></th>\n",
       "      <th>speed_group</th>\n",
       "      <th>road_num</th>\n",
       "      <th>num_operating_lanes</th>\n",
       "      <th>hour</th>\n",
       "      <th>month</th>\n",
       "      <th>travelling_direction</th>\n",
       "      <th>collision_type</th>\n",
       "      <th>impact_location</th>\n",
       "      <th>in_out_city</th>\n",
       "      <th>vehicule_type</th>\n",
       "      <th>...</th>\n",
       "      <th>crossing</th>\n",
       "      <th>road_type</th>\n",
       "      <th>vehi_grp</th>\n",
       "      <th>road_location_accident</th>\n",
       "      <th>day_of_week</th>\n",
       "      <th>seat</th>\n",
       "      <th>road_surface</th>\n",
       "      <th>navigation_direction</th>\n",
       "      <th>gender</th>\n",
       "      <th>injury_level</th>\n",
       "    </tr>\n",
       "  </thead>\n",
       "  <tbody>\n",
       "    <tr>\n",
       "      <th>1</th>\n",
       "      <td>4.0</td>\n",
       "      <td>0.0</td>\n",
       "      <td>10</td>\n",
       "      <td>1</td>\n",
       "      <td>11</td>\n",
       "      <td>separate_ways</td>\n",
       "      <td>two_vehicules_back</td>\n",
       "      <td>rear_right</td>\n",
       "      <td>out_of_city</td>\n",
       "      <td>car</td>\n",
       "      <td>...</td>\n",
       "      <td>crossing</td>\n",
       "      <td>highway</td>\n",
       "      <td>4_wheels</td>\n",
       "      <td>road</td>\n",
       "      <td>Saturday</td>\n",
       "      <td>main_pass_front</td>\n",
       "      <td>normal</td>\n",
       "      <td>postal_address_PK</td>\n",
       "      <td>f</td>\n",
       "      <td>OK</td>\n",
       "    </tr>\n",
       "    <tr>\n",
       "      <th>5</th>\n",
       "      <td>5.0</td>\n",
       "      <td>0.0</td>\n",
       "      <td>8</td>\n",
       "      <td>15</td>\n",
       "      <td>11</td>\n",
       "      <td>separate_ways</td>\n",
       "      <td>three_or_more_vehicules_chain</td>\n",
       "      <td>front</td>\n",
       "      <td>out_of_city</td>\n",
       "      <td>car</td>\n",
       "      <td>...</td>\n",
       "      <td>crossing</td>\n",
       "      <td>highway</td>\n",
       "      <td>4_wheels</td>\n",
       "      <td>road</td>\n",
       "      <td>Thursday</td>\n",
       "      <td>main_pass_front</td>\n",
       "      <td>normal</td>\n",
       "      <td>postal_address_PR</td>\n",
       "      <td>f</td>\n",
       "      <td>OK</td>\n",
       "    </tr>\n",
       "    <tr>\n",
       "      <th>10</th>\n",
       "      <td>5.0</td>\n",
       "      <td>0.0</td>\n",
       "      <td>5</td>\n",
       "      <td>20</td>\n",
       "      <td>11</td>\n",
       "      <td>separate_ways</td>\n",
       "      <td>three_or_more_vehicules_chain</td>\n",
       "      <td>rear</td>\n",
       "      <td>out_of_city</td>\n",
       "      <td>car</td>\n",
       "      <td>...</td>\n",
       "      <td>crossing</td>\n",
       "      <td>highway</td>\n",
       "      <td>4_wheels</td>\n",
       "      <td>road</td>\n",
       "      <td>Saturday</td>\n",
       "      <td>main_pass_front</td>\n",
       "      <td>normal</td>\n",
       "      <td>postal_address_PK</td>\n",
       "      <td>f</td>\n",
       "      <td>OK</td>\n",
       "    </tr>\n",
       "    <tr>\n",
       "      <th>14</th>\n",
       "      <td>5.0</td>\n",
       "      <td>0.0</td>\n",
       "      <td>3</td>\n",
       "      <td>4</td>\n",
       "      <td>11</td>\n",
       "      <td>unidirectional</td>\n",
       "      <td>two_vehicules_back</td>\n",
       "      <td>rear</td>\n",
       "      <td>out_of_city</td>\n",
       "      <td>car</td>\n",
       "      <td>...</td>\n",
       "      <td>crossing</td>\n",
       "      <td>highway</td>\n",
       "      <td>4_wheels</td>\n",
       "      <td>road</td>\n",
       "      <td>Saturday</td>\n",
       "      <td>main_pass_front</td>\n",
       "      <td>normal</td>\n",
       "      <td>postal_address_PR</td>\n",
       "      <td>m</td>\n",
       "      <td>OK</td>\n",
       "    </tr>\n",
       "    <tr>\n",
       "      <th>66</th>\n",
       "      <td>4.0</td>\n",
       "      <td>0.0</td>\n",
       "      <td>4</td>\n",
       "      <td>1</td>\n",
       "      <td>11</td>\n",
       "      <td>bidirectional</td>\n",
       "      <td>other_collision</td>\n",
       "      <td>front</td>\n",
       "      <td>out_of_city</td>\n",
       "      <td>moto</td>\n",
       "      <td>...</td>\n",
       "      <td>crossing</td>\n",
       "      <td>regional_rd</td>\n",
       "      <td>2_wheels</td>\n",
       "      <td>road</td>\n",
       "      <td>Saturday</td>\n",
       "      <td>main_pass_front</td>\n",
       "      <td>wet</td>\n",
       "      <td>postal_address_PK</td>\n",
       "      <td>f</td>\n",
       "      <td>OK</td>\n",
       "    </tr>\n",
       "  </tbody>\n",
       "</table>\n",
       "<p>5 rows × 25 columns</p>\n",
       "</div>"
      ],
      "text/plain": [
       "    speed_group  road_num  num_operating_lanes  hour  month  \\\n",
       "1           4.0       0.0                   10     1     11   \n",
       "5           5.0       0.0                    8    15     11   \n",
       "10          5.0       0.0                    5    20     11   \n",
       "14          5.0       0.0                    3     4     11   \n",
       "66          4.0       0.0                    4     1     11   \n",
       "\n",
       "   travelling_direction                 collision_type impact_location  \\\n",
       "1         separate_ways             two_vehicules_back      rear_right   \n",
       "5         separate_ways  three_or_more_vehicules_chain           front   \n",
       "10        separate_ways  three_or_more_vehicules_chain            rear   \n",
       "14       unidirectional             two_vehicules_back            rear   \n",
       "66        bidirectional                other_collision           front   \n",
       "\n",
       "    in_out_city vehicule_type  ...  crossing    road_type  vehi_grp  \\\n",
       "1   out_of_city           car  ...  crossing      highway  4_wheels   \n",
       "5   out_of_city           car  ...  crossing      highway  4_wheels   \n",
       "10  out_of_city           car  ...  crossing      highway  4_wheels   \n",
       "14  out_of_city           car  ...  crossing      highway  4_wheels   \n",
       "66  out_of_city          moto  ...  crossing  regional_rd  2_wheels   \n",
       "\n",
       "   road_location_accident day_of_week             seat road_surface  \\\n",
       "1                    road    Saturday  main_pass_front       normal   \n",
       "5                    road    Thursday  main_pass_front       normal   \n",
       "10                   road    Saturday  main_pass_front       normal   \n",
       "14                   road    Saturday  main_pass_front       normal   \n",
       "66                   road    Saturday  main_pass_front          wet   \n",
       "\n",
       "   navigation_direction gender injury_level  \n",
       "1     postal_address_PK      f           OK  \n",
       "5     postal_address_PR      f           OK  \n",
       "10    postal_address_PK      f           OK  \n",
       "14    postal_address_PR      m           OK  \n",
       "66    postal_address_PK      f           OK  \n",
       "\n",
       "[5 rows x 25 columns]"
      ]
     },
     "execution_count": 37,
     "metadata": {},
     "output_type": "execute_result"
    }
   ],
   "source": [
    "train_feature_sel = df_pass[top_cont_feature_list + top_cat_features_list + ['injury_level']]\n",
    "print(train_feature_sel.shape)\n",
    "train_feature_sel.head()"
   ]
  },
  {
   "cell_type": "markdown",
   "metadata": {},
   "source": [
    "### 4. Rerunning models"
   ]
  },
  {
   "cell_type": "code",
   "execution_count": 38,
   "metadata": {},
   "outputs": [],
   "source": [
    "#encoding\n",
    "X = train_feature_sel.drop(columns='injury_level')\n",
    "X = pd.get_dummies(X, columns=X.select_dtypes('object').columns, drop_first=True)\n",
    "y=train_feature_sel[['injury_level']]\n",
    "y['injury_level']= y['injury_level'].map({'OK':1,'not_ok':0})\n",
    "X_train,X_test,y_train,y_test = train_test_split(X, y,random_state=42, test_size=0.2, stratify=y)"
   ]
  },
  {
   "attachments": {},
   "cell_type": "markdown",
   "metadata": {},
   "source": [
    "#### Logistic Regression"
   ]
  },
  {
   "cell_type": "code",
   "execution_count": 39,
   "metadata": {},
   "outputs": [],
   "source": [
    "ss = StandardScaler()\n",
    "X_train_ss = ss.fit_transform(X_train) \n",
    "X_test_ss= ss.transform(X_test)"
   ]
  },
  {
   "cell_type": "code",
   "execution_count": 40,
   "metadata": {},
   "outputs": [],
   "source": [
    "lr = LogisticRegression(random_state=42, solver='saga', penalty='l2', class_weight='balanced', C=0.2)"
   ]
  },
  {
   "cell_type": "code",
   "execution_count": 41,
   "metadata": {},
   "outputs": [
    {
     "data": {
      "text/html": [
       "<style>#sk-container-id-1 {color: black;background-color: white;}#sk-container-id-1 pre{padding: 0;}#sk-container-id-1 div.sk-toggleable {background-color: white;}#sk-container-id-1 label.sk-toggleable__label {cursor: pointer;display: block;width: 100%;margin-bottom: 0;padding: 0.3em;box-sizing: border-box;text-align: center;}#sk-container-id-1 label.sk-toggleable__label-arrow:before {content: \"▸\";float: left;margin-right: 0.25em;color: #696969;}#sk-container-id-1 label.sk-toggleable__label-arrow:hover:before {color: black;}#sk-container-id-1 div.sk-estimator:hover label.sk-toggleable__label-arrow:before {color: black;}#sk-container-id-1 div.sk-toggleable__content {max-height: 0;max-width: 0;overflow: hidden;text-align: left;background-color: #f0f8ff;}#sk-container-id-1 div.sk-toggleable__content pre {margin: 0.2em;color: black;border-radius: 0.25em;background-color: #f0f8ff;}#sk-container-id-1 input.sk-toggleable__control:checked~div.sk-toggleable__content {max-height: 200px;max-width: 100%;overflow: auto;}#sk-container-id-1 input.sk-toggleable__control:checked~label.sk-toggleable__label-arrow:before {content: \"▾\";}#sk-container-id-1 div.sk-estimator input.sk-toggleable__control:checked~label.sk-toggleable__label {background-color: #d4ebff;}#sk-container-id-1 div.sk-label input.sk-toggleable__control:checked~label.sk-toggleable__label {background-color: #d4ebff;}#sk-container-id-1 input.sk-hidden--visually {border: 0;clip: rect(1px 1px 1px 1px);clip: rect(1px, 1px, 1px, 1px);height: 1px;margin: -1px;overflow: hidden;padding: 0;position: absolute;width: 1px;}#sk-container-id-1 div.sk-estimator {font-family: monospace;background-color: #f0f8ff;border: 1px dotted black;border-radius: 0.25em;box-sizing: border-box;margin-bottom: 0.5em;}#sk-container-id-1 div.sk-estimator:hover {background-color: #d4ebff;}#sk-container-id-1 div.sk-parallel-item::after {content: \"\";width: 100%;border-bottom: 1px solid gray;flex-grow: 1;}#sk-container-id-1 div.sk-label:hover label.sk-toggleable__label {background-color: #d4ebff;}#sk-container-id-1 div.sk-serial::before {content: \"\";position: absolute;border-left: 1px solid gray;box-sizing: border-box;top: 0;bottom: 0;left: 50%;z-index: 0;}#sk-container-id-1 div.sk-serial {display: flex;flex-direction: column;align-items: center;background-color: white;padding-right: 0.2em;padding-left: 0.2em;position: relative;}#sk-container-id-1 div.sk-item {position: relative;z-index: 1;}#sk-container-id-1 div.sk-parallel {display: flex;align-items: stretch;justify-content: center;background-color: white;position: relative;}#sk-container-id-1 div.sk-item::before, #sk-container-id-1 div.sk-parallel-item::before {content: \"\";position: absolute;border-left: 1px solid gray;box-sizing: border-box;top: 0;bottom: 0;left: 50%;z-index: -1;}#sk-container-id-1 div.sk-parallel-item {display: flex;flex-direction: column;z-index: 1;position: relative;background-color: white;}#sk-container-id-1 div.sk-parallel-item:first-child::after {align-self: flex-end;width: 50%;}#sk-container-id-1 div.sk-parallel-item:last-child::after {align-self: flex-start;width: 50%;}#sk-container-id-1 div.sk-parallel-item:only-child::after {width: 0;}#sk-container-id-1 div.sk-dashed-wrapped {border: 1px dashed gray;margin: 0 0.4em 0.5em 0.4em;box-sizing: border-box;padding-bottom: 0.4em;background-color: white;}#sk-container-id-1 div.sk-label label {font-family: monospace;font-weight: bold;display: inline-block;line-height: 1.2em;}#sk-container-id-1 div.sk-label-container {text-align: center;}#sk-container-id-1 div.sk-container {/* jupyter's `normalize.less` sets `[hidden] { display: none; }` but bootstrap.min.css set `[hidden] { display: none !important; }` so we also need the `!important` here to be able to override the default hidden behavior on the sphinx rendered scikit-learn.org. See: https://github.com/scikit-learn/scikit-learn/issues/21755 */display: inline-block !important;position: relative;}#sk-container-id-1 div.sk-text-repr-fallback {display: none;}</style><div id=\"sk-container-id-1\" class=\"sk-top-container\"><div class=\"sk-text-repr-fallback\"><pre>LogisticRegression(C=0.2, class_weight=&#x27;balanced&#x27;, random_state=42,\n",
       "                   solver=&#x27;saga&#x27;)</pre><b>In a Jupyter environment, please rerun this cell to show the HTML representation or trust the notebook. <br />On GitHub, the HTML representation is unable to render, please try loading this page with nbviewer.org.</b></div><div class=\"sk-container\" hidden><div class=\"sk-item\"><div class=\"sk-estimator sk-toggleable\"><input class=\"sk-toggleable__control sk-hidden--visually\" id=\"sk-estimator-id-1\" type=\"checkbox\" checked><label for=\"sk-estimator-id-1\" class=\"sk-toggleable__label sk-toggleable__label-arrow\">LogisticRegression</label><div class=\"sk-toggleable__content\"><pre>LogisticRegression(C=0.2, class_weight=&#x27;balanced&#x27;, random_state=42,\n",
       "                   solver=&#x27;saga&#x27;)</pre></div></div></div></div></div>"
      ],
      "text/plain": [
       "LogisticRegression(C=0.2, class_weight='balanced', random_state=42,\n",
       "                   solver='saga')"
      ]
     },
     "execution_count": 41,
     "metadata": {},
     "output_type": "execute_result"
    }
   ],
   "source": [
    "lr.fit(X_train_ss,y_train)"
   ]
  },
  {
   "cell_type": "code",
   "execution_count": 42,
   "metadata": {},
   "outputs": [],
   "source": [
    "preds = lr.predict(X_test_ss)\n",
    "train_preds = lr.predict(X_train_ss)"
   ]
  },
  {
   "cell_type": "code",
   "execution_count": 43,
   "metadata": {},
   "outputs": [
    {
     "name": "stdout",
     "output_type": "stream",
     "text": [
      "best params : <bound method BaseEstimator.get_params of LogisticRegression(C=0.2, class_weight='balanced', random_state=42,\n",
      "                   solver='saga')>\n",
      "Test_f1_score : 0.8140742462993101\n",
      "Test_precision score : 0.9403760071620412\n",
      "Test_accuracy score : 0.7227871504506587\n",
      "Test_recall score : 0.7176824268925937\n",
      "Test_roc_auc score : 0.7342154649433028\n"
     ]
    },
    {
     "data": {
      "image/png": "[encoded data removed]",
      "text/plain": [
       "<Figure size 432x288 with 2 Axes>"
      ]
     },
     "metadata": {
      "needs_background": "light"
     },
     "output_type": "display_data"
    },
    {
     "data": {
      "image/png": "[encoded data removed]",
      "text/plain": [
       "<Figure size 432x288 with 1 Axes>"
      ]
     },
     "metadata": {
      "needs_background": "light"
     },
     "output_type": "display_data"
    }
   ],
   "source": [
    "#getting the test metrics ready\n",
    "test_f1score=f1_score(y_test,preds)\n",
    "test_precision=precision_score(y_test,preds)\n",
    "test_accuracy=accuracy_score(y_test,preds)\n",
    "test_recall=recall_score(y_test,preds)\n",
    "test_roc_auc=roc_auc_score(y_test,preds)\n",
    "test_specificity = specificity_score(y_test,preds)\n",
    "\n",
    "#getting the train metrics\n",
    "train_f1score=f1_score(y_train,train_preds)\n",
    "train_specificity = specificity_score(y_train,train_preds)\n",
    "train_precision=precision_score(y_train,train_preds)\n",
    "train_accuracy=accuracy_score(y_train,train_preds)\n",
    "train_recall=recall_score(y_train,train_preds)\n",
    "train_roc_auc=roc_auc_score(y_train,train_preds)\n",
    "#printing results-----------------------------------------------------------------\n",
    "\n",
    "print(f'best params : {lr.get_params}')\n",
    "\n",
    "print(f'Test_f1_score : {test_f1score}')\n",
    "print(f'Test_precision score : {test_precision}')\n",
    "print(f'Test_accuracy score : {test_accuracy}')\n",
    "print(f'Test_recall score : {test_recall}')\n",
    "print(f'Test_roc_auc score : {test_roc_auc}')\n",
    "        \n",
    "# #update various metrics onto results list-------------------------------------------------------------\n",
    "score_dict_passengers['lr_2nd_round'] = {\n",
    "        'Train_acc':train_accuracy,\n",
    "        'Test_acc':test_accuracy,\n",
    "        'Train_recall':train_recall,\n",
    "        'Test_recall':test_recall,\n",
    "        'Train_preci':train_precision,\n",
    "        'Test_preci':test_precision,\n",
    "        'Train_f1score':train_f1score,\n",
    "        'Test_f1score':test_f1score,\n",
    "        'Train_roc_auc':train_roc_auc,\n",
    "        'Test_roc_auc':test_roc_auc,\n",
    "        'Train_specificity': train_specificity,\n",
    "        'Test_specificity':test_specificity\n",
    "        }\n",
    "\n",
    "tn, fp, fn, tp = confusion_matrix(y_test, preds).ravel()\n",
    "cm = confusion_matrix(y_test,preds)\n",
    "displ = ConfusionMatrixDisplay(cm)\n",
    "displ.plot();\n",
    "\n",
    "plot_roc_curve(lr, X_test, y_test)\n",
    "plt.plot([0, 1], [0, 1],\n",
    "label='baseline', linestyle='--') # to simulate random guess \n",
    "plt.legend();"
   ]
  },
  {
   "cell_type": "code",
   "execution_count": 44,
   "metadata": {},
   "outputs": [
    {
     "data": {
      "text/html": [
       "<div>\n",
       "<style scoped>\n",
       "    .dataframe tbody tr th:only-of-type {\n",
       "        vertical-align: middle;\n",
       "    }\n",
       "\n",
       "    .dataframe tbody tr th {\n",
       "        vertical-align: top;\n",
       "    }\n",
       "\n",
       "    .dataframe thead th {\n",
       "        text-align: right;\n",
       "    }\n",
       "</style>\n",
       "<table border=\"1\" class=\"dataframe\">\n",
       "  <thead>\n",
       "    <tr style=\"text-align: right;\">\n",
       "      <th></th>\n",
       "      <th>features_name</th>\n",
       "      <th>coefs</th>\n",
       "    </tr>\n",
       "  </thead>\n",
       "  <tbody>\n",
       "    <tr>\n",
       "      <th>62</th>\n",
       "      <td>was_doing_straight_line</td>\n",
       "      <td>0.246524</td>\n",
       "    </tr>\n",
       "    <tr>\n",
       "      <th>63</th>\n",
       "      <td>was_doing_turning</td>\n",
       "      <td>0.236421</td>\n",
       "    </tr>\n",
       "    <tr>\n",
       "      <th>6</th>\n",
       "      <td>travelling_direction_unidirectional</td>\n",
       "      <td>0.228695</td>\n",
       "    </tr>\n",
       "    <tr>\n",
       "      <th>17</th>\n",
       "      <td>impact_location_rear</td>\n",
       "      <td>0.228332</td>\n",
       "    </tr>\n",
       "    <tr>\n",
       "      <th>9</th>\n",
       "      <td>collision_type_three_or_more_vehicules_chain</td>\n",
       "      <td>0.226883</td>\n",
       "    </tr>\n",
       "    <tr>\n",
       "      <th>...</th>\n",
       "      <td>...</td>\n",
       "      <td>...</td>\n",
       "    </tr>\n",
       "    <tr>\n",
       "      <th>22</th>\n",
       "      <td>in_out_city_out_of_city</td>\n",
       "      <td>-0.237959</td>\n",
       "    </tr>\n",
       "    <tr>\n",
       "      <th>67</th>\n",
       "      <td>age_group_60_80</td>\n",
       "      <td>-0.252735</td>\n",
       "    </tr>\n",
       "    <tr>\n",
       "      <th>86</th>\n",
       "      <td>road_location_accident_road_side</td>\n",
       "      <td>-0.268816</td>\n",
       "    </tr>\n",
       "    <tr>\n",
       "      <th>29</th>\n",
       "      <td>vehicule_type_moto</td>\n",
       "      <td>-0.279428</td>\n",
       "    </tr>\n",
       "    <tr>\n",
       "      <th>0</th>\n",
       "      <td>speed_group</td>\n",
       "      <td>-0.419564</td>\n",
       "    </tr>\n",
       "  </tbody>\n",
       "</table>\n",
       "<p>113 rows × 2 columns</p>\n",
       "</div>"
      ],
      "text/plain": [
       "                                   features_name     coefs\n",
       "62                       was_doing_straight_line  0.246524\n",
       "63                             was_doing_turning  0.236421\n",
       "6            travelling_direction_unidirectional  0.228695\n",
       "17                          impact_location_rear  0.228332\n",
       "9   collision_type_three_or_more_vehicules_chain  0.226883\n",
       "..                                           ...       ...\n",
       "22                       in_out_city_out_of_city -0.237959\n",
       "67                               age_group_60_80 -0.252735\n",
       "86              road_location_accident_road_side -0.268816\n",
       "29                            vehicule_type_moto -0.279428\n",
       "0                                    speed_group -0.419564\n",
       "\n",
       "[113 rows x 2 columns]"
      ]
     },
     "execution_count": 44,
     "metadata": {},
     "output_type": "execute_result"
    }
   ],
   "source": [
    "pd_features = pd.DataFrame({'features_name':X_train.columns, 'coefs':lr.coef_[0]})\n",
    "pd_features.sort_values(by='coefs', ascending=False)"
   ]
  },
  {
   "attachments": {},
   "cell_type": "markdown",
   "metadata": {},
   "source": [
    "#### AdaBoost"
   ]
  },
  {
   "cell_type": "code",
   "execution_count": 45,
   "metadata": {},
   "outputs": [
    {
     "name": "stdout",
     "output_type": "stream",
     "text": [
      "Fitting 3 folds for each of 4 candidates, totalling 12 fits\n",
      "best params : {'learning_rate': 1, 'n_estimators': 150}\n",
      "Test_f1_score : 0.9172710352352225\n",
      "Test_precision score : 0.8648190729759168\n",
      "Test_accuracy score : 0.8510515368615669\n",
      "Test_recall score : 0.9764963104673408\n",
      "Test_roc_auc score : 0.5702092330779818\n",
      "CPU times: total: 11.2 s\n",
      "Wall time: 1min 7s\n"
     ]
    },
    {
     "data": {
      "image/png": "[encoded data removed]",
      "text/plain": [
       "<Figure size 432x288 with 2 Axes>"
      ]
     },
     "metadata": {
      "needs_background": "light"
     },
     "output_type": "display_data"
    },
    {
     "data": {
      "image/png": "[encoded data removed]",
      "text/plain": [
       "<Figure size 432x288 with 1 Axes>"
      ]
     },
     "metadata": {
      "needs_background": "light"
     },
     "output_type": "display_data"
    }
   ],
   "source": [
    "%%time\n",
    "model = meta_func (\n",
    "    model=AdaBoostClassifier(random_state=42)\n",
    ",\n",
    "    model_name='abc_2nd_round',\n",
    "    param_grid=\n",
    "{\n",
    "    'n_estimators': [150,300], \n",
    "    'learning_rate': [1, 2]\n",
    "    }\n",
    ",\n",
    "    X_train=X_train,\n",
    "    y_train=y_train,\n",
    "    X_test=X_test,\n",
    "    y_test=y_test,\n",
    "    score_dict= score_dict_passengers\n",
    ")"
   ]
  },
  {
   "cell_type": "code",
   "execution_count": 46,
   "metadata": {},
   "outputs": [
    {
     "data": {
      "text/html": [
       "<div>\n",
       "<style scoped>\n",
       "    .dataframe tbody tr th:only-of-type {\n",
       "        vertical-align: middle;\n",
       "    }\n",
       "\n",
       "    .dataframe tbody tr th {\n",
       "        vertical-align: top;\n",
       "    }\n",
       "\n",
       "    .dataframe thead th {\n",
       "        text-align: right;\n",
       "    }\n",
       "</style>\n",
       "<table border=\"1\" class=\"dataframe\">\n",
       "  <thead>\n",
       "    <tr style=\"text-align: right;\">\n",
       "      <th></th>\n",
       "      <th>Features</th>\n",
       "      <th>Coef_</th>\n",
       "    </tr>\n",
       "  </thead>\n",
       "  <tbody>\n",
       "    <tr>\n",
       "      <th>3</th>\n",
       "      <td>hour</td>\n",
       "      <td>0.093333</td>\n",
       "    </tr>\n",
       "    <tr>\n",
       "      <th>0</th>\n",
       "      <td>speed_group</td>\n",
       "      <td>0.080000</td>\n",
       "    </tr>\n",
       "    <tr>\n",
       "      <th>2</th>\n",
       "      <td>num_operating_lanes</td>\n",
       "      <td>0.080000</td>\n",
       "    </tr>\n",
       "    <tr>\n",
       "      <th>22</th>\n",
       "      <td>in_out_city_out_of_city</td>\n",
       "      <td>0.046667</td>\n",
       "    </tr>\n",
       "    <tr>\n",
       "      <th>17</th>\n",
       "      <td>impact_location_rear</td>\n",
       "      <td>0.033333</td>\n",
       "    </tr>\n",
       "    <tr>\n",
       "      <th>...</th>\n",
       "      <td>...</td>\n",
       "      <td>...</td>\n",
       "    </tr>\n",
       "    <tr>\n",
       "      <th>44</th>\n",
       "      <td>road_incline_hill_top</td>\n",
       "      <td>0.000000</td>\n",
       "    </tr>\n",
       "    <tr>\n",
       "      <th>88</th>\n",
       "      <td>road_location_accident_special_lane</td>\n",
       "      <td>0.000000</td>\n",
       "    </tr>\n",
       "    <tr>\n",
       "      <th>25</th>\n",
       "      <td>vehicule_type_electric_bike</td>\n",
       "      <td>0.000000</td>\n",
       "    </tr>\n",
       "    <tr>\n",
       "      <th>24</th>\n",
       "      <td>vehicule_type_car</td>\n",
       "      <td>0.000000</td>\n",
       "    </tr>\n",
       "    <tr>\n",
       "      <th>45</th>\n",
       "      <td>road_incline_incline</td>\n",
       "      <td>0.000000</td>\n",
       "    </tr>\n",
       "  </tbody>\n",
       "</table>\n",
       "<p>113 rows × 2 columns</p>\n",
       "</div>"
      ],
      "text/plain": [
       "                               Features     Coef_\n",
       "3                                  hour  0.093333\n",
       "0                           speed_group  0.080000\n",
       "2                   num_operating_lanes  0.080000\n",
       "22              in_out_city_out_of_city  0.046667\n",
       "17                 impact_location_rear  0.033333\n",
       "..                                  ...       ...\n",
       "44                road_incline_hill_top  0.000000\n",
       "88  road_location_accident_special_lane  0.000000\n",
       "25          vehicule_type_electric_bike  0.000000\n",
       "24                    vehicule_type_car  0.000000\n",
       "45                 road_incline_incline  0.000000\n",
       "\n",
       "[113 rows x 2 columns]"
      ]
     },
     "execution_count": 46,
     "metadata": {},
     "output_type": "execute_result"
    }
   ],
   "source": [
    "pd_features = pd.DataFrame({'Features': X_train.columns,'Coef_': model.best_estimator_.feature_importances_})\n",
    "pd_features.sort_values(by='Coef_', ascending=False)"
   ]
  },
  {
   "attachments": {},
   "cell_type": "markdown",
   "metadata": {},
   "source": [
    "#### XGBoost"
   ]
  },
  {
   "cell_type": "code",
   "execution_count": 47,
   "metadata": {},
   "outputs": [
    {
     "name": "stdout",
     "output_type": "stream",
     "text": [
      "Fitting 3 folds for each of 8 candidates, totalling 24 fits\n",
      "best params : {'learning_rate': 0.5, 'max_depth': 3, 'min_split_loss': 2}\n",
      "Test_f1_score : 0.9174005270939127\n",
      "Test_precision score : 0.8661245296759316\n",
      "Test_accuracy score : 0.8515137508666513\n",
      "Test_recall score : 0.9751298168898607\n",
      "Test_roc_auc score : 0.5747655072473256\n",
      "CPU times: total: 25.1 s\n",
      "Wall time: 52.8 s\n"
     ]
    },
    {
     "data": {
      "image/png": "[encoded data removed]",
      "text/plain": [
       "<Figure size 432x288 with 2 Axes>"
      ]
     },
     "metadata": {
      "needs_background": "light"
     },
     "output_type": "display_data"
    },
    {
     "data": {
      "image/png": "[encoded data removed]",
      "text/plain": [
       "<Figure size 432x288 with 1 Axes>"
      ]
     },
     "metadata": {
      "needs_background": "light"
     },
     "output_type": "display_data"
    }
   ],
   "source": [
    "%%time\n",
    "model = meta_func (\n",
    "    model=XGBClassifier(random_state=42)\n",
    ",\n",
    "    model_name='xgb_2nd_round',\n",
    "    param_grid=\n",
    "{\n",
    "    'learning_rate': [0.5,1], \n",
    "    'min_split_loss': [1,2], #The larger gamma is, the more conservative the algorithm will be\n",
    "    'max_depth':[2,3] #Maximum depth of a tree. Increasing this value will make the model more complex and more likely to overfit.\n",
    "     # Beware that XGBoost aggressively consumes memory when training a deep tree\n",
    "    }\n",
    ",\n",
    "    X_train=X_train,\n",
    "    y_train=y_train,\n",
    "    X_test=X_test,\n",
    "    y_test=y_test,\n",
    "    score_dict= score_dict_passengers\n",
    ")"
   ]
  },
  {
   "cell_type": "code",
   "execution_count": 48,
   "metadata": {},
   "outputs": [
    {
     "data": {
      "text/html": [
       "<div>\n",
       "<style scoped>\n",
       "    .dataframe tbody tr th:only-of-type {\n",
       "        vertical-align: middle;\n",
       "    }\n",
       "\n",
       "    .dataframe tbody tr th {\n",
       "        vertical-align: top;\n",
       "    }\n",
       "\n",
       "    .dataframe thead th {\n",
       "        text-align: right;\n",
       "    }\n",
       "</style>\n",
       "<table border=\"1\" class=\"dataframe\">\n",
       "  <thead>\n",
       "    <tr style=\"text-align: right;\">\n",
       "      <th></th>\n",
       "      <th>Features</th>\n",
       "      <th>Coef_</th>\n",
       "    </tr>\n",
       "  </thead>\n",
       "  <tbody>\n",
       "    <tr>\n",
       "      <th>85</th>\n",
       "      <td>road_location_accident_road</td>\n",
       "      <td>0.118704</td>\n",
       "    </tr>\n",
       "    <tr>\n",
       "      <th>22</th>\n",
       "      <td>in_out_city_out_of_city</td>\n",
       "      <td>0.059219</td>\n",
       "    </tr>\n",
       "    <tr>\n",
       "      <th>54</th>\n",
       "      <td>was_doing_lurch</td>\n",
       "      <td>0.052949</td>\n",
       "    </tr>\n",
       "    <tr>\n",
       "      <th>80</th>\n",
       "      <td>road_type_urban_rd</td>\n",
       "      <td>0.052729</td>\n",
       "    </tr>\n",
       "    <tr>\n",
       "      <th>17</th>\n",
       "      <td>impact_location_rear</td>\n",
       "      <td>0.045072</td>\n",
       "    </tr>\n",
       "    <tr>\n",
       "      <th>...</th>\n",
       "      <td>...</td>\n",
       "      <td>...</td>\n",
       "    </tr>\n",
       "    <tr>\n",
       "      <th>38</th>\n",
       "      <td>vehicule_type_train</td>\n",
       "      <td>0.000000</td>\n",
       "    </tr>\n",
       "    <tr>\n",
       "      <th>37</th>\n",
       "      <td>vehicule_type_tractor</td>\n",
       "      <td>0.000000</td>\n",
       "    </tr>\n",
       "    <tr>\n",
       "      <th>30</th>\n",
       "      <td>vehicule_type_others</td>\n",
       "      <td>0.000000</td>\n",
       "    </tr>\n",
       "    <tr>\n",
       "      <th>88</th>\n",
       "      <td>road_location_accident_special_lane</td>\n",
       "      <td>0.000000</td>\n",
       "    </tr>\n",
       "    <tr>\n",
       "      <th>55</th>\n",
       "      <td>was_doing_on_sidewalk</td>\n",
       "      <td>0.000000</td>\n",
       "    </tr>\n",
       "  </tbody>\n",
       "</table>\n",
       "<p>113 rows × 2 columns</p>\n",
       "</div>"
      ],
      "text/plain": [
       "                               Features     Coef_\n",
       "85          road_location_accident_road  0.118704\n",
       "22              in_out_city_out_of_city  0.059219\n",
       "54                      was_doing_lurch  0.052949\n",
       "80                   road_type_urban_rd  0.052729\n",
       "17                 impact_location_rear  0.045072\n",
       "..                                  ...       ...\n",
       "38                  vehicule_type_train  0.000000\n",
       "37                vehicule_type_tractor  0.000000\n",
       "30                 vehicule_type_others  0.000000\n",
       "88  road_location_accident_special_lane  0.000000\n",
       "55                was_doing_on_sidewalk  0.000000\n",
       "\n",
       "[113 rows x 2 columns]"
      ]
     },
     "execution_count": 48,
     "metadata": {},
     "output_type": "execute_result"
    }
   ],
   "source": [
    "pd_features = pd.DataFrame({'Features': X_train.columns,'Coef_': model.best_estimator_.feature_importances_})\n",
    "pd_features.sort_values(by='Coef_', ascending=False)"
   ]
  },
  {
   "attachments": {},
   "cell_type": "markdown",
   "metadata": {},
   "source": [
    "#### Linear Support Vectors Classifiers"
   ]
  },
  {
   "cell_type": "code",
   "execution_count": 49,
   "metadata": {},
   "outputs": [
    {
     "name": "stdout",
     "output_type": "stream",
     "text": [
      "Fitting 3 folds for each of 24 candidates, totalling 72 fits\n",
      "best params : {'lsvc__C': 0.1, 'lsvc__dual': True, 'lsvc__max_iter': 500, 'lsvc__penalty': 'l2'}\n",
      "Test_f1_score : 0.8146828777201269\n",
      "Test_precision score : 0.9401251117068812\n",
      "Test_accuracy score : 0.7234804714582852\n",
      "Test_recall score : 0.7187756217545778\n",
      "Test_roc_auc score : 0.7340135593802829\n",
      "CPU times: total: 10.4 s\n",
      "Wall time: 2min 10s\n"
     ]
    },
    {
     "data": {
      "image/png": "[encoded data removed]",
      "text/plain": [
       "<Figure size 432x288 with 2 Axes>"
      ]
     },
     "metadata": {
      "needs_background": "light"
     },
     "output_type": "display_data"
    },
    {
     "data": {
      "image/png": "[encoded data removed]",
      "text/plain": [
       "<Figure size 432x288 with 1 Axes>"
      ]
     },
     "metadata": {
      "needs_background": "light"
     },
     "output_type": "display_data"
    }
   ],
   "source": [
    "%%time\n",
    "model = meta_func (\n",
    "    model=Pipeline(\n",
    "        [\n",
    "            ('ss',StandardScaler()),\n",
    "            ('lsvc', LinearSVC(class_weight='balanced'))\n",
    "        ]\n",
    "    ),\n",
    "    model_name='lsvc_2nd_round',\n",
    "    param_grid=\n",
    "{   'lsvc__max_iter':[500,1000],\n",
    "    'lsvc__C': [0.001,0.01,0.1], \n",
    "    'lsvc__dual': [True, False],     \n",
    "    'lsvc__penalty':['l1','l2']   \n",
    "},\n",
    "    X_train=X_train,\n",
    "    y_train=y_train,\n",
    "    X_test=X_test,\n",
    "    y_test=y_test,\n",
    "    score_dict= score_dict_passengers\n",
    ")"
   ]
  },
  {
   "cell_type": "code",
   "execution_count": 50,
   "metadata": {},
   "outputs": [
    {
     "data": {
      "text/html": [
       "<div>\n",
       "<style scoped>\n",
       "    .dataframe tbody tr th:only-of-type {\n",
       "        vertical-align: middle;\n",
       "    }\n",
       "\n",
       "    .dataframe tbody tr th {\n",
       "        vertical-align: top;\n",
       "    }\n",
       "\n",
       "    .dataframe thead th {\n",
       "        text-align: right;\n",
       "    }\n",
       "</style>\n",
       "<table border=\"1\" class=\"dataframe\">\n",
       "  <thead>\n",
       "    <tr style=\"text-align: right;\">\n",
       "      <th></th>\n",
       "      <th>Features</th>\n",
       "      <th>Coef_</th>\n",
       "    </tr>\n",
       "  </thead>\n",
       "  <tbody>\n",
       "    <tr>\n",
       "      <th>109</th>\n",
       "      <td>road_surface_wet</td>\n",
       "      <td>0.120018</td>\n",
       "    </tr>\n",
       "    <tr>\n",
       "      <th>104</th>\n",
       "      <td>road_surface_normal</td>\n",
       "      <td>0.116721</td>\n",
       "    </tr>\n",
       "    <tr>\n",
       "      <th>62</th>\n",
       "      <td>was_doing_straight_line</td>\n",
       "      <td>0.111586</td>\n",
       "    </tr>\n",
       "    <tr>\n",
       "      <th>63</th>\n",
       "      <td>was_doing_turning</td>\n",
       "      <td>0.101804</td>\n",
       "    </tr>\n",
       "    <tr>\n",
       "      <th>9</th>\n",
       "      <td>collision_type_three_or_more_vehicules_chain</td>\n",
       "      <td>0.093139</td>\n",
       "    </tr>\n",
       "    <tr>\n",
       "      <th>...</th>\n",
       "      <td>...</td>\n",
       "      <td>...</td>\n",
       "    </tr>\n",
       "    <tr>\n",
       "      <th>76</th>\n",
       "      <td>road_type_national_rd</td>\n",
       "      <td>-0.129269</td>\n",
       "    </tr>\n",
       "    <tr>\n",
       "      <th>80</th>\n",
       "      <td>road_type_urban_rd</td>\n",
       "      <td>-0.139361</td>\n",
       "    </tr>\n",
       "    <tr>\n",
       "      <th>29</th>\n",
       "      <td>vehicule_type_moto</td>\n",
       "      <td>-0.160746</td>\n",
       "    </tr>\n",
       "    <tr>\n",
       "      <th>0</th>\n",
       "      <td>speed_group</td>\n",
       "      <td>-0.163694</td>\n",
       "    </tr>\n",
       "    <tr>\n",
       "      <th>78</th>\n",
       "      <td>road_type_regional_rd</td>\n",
       "      <td>-0.246398</td>\n",
       "    </tr>\n",
       "  </tbody>\n",
       "</table>\n",
       "<p>113 rows × 2 columns</p>\n",
       "</div>"
      ],
      "text/plain": [
       "                                         Features     Coef_\n",
       "109                              road_surface_wet  0.120018\n",
       "104                           road_surface_normal  0.116721\n",
       "62                        was_doing_straight_line  0.111586\n",
       "63                              was_doing_turning  0.101804\n",
       "9    collision_type_three_or_more_vehicules_chain  0.093139\n",
       "..                                            ...       ...\n",
       "76                          road_type_national_rd -0.129269\n",
       "80                             road_type_urban_rd -0.139361\n",
       "29                             vehicule_type_moto -0.160746\n",
       "0                                     speed_group -0.163694\n",
       "78                          road_type_regional_rd -0.246398\n",
       "\n",
       "[113 rows x 2 columns]"
      ]
     },
     "execution_count": 50,
     "metadata": {},
     "output_type": "execute_result"
    }
   ],
   "source": [
    "pd_features = pd.DataFrame({'Features': X_train.columns,'Coef_': model.best_estimator_.steps[-1][1].coef_[0]})\n",
    "pd_features.sort_values(by='Coef_', ascending=False)"
   ]
  },
  {
   "cell_type": "code",
   "execution_count": 51,
   "metadata": {},
   "outputs": [
    {
     "data": {
      "text/html": [
       "<div>\n",
       "<style scoped>\n",
       "    .dataframe tbody tr th:only-of-type {\n",
       "        vertical-align: middle;\n",
       "    }\n",
       "\n",
       "    .dataframe tbody tr th {\n",
       "        vertical-align: top;\n",
       "    }\n",
       "\n",
       "    .dataframe thead th {\n",
       "        text-align: right;\n",
       "    }\n",
       "</style>\n",
       "<table border=\"1\" class=\"dataframe\">\n",
       "  <thead>\n",
       "    <tr style=\"text-align: right;\">\n",
       "      <th></th>\n",
       "      <th>Train_acc</th>\n",
       "      <th>Test_acc</th>\n",
       "      <th>Train_recall</th>\n",
       "      <th>Test_recall</th>\n",
       "      <th>Train_preci</th>\n",
       "      <th>Test_preci</th>\n",
       "      <th>Train_f1score</th>\n",
       "      <th>Test_f1score</th>\n",
       "      <th>Train_roc_auc</th>\n",
       "      <th>Test_roc_auc</th>\n",
       "      <th>Train_specificity</th>\n",
       "      <th>Test_specificity</th>\n",
       "    </tr>\n",
       "  </thead>\n",
       "  <tbody>\n",
       "    <tr>\n",
       "      <th>lr_2nd_round</th>\n",
       "      <td>0.716263</td>\n",
       "      <td>0.722787</td>\n",
       "      <td>0.711059</td>\n",
       "      <td>0.717682</td>\n",
       "      <td>0.938492</td>\n",
       "      <td>0.940376</td>\n",
       "      <td>0.809097</td>\n",
       "      <td>0.814074</td>\n",
       "      <td>0.727910</td>\n",
       "      <td>0.734215</td>\n",
       "      <td>0.744760</td>\n",
       "      <td>0.750749</td>\n",
       "    </tr>\n",
       "    <tr>\n",
       "      <th>lsvc_2nd_round</th>\n",
       "      <td>0.716292</td>\n",
       "      <td>0.723480</td>\n",
       "      <td>0.710684</td>\n",
       "      <td>0.718776</td>\n",
       "      <td>0.938970</td>\n",
       "      <td>0.940125</td>\n",
       "      <td>0.809031</td>\n",
       "      <td>0.814683</td>\n",
       "      <td>0.728845</td>\n",
       "      <td>0.734014</td>\n",
       "      <td>0.747006</td>\n",
       "      <td>0.749251</td>\n",
       "    </tr>\n",
       "    <tr>\n",
       "      <th>lr_1st_round</th>\n",
       "      <td>0.716638</td>\n",
       "      <td>0.721863</td>\n",
       "      <td>0.711709</td>\n",
       "      <td>0.717136</td>\n",
       "      <td>0.938291</td>\n",
       "      <td>0.939660</td>\n",
       "      <td>0.809442</td>\n",
       "      <td>0.813454</td>\n",
       "      <td>0.727673</td>\n",
       "      <td>0.732445</td>\n",
       "      <td>0.743638</td>\n",
       "      <td>0.747754</td>\n",
       "    </tr>\n",
       "    <tr>\n",
       "      <th>lsvc_1st_round</th>\n",
       "      <td>0.715829</td>\n",
       "      <td>0.721747</td>\n",
       "      <td>0.710240</td>\n",
       "      <td>0.716999</td>\n",
       "      <td>0.938807</td>\n",
       "      <td>0.939649</td>\n",
       "      <td>0.808683</td>\n",
       "      <td>0.813362</td>\n",
       "      <td>0.728342</td>\n",
       "      <td>0.732377</td>\n",
       "      <td>0.746445</td>\n",
       "      <td>0.747754</td>\n",
       "    </tr>\n",
       "    <tr>\n",
       "      <th>xgb_2nd_round</th>\n",
       "      <td>0.855141</td>\n",
       "      <td>0.851514</td>\n",
       "      <td>0.978612</td>\n",
       "      <td>0.975130</td>\n",
       "      <td>0.867155</td>\n",
       "      <td>0.866125</td>\n",
       "      <td>0.919518</td>\n",
       "      <td>0.917401</td>\n",
       "      <td>0.578752</td>\n",
       "      <td>0.574766</td>\n",
       "      <td>0.178892</td>\n",
       "      <td>0.174401</td>\n",
       "    </tr>\n",
       "    <tr>\n",
       "      <th>abc_1st_round</th>\n",
       "      <td>0.847254</td>\n",
       "      <td>0.851398</td>\n",
       "      <td>0.975196</td>\n",
       "      <td>0.976360</td>\n",
       "      <td>0.862222</td>\n",
       "      <td>0.865222</td>\n",
       "      <td>0.915236</td>\n",
       "      <td>0.917437</td>\n",
       "      <td>0.560858</td>\n",
       "      <td>0.571638</td>\n",
       "      <td>0.146519</td>\n",
       "      <td>0.166916</td>\n",
       "    </tr>\n",
       "    <tr>\n",
       "      <th>abc_2nd_round</th>\n",
       "      <td>0.847341</td>\n",
       "      <td>0.851052</td>\n",
       "      <td>0.975366</td>\n",
       "      <td>0.976496</td>\n",
       "      <td>0.862191</td>\n",
       "      <td>0.864819</td>\n",
       "      <td>0.915293</td>\n",
       "      <td>0.917271</td>\n",
       "      <td>0.560756</td>\n",
       "      <td>0.570209</td>\n",
       "      <td>0.146145</td>\n",
       "      <td>0.163922</td>\n",
       "    </tr>\n",
       "    <tr>\n",
       "      <th>xgb_1st_round</th>\n",
       "      <td>0.851472</td>\n",
       "      <td>0.852207</td>\n",
       "      <td>0.978988</td>\n",
       "      <td>0.978273</td>\n",
       "      <td>0.863593</td>\n",
       "      <td>0.864718</td>\n",
       "      <td>0.917677</td>\n",
       "      <td>0.917997</td>\n",
       "      <td>0.566028</td>\n",
       "      <td>0.569975</td>\n",
       "      <td>0.153069</td>\n",
       "      <td>0.161677</td>\n",
       "    </tr>\n",
       "  </tbody>\n",
       "</table>\n",
       "</div>"
      ],
      "text/plain": [
       "                Train_acc  Test_acc  Train_recall  Test_recall  Train_preci  \\\n",
       "lr_2nd_round     0.716263  0.722787      0.711059     0.717682     0.938492   \n",
       "lsvc_2nd_round   0.716292  0.723480      0.710684     0.718776     0.938970   \n",
       "lr_1st_round     0.716638  0.721863      0.711709     0.717136     0.938291   \n",
       "lsvc_1st_round   0.715829  0.721747      0.710240     0.716999     0.938807   \n",
       "xgb_2nd_round    0.855141  0.851514      0.978612     0.975130     0.867155   \n",
       "abc_1st_round    0.847254  0.851398      0.975196     0.976360     0.862222   \n",
       "abc_2nd_round    0.847341  0.851052      0.975366     0.976496     0.862191   \n",
       "xgb_1st_round    0.851472  0.852207      0.978988     0.978273     0.863593   \n",
       "\n",
       "                Test_preci  Train_f1score  Test_f1score  Train_roc_auc  \\\n",
       "lr_2nd_round      0.940376       0.809097      0.814074       0.727910   \n",
       "lsvc_2nd_round    0.940125       0.809031      0.814683       0.728845   \n",
       "lr_1st_round      0.939660       0.809442      0.813454       0.727673   \n",
       "lsvc_1st_round    0.939649       0.808683      0.813362       0.728342   \n",
       "xgb_2nd_round     0.866125       0.919518      0.917401       0.578752   \n",
       "abc_1st_round     0.865222       0.915236      0.917437       0.560858   \n",
       "abc_2nd_round     0.864819       0.915293      0.917271       0.560756   \n",
       "xgb_1st_round     0.864718       0.917677      0.917997       0.566028   \n",
       "\n",
       "                Test_roc_auc  Train_specificity  Test_specificity  \n",
       "lr_2nd_round        0.734215           0.744760          0.750749  \n",
       "lsvc_2nd_round      0.734014           0.747006          0.749251  \n",
       "lr_1st_round        0.732445           0.743638          0.747754  \n",
       "lsvc_1st_round      0.732377           0.746445          0.747754  \n",
       "xgb_2nd_round       0.574766           0.178892          0.174401  \n",
       "abc_1st_round       0.571638           0.146519          0.166916  \n",
       "abc_2nd_round       0.570209           0.146145          0.163922  \n",
       "xgb_1st_round       0.569975           0.153069          0.161677  "
      ]
     },
     "execution_count": 51,
     "metadata": {},
     "output_type": "execute_result"
    }
   ],
   "source": [
    "passengers_score_df= pd.DataFrame(score_dict_passengers).T\n",
    "passengers_score_df.sort_values(by= 'Test_specificity', ascending=False)"
   ]
  },
  {
   "cell_type": "code",
   "execution_count": 52,
   "metadata": {},
   "outputs": [
    {
     "data": {
      "text/plain": [
       "{'ResponseMetadata': {'RequestId': 'XNVFEVZV11980V45',\n",
       "  'HostId': 'e/kDosgwH0yBDarBuDzlwCJQlPPCrHrUHAbgupgUQuqW4CXrszxfQgeqTi6oeOG1aaAdgU93FUA=',\n",
       "  'HTTPStatusCode': 200,\n",
       "  'HTTPHeaders': {'x-amz-id-2': 'e/kDosgwH0yBDarBuDzlwCJQlPPCrHrUHAbgupgUQuqW4CXrszxfQgeqTi6oeOG1aaAdgU93FUA=',\n",
       "   'x-amz-request-id': 'XNVFEVZV11980V45',\n",
       "   'date': 'Thu, 08 Dec 2022 08:50:18 GMT',\n",
       "   'etag': '\"577bc966ee26a48c8cb23a3f7763c4ca\"',\n",
       "   'server': 'AmazonS3',\n",
       "   'content-length': '0'},\n",
       "  'RetryAttempts': 1},\n",
       " 'ETag': '\"577bc966ee26a48c8cb23a3f7763c4ca\"'}"
      ]
     },
     "execution_count": 52,
     "metadata": {},
     "output_type": "execute_result"
    }
   ],
   "source": [
    "#exporting scoring file to AWS S3\n",
    "bucket = aws_creds.bucket # already created on S3\n",
    "csv_buffer = StringIO()\n",
    "passengers_score_df.to_csv(csv_buffer)\n",
    "s3_resource = boto3.resource('s3')\n",
    "s3_resource.Object(bucket, 'passengers_scores.csv').put(Body=csv_buffer.getvalue()) "
   ]
  },
  {
   "cell_type": "code",
   "execution_count": 53,
   "metadata": {},
   "outputs": [
    {
     "name": "stdout",
     "output_type": "stream",
     "text": [
      "Execution time: 10.77948175271352 minutes\n"
     ]
    }
   ],
   "source": [
    "et = time.time() # end time\n",
    "elapsed_time = et - st\n",
    "print('Execution time:', elapsed_time/60, 'minutes')"
   ]
  }
 ],
 "metadata": {
  "kernelspec": {
   "display_name": "Python 3.9.12 ('base')",
   "language": "python",
   "name": "python3"
  },
  "language_info": {
   "codemirror_mode": {
    "name": "ipython",
    "version": 3
   },
   "file_extension": ".py",
   "mimetype": "text/x-python",
   "name": "python",
   "nbconvert_exporter": "python",
   "pygments_lexer": "ipython3",
   "version": "3.9.12 (main, Apr  4 2022, 05:22:27) [MSC v.1916 64 bit (AMD64)]"
  },
  "orig_nbformat": 4,
  "vscode": {
   "interpreter": {
    "hash": "25a04f5bcc4cce45f88f55048bde1d1871ccb10dc4647418ede9299c65043aaf"
   }
  }
 },
 "nbformat": 4,
 "nbformat_minor": 2
}
