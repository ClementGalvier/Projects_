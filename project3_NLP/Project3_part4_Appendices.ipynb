{
 "cells": [
  {
   "cell_type": "markdown",
   "metadata": {},
   "source": [
    "### `--Did not manage to complete-- Testing MLFlow and Streamlit`\n",
    "---"
   ]
  },
  {
   "cell_type": "markdown",
   "metadata": {},
   "source": [
    "# Initialize MLFlow\n",
    "1. Open a new terminal window\n",
    "1. Activate the `dsi-sg` mamba/conda environment\n",
    "1. Navigate to the `12.01-mlops/solution-code` lesson folder\n",
    "1. Now run the below code from this terminal window. Ensure you're inside the `solution-code` folder!: `mlflow ui --backend-store-uri sqlite:///mlflow.db`\n",
    "1. The above code starts a small webserver running the MLFlow application on your computer. It uses SQLite to store the experiment information in a database\n",
    "1. You can open the mlflow UI by opening this link in your browser: http://localhost:5000/\n",
    "\n",
    "<img src=\"../images/01_01_MLFlow_UI.png\" width=\"1000\">"
   ]
  },
  {
   "cell_type": "code",
   "execution_count": null,
   "metadata": {},
   "outputs": [
    {
     "name": "stderr",
     "output_type": "stream",
     "text": [
      "2022/10/01 08:55:46 INFO mlflow.tracking.fluent: Autologging successfully enabled for sklearn.\n",
      "2022/10/01 08:55:47 INFO mlflow.tracking.fluent: Autologging successfully enabled for statsmodels.\n"
     ]
    }
   ],
   "source": [
    "import mlflow\n",
    "\n",
    "mlflow.set_tracking_uri(\"sqlite:///mlflow.db\")\n",
    "\n",
    "# Set the name of the experiment we're running in this notebook\n",
    "# MLFlow will connect to an existing experiment or create a new one if the experiment is not already present\n",
    "mlflow.set_experiment(\"dunkin_or_starbucks\")\n",
    "\n",
    "# Start automatically logging experiment details to MLFlow\n",
    "mlflow.autolog()"
   ]
  },
  {
   "cell_type": "markdown",
   "metadata": {},
   "source": []
  },
  {
   "cell_type": "code",
   "execution_count": null,
   "metadata": {},
   "outputs": [],
   "source": [
    "X = df_concat['stem'] # still on the stemmed column\n",
    "y = df_concat['subreddit']"
   ]
  },
  {
   "cell_type": "code",
   "execution_count": null,
   "metadata": {},
   "outputs": [],
   "source": [
    "X_train, X_test, y_train, y_test = train_test_split(\n",
    "    X, \n",
    "    y, \n",
    "    test_size=0.3, \n",
    "    random_state=42, \n",
    "    stratify=y\n",
    "    )"
   ]
  },
  {
   "cell_type": "code",
   "execution_count": null,
   "metadata": {},
   "outputs": [],
   "source": [
    "#instanciating the object\n",
    "rf = RandomForestClassifier() "
   ]
  },
  {
   "cell_type": "code",
   "execution_count": null,
   "metadata": {},
   "outputs": [],
   "source": [
    "tvec = TfidfVectorizer()#instanciating the object"
   ]
  },
  {
   "cell_type": "code",
   "execution_count": null,
   "metadata": {},
   "outputs": [],
   "source": [
    "X_train = tvec.fit_transform(X_train)"
   ]
  },
  {
   "cell_type": "code",
   "execution_count": null,
   "metadata": {},
   "outputs": [
    {
     "data": {
      "text/plain": [
       "(4060, 10470)"
      ]
     },
     "metadata": {},
     "output_type": "display_data"
    }
   ],
   "source": [
    "X_train.shape"
   ]
  },
  {
   "cell_type": "code",
   "execution_count": null,
   "metadata": {},
   "outputs": [],
   "source": [
    "X_test =  tvec.fit(X_test) #no fit_transform here, only fit"
   ]
  },
  {
   "cell_type": "code",
   "execution_count": null,
   "metadata": {},
   "outputs": [],
   "source": [
    "#Preping for the gridsearch with random forest params\n",
    "rf_params = {\n",
    "    'n_estimators': [100, 150], # iterating over different number of trees in the forest\n",
    "    'max_depth': [None, 1, 2]# iterating over a defined set of max depth of tree. For None, the nodes are expanded until all leaves are pure\n",
    "}"
   ]
  },
  {
   "cell_type": "code",
   "execution_count": null,
   "metadata": {},
   "outputs": [
    {
     "name": "stdout",
     "output_type": "stream",
     "text": [
      "CPU times: total: 0 ns\n",
      "Wall time: 0 ns\n"
     ]
    }
   ],
   "source": [
    "%%time\n",
    "#using GridsearchCv to find the best parameters for this model\n",
    "gscv_rf = GridSearchCV(\n",
    "    rf, \n",
    "    param_grid=rf_params, \n",
    "    cv=3, #cross validate our data\n",
    "    verbose =1)"
   ]
  },
  {
   "cell_type": "code",
   "execution_count": null,
   "metadata": {},
   "outputs": [
    {
     "name": "stderr",
     "output_type": "stream",
     "text": [
      "2022/09/20 20:29:10 INFO mlflow.utils.autologging_utils: Created MLflow autologging run with ID 'f63fe607849645379e4881df0f6e9abd', which will track hyperparameters, performance metrics, model artifacts, and lineage information for the current sklearn workflow\n"
     ]
    },
    {
     "name": "stdout",
     "output_type": "stream",
     "text": [
      "Fitting 3 folds for each of 6 candidates, totalling 18 fits\n"
     ]
    },
    {
     "name": "stderr",
     "output_type": "stream",
     "text": [
      "2022/09/20 20:30:33 INFO mlflow.sklearn.utils: Logging the 5 best runs, one run will be omitted.\n"
     ]
    },
    {
     "name": "stdout",
     "output_type": "stream",
     "text": [
      "CPU times: total: 57 s\n",
      "Wall time: 1min 23s\n"
     ]
    },
    {
     "data": {
      "text/html": [
       "<style>#sk-container-id-15 {color: black;background-color: white;}#sk-container-id-15 pre{padding: 0;}#sk-container-id-15 div.sk-toggleable {background-color: white;}#sk-container-id-15 label.sk-toggleable__label {cursor: pointer;display: block;width: 100%;margin-bottom: 0;padding: 0.3em;box-sizing: border-box;text-align: center;}#sk-container-id-15 label.sk-toggleable__label-arrow:before {content: \"▸\";float: left;margin-right: 0.25em;color: #696969;}#sk-container-id-15 label.sk-toggleable__label-arrow:hover:before {color: black;}#sk-container-id-15 div.sk-estimator:hover label.sk-toggleable__label-arrow:before {color: black;}#sk-container-id-15 div.sk-toggleable__content {max-height: 0;max-width: 0;overflow: hidden;text-align: left;background-color: #f0f8ff;}#sk-container-id-15 div.sk-toggleable__content pre {margin: 0.2em;color: black;border-radius: 0.25em;background-color: #f0f8ff;}#sk-container-id-15 input.sk-toggleable__control:checked~div.sk-toggleable__content {max-height: 200px;max-width: 100%;overflow: auto;}#sk-container-id-15 input.sk-toggleable__control:checked~label.sk-toggleable__label-arrow:before {content: \"▾\";}#sk-container-id-15 div.sk-estimator input.sk-toggleable__control:checked~label.sk-toggleable__label {background-color: #d4ebff;}#sk-container-id-15 div.sk-label input.sk-toggleable__control:checked~label.sk-toggleable__label {background-color: #d4ebff;}#sk-container-id-15 input.sk-hidden--visually {border: 0;clip: rect(1px 1px 1px 1px);clip: rect(1px, 1px, 1px, 1px);height: 1px;margin: -1px;overflow: hidden;padding: 0;position: absolute;width: 1px;}#sk-container-id-15 div.sk-estimator {font-family: monospace;background-color: #f0f8ff;border: 1px dotted black;border-radius: 0.25em;box-sizing: border-box;margin-bottom: 0.5em;}#sk-container-id-15 div.sk-estimator:hover {background-color: #d4ebff;}#sk-container-id-15 div.sk-parallel-item::after {content: \"\";width: 100%;border-bottom: 1px solid gray;flex-grow: 1;}#sk-container-id-15 div.sk-label:hover label.sk-toggleable__label {background-color: #d4ebff;}#sk-container-id-15 div.sk-serial::before {content: \"\";position: absolute;border-left: 1px solid gray;box-sizing: border-box;top: 0;bottom: 0;left: 50%;z-index: 0;}#sk-container-id-15 div.sk-serial {display: flex;flex-direction: column;align-items: center;background-color: white;padding-right: 0.2em;padding-left: 0.2em;position: relative;}#sk-container-id-15 div.sk-item {position: relative;z-index: 1;}#sk-container-id-15 div.sk-parallel {display: flex;align-items: stretch;justify-content: center;background-color: white;position: relative;}#sk-container-id-15 div.sk-item::before, #sk-container-id-15 div.sk-parallel-item::before {content: \"\";position: absolute;border-left: 1px solid gray;box-sizing: border-box;top: 0;bottom: 0;left: 50%;z-index: -1;}#sk-container-id-15 div.sk-parallel-item {display: flex;flex-direction: column;z-index: 1;position: relative;background-color: white;}#sk-container-id-15 div.sk-parallel-item:first-child::after {align-self: flex-end;width: 50%;}#sk-container-id-15 div.sk-parallel-item:last-child::after {align-self: flex-start;width: 50%;}#sk-container-id-15 div.sk-parallel-item:only-child::after {width: 0;}#sk-container-id-15 div.sk-dashed-wrapped {border: 1px dashed gray;margin: 0 0.4em 0.5em 0.4em;box-sizing: border-box;padding-bottom: 0.4em;background-color: white;}#sk-container-id-15 div.sk-label label {font-family: monospace;font-weight: bold;display: inline-block;line-height: 1.2em;}#sk-container-id-15 div.sk-label-container {text-align: center;}#sk-container-id-15 div.sk-container {/* jupyter's `normalize.less` sets `[hidden] { display: none; }` but bootstrap.min.css set `[hidden] { display: none !important; }` so we also need the `!important` here to be able to override the default hidden behavior on the sphinx rendered scikit-learn.org. See: https://github.com/scikit-learn/scikit-learn/issues/21755 */display: inline-block !important;position: relative;}#sk-container-id-15 div.sk-text-repr-fallback {display: none;}</style><div id=\"sk-container-id-15\" class=\"sk-top-container\"><div class=\"sk-text-repr-fallback\"><pre>GridSearchCV(cv=3, estimator=RandomForestClassifier(),\n",
       "             param_grid={&#x27;max_depth&#x27;: [None, 1, 2], &#x27;n_estimators&#x27;: [100, 150]},\n",
       "             verbose=1)</pre><b>In a Jupyter environment, please rerun this cell to show the HTML representation or trust the notebook. <br />On GitHub, the HTML representation is unable to render, please try loading this page with nbviewer.org.</b></div><div class=\"sk-container\" hidden><div class=\"sk-item sk-dashed-wrapped\"><div class=\"sk-label-container\"><div class=\"sk-label sk-toggleable\"><input class=\"sk-toggleable__control sk-hidden--visually\" id=\"sk-estimator-id-45\" type=\"checkbox\" ><label for=\"sk-estimator-id-45\" class=\"sk-toggleable__label sk-toggleable__label-arrow\">GridSearchCV</label><div class=\"sk-toggleable__content\"><pre>GridSearchCV(cv=3, estimator=RandomForestClassifier(),\n",
       "             param_grid={&#x27;max_depth&#x27;: [None, 1, 2], &#x27;n_estimators&#x27;: [100, 150]},\n",
       "             verbose=1)</pre></div></div></div><div class=\"sk-parallel\"><div class=\"sk-parallel-item\"><div class=\"sk-item\"><div class=\"sk-label-container\"><div class=\"sk-label sk-toggleable\"><input class=\"sk-toggleable__control sk-hidden--visually\" id=\"sk-estimator-id-46\" type=\"checkbox\" ><label for=\"sk-estimator-id-46\" class=\"sk-toggleable__label sk-toggleable__label-arrow\">estimator: RandomForestClassifier</label><div class=\"sk-toggleable__content\"><pre>RandomForestClassifier()</pre></div></div></div><div class=\"sk-serial\"><div class=\"sk-item\"><div class=\"sk-estimator sk-toggleable\"><input class=\"sk-toggleable__control sk-hidden--visually\" id=\"sk-estimator-id-47\" type=\"checkbox\" ><label for=\"sk-estimator-id-47\" class=\"sk-toggleable__label sk-toggleable__label-arrow\">RandomForestClassifier</label><div class=\"sk-toggleable__content\"><pre>RandomForestClassifier()</pre></div></div></div></div></div></div></div></div></div></div>"
      ],
      "text/plain": [
       "GridSearchCV(cv=3, estimator=RandomForestClassifier(),\n",
       "             param_grid={'max_depth': [None, 1, 2], 'n_estimators': [100, 150]},\n",
       "             verbose=1)"
      ]
     },
     "metadata": {},
     "output_type": "display_data"
    }
   ],
   "source": [
    "%%time\n",
    "gscv_rf.fit(X_train, y_train)"
   ]
  },
  {
   "cell_type": "code",
   "execution_count": null,
   "metadata": {},
   "outputs": [
    {
     "name": "stdout",
     "output_type": "stream",
     "text": [
      "0.8467963127328332\n",
      "{'max_depth': None, 'n_estimators': 150}\n"
     ]
    }
   ],
   "source": [
    "print(gscv_rf.best_score_)\n",
    "print(gscv_rf.best_params_)"
   ]
  },
  {
   "cell_type": "code",
   "execution_count": null,
   "metadata": {},
   "outputs": [],
   "source": [
    "from sklearn.metrics import get_scorer"
   ]
  },
  {
   "cell_type": "code",
   "execution_count": null,
   "metadata": {},
   "outputs": [],
   "source": [
    "with mlflow.start_run():\n",
    "    knn_model.fit(X_train, y_train)"
   ]
  },
  {
   "cell_type": "code",
   "execution_count": null,
   "metadata": {},
   "outputs": [],
   "source": [
    "from mlflow.artifacts import download_artifacts"
   ]
  },
  {
   "cell_type": "code",
   "execution_count": null,
   "metadata": {},
   "outputs": [],
   "source": [
    "# Download the desired model from MLFlow to local directory\n",
    "# Get the URL by following instructions in above image\n",
    "full_path = './mlruns/2/208134a1a927409b99259d328f403aad/artifacts/model'"
   ]
  },
  {
   "cell_type": "code",
   "execution_count": null,
   "metadata": {},
   "outputs": [
    {
     "data": {
      "text/plain": [
       "'c:\\\\Users\\\\galvi\\\\OneDrive\\\\Documents\\\\GeneralAssembly\\\\Projects\\\\project_3\\\\model'"
      ]
     },
     "metadata": {},
     "output_type": "display_data"
    }
   ],
   "source": [
    "download_artifacts(full_path, dst_path='.')"
   ]
  },
  {
   "cell_type": "markdown",
   "metadata": {},
   "source": [
    "## `On to Flask`\n",
    "---"
   ]
  },
  {
   "cell_type": "code",
   "execution_count": null,
   "metadata": {},
   "outputs": [
    {
     "name": "stdout",
     "output_type": "stream",
     "text": [
      "Overwriting inference.py\n"
     ]
    }
   ],
   "source": [
    "%%writefile inference.py\n",
    "from flask import Flask, request\n",
    "import pandas as pd\n",
    "import os\n",
    "import mlflow.pyfunc\n",
    "\n",
    "# Step 2: Instantiate the Flask API\n",
    "api = Flask('ModelEndpoint')\n",
    "\n",
    "# Step 3: Load the model\n",
    "model = mlflow.pyfunc.load_model(model_uri=\"./model\")\n",
    "\n",
    "# Step 4: Create the routes\n",
    "## route 1: Health check. Just return success if the API is running\n",
    "@api.route('/')\n",
    "def home():\n",
    "    # return a simple string\n",
    "    return {\"message\": \"Hi there!\", \"success\": True}, 200\n",
    "\n",
    "    # route 2: accept input data\n",
    "# Post method is used when we want to receive some data from the user\n",
    "@api.route('/predict', methods = ['POST'])\n",
    "def make_predictions():\n",
    "    # Get the data sent over the API\n",
    "    user_input = request.get_json(force=True)\n",
    "    \n",
    "    # Convert user inputs to pandas dataframe\n",
    "    df_schema = {\"selftext\":str} # To ensure the columns get the correct datatype\n",
    "    user_input_df = pd.read_json(user_input, lines=True, dtype=df_schema) # Convert JSONL to dataframe\n",
    "    \n",
    "    # Run predictions and convert to list\n",
    "    predictions = model.predict(user_input_df).tolist()\n",
    "    \n",
    "    return {'predictions': predictions}\n",
    "    \n",
    "\n",
    "# Step 5: Main function that actually runs the API!\n",
    "if __name__ == '__main__':\n",
    "    api.run(host='0.0.0.0', \n",
    "            debug=True, # Debug=True ensures any changes to inference.py automatically updates the running API\n",
    "            port=int(os.environ.get(\"PORT\", 8080))\n",
    "           ) "
   ]
  },
  {
   "cell_type": "markdown",
   "metadata": {},
   "source": [
    "## `On to docker`\n",
    "------"
   ]
  },
  {
   "cell_type": "code",
   "execution_count": null,
   "metadata": {},
   "outputs": [
    {
     "name": "stdout",
     "output_type": "stream",
     "text": [
      "Overwriting Dockerfile\n"
     ]
    }
   ],
   "source": [
    "%%writefile Dockerfile\n",
    "# Use the official lightweight Python image from\n",
    "# https://hub.docker.com/_/python\n",
    "FROM python:3.8-slim\n",
    "\n",
    "# Copy all the files needed for the app to work\n",
    "COPY inference.py .\n",
    "COPY model/ ./model\n",
    "\n",
    "# Install all the necessary libraries\n",
    "RUN pip install -r ./model/requirements_test.txt\n",
    "\n",
    "# Run the API!\n",
    "CMD python inference.py"
   ]
  },
  {
   "cell_type": "code",
   "execution_count": null,
   "metadata": {},
   "outputs": [
    {
     "name": "stdout",
     "output_type": "stream",
     "text": [
      "Overwriting model/requirements_test.txt\n"
     ]
    }
   ],
   "source": [
    "%%writefile model/requirements_test.txt\n",
    "pandas\n",
    "flask\n",
    "mlflow-skinny\n",
    "scikit-learn==1.1.1"
   ]
  },
  {
   "cell_type": "code",
   "execution_count": null,
   "metadata": {},
   "outputs": [],
   "source": [
    "#in git bash\n",
    "#gcloud init\n",
    "#gcloud run deploy dunkin_or_starbucks --source . --region asia-southeast1"
   ]
  },
  {
   "cell_type": "markdown",
   "metadata": {},
   "source": [
    "## `On to Streamlit`\n",
    "-----\n"
   ]
  },
  {
   "cell_type": "code",
   "execution_count": null,
   "metadata": {},
   "outputs": [
    {
     "name": "stdout",
     "output_type": "stream",
     "text": [
      "Overwriting streamlit_app.py\n"
     ]
    }
   ],
   "source": [
    "%%writefile streamlit_app.py\n",
    "import streamlit as st\n",
    "import requests\n",
    "import json\n",
    "\n",
    "# Title of the page\n",
    "st.title(\"🎓 DunkinOrStarbucks\")"
   ]
  },
  {
   "cell_type": "code",
   "execution_count": null,
   "metadata": {},
   "outputs": [
    {
     "name": "stdout",
     "output_type": "stream",
     "text": [
      "Appending to streamlit_app.py\n"
     ]
    }
   ],
   "source": [
    "%%writefile -a streamlit_app.py\n",
    "\n",
    "# Get user inputs\n",
    "comment  =st.text(\"Comment\", help =\"paste your comment here to check whether it belongs to Dunkin or Starbucks subreddit\" )\n",
    "\n",
    "\n",
    "# Display the inputs\n",
    "user_input = {\"comment\":comment}\n",
    "# st.write(\"User input:\")\n",
    "st.write(user_input)"
   ]
  },
  {
   "cell_type": "code",
   "execution_count": null,
   "metadata": {},
   "outputs": [
    {
     "name": "stdout",
     "output_type": "stream",
     "text": [
      "Appending to streamlit_app.py\n"
     ]
    }
   ],
   "source": [
    "%%writefile -a streamlit_app.py\n",
    "\n",
    "# Code to post the user inputs to the API and get the predictions\n",
    "# Paste the URL to your GCP Cloud Run API here!\n",
    "api_url = 'https://dunkinorstarbucks-jqjv2zme2q-as.a.run.app'\n",
    "api_route = '/predict'\n",
    "\n",
    "response = requests.post(f'{api_url}{api_route}', json=json.dumps(user_input)) # json.dumps() converts dict to JSON\n",
    "predictions = response.json()\n",
    "\n",
    "# Add a submit button\n",
    "if st.button(\"Submit\"): \n",
    "    st.write(f\"Prediction: {predictions['predictions'][0]}\")"
   ]
  },
  {
   "cell_type": "markdown",
   "metadata": {},
   "source": [
    "## `Next steps`\n",
    "---\n",
    "1. Shipping the product to **streamlist** (input a comment and check whether it belongs to dunkin or starbuck)\n",
    "2. Enhancing the model with **feature engineering**, trying out new models like **SMV, bagging, log regression, single decision\n",
    "trees\n",
    "3. fetch more data"
   ]
  }
 ],
 "metadata": {
  "kernelspec": {
   "display_name": "Python 3.9.12 ('base')",
   "language": "python",
   "name": "python3"
  },
  "language_info": {
   "name": "python",
   "version": "3.9.12"
  },
  "orig_nbformat": 4,
  "vscode": {
   "interpreter": {
    "hash": "25a04f5bcc4cce45f88f55048bde1d1871ccb10dc4647418ede9299c65043aaf"
   }
  }
 },
 "nbformat": 4,
 "nbformat_minor": 2
}
