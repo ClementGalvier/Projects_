{
 "cells": [
  {
   "cell_type": "markdown",
   "metadata": {},
   "source": [
    "# `Predicting outcomes for pedestrians`<br>\n",
    "Baseline, Hypothesis testing for feature selection and model improvement"
   ]
  },
  {
   "cell_type": "markdown",
   "metadata": {},
   "source": [
    "In this notebook, we want to assess how well our model perform to predict the inrjury level for pedestrians. We will improve the model by adding hypothesis testing for feature selection and try to improve our score"
   ]
  },
  {
   "cell_type": "code",
   "execution_count": 293,
   "metadata": {},
   "outputs": [],
   "source": [
    "#Importing data manipulation and visualization libraries\n",
    "import pandas as pd # for dataframe manipulation\n",
    "import numpy as np # for numbers manipulations\n",
    "\n",
    "\n",
    "import seaborn as sns # for data visualization\n",
    "import matplotlib.pyplot as plt # for data visualization\n",
    "import scipy.stats as stats # # we never just \"import scipy\" as all the juice is in the submodules\n",
    "\n",
    "import plotly.express as px # for data visualization\n",
    "import plotly.figure_factory as ff# for data visualization\n",
    "\n",
    "from sklearn.preprocessing import LabelEncoder,FunctionTransformer,StandardScaler #for data preprocessing and scaling\n",
    "from sklearn.feature_selection import chi2 #for hypothesis testing on categorical variables\n",
    "from sklearn.pipeline import Pipeline #for chaining operations prior to the gridsearch\n",
    "\n",
    "from sklearn.model_selection import train_test_split, cross_val_score,GridSearchCV #for modeling preparation\n",
    "\n",
    "#importing our models\n",
    "from sklearn.linear_model import LogisticRegression \n",
    "from sklearn.ensemble import GradientBoostingClassifier, AdaBoostClassifier\n",
    "from sklearn.svm import SVC, LinearSVC\n",
    "from xgboost import XGBClassifier, plot_importance\n",
    "\n",
    "#importing metrics to evaluate models performance\n",
    "from sklearn.metrics import classification_report,confusion_matrix\n",
    "from sklearn.metrics import precision_score, recall_score, roc_auc_score, accuracy_score,f1_score,confusion_matrix,ConfusionMatrixDisplay, RocCurveDisplay, plot_roc_curve \n",
    "from imblearn.metrics import specificity_score\n",
    "\n",
    "import warnings\n",
    "warnings.filterwarnings(\"ignore\")\n",
    "\n",
    "# to access AWS\n",
    "import aws_creds\n",
    "import os\n",
    "from smart_open import smart_open\n",
    "import boto3 \n",
    "from io import StringIO # python3; python2: BytesIO \n",
    "\n",
    "#check time it takes to run the entire notebook\n",
    "import time\n",
    "st = time.time()"
   ]
  },
  {
   "cell_type": "markdown",
   "metadata": {},
   "source": [
    "Helper functions"
   ]
  },
  {
   "cell_type": "code",
   "execution_count": 241,
   "metadata": {},
   "outputs": [],
   "source": [
    "#this function will fit models and generate visualization\n",
    "def meta_func (model,model_name,param_grid,X_train,y_train,X_test,y_test,score_dict):\n",
    "        #model\n",
    "        gs_model = GridSearchCV(\n",
    "        model,\n",
    "        param_grid=param_grid,\n",
    "        cv=3,\n",
    "        verbose=1,\n",
    "        n_jobs=-1\n",
    "        )\n",
    "\n",
    "        #fitting model -------------------------------------------------------\n",
    "        gs_model.fit(X_train,y_train)\n",
    "\n",
    "        #getting predictions\n",
    "        train_preds = gs_model.predict(X_train)\n",
    "        preds = gs_model.predict(X_test)\n",
    "        \n",
    "        #getting the test metrics ready\n",
    "        test_f1score=f1_score(y_test,preds)\n",
    "        test_precision=precision_score(y_test,preds)\n",
    "        test_accuracy=accuracy_score(y_test,preds)\n",
    "        test_recall=recall_score(y_test,preds)\n",
    "        test_roc_auc=roc_auc_score(y_test,preds)\n",
    "        test_specificity = specificity_score(y_test,preds)\n",
    "\n",
    "        #getting the train metrics\n",
    "        train_f1score=f1_score(y_train,train_preds)\n",
    "        train_specificity = specificity_score(y_train,train_preds)\n",
    "        train_precision=precision_score(y_train,train_preds)\n",
    "        train_accuracy=accuracy_score(y_train,train_preds)\n",
    "        train_recall=recall_score(y_train,train_preds)\n",
    "        train_roc_auc=roc_auc_score(y_train,train_preds)\n",
    "        #printing results-----------------------------------------------------------------\n",
    "\n",
    "        print(f'best params : {gs_model.best_params_}')\n",
    "\n",
    "        print(f'Test_f1_score : {test_f1score}')\n",
    "        print(f'Test_precision score : {test_precision}')\n",
    "        print(f'Test_accuracy score : {test_accuracy}')\n",
    "        print(f'Test_recall score : {test_recall}')\n",
    "        print(f'Test_roc_auc score : {test_roc_auc}')\n",
    "                \n",
    "        # #update various metrics onto results list-------------------------------------------------------------\n",
    "        score_dict[model_name] = {\n",
    "                'Train_acc':train_accuracy,\n",
    "                'Test_acc':test_accuracy,\n",
    "                'Train_recall':train_recall,\n",
    "                'Test_recall':test_recall,\n",
    "                'Train_preci':train_precision,\n",
    "                'Test_preci':test_precision,\n",
    "                'Train_f1score':train_f1score,\n",
    "                'Test_f1score':test_f1score,\n",
    "                'Train_roc_auc':train_roc_auc,\n",
    "                'Test_roc_auc':test_roc_auc,\n",
    "                'Train_specificity': train_specificity,\n",
    "                'Test_specificity':test_specificity\n",
    "                }\n",
    "\n",
    "        tn, fp, fn, tp = confusion_matrix(y_test, preds).ravel()\n",
    "        cm = confusion_matrix(y_test,preds)\n",
    "        displ = ConfusionMatrixDisplay(cm)\n",
    "        displ.plot();\n",
    "\n",
    "        plot_roc_curve(gs_model.best_estimator_, X_test, y_test)\n",
    "        plt.plot([0, 1], [0, 1],\n",
    "        label='baseline', linestyle='--') # to simulate random guess \n",
    "        plt.legend();\n",
    "\n",
    "        return gs_model"
   ]
  },
  {
   "cell_type": "code",
   "execution_count": 242,
   "metadata": {},
   "outputs": [],
   "source": [
    "#Helper functions - showing dataframe quality\n",
    "def df_quality (df):\n",
    "    df_qual= pd.DataFrame(df.dtypes, columns={'dtypes'}) # creating a colum to display all data types\n",
    "    df_qual['isna%'] = np.round((df.isna().sum()/len(df))*100,1) # creating new columns = to missing values %\n",
    "    df_qual['isna']= df.isna().sum()\n",
    "    df_qual['unique']=df.nunique() # creating new columns eq to missing values\n",
    "    return df_qual.sort_values(by= 'isna%' , ascending=False)[:40] # sorting and shortlisting"
   ]
  },
  {
   "cell_type": "code",
   "execution_count": 243,
   "metadata": {},
   "outputs": [],
   "source": [
    "#function to test for statistical significance, and chosing the right test depending on data distribution\n",
    "#borrowed from Shilpa's github  -https://github.com/shilpaleo/employee_resignation_prediction/blob/main/notebook/Resignation%20Case%20Study.ipynb\n",
    "def cont_stat_sig_test(df,col):\n",
    "    # defining function for normality + statistical significance check\n",
    "    # Step 1: normality test\n",
    "    stat, p_value = stats.normaltest(df[col].values)\n",
    "    \n",
    "    # Step 2: filter series    \n",
    "    df_ok = df[df['injury_level']=='OK'][col].values\n",
    "    df_not_ok = df[df['injury_level']=='not_ok'][col].values\n",
    "    \n",
    "    # Step 3: determining appropriate statistical significance test based on normality\n",
    "    if p_value>0.01:\n",
    "        distribution = 'normal distribution'\n",
    "        test = 'Anova test'\n",
    "        stat, p_value = stats.f_oneway(df_ok, df_not_ok)\n",
    "    \n",
    "    else:\n",
    "        distribution = 'non-normal distribution'\n",
    "        test = 'KS test'\n",
    "        stat, p_value = stats.ks_2samp(df_ok, df_not_ok)\n",
    "    \n",
    "    # Step 4: conclude on statistical significance\n",
    "    if p_value>0.05:\n",
    "        sig = 'not statistically significant'\n",
    "    else:\n",
    "        sig = 'statistically significant'\n",
    "\n",
    "    print(f'{col} has {distribution}: running {test}. result: {sig}')\n",
    "    return p_value\n"
   ]
  },
  {
   "cell_type": "code",
   "execution_count": 244,
   "metadata": {},
   "outputs": [],
   "source": [
    "#dictionary to store our results\n",
    "score_dict_pedestrians={}"
   ]
  },
  {
   "cell_type": "markdown",
   "metadata": {},
   "source": [
    "### 1. Preping data for 1st run"
   ]
  },
  {
   "cell_type": "markdown",
   "metadata": {},
   "source": [
    "Importing file"
   ]
  },
  {
   "cell_type": "code",
   "execution_count": 245,
   "metadata": {},
   "outputs": [],
   "source": [
    "aws_key = aws_creds.aws_key\n",
    "aws_secret = aws_creds.aws_secret\n",
    "\n",
    "bucket_name = aws_creds.bucket\n",
    "object_key = 'df_eda.csv'\n",
    "\n",
    "path = 's3://{}:{}@{}/{}'.format(aws_key, aws_secret, bucket_name, object_key)\n",
    "\n",
    "df = pd.read_csv(smart_open(path),index_col=[0])"
   ]
  },
  {
   "cell_type": "code",
   "execution_count": 246,
   "metadata": {},
   "outputs": [
    {
     "data": {
      "text/plain": [
       "1    19295\n",
       "0     9634\n",
       "Name: injury_level, dtype: int64"
      ]
     },
     "execution_count": 246,
     "metadata": {},
     "output_type": "execute_result"
    }
   ],
   "source": [
    "df['injury_level'] = df['injury_level'].map({'OK':1,'not_ok':0}) #mapping target variable\n",
    "df_pede = df[(df['user_type']=='pedestrian')]\n",
    "df_pede['injury_level'].value_counts()"
   ]
  },
  {
   "cell_type": "code",
   "execution_count": 247,
   "metadata": {},
   "outputs": [
    {
     "data": {
      "text/html": [
       "<div>\n",
       "<style scoped>\n",
       "    .dataframe tbody tr th:only-of-type {\n",
       "        vertical-align: middle;\n",
       "    }\n",
       "\n",
       "    .dataframe tbody tr th {\n",
       "        vertical-align: top;\n",
       "    }\n",
       "\n",
       "    .dataframe thead th {\n",
       "        text-align: right;\n",
       "    }\n",
       "</style>\n",
       "<table border=\"1\" class=\"dataframe\">\n",
       "  <thead>\n",
       "    <tr style=\"text-align: right;\">\n",
       "      <th></th>\n",
       "      <th>dtypes</th>\n",
       "      <th>isna%</th>\n",
       "      <th>isna</th>\n",
       "      <th>unique</th>\n",
       "    </tr>\n",
       "  </thead>\n",
       "  <tbody>\n",
       "    <tr>\n",
       "      <th>fixed_obstacle_hurt</th>\n",
       "      <td>object</td>\n",
       "      <td>94.1</td>\n",
       "      <td>27226</td>\n",
       "      <td>14</td>\n",
       "    </tr>\n",
       "    <tr>\n",
       "      <th>reserved_path</th>\n",
       "      <td>object</td>\n",
       "      <td>87.7</td>\n",
       "      <td>25372</td>\n",
       "      <td>2</td>\n",
       "    </tr>\n",
       "    <tr>\n",
       "      <th>infra_type</th>\n",
       "      <td>object</td>\n",
       "      <td>82.4</td>\n",
       "      <td>23847</td>\n",
       "      <td>9</td>\n",
       "    </tr>\n",
       "    <tr>\n",
       "      <th>safety_feat_2</th>\n",
       "      <td>object</td>\n",
       "      <td>73.2</td>\n",
       "      <td>21171</td>\n",
       "      <td>3</td>\n",
       "    </tr>\n",
       "    <tr>\n",
       "      <th>width_road_only</th>\n",
       "      <td>object</td>\n",
       "      <td>38.6</td>\n",
       "      <td>11177</td>\n",
       "      <td>75</td>\n",
       "    </tr>\n",
       "    <tr>\n",
       "      <th>safety_feat_1</th>\n",
       "      <td>object</td>\n",
       "      <td>30.5</td>\n",
       "      <td>8809</td>\n",
       "      <td>3</td>\n",
       "    </tr>\n",
       "    <tr>\n",
       "      <th>journey_reason</th>\n",
       "      <td>object</td>\n",
       "      <td>28.5</td>\n",
       "      <td>8256</td>\n",
       "      <td>6</td>\n",
       "    </tr>\n",
       "    <tr>\n",
       "      <th>lane_num</th>\n",
       "      <td>object</td>\n",
       "      <td>15.9</td>\n",
       "      <td>4590</td>\n",
       "      <td>11603</td>\n",
       "    </tr>\n",
       "    <tr>\n",
       "      <th>engine_type</th>\n",
       "      <td>object</td>\n",
       "      <td>13.0</td>\n",
       "      <td>3766</td>\n",
       "      <td>6</td>\n",
       "    </tr>\n",
       "    <tr>\n",
       "      <th>navigation_direction</th>\n",
       "      <td>object</td>\n",
       "      <td>9.7</td>\n",
       "      <td>2801</td>\n",
       "      <td>3</td>\n",
       "    </tr>\n",
       "    <tr>\n",
       "      <th>travelling_direction</th>\n",
       "      <td>object</td>\n",
       "      <td>8.5</td>\n",
       "      <td>2456</td>\n",
       "      <td>4</td>\n",
       "    </tr>\n",
       "    <tr>\n",
       "      <th>pedestrian_loc</th>\n",
       "      <td>object</td>\n",
       "      <td>6.8</td>\n",
       "      <td>1973</td>\n",
       "      <td>7</td>\n",
       "    </tr>\n",
       "    <tr>\n",
       "      <th>pedestrian_action</th>\n",
       "      <td>object</td>\n",
       "      <td>6.4</td>\n",
       "      <td>1858</td>\n",
       "      <td>7</td>\n",
       "    </tr>\n",
       "    <tr>\n",
       "      <th>impact_location</th>\n",
       "      <td>object</td>\n",
       "      <td>6.0</td>\n",
       "      <td>1747</td>\n",
       "      <td>9</td>\n",
       "    </tr>\n",
       "    <tr>\n",
       "      <th>road_num</th>\n",
       "      <td>float64</td>\n",
       "      <td>4.6</td>\n",
       "      <td>1325</td>\n",
       "      <td>4</td>\n",
       "    </tr>\n",
       "    <tr>\n",
       "      <th>pedestrian_group</th>\n",
       "      <td>object</td>\n",
       "      <td>1.9</td>\n",
       "      <td>561</td>\n",
       "      <td>3</td>\n",
       "    </tr>\n",
       "    <tr>\n",
       "      <th>speed_group</th>\n",
       "      <td>float64</td>\n",
       "      <td>1.8</td>\n",
       "      <td>522</td>\n",
       "      <td>7</td>\n",
       "    </tr>\n",
       "    <tr>\n",
       "      <th>max_speed_allowed</th>\n",
       "      <td>float64</td>\n",
       "      <td>1.8</td>\n",
       "      <td>522</td>\n",
       "      <td>18</td>\n",
       "    </tr>\n",
       "    <tr>\n",
       "      <th>mobile_obstacle_hurt</th>\n",
       "      <td>object</td>\n",
       "      <td>1.6</td>\n",
       "      <td>465</td>\n",
       "      <td>6</td>\n",
       "    </tr>\n",
       "    <tr>\n",
       "      <th>vehi_grp</th>\n",
       "      <td>object</td>\n",
       "      <td>1.1</td>\n",
       "      <td>310</td>\n",
       "      <td>3</td>\n",
       "    </tr>\n",
       "    <tr>\n",
       "      <th>collision_type</th>\n",
       "      <td>object</td>\n",
       "      <td>0.7</td>\n",
       "      <td>190</td>\n",
       "      <td>7</td>\n",
       "    </tr>\n",
       "    <tr>\n",
       "      <th>postal_address</th>\n",
       "      <td>object</td>\n",
       "      <td>0.2</td>\n",
       "      <td>54</td>\n",
       "      <td>17690</td>\n",
       "    </tr>\n",
       "    <tr>\n",
       "      <th>weather</th>\n",
       "      <td>object</td>\n",
       "      <td>0.0</td>\n",
       "      <td>0</td>\n",
       "      <td>9</td>\n",
       "    </tr>\n",
       "    <tr>\n",
       "      <th>crossing</th>\n",
       "      <td>object</td>\n",
       "      <td>0.0</td>\n",
       "      <td>0</td>\n",
       "      <td>5</td>\n",
       "    </tr>\n",
       "    <tr>\n",
       "      <th>long</th>\n",
       "      <td>float64</td>\n",
       "      <td>0.0</td>\n",
       "      <td>0</td>\n",
       "      <td>26424</td>\n",
       "    </tr>\n",
       "    <tr>\n",
       "      <th>lat</th>\n",
       "      <td>float64</td>\n",
       "      <td>0.0</td>\n",
       "      <td>0</td>\n",
       "      <td>26304</td>\n",
       "    </tr>\n",
       "    <tr>\n",
       "      <th>in_out_city</th>\n",
       "      <td>object</td>\n",
       "      <td>0.0</td>\n",
       "      <td>0</td>\n",
       "      <td>2</td>\n",
       "    </tr>\n",
       "    <tr>\n",
       "      <th>acc_num</th>\n",
       "      <td>int64</td>\n",
       "      <td>0.0</td>\n",
       "      <td>0</td>\n",
       "      <td>26999</td>\n",
       "    </tr>\n",
       "    <tr>\n",
       "      <th>date</th>\n",
       "      <td>object</td>\n",
       "      <td>0.0</td>\n",
       "      <td>0</td>\n",
       "      <td>1096</td>\n",
       "    </tr>\n",
       "    <tr>\n",
       "      <th>day_of_week</th>\n",
       "      <td>object</td>\n",
       "      <td>0.0</td>\n",
       "      <td>0</td>\n",
       "      <td>7</td>\n",
       "    </tr>\n",
       "    <tr>\n",
       "      <th>hour</th>\n",
       "      <td>int64</td>\n",
       "      <td>0.0</td>\n",
       "      <td>0</td>\n",
       "      <td>24</td>\n",
       "    </tr>\n",
       "    <tr>\n",
       "      <th>department_fr</th>\n",
       "      <td>object</td>\n",
       "      <td>0.0</td>\n",
       "      <td>0</td>\n",
       "      <td>116</td>\n",
       "    </tr>\n",
       "    <tr>\n",
       "      <th>YYYY-MM</th>\n",
       "      <td>object</td>\n",
       "      <td>0.0</td>\n",
       "      <td>0</td>\n",
       "      <td>36</td>\n",
       "    </tr>\n",
       "    <tr>\n",
       "      <th>event</th>\n",
       "      <td>object</td>\n",
       "      <td>0.0</td>\n",
       "      <td>0</td>\n",
       "      <td>12</td>\n",
       "    </tr>\n",
       "    <tr>\n",
       "      <th>country</th>\n",
       "      <td>object</td>\n",
       "      <td>0.0</td>\n",
       "      <td>0</td>\n",
       "      <td>1</td>\n",
       "    </tr>\n",
       "    <tr>\n",
       "      <th>age</th>\n",
       "      <td>float64</td>\n",
       "      <td>0.0</td>\n",
       "      <td>0</td>\n",
       "      <td>104</td>\n",
       "    </tr>\n",
       "    <tr>\n",
       "      <th>age_group</th>\n",
       "      <td>object</td>\n",
       "      <td>0.0</td>\n",
       "      <td>0</td>\n",
       "      <td>5</td>\n",
       "    </tr>\n",
       "    <tr>\n",
       "      <th>city</th>\n",
       "      <td>object</td>\n",
       "      <td>0.0</td>\n",
       "      <td>0</td>\n",
       "      <td>4154</td>\n",
       "    </tr>\n",
       "    <tr>\n",
       "      <th>road_surface</th>\n",
       "      <td>object</td>\n",
       "      <td>0.0</td>\n",
       "      <td>0</td>\n",
       "      <td>8</td>\n",
       "    </tr>\n",
       "    <tr>\n",
       "      <th>light_conditions</th>\n",
       "      <td>object</td>\n",
       "      <td>0.0</td>\n",
       "      <td>0</td>\n",
       "      <td>3</td>\n",
       "    </tr>\n",
       "  </tbody>\n",
       "</table>\n",
       "</div>"
      ],
      "text/plain": [
       "                       dtypes  isna%   isna  unique\n",
       "fixed_obstacle_hurt    object   94.1  27226      14\n",
       "reserved_path          object   87.7  25372       2\n",
       "infra_type             object   82.4  23847       9\n",
       "safety_feat_2          object   73.2  21171       3\n",
       "width_road_only        object   38.6  11177      75\n",
       "safety_feat_1          object   30.5   8809       3\n",
       "journey_reason         object   28.5   8256       6\n",
       "lane_num               object   15.9   4590   11603\n",
       "engine_type            object   13.0   3766       6\n",
       "navigation_direction   object    9.7   2801       3\n",
       "travelling_direction   object    8.5   2456       4\n",
       "pedestrian_loc         object    6.8   1973       7\n",
       "pedestrian_action      object    6.4   1858       7\n",
       "impact_location        object    6.0   1747       9\n",
       "road_num              float64    4.6   1325       4\n",
       "pedestrian_group       object    1.9    561       3\n",
       "speed_group           float64    1.8    522       7\n",
       "max_speed_allowed     float64    1.8    522      18\n",
       "mobile_obstacle_hurt   object    1.6    465       6\n",
       "vehi_grp               object    1.1    310       3\n",
       "collision_type         object    0.7    190       7\n",
       "postal_address         object    0.2     54   17690\n",
       "weather                object    0.0      0       9\n",
       "crossing               object    0.0      0       5\n",
       "long                  float64    0.0      0   26424\n",
       "lat                   float64    0.0      0   26304\n",
       "in_out_city            object    0.0      0       2\n",
       "acc_num                 int64    0.0      0   26999\n",
       "date                   object    0.0      0    1096\n",
       "day_of_week            object    0.0      0       7\n",
       "hour                    int64    0.0      0      24\n",
       "department_fr          object    0.0      0     116\n",
       "YYYY-MM                object    0.0      0      36\n",
       "event                  object    0.0      0      12\n",
       "country                object    0.0      0       1\n",
       "age                   float64    0.0      0     104\n",
       "age_group              object    0.0      0       5\n",
       "city                   object    0.0      0    4154\n",
       "road_surface           object    0.0      0       8\n",
       "light_conditions       object    0.0      0       3"
      ]
     },
     "execution_count": 247,
     "metadata": {},
     "output_type": "execute_result"
    }
   ],
   "source": [
    "df_quality (df_pede)"
   ]
  },
  {
   "cell_type": "markdown",
   "metadata": {},
   "source": [
    "Let's clear the NaN before fitting models. Given the NaNs identified above and the information contained in the columns, we make the choice to cut any feature with more than 10% NaN"
   ]
  },
  {
   "cell_type": "code",
   "execution_count": 248,
   "metadata": {},
   "outputs": [
    {
     "name": "stdout",
     "output_type": "stream",
     "text": [
      "after dropping high_nan features, shape is : (28929, 49)\n",
      "after dropping high_nan and remaining nan, shape is: (19401, 49)\n",
      "after dropping duplicates, final shape is : (19401, 31)\n"
     ]
    }
   ],
   "source": [
    "#Let's remove all 10% above NaN features\n",
    "high_nans = [col for col in df_pede.columns if ((df_pede[col].isna().sum()/len(df_pede)))>0.1]\n",
    "df_pede = df_pede.drop(columns = high_nans)\n",
    "\n",
    "#then we drop any columns with NaNs remaining \n",
    "print(f'after dropping high_nan features, shape is : {df_pede.shape}')\n",
    "df_pede = df_pede.dropna()\n",
    "print(f'after dropping high_nan and remaining nan, shape is: {df_pede.shape}')\n",
    "\n",
    "#finally, we manually renmove these columns as they are either duplicates or strongly correlated to other features\n",
    "pede_cols_todrop = [\n",
    "    'acc_num', # not informative \n",
    "    'id_vehicule', #not informative\n",
    "    'seat',#only valid for pedestrians and pedestrians\n",
    "    #'user_type',# already filtered on pedestrians + pedestrians\n",
    "    'day',#duplicate with day of the week and month\n",
    "    'year',# dropping year but keeping month for seasonality\n",
    "    'lat',#duplicate with geo\n",
    "    'long', #duplicate with geo\n",
    "    'date',#duplicate with day of the week and Month - we do not need that much details\n",
    "    'hhmm',#already captured in hh\n",
    "    'YYYY-MM',#another date duplicate only used for EDA\n",
    "    'country',#not informative\n",
    "    #'lane_num',\n",
    "    'max_speed_allowed', # we are going with speed_group instead\n",
    "    'city',\n",
    "    'age',\n",
    "    'geo',\n",
    "    'dob',\n",
    "    'postal_address',\n",
    "    'department_fr']\n",
    "\n",
    "df_pede = df_pede.drop(columns = pede_cols_todrop)\n",
    "print(f'after dropping duplicates, final shape is : {df_pede.shape}')"
   ]
  },
  {
   "cell_type": "code",
   "execution_count": 249,
   "metadata": {},
   "outputs": [
    {
     "data": {
      "text/html": [
       "<div>\n",
       "<style scoped>\n",
       "    .dataframe tbody tr th:only-of-type {\n",
       "        vertical-align: middle;\n",
       "    }\n",
       "\n",
       "    .dataframe tbody tr th {\n",
       "        vertical-align: top;\n",
       "    }\n",
       "\n",
       "    .dataframe thead th {\n",
       "        text-align: right;\n",
       "    }\n",
       "</style>\n",
       "<table border=\"1\" class=\"dataframe\">\n",
       "  <thead>\n",
       "    <tr style=\"text-align: right;\">\n",
       "      <th></th>\n",
       "      <th>dtypes</th>\n",
       "      <th>isna%</th>\n",
       "      <th>isna</th>\n",
       "      <th>unique</th>\n",
       "    </tr>\n",
       "  </thead>\n",
       "  <tbody>\n",
       "    <tr>\n",
       "      <th>user_type</th>\n",
       "      <td>object</td>\n",
       "      <td>0.0</td>\n",
       "      <td>0</td>\n",
       "      <td>1</td>\n",
       "    </tr>\n",
       "    <tr>\n",
       "      <th>road_curve</th>\n",
       "      <td>object</td>\n",
       "      <td>0.0</td>\n",
       "      <td>0</td>\n",
       "      <td>4</td>\n",
       "    </tr>\n",
       "    <tr>\n",
       "      <th>vehi_grp</th>\n",
       "      <td>object</td>\n",
       "      <td>0.0</td>\n",
       "      <td>0</td>\n",
       "      <td>3</td>\n",
       "    </tr>\n",
       "    <tr>\n",
       "      <th>speed_group</th>\n",
       "      <td>float64</td>\n",
       "      <td>0.0</td>\n",
       "      <td>0</td>\n",
       "      <td>7</td>\n",
       "    </tr>\n",
       "    <tr>\n",
       "      <th>event</th>\n",
       "      <td>object</td>\n",
       "      <td>0.0</td>\n",
       "      <td>0</td>\n",
       "      <td>12</td>\n",
       "    </tr>\n",
       "    <tr>\n",
       "      <th>hour</th>\n",
       "      <td>int64</td>\n",
       "      <td>0.0</td>\n",
       "      <td>0</td>\n",
       "      <td>24</td>\n",
       "    </tr>\n",
       "    <tr>\n",
       "      <th>day_of_week</th>\n",
       "      <td>object</td>\n",
       "      <td>0.0</td>\n",
       "      <td>0</td>\n",
       "      <td>7</td>\n",
       "    </tr>\n",
       "    <tr>\n",
       "      <th>collision_type</th>\n",
       "      <td>object</td>\n",
       "      <td>0.0</td>\n",
       "      <td>0</td>\n",
       "      <td>7</td>\n",
       "    </tr>\n",
       "    <tr>\n",
       "      <th>weather</th>\n",
       "      <td>object</td>\n",
       "      <td>0.0</td>\n",
       "      <td>0</td>\n",
       "      <td>9</td>\n",
       "    </tr>\n",
       "    <tr>\n",
       "      <th>crossing</th>\n",
       "      <td>object</td>\n",
       "      <td>0.0</td>\n",
       "      <td>0</td>\n",
       "      <td>5</td>\n",
       "    </tr>\n",
       "    <tr>\n",
       "      <th>in_out_city</th>\n",
       "      <td>object</td>\n",
       "      <td>0.0</td>\n",
       "      <td>0</td>\n",
       "      <td>2</td>\n",
       "    </tr>\n",
       "    <tr>\n",
       "      <th>light_conditions</th>\n",
       "      <td>object</td>\n",
       "      <td>0.0</td>\n",
       "      <td>0</td>\n",
       "      <td>3</td>\n",
       "    </tr>\n",
       "    <tr>\n",
       "      <th>month</th>\n",
       "      <td>int64</td>\n",
       "      <td>0.0</td>\n",
       "      <td>0</td>\n",
       "      <td>12</td>\n",
       "    </tr>\n",
       "    <tr>\n",
       "      <th>road_location_accident</th>\n",
       "      <td>object</td>\n",
       "      <td>0.0</td>\n",
       "      <td>0</td>\n",
       "      <td>7</td>\n",
       "    </tr>\n",
       "    <tr>\n",
       "      <th>road_surface</th>\n",
       "      <td>object</td>\n",
       "      <td>0.0</td>\n",
       "      <td>0</td>\n",
       "      <td>7</td>\n",
       "    </tr>\n",
       "    <tr>\n",
       "      <th>road_incline</th>\n",
       "      <td>object</td>\n",
       "      <td>0.0</td>\n",
       "      <td>0</td>\n",
       "      <td>4</td>\n",
       "    </tr>\n",
       "    <tr>\n",
       "      <th>injury_level</th>\n",
       "      <td>int64</td>\n",
       "      <td>0.0</td>\n",
       "      <td>0</td>\n",
       "      <td>2</td>\n",
       "    </tr>\n",
       "    <tr>\n",
       "      <th>num_operating_lanes</th>\n",
       "      <td>int64</td>\n",
       "      <td>0.0</td>\n",
       "      <td>0</td>\n",
       "      <td>13</td>\n",
       "    </tr>\n",
       "    <tr>\n",
       "      <th>travelling_direction</th>\n",
       "      <td>object</td>\n",
       "      <td>0.0</td>\n",
       "      <td>0</td>\n",
       "      <td>4</td>\n",
       "    </tr>\n",
       "    <tr>\n",
       "      <th>road_num</th>\n",
       "      <td>float64</td>\n",
       "      <td>0.0</td>\n",
       "      <td>0</td>\n",
       "      <td>4</td>\n",
       "    </tr>\n",
       "    <tr>\n",
       "      <th>road_type</th>\n",
       "      <td>object</td>\n",
       "      <td>0.0</td>\n",
       "      <td>0</td>\n",
       "      <td>7</td>\n",
       "    </tr>\n",
       "    <tr>\n",
       "      <th>was_doing</th>\n",
       "      <td>object</td>\n",
       "      <td>0.0</td>\n",
       "      <td>0</td>\n",
       "      <td>20</td>\n",
       "    </tr>\n",
       "    <tr>\n",
       "      <th>impact_location</th>\n",
       "      <td>object</td>\n",
       "      <td>0.0</td>\n",
       "      <td>0</td>\n",
       "      <td>9</td>\n",
       "    </tr>\n",
       "    <tr>\n",
       "      <th>mobile_obstacle_hurt</th>\n",
       "      <td>object</td>\n",
       "      <td>0.0</td>\n",
       "      <td>0</td>\n",
       "      <td>6</td>\n",
       "    </tr>\n",
       "    <tr>\n",
       "      <th>vehicule_type</th>\n",
       "      <td>object</td>\n",
       "      <td>0.0</td>\n",
       "      <td>0</td>\n",
       "      <td>18</td>\n",
       "    </tr>\n",
       "    <tr>\n",
       "      <th>navigation_direction</th>\n",
       "      <td>object</td>\n",
       "      <td>0.0</td>\n",
       "      <td>0</td>\n",
       "      <td>3</td>\n",
       "    </tr>\n",
       "    <tr>\n",
       "      <th>pedestrian_group</th>\n",
       "      <td>object</td>\n",
       "      <td>0.0</td>\n",
       "      <td>0</td>\n",
       "      <td>3</td>\n",
       "    </tr>\n",
       "    <tr>\n",
       "      <th>pedestrian_action</th>\n",
       "      <td>object</td>\n",
       "      <td>0.0</td>\n",
       "      <td>0</td>\n",
       "      <td>7</td>\n",
       "    </tr>\n",
       "    <tr>\n",
       "      <th>pedestrian_loc</th>\n",
       "      <td>object</td>\n",
       "      <td>0.0</td>\n",
       "      <td>0</td>\n",
       "      <td>7</td>\n",
       "    </tr>\n",
       "    <tr>\n",
       "      <th>gender</th>\n",
       "      <td>object</td>\n",
       "      <td>0.0</td>\n",
       "      <td>0</td>\n",
       "      <td>2</td>\n",
       "    </tr>\n",
       "    <tr>\n",
       "      <th>age_group</th>\n",
       "      <td>object</td>\n",
       "      <td>0.0</td>\n",
       "      <td>0</td>\n",
       "      <td>5</td>\n",
       "    </tr>\n",
       "  </tbody>\n",
       "</table>\n",
       "</div>"
      ],
      "text/plain": [
       "                         dtypes  isna%  isna  unique\n",
       "user_type                object    0.0     0       1\n",
       "road_curve               object    0.0     0       4\n",
       "vehi_grp                 object    0.0     0       3\n",
       "speed_group             float64    0.0     0       7\n",
       "event                    object    0.0     0      12\n",
       "hour                      int64    0.0     0      24\n",
       "day_of_week              object    0.0     0       7\n",
       "collision_type           object    0.0     0       7\n",
       "weather                  object    0.0     0       9\n",
       "crossing                 object    0.0     0       5\n",
       "in_out_city              object    0.0     0       2\n",
       "light_conditions         object    0.0     0       3\n",
       "month                     int64    0.0     0      12\n",
       "road_location_accident   object    0.0     0       7\n",
       "road_surface             object    0.0     0       7\n",
       "road_incline             object    0.0     0       4\n",
       "injury_level              int64    0.0     0       2\n",
       "num_operating_lanes       int64    0.0     0      13\n",
       "travelling_direction     object    0.0     0       4\n",
       "road_num                float64    0.0     0       4\n",
       "road_type                object    0.0     0       7\n",
       "was_doing                object    0.0     0      20\n",
       "impact_location          object    0.0     0       9\n",
       "mobile_obstacle_hurt     object    0.0     0       6\n",
       "vehicule_type            object    0.0     0      18\n",
       "navigation_direction     object    0.0     0       3\n",
       "pedestrian_group         object    0.0     0       3\n",
       "pedestrian_action        object    0.0     0       7\n",
       "pedestrian_loc           object    0.0     0       7\n",
       "gender                   object    0.0     0       2\n",
       "age_group                object    0.0     0       5"
      ]
     },
     "execution_count": 249,
     "metadata": {},
     "output_type": "execute_result"
    }
   ],
   "source": [
    "df_quality(df_pede)"
   ]
  },
  {
   "cell_type": "code",
   "execution_count": 250,
   "metadata": {},
   "outputs": [],
   "source": [
    "#preparing our X and y\n",
    "X = df_pede.drop(columns='injury_level')\n",
    "y=df_pede['injury_level']"
   ]
  },
  {
   "cell_type": "code",
   "execution_count": 251,
   "metadata": {},
   "outputs": [
    {
     "name": "stdout",
     "output_type": "stream",
     "text": [
      "(19401, 142)\n"
     ]
    }
   ],
   "source": [
    "#encoding categorical variables\n",
    "X = pd.get_dummies(X, columns=X.select_dtypes('object').columns, drop_first=True)\n",
    "X_train,X_test,y_train,y_test = train_test_split(X,y, random_state=42, test_size=0.2, stratify=y)\n",
    "print(X.shape)"
   ]
  },
  {
   "cell_type": "markdown",
   "metadata": {},
   "source": [
    "### 2. Modeling"
   ]
  },
  {
   "attachments": {},
   "cell_type": "markdown",
   "metadata": {},
   "source": [
    "#### Logistic Regression"
   ]
  },
  {
   "cell_type": "code",
   "execution_count": 252,
   "metadata": {},
   "outputs": [
    {
     "name": "stdout",
     "output_type": "stream",
     "text": [
      "Fitting 3 folds for each of 4 candidates, totalling 12 fits\n",
      "best params : {'lr__C': 0.2, 'lr__class_weight': 'balanced', 'lr__penalty': 'l1'}\n",
      "Test_f1_score : 0.7537567621719095\n",
      "Test_precision score : 0.8035027765912004\n",
      "Test_accuracy score : 0.6833290389074981\n",
      "Test_recall score : 0.709811320754717\n",
      "Test_roc_auc score : 0.6680656928712658\n",
      "CPU times: total: 4.61 s\n",
      "Wall time: 17.2 s\n"
     ]
    },
    {
     "data": {
      "image/png": "[encoded data removed]",
      "text/plain": [
       "<Figure size 432x288 with 2 Axes>"
      ]
     },
     "metadata": {
      "needs_background": "light"
     },
     "output_type": "display_data"
    },
    {
     "data": {
      "image/png": "[encoded data removed]",
      "text/plain": [
       "<Figure size 432x288 with 1 Axes>"
      ]
     },
     "metadata": {
      "needs_background": "light"
     },
     "output_type": "display_data"
    }
   ],
   "source": [
    "%%time\n",
    "model = meta_func (\n",
    "    model=\n",
    "        Pipeline(\n",
    "    [\n",
    "    ('ss',StandardScaler()),\n",
    "    ('lr', LogisticRegression(random_state=42, solver='saga'))\n",
    "    ]\n",
    ")\n",
    ",\n",
    "    model_name='lr_1st_round',\n",
    "    param_grid=\n",
    "    {\"lr__penalty\":['l1','l2'],\n",
    "    \"lr__C\":[0.2,0.3],#Inverse of regularization strength; must be a positive float. Like in support vector machines, smaller values specify stronger regularization.\n",
    "    \"lr__class_weight\":['balanced']     \n",
    "    }\n",
    ",\n",
    "    X_train=X_train,\n",
    "    y_train=y_train,\n",
    "    X_test=X_test,\n",
    "    y_test=y_test,\n",
    "    score_dict= score_dict_pedestrians\n",
    ")"
   ]
  },
  {
   "cell_type": "code",
   "execution_count": 253,
   "metadata": {},
   "outputs": [
    {
     "data": {
      "text/html": [
       "<div>\n",
       "<style scoped>\n",
       "    .dataframe tbody tr th:only-of-type {\n",
       "        vertical-align: middle;\n",
       "    }\n",
       "\n",
       "    .dataframe tbody tr th {\n",
       "        vertical-align: top;\n",
       "    }\n",
       "\n",
       "    .dataframe thead th {\n",
       "        text-align: right;\n",
       "    }\n",
       "</style>\n",
       "<table border=\"1\" class=\"dataframe\">\n",
       "  <thead>\n",
       "    <tr style=\"text-align: right;\">\n",
       "      <th></th>\n",
       "      <th>Features</th>\n",
       "      <th>Coef_</th>\n",
       "    </tr>\n",
       "  </thead>\n",
       "  <tbody>\n",
       "    <tr>\n",
       "      <th>0</th>\n",
       "      <td>road_num</td>\n",
       "      <td>0.260257</td>\n",
       "    </tr>\n",
       "    <tr>\n",
       "      <th>7</th>\n",
       "      <td>pedestrian_loc_on_cross_road_lit</td>\n",
       "      <td>0.163921</td>\n",
       "    </tr>\n",
       "    <tr>\n",
       "      <th>76</th>\n",
       "      <td>road_type_urban_rd</td>\n",
       "      <td>0.146341</td>\n",
       "    </tr>\n",
       "    <tr>\n",
       "      <th>69</th>\n",
       "      <td>was_doing_turning</td>\n",
       "      <td>0.138423</td>\n",
       "    </tr>\n",
       "    <tr>\n",
       "      <th>78</th>\n",
       "      <td>travelling_direction_unidirectional</td>\n",
       "      <td>0.127074</td>\n",
       "    </tr>\n",
       "    <tr>\n",
       "      <th>...</th>\n",
       "      <td>...</td>\n",
       "      <td>...</td>\n",
       "    </tr>\n",
       "    <tr>\n",
       "      <th>28</th>\n",
       "      <td>vehicule_type_moto</td>\n",
       "      <td>-0.187589</td>\n",
       "    </tr>\n",
       "    <tr>\n",
       "      <th>137</th>\n",
       "      <td>vehi_grp_other</td>\n",
       "      <td>-0.202614</td>\n",
       "    </tr>\n",
       "    <tr>\n",
       "      <th>136</th>\n",
       "      <td>vehi_grp_4_wheels</td>\n",
       "      <td>-0.315873</td>\n",
       "    </tr>\n",
       "    <tr>\n",
       "      <th>140</th>\n",
       "      <td>age_group_60_80</td>\n",
       "      <td>-0.414023</td>\n",
       "    </tr>\n",
       "    <tr>\n",
       "      <th>141</th>\n",
       "      <td>age_group_80_over</td>\n",
       "      <td>-0.510172</td>\n",
       "    </tr>\n",
       "  </tbody>\n",
       "</table>\n",
       "<p>142 rows × 2 columns</p>\n",
       "</div>"
      ],
      "text/plain": [
       "                                Features     Coef_\n",
       "0                               road_num  0.260257\n",
       "7       pedestrian_loc_on_cross_road_lit  0.163921\n",
       "76                    road_type_urban_rd  0.146341\n",
       "69                     was_doing_turning  0.138423\n",
       "78   travelling_direction_unidirectional  0.127074\n",
       "..                                   ...       ...\n",
       "28                    vehicule_type_moto -0.187589\n",
       "137                       vehi_grp_other -0.202614\n",
       "136                    vehi_grp_4_wheels -0.315873\n",
       "140                      age_group_60_80 -0.414023\n",
       "141                    age_group_80_over -0.510172\n",
       "\n",
       "[142 rows x 2 columns]"
      ]
     },
     "execution_count": 253,
     "metadata": {},
     "output_type": "execute_result"
    }
   ],
   "source": [
    "#extract top features\n",
    "pd_features = pd.DataFrame({'Features': X_train.columns,'Coef_': model.best_estimator_.steps[-1][1].coef_[0]})\n",
    "pd_features.sort_values(by='Coef_', ascending=False)"
   ]
  },
  {
   "attachments": {},
   "cell_type": "markdown",
   "metadata": {},
   "source": [
    "#### AdaBoost"
   ]
  },
  {
   "cell_type": "code",
   "execution_count": 254,
   "metadata": {},
   "outputs": [
    {
     "name": "stdout",
     "output_type": "stream",
     "text": [
      "Fitting 3 folds for each of 4 candidates, totalling 12 fits\n",
      "best params : {'learning_rate': 1, 'n_estimators': 300}\n",
      "Test_f1_score : 0.8239917976760082\n",
      "Test_precision score : 0.7529668956901936\n",
      "Test_accuracy score : 0.734604483380572\n",
      "Test_recall score : 0.9098113207547169\n",
      "Test_roc_auc score : 0.6336221510353601\n",
      "CPU times: total: 11.7 s\n",
      "Wall time: 50.1 s\n"
     ]
    },
    {
     "data": {
      "image/png": "[encoded data removed]",
      "text/plain": [
       "<Figure size 432x288 with 2 Axes>"
      ]
     },
     "metadata": {
      "needs_background": "light"
     },
     "output_type": "display_data"
    },
    {
     "data": {
      "image/png": "[encoded data removed]",
      "text/plain": [
       "<Figure size 432x288 with 1 Axes>"
      ]
     },
     "metadata": {
      "needs_background": "light"
     },
     "output_type": "display_data"
    }
   ],
   "source": [
    "%%time\n",
    "model = meta_func (\n",
    "    model=AdaBoostClassifier(random_state=42)\n",
    ",\n",
    "    model_name='abc_1st_round',\n",
    "    param_grid=\n",
    "{\n",
    "    'n_estimators': [150,300], \n",
    "    'learning_rate': [1, 2]\n",
    "    }\n",
    ",\n",
    "    X_train=X_train,\n",
    "    y_train=y_train,\n",
    "    X_test=X_test,\n",
    "    y_test=y_test,\n",
    "    score_dict= score_dict_pedestrians\n",
    ")"
   ]
  },
  {
   "cell_type": "code",
   "execution_count": 255,
   "metadata": {},
   "outputs": [
    {
     "data": {
      "text/html": [
       "<div>\n",
       "<style scoped>\n",
       "    .dataframe tbody tr th:only-of-type {\n",
       "        vertical-align: middle;\n",
       "    }\n",
       "\n",
       "    .dataframe tbody tr th {\n",
       "        vertical-align: top;\n",
       "    }\n",
       "\n",
       "    .dataframe thead th {\n",
       "        text-align: right;\n",
       "    }\n",
       "</style>\n",
       "<table border=\"1\" class=\"dataframe\">\n",
       "  <thead>\n",
       "    <tr style=\"text-align: right;\">\n",
       "      <th></th>\n",
       "      <th>Features</th>\n",
       "      <th>Coef_</th>\n",
       "    </tr>\n",
       "  </thead>\n",
       "  <tbody>\n",
       "    <tr>\n",
       "      <th>3</th>\n",
       "      <td>hour</td>\n",
       "      <td>0.113333</td>\n",
       "    </tr>\n",
       "    <tr>\n",
       "      <th>2</th>\n",
       "      <td>month</td>\n",
       "      <td>0.056667</td>\n",
       "    </tr>\n",
       "    <tr>\n",
       "      <th>136</th>\n",
       "      <td>vehi_grp_4_wheels</td>\n",
       "      <td>0.056667</td>\n",
       "    </tr>\n",
       "    <tr>\n",
       "      <th>4</th>\n",
       "      <td>speed_group</td>\n",
       "      <td>0.036667</td>\n",
       "    </tr>\n",
       "    <tr>\n",
       "      <th>33</th>\n",
       "      <td>vehicule_type_scoot_blw_125</td>\n",
       "      <td>0.036667</td>\n",
       "    </tr>\n",
       "    <tr>\n",
       "      <th>...</th>\n",
       "      <td>...</td>\n",
       "      <td>...</td>\n",
       "    </tr>\n",
       "    <tr>\n",
       "      <th>15</th>\n",
       "      <td>pedestrian_action_playing_running</td>\n",
       "      <td>0.000000</td>\n",
       "    </tr>\n",
       "    <tr>\n",
       "      <th>110</th>\n",
       "      <td>weather_other</td>\n",
       "      <td>0.000000</td>\n",
       "    </tr>\n",
       "    <tr>\n",
       "      <th>101</th>\n",
       "      <td>crossing_others</td>\n",
       "      <td>0.000000</td>\n",
       "    </tr>\n",
       "    <tr>\n",
       "      <th>57</th>\n",
       "      <td>was_doing_crossing_central_separator</td>\n",
       "      <td>0.000000</td>\n",
       "    </tr>\n",
       "    <tr>\n",
       "      <th>71</th>\n",
       "      <td>road_type_highway</td>\n",
       "      <td>0.000000</td>\n",
       "    </tr>\n",
       "  </tbody>\n",
       "</table>\n",
       "<p>142 rows × 2 columns</p>\n",
       "</div>"
      ],
      "text/plain": [
       "                                 Features     Coef_\n",
       "3                                    hour  0.113333\n",
       "2                                   month  0.056667\n",
       "136                     vehi_grp_4_wheels  0.056667\n",
       "4                             speed_group  0.036667\n",
       "33            vehicule_type_scoot_blw_125  0.036667\n",
       "..                                    ...       ...\n",
       "15      pedestrian_action_playing_running  0.000000\n",
       "110                         weather_other  0.000000\n",
       "101                       crossing_others  0.000000\n",
       "57   was_doing_crossing_central_separator  0.000000\n",
       "71                      road_type_highway  0.000000\n",
       "\n",
       "[142 rows x 2 columns]"
      ]
     },
     "execution_count": 255,
     "metadata": {},
     "output_type": "execute_result"
    }
   ],
   "source": [
    "pd_features = pd.DataFrame({'Features': X_train.columns,'Coef_': model.best_estimator_.feature_importances_})\n",
    "pd_features.sort_values(by='Coef_', ascending=False)"
   ]
  },
  {
   "attachments": {},
   "cell_type": "markdown",
   "metadata": {},
   "source": [
    "#### XGBoost"
   ]
  },
  {
   "cell_type": "code",
   "execution_count": 256,
   "metadata": {},
   "outputs": [
    {
     "name": "stdout",
     "output_type": "stream",
     "text": [
      "Fitting 3 folds for each of 8 candidates, totalling 24 fits\n",
      "best params : {'learning_rate': 0.5, 'max_depth': 3, 'min_split_loss': 2}\n",
      "Test_f1_score : 0.8277032761840096\n",
      "Test_precision score : 0.7522369639000308\n",
      "Test_accuracy score : 0.7384694666323113\n",
      "Test_recall score : 0.92\n",
      "Test_roc_auc score : 0.633842404549147\n",
      "CPU times: total: 14.9 s\n",
      "Wall time: 31 s\n"
     ]
    },
    {
     "data": {
      "image/png": "[encoded data removed]",
      "text/plain": [
       "<Figure size 432x288 with 2 Axes>"
      ]
     },
     "metadata": {
      "needs_background": "light"
     },
     "output_type": "display_data"
    },
    {
     "data": {
      "image/png": "[encoded data removed]",
      "text/plain": [
       "<Figure size 432x288 with 1 Axes>"
      ]
     },
     "metadata": {
      "needs_background": "light"
     },
     "output_type": "display_data"
    }
   ],
   "source": [
    "%%time\n",
    "model = meta_func (\n",
    "    model=XGBClassifier(random_state=42)\n",
    ",\n",
    "    model_name='xgb_1st_round',\n",
    "    param_grid=\n",
    "{\n",
    "    'learning_rate': [0.5,1], \n",
    "    'min_split_loss': [1,2], #The larger gamma is, the more conservative the algorithm will be\n",
    "    'max_depth':[2,3] #Maximum depth of a tree. Increasing this value will make the model more complex and more likely to overfit.\n",
    "     # Beware that XGBoost aggressively consumes memory when training a deep tree\n",
    "    }\n",
    ",\n",
    "    X_train=X_train,\n",
    "    y_train=y_train,\n",
    "    X_test=X_test,\n",
    "    y_test=y_test,\n",
    "    score_dict= score_dict_pedestrians\n",
    ")"
   ]
  },
  {
   "cell_type": "code",
   "execution_count": 257,
   "metadata": {},
   "outputs": [
    {
     "data": {
      "text/html": [
       "<div>\n",
       "<style scoped>\n",
       "    .dataframe tbody tr th:only-of-type {\n",
       "        vertical-align: middle;\n",
       "    }\n",
       "\n",
       "    .dataframe tbody tr th {\n",
       "        vertical-align: top;\n",
       "    }\n",
       "\n",
       "    .dataframe thead th {\n",
       "        text-align: right;\n",
       "    }\n",
       "</style>\n",
       "<table border=\"1\" class=\"dataframe\">\n",
       "  <thead>\n",
       "    <tr style=\"text-align: right;\">\n",
       "      <th></th>\n",
       "      <th>Features</th>\n",
       "      <th>Coef_</th>\n",
       "    </tr>\n",
       "  </thead>\n",
       "  <tbody>\n",
       "    <tr>\n",
       "      <th>0</th>\n",
       "      <td>road_num</td>\n",
       "      <td>0.184742</td>\n",
       "    </tr>\n",
       "    <tr>\n",
       "      <th>76</th>\n",
       "      <td>road_type_urban_rd</td>\n",
       "      <td>0.072971</td>\n",
       "    </tr>\n",
       "    <tr>\n",
       "      <th>33</th>\n",
       "      <td>vehicule_type_scoot_blw_125</td>\n",
       "      <td>0.063757</td>\n",
       "    </tr>\n",
       "    <tr>\n",
       "      <th>4</th>\n",
       "      <td>speed_group</td>\n",
       "      <td>0.057355</td>\n",
       "    </tr>\n",
       "    <tr>\n",
       "      <th>141</th>\n",
       "      <td>age_group_80_over</td>\n",
       "      <td>0.051387</td>\n",
       "    </tr>\n",
       "    <tr>\n",
       "      <th>...</th>\n",
       "      <td>...</td>\n",
       "      <td>...</td>\n",
       "    </tr>\n",
       "    <tr>\n",
       "      <th>75</th>\n",
       "      <td>road_type_unpaved_rd</td>\n",
       "      <td>0.000000</td>\n",
       "    </tr>\n",
       "    <tr>\n",
       "      <th>84</th>\n",
       "      <td>road_curve_s_curve</td>\n",
       "      <td>0.000000</td>\n",
       "    </tr>\n",
       "    <tr>\n",
       "      <th>88</th>\n",
       "      <td>road_surface_others</td>\n",
       "      <td>0.000000</td>\n",
       "    </tr>\n",
       "    <tr>\n",
       "      <th>89</th>\n",
       "      <td>road_surface_snow_ice</td>\n",
       "      <td>0.000000</td>\n",
       "    </tr>\n",
       "    <tr>\n",
       "      <th>71</th>\n",
       "      <td>road_type_highway</td>\n",
       "      <td>0.000000</td>\n",
       "    </tr>\n",
       "  </tbody>\n",
       "</table>\n",
       "<p>142 rows × 2 columns</p>\n",
       "</div>"
      ],
      "text/plain": [
       "                        Features     Coef_\n",
       "0                       road_num  0.184742\n",
       "76            road_type_urban_rd  0.072971\n",
       "33   vehicule_type_scoot_blw_125  0.063757\n",
       "4                    speed_group  0.057355\n",
       "141            age_group_80_over  0.051387\n",
       "..                           ...       ...\n",
       "75          road_type_unpaved_rd  0.000000\n",
       "84            road_curve_s_curve  0.000000\n",
       "88           road_surface_others  0.000000\n",
       "89         road_surface_snow_ice  0.000000\n",
       "71             road_type_highway  0.000000\n",
       "\n",
       "[142 rows x 2 columns]"
      ]
     },
     "execution_count": 257,
     "metadata": {},
     "output_type": "execute_result"
    }
   ],
   "source": [
    "pd_features = pd.DataFrame({'Features': X_train.columns,'Coef_': model.best_estimator_.feature_importances_})\n",
    "pd_features.sort_values(by='Coef_', ascending=False)"
   ]
  },
  {
   "attachments": {},
   "cell_type": "markdown",
   "metadata": {},
   "source": [
    "#### Linear Support Vectors Classifiers"
   ]
  },
  {
   "cell_type": "code",
   "execution_count": 258,
   "metadata": {},
   "outputs": [
    {
     "name": "stdout",
     "output_type": "stream",
     "text": [
      "Fitting 3 folds for each of 24 candidates, totalling 72 fits\n",
      "best params : {'lsvc__C': 0.01, 'lsvc__dual': False, 'lsvc__max_iter': 500, 'lsvc__penalty': 'l1'}\n",
      "Test_f1_score : 0.7561316051844467\n",
      "Test_precision score : 0.8016913319238901\n",
      "Test_accuracy score : 0.6848750322081938\n",
      "Test_recall score : 0.7154716981132075\n",
      "Test_roc_auc score : 0.6672403169688703\n",
      "CPU times: total: 2.2 s\n",
      "Wall time: 54.9 s\n"
     ]
    },
    {
     "data": {
      "image/png": "[encoded data removed]",
      "text/plain": [
       "<Figure size 432x288 with 2 Axes>"
      ]
     },
     "metadata": {
      "needs_background": "light"
     },
     "output_type": "display_data"
    },
    {
     "data": {
      "image/png": "[encoded data removed]",
      "text/plain": [
       "<Figure size 432x288 with 1 Axes>"
      ]
     },
     "metadata": {
      "needs_background": "light"
     },
     "output_type": "display_data"
    }
   ],
   "source": [
    "%%time\n",
    "model = meta_func (\n",
    "    model=Pipeline(\n",
    "        [\n",
    "            ('ss',StandardScaler()),\n",
    "            ('lsvc', LinearSVC(class_weight='balanced'))\n",
    "        ]\n",
    "    ),\n",
    "    model_name='lsvc_1st_round',\n",
    "    param_grid=\n",
    "{   'lsvc__max_iter':[500,1000],\n",
    "    'lsvc__C': [0.001,0.01,0.1], \n",
    "    'lsvc__dual': [True, False],     \n",
    "    'lsvc__penalty':['l1','l2']   \n",
    "},\n",
    "    X_train=X_train,\n",
    "    y_train=y_train,\n",
    "    X_test=X_test,\n",
    "    y_test=y_test,\n",
    "    score_dict= score_dict_pedestrians\n",
    ")"
   ]
  },
  {
   "cell_type": "code",
   "execution_count": 259,
   "metadata": {},
   "outputs": [
    {
     "data": {
      "text/html": [
       "<div>\n",
       "<style scoped>\n",
       "    .dataframe tbody tr th:only-of-type {\n",
       "        vertical-align: middle;\n",
       "    }\n",
       "\n",
       "    .dataframe tbody tr th {\n",
       "        vertical-align: top;\n",
       "    }\n",
       "\n",
       "    .dataframe thead th {\n",
       "        text-align: right;\n",
       "    }\n",
       "</style>\n",
       "<table border=\"1\" class=\"dataframe\">\n",
       "  <thead>\n",
       "    <tr style=\"text-align: right;\">\n",
       "      <th></th>\n",
       "      <th>Features</th>\n",
       "      <th>Coef_</th>\n",
       "    </tr>\n",
       "  </thead>\n",
       "  <tbody>\n",
       "    <tr>\n",
       "      <th>0</th>\n",
       "      <td>road_num</td>\n",
       "      <td>0.098881</td>\n",
       "    </tr>\n",
       "    <tr>\n",
       "      <th>76</th>\n",
       "      <td>road_type_urban_rd</td>\n",
       "      <td>0.077230</td>\n",
       "    </tr>\n",
       "    <tr>\n",
       "      <th>7</th>\n",
       "      <td>pedestrian_loc_on_cross_road_lit</td>\n",
       "      <td>0.066586</td>\n",
       "    </tr>\n",
       "    <tr>\n",
       "      <th>69</th>\n",
       "      <td>was_doing_turning</td>\n",
       "      <td>0.065207</td>\n",
       "    </tr>\n",
       "    <tr>\n",
       "      <th>78</th>\n",
       "      <td>travelling_direction_unidirectional</td>\n",
       "      <td>0.052955</td>\n",
       "    </tr>\n",
       "    <tr>\n",
       "      <th>...</th>\n",
       "      <td>...</td>\n",
       "      <td>...</td>\n",
       "    </tr>\n",
       "    <tr>\n",
       "      <th>99</th>\n",
       "      <td>light_conditions_night</td>\n",
       "      <td>-0.062919</td>\n",
       "    </tr>\n",
       "    <tr>\n",
       "      <th>137</th>\n",
       "      <td>vehi_grp_other</td>\n",
       "      <td>-0.096050</td>\n",
       "    </tr>\n",
       "    <tr>\n",
       "      <th>136</th>\n",
       "      <td>vehi_grp_4_wheels</td>\n",
       "      <td>-0.158066</td>\n",
       "    </tr>\n",
       "    <tr>\n",
       "      <th>140</th>\n",
       "      <td>age_group_60_80</td>\n",
       "      <td>-0.173852</td>\n",
       "    </tr>\n",
       "    <tr>\n",
       "      <th>141</th>\n",
       "      <td>age_group_80_over</td>\n",
       "      <td>-0.209593</td>\n",
       "    </tr>\n",
       "  </tbody>\n",
       "</table>\n",
       "<p>142 rows × 2 columns</p>\n",
       "</div>"
      ],
      "text/plain": [
       "                                Features     Coef_\n",
       "0                               road_num  0.098881\n",
       "76                    road_type_urban_rd  0.077230\n",
       "7       pedestrian_loc_on_cross_road_lit  0.066586\n",
       "69                     was_doing_turning  0.065207\n",
       "78   travelling_direction_unidirectional  0.052955\n",
       "..                                   ...       ...\n",
       "99                light_conditions_night -0.062919\n",
       "137                       vehi_grp_other -0.096050\n",
       "136                    vehi_grp_4_wheels -0.158066\n",
       "140                      age_group_60_80 -0.173852\n",
       "141                    age_group_80_over -0.209593\n",
       "\n",
       "[142 rows x 2 columns]"
      ]
     },
     "execution_count": 259,
     "metadata": {},
     "output_type": "execute_result"
    }
   ],
   "source": [
    "pd_features = pd.DataFrame({'Features': X_train.columns,'Coef_': model.best_estimator_.steps[-1][1].coef_[0]})\n",
    "pd_features.sort_values(by='Coef_', ascending=False)"
   ]
  },
  {
   "cell_type": "markdown",
   "metadata": {},
   "source": [
    "#### Checking our baseline models"
   ]
  },
  {
   "cell_type": "code",
   "execution_count": 260,
   "metadata": {},
   "outputs": [
    {
     "data": {
      "text/html": [
       "<div>\n",
       "<style scoped>\n",
       "    .dataframe tbody tr th:only-of-type {\n",
       "        vertical-align: middle;\n",
       "    }\n",
       "\n",
       "    .dataframe tbody tr th {\n",
       "        vertical-align: top;\n",
       "    }\n",
       "\n",
       "    .dataframe thead th {\n",
       "        text-align: right;\n",
       "    }\n",
       "</style>\n",
       "<table border=\"1\" class=\"dataframe\">\n",
       "  <thead>\n",
       "    <tr style=\"text-align: right;\">\n",
       "      <th></th>\n",
       "      <th>Train_acc</th>\n",
       "      <th>Test_acc</th>\n",
       "      <th>Train_recall</th>\n",
       "      <th>Test_recall</th>\n",
       "      <th>Train_preci</th>\n",
       "      <th>Test_preci</th>\n",
       "      <th>Train_f1score</th>\n",
       "      <th>Test_f1score</th>\n",
       "      <th>Train_roc_auc</th>\n",
       "      <th>Test_roc_auc</th>\n",
       "      <th>Train_specificity</th>\n",
       "      <th>Test_specificity</th>\n",
       "    </tr>\n",
       "  </thead>\n",
       "  <tbody>\n",
       "    <tr>\n",
       "      <th>lr_1st_round</th>\n",
       "      <td>0.696392</td>\n",
       "      <td>0.683329</td>\n",
       "      <td>0.727041</td>\n",
       "      <td>0.709811</td>\n",
       "      <td>0.808884</td>\n",
       "      <td>0.803503</td>\n",
       "      <td>0.765782</td>\n",
       "      <td>0.753757</td>\n",
       "      <td>0.678749</td>\n",
       "      <td>0.668066</td>\n",
       "      <td>0.630457</td>\n",
       "      <td>0.626320</td>\n",
       "    </tr>\n",
       "    <tr>\n",
       "      <th>abc_1st_round</th>\n",
       "      <td>0.741624</td>\n",
       "      <td>0.734604</td>\n",
       "      <td>0.914866</td>\n",
       "      <td>0.909811</td>\n",
       "      <td>0.757206</td>\n",
       "      <td>0.752967</td>\n",
       "      <td>0.828603</td>\n",
       "      <td>0.823992</td>\n",
       "      <td>0.641900</td>\n",
       "      <td>0.633622</td>\n",
       "      <td>0.368934</td>\n",
       "      <td>0.357433</td>\n",
       "    </tr>\n",
       "    <tr>\n",
       "      <th>xgb_1st_round</th>\n",
       "      <td>0.751160</td>\n",
       "      <td>0.738469</td>\n",
       "      <td>0.926758</td>\n",
       "      <td>0.920000</td>\n",
       "      <td>0.760868</td>\n",
       "      <td>0.752237</td>\n",
       "      <td>0.835660</td>\n",
       "      <td>0.827703</td>\n",
       "      <td>0.650079</td>\n",
       "      <td>0.633842</td>\n",
       "      <td>0.373401</td>\n",
       "      <td>0.347685</td>\n",
       "    </tr>\n",
       "    <tr>\n",
       "      <th>lsvc_1st_round</th>\n",
       "      <td>0.698067</td>\n",
       "      <td>0.684875</td>\n",
       "      <td>0.733365</td>\n",
       "      <td>0.715472</td>\n",
       "      <td>0.806770</td>\n",
       "      <td>0.801691</td>\n",
       "      <td>0.768318</td>\n",
       "      <td>0.756132</td>\n",
       "      <td>0.677748</td>\n",
       "      <td>0.667240</td>\n",
       "      <td>0.622132</td>\n",
       "      <td>0.619009</td>\n",
       "    </tr>\n",
       "  </tbody>\n",
       "</table>\n",
       "</div>"
      ],
      "text/plain": [
       "                Train_acc  Test_acc  Train_recall  Test_recall  Train_preci  \\\n",
       "lr_1st_round     0.696392  0.683329      0.727041     0.709811     0.808884   \n",
       "abc_1st_round    0.741624  0.734604      0.914866     0.909811     0.757206   \n",
       "xgb_1st_round    0.751160  0.738469      0.926758     0.920000     0.760868   \n",
       "lsvc_1st_round   0.698067  0.684875      0.733365     0.715472     0.806770   \n",
       "\n",
       "                Test_preci  Train_f1score  Test_f1score  Train_roc_auc  \\\n",
       "lr_1st_round      0.803503       0.765782      0.753757       0.678749   \n",
       "abc_1st_round     0.752967       0.828603      0.823992       0.641900   \n",
       "xgb_1st_round     0.752237       0.835660      0.827703       0.650079   \n",
       "lsvc_1st_round    0.801691       0.768318      0.756132       0.677748   \n",
       "\n",
       "                Test_roc_auc  Train_specificity  Test_specificity  \n",
       "lr_1st_round        0.668066           0.630457          0.626320  \n",
       "abc_1st_round       0.633622           0.368934          0.357433  \n",
       "xgb_1st_round       0.633842           0.373401          0.347685  \n",
       "lsvc_1st_round      0.667240           0.622132          0.619009  "
      ]
     },
     "execution_count": 260,
     "metadata": {},
     "output_type": "execute_result"
    }
   ],
   "source": [
    "pedestrians_score_df= pd.DataFrame(score_dict_pedestrians).T\n",
    "pedestrians_score_df"
   ]
  },
  {
   "cell_type": "markdown",
   "metadata": {},
   "source": [
    "### 3. Feature selection based on statistical significance - Hypothesis testing"
   ]
  },
  {
   "cell_type": "markdown",
   "metadata": {},
   "source": [
    "Categorical - Continuous Split"
   ]
  },
  {
   "cell_type": "code",
   "execution_count": 261,
   "metadata": {},
   "outputs": [
    {
     "data": {
      "text/plain": [
       "(19401, 31)"
      ]
     },
     "execution_count": 261,
     "metadata": {},
     "output_type": "execute_result"
    }
   ],
   "source": [
    "df_pede.shape"
   ]
  },
  {
   "cell_type": "code",
   "execution_count": 262,
   "metadata": {},
   "outputs": [],
   "source": [
    "df_pede['injury_level'] = df_pede['injury_level'].map({1:'OK',0:'not_ok'})"
   ]
  },
  {
   "cell_type": "code",
   "execution_count": 263,
   "metadata": {},
   "outputs": [],
   "source": [
    "# subsetting categorical and continuous features to run chi-square test\n",
    "pede_cat = df_pede.select_dtypes(include=['object'])\n",
    "pede_cont = df_pede.select_dtypes(include=['int64','float64'])"
   ]
  },
  {
   "cell_type": "code",
   "execution_count": 264,
   "metadata": {},
   "outputs": [
    {
     "name": "stdout",
     "output_type": "stream",
     "text": [
      "(19401, 26)\n",
      "(19401, 5)\n"
     ]
    }
   ],
   "source": [
    "print(pede_cat.shape)\n",
    "print(pede_cont.shape)"
   ]
  },
  {
   "cell_type": "code",
   "execution_count": 265,
   "metadata": {},
   "outputs": [
    {
     "data": {
      "text/html": [
       "<div>\n",
       "<style scoped>\n",
       "    .dataframe tbody tr th:only-of-type {\n",
       "        vertical-align: middle;\n",
       "    }\n",
       "\n",
       "    .dataframe tbody tr th {\n",
       "        vertical-align: top;\n",
       "    }\n",
       "\n",
       "    .dataframe thead th {\n",
       "        text-align: right;\n",
       "    }\n",
       "</style>\n",
       "<table border=\"1\" class=\"dataframe\">\n",
       "  <thead>\n",
       "    <tr style=\"text-align: right;\">\n",
       "      <th></th>\n",
       "      <th>road_num</th>\n",
       "      <th>num_operating_lanes</th>\n",
       "      <th>month</th>\n",
       "      <th>hour</th>\n",
       "      <th>speed_group</th>\n",
       "    </tr>\n",
       "  </thead>\n",
       "  <tbody>\n",
       "    <tr>\n",
       "      <th>26</th>\n",
       "      <td>0.0</td>\n",
       "      <td>3</td>\n",
       "      <td>11</td>\n",
       "      <td>13</td>\n",
       "      <td>3.0</td>\n",
       "    </tr>\n",
       "  </tbody>\n",
       "</table>\n",
       "</div>"
      ],
      "text/plain": [
       "    road_num  num_operating_lanes  month  hour  speed_group\n",
       "26       0.0                    3     11    13          3.0"
      ]
     },
     "execution_count": 265,
     "metadata": {},
     "output_type": "execute_result"
    }
   ],
   "source": [
    "# subsetting continuous features to run anova/KS test\n",
    "pede_cont.head(1)\n"
   ]
  },
  {
   "cell_type": "code",
   "execution_count": 266,
   "metadata": {},
   "outputs": [
    {
     "name": "stdout",
     "output_type": "stream",
     "text": [
      "(19401, 6)\n"
     ]
    },
    {
     "data": {
      "text/html": [
       "<div>\n",
       "<style scoped>\n",
       "    .dataframe tbody tr th:only-of-type {\n",
       "        vertical-align: middle;\n",
       "    }\n",
       "\n",
       "    .dataframe tbody tr th {\n",
       "        vertical-align: top;\n",
       "    }\n",
       "\n",
       "    .dataframe thead th {\n",
       "        text-align: right;\n",
       "    }\n",
       "</style>\n",
       "<table border=\"1\" class=\"dataframe\">\n",
       "  <thead>\n",
       "    <tr style=\"text-align: right;\">\n",
       "      <th></th>\n",
       "      <th>road_num</th>\n",
       "      <th>num_operating_lanes</th>\n",
       "      <th>month</th>\n",
       "      <th>hour</th>\n",
       "      <th>speed_group</th>\n",
       "      <th>injury_level</th>\n",
       "    </tr>\n",
       "  </thead>\n",
       "  <tbody>\n",
       "    <tr>\n",
       "      <th>26</th>\n",
       "      <td>0.0</td>\n",
       "      <td>3</td>\n",
       "      <td>11</td>\n",
       "      <td>13</td>\n",
       "      <td>3.0</td>\n",
       "      <td>OK</td>\n",
       "    </tr>\n",
       "    <tr>\n",
       "      <th>34</th>\n",
       "      <td>0.0</td>\n",
       "      <td>1</td>\n",
       "      <td>11</td>\n",
       "      <td>8</td>\n",
       "      <td>3.0</td>\n",
       "      <td>OK</td>\n",
       "    </tr>\n",
       "    <tr>\n",
       "      <th>36</th>\n",
       "      <td>0.0</td>\n",
       "      <td>1</td>\n",
       "      <td>11</td>\n",
       "      <td>9</td>\n",
       "      <td>3.0</td>\n",
       "      <td>OK</td>\n",
       "    </tr>\n",
       "    <tr>\n",
       "      <th>37</th>\n",
       "      <td>0.0</td>\n",
       "      <td>1</td>\n",
       "      <td>11</td>\n",
       "      <td>6</td>\n",
       "      <td>2.0</td>\n",
       "      <td>OK</td>\n",
       "    </tr>\n",
       "    <tr>\n",
       "      <th>44</th>\n",
       "      <td>0.0</td>\n",
       "      <td>7</td>\n",
       "      <td>11</td>\n",
       "      <td>8</td>\n",
       "      <td>3.0</td>\n",
       "      <td>OK</td>\n",
       "    </tr>\n",
       "  </tbody>\n",
       "</table>\n",
       "</div>"
      ],
      "text/plain": [
       "    road_num  num_operating_lanes  month  hour  speed_group injury_level\n",
       "26       0.0                    3     11    13          3.0           OK\n",
       "34       0.0                    1     11     8          3.0           OK\n",
       "36       0.0                    1     11     9          3.0           OK\n",
       "37       0.0                    1     11     6          2.0           OK\n",
       "44       0.0                    7     11     8          3.0           OK"
      ]
     },
     "execution_count": 266,
     "metadata": {},
     "output_type": "execute_result"
    }
   ],
   "source": [
    "# joining response variable, injury_level, into continuous features dataframe\n",
    "injury_level_serie = pede_cat[['injury_level']]\n",
    "pede_cont = pede_cont.join(injury_level_serie)\n",
    "print(pede_cont.shape)\n",
    "pede_cont.head()"
   ]
  },
  {
   "cell_type": "markdown",
   "metadata": {},
   "source": [
    "#### Categorical features selection<br>\n",
    "Pick statistically significant features"
   ]
  },
  {
   "cell_type": "code",
   "execution_count": 267,
   "metadata": {},
   "outputs": [
    {
     "name": "stdout",
     "output_type": "stream",
     "text": [
      "(19401, 26)\n"
     ]
    },
    {
     "data": {
      "text/html": [
       "<div>\n",
       "<style scoped>\n",
       "    .dataframe tbody tr th:only-of-type {\n",
       "        vertical-align: middle;\n",
       "    }\n",
       "\n",
       "    .dataframe tbody tr th {\n",
       "        vertical-align: top;\n",
       "    }\n",
       "\n",
       "    .dataframe thead th {\n",
       "        text-align: right;\n",
       "    }\n",
       "</style>\n",
       "<table border=\"1\" class=\"dataframe\">\n",
       "  <thead>\n",
       "    <tr style=\"text-align: right;\">\n",
       "      <th></th>\n",
       "      <th>user_type</th>\n",
       "      <th>injury_level</th>\n",
       "      <th>gender</th>\n",
       "      <th>pedestrian_loc</th>\n",
       "      <th>pedestrian_action</th>\n",
       "      <th>pedestrian_group</th>\n",
       "      <th>navigation_direction</th>\n",
       "      <th>vehicule_type</th>\n",
       "      <th>mobile_obstacle_hurt</th>\n",
       "      <th>impact_location</th>\n",
       "      <th>...</th>\n",
       "      <th>road_location_accident</th>\n",
       "      <th>light_conditions</th>\n",
       "      <th>in_out_city</th>\n",
       "      <th>crossing</th>\n",
       "      <th>weather</th>\n",
       "      <th>collision_type</th>\n",
       "      <th>day_of_week</th>\n",
       "      <th>event</th>\n",
       "      <th>vehi_grp</th>\n",
       "      <th>age_group</th>\n",
       "    </tr>\n",
       "  </thead>\n",
       "  <tbody>\n",
       "    <tr>\n",
       "      <th>0</th>\n",
       "      <td>0</td>\n",
       "      <td>0</td>\n",
       "      <td>1</td>\n",
       "      <td>0</td>\n",
       "      <td>0</td>\n",
       "      <td>0</td>\n",
       "      <td>2</td>\n",
       "      <td>2</td>\n",
       "      <td>1</td>\n",
       "      <td>1</td>\n",
       "      <td>...</td>\n",
       "      <td>3</td>\n",
       "      <td>0</td>\n",
       "      <td>0</td>\n",
       "      <td>0</td>\n",
       "      <td>5</td>\n",
       "      <td>1</td>\n",
       "      <td>4</td>\n",
       "      <td>11</td>\n",
       "      <td>1</td>\n",
       "      <td>2</td>\n",
       "    </tr>\n",
       "    <tr>\n",
       "      <th>1</th>\n",
       "      <td>0</td>\n",
       "      <td>0</td>\n",
       "      <td>0</td>\n",
       "      <td>1</td>\n",
       "      <td>0</td>\n",
       "      <td>0</td>\n",
       "      <td>0</td>\n",
       "      <td>12</td>\n",
       "      <td>1</td>\n",
       "      <td>0</td>\n",
       "      <td>...</td>\n",
       "      <td>3</td>\n",
       "      <td>0</td>\n",
       "      <td>0</td>\n",
       "      <td>0</td>\n",
       "      <td>5</td>\n",
       "      <td>1</td>\n",
       "      <td>0</td>\n",
       "      <td>11</td>\n",
       "      <td>0</td>\n",
       "      <td>3</td>\n",
       "    </tr>\n",
       "    <tr>\n",
       "      <th>2</th>\n",
       "      <td>0</td>\n",
       "      <td>0</td>\n",
       "      <td>0</td>\n",
       "      <td>0</td>\n",
       "      <td>0</td>\n",
       "      <td>0</td>\n",
       "      <td>2</td>\n",
       "      <td>2</td>\n",
       "      <td>1</td>\n",
       "      <td>6</td>\n",
       "      <td>...</td>\n",
       "      <td>3</td>\n",
       "      <td>0</td>\n",
       "      <td>0</td>\n",
       "      <td>0</td>\n",
       "      <td>7</td>\n",
       "      <td>1</td>\n",
       "      <td>0</td>\n",
       "      <td>11</td>\n",
       "      <td>1</td>\n",
       "      <td>1</td>\n",
       "    </tr>\n",
       "    <tr>\n",
       "      <th>3</th>\n",
       "      <td>0</td>\n",
       "      <td>0</td>\n",
       "      <td>1</td>\n",
       "      <td>0</td>\n",
       "      <td>0</td>\n",
       "      <td>0</td>\n",
       "      <td>0</td>\n",
       "      <td>2</td>\n",
       "      <td>1</td>\n",
       "      <td>0</td>\n",
       "      <td>...</td>\n",
       "      <td>3</td>\n",
       "      <td>0</td>\n",
       "      <td>0</td>\n",
       "      <td>0</td>\n",
       "      <td>5</td>\n",
       "      <td>1</td>\n",
       "      <td>0</td>\n",
       "      <td>11</td>\n",
       "      <td>1</td>\n",
       "      <td>0</td>\n",
       "    </tr>\n",
       "    <tr>\n",
       "      <th>4</th>\n",
       "      <td>0</td>\n",
       "      <td>0</td>\n",
       "      <td>1</td>\n",
       "      <td>0</td>\n",
       "      <td>0</td>\n",
       "      <td>0</td>\n",
       "      <td>0</td>\n",
       "      <td>1</td>\n",
       "      <td>1</td>\n",
       "      <td>2</td>\n",
       "      <td>...</td>\n",
       "      <td>3</td>\n",
       "      <td>0</td>\n",
       "      <td>0</td>\n",
       "      <td>0</td>\n",
       "      <td>5</td>\n",
       "      <td>1</td>\n",
       "      <td>0</td>\n",
       "      <td>11</td>\n",
       "      <td>2</td>\n",
       "      <td>1</td>\n",
       "    </tr>\n",
       "  </tbody>\n",
       "</table>\n",
       "<p>5 rows × 26 columns</p>\n",
       "</div>"
      ],
      "text/plain": [
       "   user_type  injury_level  gender  pedestrian_loc  pedestrian_action  \\\n",
       "0          0             0       1               0                  0   \n",
       "1          0             0       0               1                  0   \n",
       "2          0             0       0               0                  0   \n",
       "3          0             0       1               0                  0   \n",
       "4          0             0       1               0                  0   \n",
       "\n",
       "   pedestrian_group  navigation_direction  vehicule_type  \\\n",
       "0                 0                     2              2   \n",
       "1                 0                     0             12   \n",
       "2                 0                     2              2   \n",
       "3                 0                     0              2   \n",
       "4                 0                     0              1   \n",
       "\n",
       "   mobile_obstacle_hurt  impact_location  ...  road_location_accident  \\\n",
       "0                     1                1  ...                       3   \n",
       "1                     1                0  ...                       3   \n",
       "2                     1                6  ...                       3   \n",
       "3                     1                0  ...                       3   \n",
       "4                     1                2  ...                       3   \n",
       "\n",
       "   light_conditions  in_out_city  crossing  weather  collision_type  \\\n",
       "0                 0            0         0        5               1   \n",
       "1                 0            0         0        5               1   \n",
       "2                 0            0         0        7               1   \n",
       "3                 0            0         0        5               1   \n",
       "4                 0            0         0        5               1   \n",
       "\n",
       "   day_of_week  event  vehi_grp  age_group  \n",
       "0            4     11         1          2  \n",
       "1            0     11         0          3  \n",
       "2            0     11         1          1  \n",
       "3            0     11         1          0  \n",
       "4            0     11         2          1  \n",
       "\n",
       "[5 rows x 26 columns]"
      ]
     },
     "execution_count": 267,
     "metadata": {},
     "output_type": "execute_result"
    }
   ],
   "source": [
    "# label encoding for categorical features with more than 2 values\n",
    "label_encoder = LabelEncoder()\n",
    "\n",
    "cat_train_transformed_dict = {}\n",
    "\n",
    "for col in pede_cat.columns:\n",
    "    cat_train_transformed = label_encoder.fit_transform(pede_cat[col])\n",
    "    cat_train_transformed_dict[col] = cat_train_transformed\n",
    "    \n",
    "cat_train_transformed = pd.DataFrame(cat_train_transformed_dict)\n",
    "print(cat_train_transformed.shape)\n",
    "cat_train_transformed.head()"
   ]
  },
  {
   "cell_type": "code",
   "execution_count": 268,
   "metadata": {},
   "outputs": [
    {
     "data": {
      "application/vnd.plotly.v1+json": {
       "config": {
        "plotlyServerURL": "https://plot.ly"
       },
       "data": [
        {
         "alignmentgroup": "True",
         "hovertemplate": "variable=0<br>index=%{x}<br>p_value=%{y}<extra></extra>",
         "legendgroup": "0",
         "marker": {
          "color": "#636efa",
          "pattern": {
           "shape": ""
          }
         },
         "name": "0",
         "offsetgroup": "0",
         "orientation": "v",
         "showlegend": true,
         "textposition": "auto",
         "type": "bar",
         "x": [
          "age_group",
          "in_out_city",
          "road_type",
          "travelling_direction",
          "vehicule_type",
          "pedestrian_action",
          "pedestrian_group",
          "light_conditions",
          "vehi_grp",
          "pedestrian_loc",
          "impact_location",
          "road_incline",
          "road_surface",
          "navigation_direction",
          "weather",
          "road_curve",
          "gender",
          "road_location_accident",
          "day_of_week",
          "mobile_obstacle_hurt",
          "crossing",
          "was_doing",
          "event",
          "collision_type",
          "user_type"
         ],
         "xaxis": "x",
         "y": [
          1.1672587644851396e-143,
          8.295258212982167e-126,
          9.36807477074224e-36,
          1.2253035968539662e-34,
          6.9794782171799855e-34,
          3.8262420723026535e-24,
          3.248917821480926e-19,
          3.5245107650234497e-19,
          1.9680537402888243e-18,
          1.9377263854422198e-10,
          3.343253308967935e-8,
          7.920138566657664e-7,
          0.000017499092814965616,
          0.00013888121984730693,
          0.00034939184747437085,
          0.0004486814770723713,
          0.007785549465426868,
          0.047695721189268875,
          0.12664299397864068,
          0.32215048225787096,
          0.43806062095276144,
          0.47442242626632547,
          0.8371774861596687,
          0.9502562407742781,
          null
         ],
         "yaxis": "y"
        }
       ],
       "layout": {
        "barmode": "relative",
        "height": 500,
        "legend": {
         "title": {
          "text": "variable"
         },
         "tracegroupgap": 0
        },
        "margin": {
         "t": 60
        },
        "shapes": [
         {
          "line": {
           "color": "red",
           "dash": "dash"
          },
          "type": "line",
          "x0": 0,
          "x1": 1,
          "xref": "x domain",
          "y0": 0.05,
          "y1": 0.05,
          "yref": "y"
         }
        ],
        "showlegend": false,
        "template": {
         "data": {
          "bar": [
           {
            "error_x": {
             "color": "#2a3f5f"
            },
            "error_y": {
             "color": "#2a3f5f"
            },
            "marker": {
             "line": {
              "color": "#E5ECF6",
              "width": 0.5
             },
             "pattern": {
              "fillmode": "overlay",
              "size": 10,
              "solidity": 0.2
             }
            },
            "type": "bar"
           }
          ],
          "barpolar": [
           {
            "marker": {
             "line": {
              "color": "#E5ECF6",
              "width": 0.5
             },
             "pattern": {
              "fillmode": "overlay",
              "size": 10,
              "solidity": 0.2
             }
            },
            "type": "barpolar"
           }
          ],
          "carpet": [
           {
            "aaxis": {
             "endlinecolor": "#2a3f5f",
             "gridcolor": "white",
             "linecolor": "white",
             "minorgridcolor": "white",
             "startlinecolor": "#2a3f5f"
            },
            "baxis": {
             "endlinecolor": "#2a3f5f",
             "gridcolor": "white",
             "linecolor": "white",
             "minorgridcolor": "white",
             "startlinecolor": "#2a3f5f"
            },
            "type": "carpet"
           }
          ],
          "choropleth": [
           {
            "colorbar": {
             "outlinewidth": 0,
             "ticks": ""
            },
            "type": "choropleth"
           }
          ],
          "contour": [
           {
            "colorbar": {
             "outlinewidth": 0,
             "ticks": ""
            },
            "colorscale": [
             [
              0,
              "#0d0887"
             ],
             [
              0.1111111111111111,
              "#46039f"
             ],
             [
              0.2222222222222222,
              "#7201a8"
             ],
             [
              0.3333333333333333,
              "#9c179e"
             ],
             [
              0.4444444444444444,
              "#bd3786"
             ],
             [
              0.5555555555555556,
              "#d8576b"
             ],
             [
              0.6666666666666666,
              "#ed7953"
             ],
             [
              0.7777777777777778,
              "#fb9f3a"
             ],
             [
              0.8888888888888888,
              "#fdca26"
             ],
             [
              1,
              "#f0f921"
             ]
            ],
            "type": "contour"
           }
          ],
          "contourcarpet": [
           {
            "colorbar": {
             "outlinewidth": 0,
             "ticks": ""
            },
            "type": "contourcarpet"
           }
          ],
          "heatmap": [
           {
            "colorbar": {
             "outlinewidth": 0,
             "ticks": ""
            },
            "colorscale": [
             [
              0,
              "#0d0887"
             ],
             [
              0.1111111111111111,
              "#46039f"
             ],
             [
              0.2222222222222222,
              "#7201a8"
             ],
             [
              0.3333333333333333,
              "#9c179e"
             ],
             [
              0.4444444444444444,
              "#bd3786"
             ],
             [
              0.5555555555555556,
              "#d8576b"
             ],
             [
              0.6666666666666666,
              "#ed7953"
             ],
             [
              0.7777777777777778,
              "#fb9f3a"
             ],
             [
              0.8888888888888888,
              "#fdca26"
             ],
             [
              1,
              "#f0f921"
             ]
            ],
            "type": "heatmap"
           }
          ],
          "heatmapgl": [
           {
            "colorbar": {
             "outlinewidth": 0,
             "ticks": ""
            },
            "colorscale": [
             [
              0,
              "#0d0887"
             ],
             [
              0.1111111111111111,
              "#46039f"
             ],
             [
              0.2222222222222222,
              "#7201a8"
             ],
             [
              0.3333333333333333,
              "#9c179e"
             ],
             [
              0.4444444444444444,
              "#bd3786"
             ],
             [
              0.5555555555555556,
              "#d8576b"
             ],
             [
              0.6666666666666666,
              "#ed7953"
             ],
             [
              0.7777777777777778,
              "#fb9f3a"
             ],
             [
              0.8888888888888888,
              "#fdca26"
             ],
             [
              1,
              "#f0f921"
             ]
            ],
            "type": "heatmapgl"
           }
          ],
          "histogram": [
           {
            "marker": {
             "pattern": {
              "fillmode": "overlay",
              "size": 10,
              "solidity": 0.2
             }
            },
            "type": "histogram"
           }
          ],
          "histogram2d": [
           {
            "colorbar": {
             "outlinewidth": 0,
             "ticks": ""
            },
            "colorscale": [
             [
              0,
              "#0d0887"
             ],
             [
              0.1111111111111111,
              "#46039f"
             ],
             [
              0.2222222222222222,
              "#7201a8"
             ],
             [
              0.3333333333333333,
              "#9c179e"
             ],
             [
              0.4444444444444444,
              "#bd3786"
             ],
             [
              0.5555555555555556,
              "#d8576b"
             ],
             [
              0.6666666666666666,
              "#ed7953"
             ],
             [
              0.7777777777777778,
              "#fb9f3a"
             ],
             [
              0.8888888888888888,
              "#fdca26"
             ],
             [
              1,
              "#f0f921"
             ]
            ],
            "type": "histogram2d"
           }
          ],
          "histogram2dcontour": [
           {
            "colorbar": {
             "outlinewidth": 0,
             "ticks": ""
            },
            "colorscale": [
             [
              0,
              "#0d0887"
             ],
             [
              0.1111111111111111,
              "#46039f"
             ],
             [
              0.2222222222222222,
              "#7201a8"
             ],
             [
              0.3333333333333333,
              "#9c179e"
             ],
             [
              0.4444444444444444,
              "#bd3786"
             ],
             [
              0.5555555555555556,
              "#d8576b"
             ],
             [
              0.6666666666666666,
              "#ed7953"
             ],
             [
              0.7777777777777778,
              "#fb9f3a"
             ],
             [
              0.8888888888888888,
              "#fdca26"
             ],
             [
              1,
              "#f0f921"
             ]
            ],
            "type": "histogram2dcontour"
           }
          ],
          "mesh3d": [
           {
            "colorbar": {
             "outlinewidth": 0,
             "ticks": ""
            },
            "type": "mesh3d"
           }
          ],
          "parcoords": [
           {
            "line": {
             "colorbar": {
              "outlinewidth": 0,
              "ticks": ""
             }
            },
            "type": "parcoords"
           }
          ],
          "pie": [
           {
            "automargin": true,
            "type": "pie"
           }
          ],
          "scatter": [
           {
            "fillpattern": {
             "fillmode": "overlay",
             "size": 10,
             "solidity": 0.2
            },
            "type": "scatter"
           }
          ],
          "scatter3d": [
           {
            "line": {
             "colorbar": {
              "outlinewidth": 0,
              "ticks": ""
             }
            },
            "marker": {
             "colorbar": {
              "outlinewidth": 0,
              "ticks": ""
             }
            },
            "type": "scatter3d"
           }
          ],
          "scattercarpet": [
           {
            "marker": {
             "colorbar": {
              "outlinewidth": 0,
              "ticks": ""
             }
            },
            "type": "scattercarpet"
           }
          ],
          "scattergeo": [
           {
            "marker": {
             "colorbar": {
              "outlinewidth": 0,
              "ticks": ""
             }
            },
            "type": "scattergeo"
           }
          ],
          "scattergl": [
           {
            "marker": {
             "colorbar": {
              "outlinewidth": 0,
              "ticks": ""
             }
            },
            "type": "scattergl"
           }
          ],
          "scattermapbox": [
           {
            "marker": {
             "colorbar": {
              "outlinewidth": 0,
              "ticks": ""
             }
            },
            "type": "scattermapbox"
           }
          ],
          "scatterpolar": [
           {
            "marker": {
             "colorbar": {
              "outlinewidth": 0,
              "ticks": ""
             }
            },
            "type": "scatterpolar"
           }
          ],
          "scatterpolargl": [
           {
            "marker": {
             "colorbar": {
              "outlinewidth": 0,
              "ticks": ""
             }
            },
            "type": "scatterpolargl"
           }
          ],
          "scatterternary": [
           {
            "marker": {
             "colorbar": {
              "outlinewidth": 0,
              "ticks": ""
             }
            },
            "type": "scatterternary"
           }
          ],
          "surface": [
           {
            "colorbar": {
             "outlinewidth": 0,
             "ticks": ""
            },
            "colorscale": [
             [
              0,
              "#0d0887"
             ],
             [
              0.1111111111111111,
              "#46039f"
             ],
             [
              0.2222222222222222,
              "#7201a8"
             ],
             [
              0.3333333333333333,
              "#9c179e"
             ],
             [
              0.4444444444444444,
              "#bd3786"
             ],
             [
              0.5555555555555556,
              "#d8576b"
             ],
             [
              0.6666666666666666,
              "#ed7953"
             ],
             [
              0.7777777777777778,
              "#fb9f3a"
             ],
             [
              0.8888888888888888,
              "#fdca26"
             ],
             [
              1,
              "#f0f921"
             ]
            ],
            "type": "surface"
           }
          ],
          "table": [
           {
            "cells": {
             "fill": {
              "color": "#EBF0F8"
             },
             "line": {
              "color": "white"
             }
            },
            "header": {
             "fill": {
              "color": "#C8D4E3"
             },
             "line": {
              "color": "white"
             }
            },
            "type": "table"
           }
          ]
         },
         "layout": {
          "annotationdefaults": {
           "arrowcolor": "#2a3f5f",
           "arrowhead": 0,
           "arrowwidth": 1
          },
          "autotypenumbers": "strict",
          "coloraxis": {
           "colorbar": {
            "outlinewidth": 0,
            "ticks": ""
           }
          },
          "colorscale": {
           "diverging": [
            [
             0,
             "#8e0152"
            ],
            [
             0.1,
             "#c51b7d"
            ],
            [
             0.2,
             "#de77ae"
            ],
            [
             0.3,
             "#f1b6da"
            ],
            [
             0.4,
             "#fde0ef"
            ],
            [
             0.5,
             "#f7f7f7"
            ],
            [
             0.6,
             "#e6f5d0"
            ],
            [
             0.7,
             "#b8e186"
            ],
            [
             0.8,
             "#7fbc41"
            ],
            [
             0.9,
             "#4d9221"
            ],
            [
             1,
             "#276419"
            ]
           ],
           "sequential": [
            [
             0,
             "#0d0887"
            ],
            [
             0.1111111111111111,
             "#46039f"
            ],
            [
             0.2222222222222222,
             "#7201a8"
            ],
            [
             0.3333333333333333,
             "#9c179e"
            ],
            [
             0.4444444444444444,
             "#bd3786"
            ],
            [
             0.5555555555555556,
             "#d8576b"
            ],
            [
             0.6666666666666666,
             "#ed7953"
            ],
            [
             0.7777777777777778,
             "#fb9f3a"
            ],
            [
             0.8888888888888888,
             "#fdca26"
            ],
            [
             1,
             "#f0f921"
            ]
           ],
           "sequentialminus": [
            [
             0,
             "#0d0887"
            ],
            [
             0.1111111111111111,
             "#46039f"
            ],
            [
             0.2222222222222222,
             "#7201a8"
            ],
            [
             0.3333333333333333,
             "#9c179e"
            ],
            [
             0.4444444444444444,
             "#bd3786"
            ],
            [
             0.5555555555555556,
             "#d8576b"
            ],
            [
             0.6666666666666666,
             "#ed7953"
            ],
            [
             0.7777777777777778,
             "#fb9f3a"
            ],
            [
             0.8888888888888888,
             "#fdca26"
            ],
            [
             1,
             "#f0f921"
            ]
           ]
          },
          "colorway": [
           "#636efa",
           "#EF553B",
           "#00cc96",
           "#ab63fa",
           "#FFA15A",
           "#19d3f3",
           "#FF6692",
           "#B6E880",
           "#FF97FF",
           "#FECB52"
          ],
          "font": {
           "color": "#2a3f5f"
          },
          "geo": {
           "bgcolor": "white",
           "lakecolor": "white",
           "landcolor": "#E5ECF6",
           "showlakes": true,
           "showland": true,
           "subunitcolor": "white"
          },
          "hoverlabel": {
           "align": "left"
          },
          "hovermode": "closest",
          "mapbox": {
           "style": "light"
          },
          "paper_bgcolor": "white",
          "plot_bgcolor": "#E5ECF6",
          "polar": {
           "angularaxis": {
            "gridcolor": "white",
            "linecolor": "white",
            "ticks": ""
           },
           "bgcolor": "#E5ECF6",
           "radialaxis": {
            "gridcolor": "white",
            "linecolor": "white",
            "ticks": ""
           }
          },
          "scene": {
           "xaxis": {
            "backgroundcolor": "#E5ECF6",
            "gridcolor": "white",
            "gridwidth": 2,
            "linecolor": "white",
            "showbackground": true,
            "ticks": "",
            "zerolinecolor": "white"
           },
           "yaxis": {
            "backgroundcolor": "#E5ECF6",
            "gridcolor": "white",
            "gridwidth": 2,
            "linecolor": "white",
            "showbackground": true,
            "ticks": "",
            "zerolinecolor": "white"
           },
           "zaxis": {
            "backgroundcolor": "#E5ECF6",
            "gridcolor": "white",
            "gridwidth": 2,
            "linecolor": "white",
            "showbackground": true,
            "ticks": "",
            "zerolinecolor": "white"
           }
          },
          "shapedefaults": {
           "line": {
            "color": "#2a3f5f"
           }
          },
          "ternary": {
           "aaxis": {
            "gridcolor": "white",
            "linecolor": "white",
            "ticks": ""
           },
           "baxis": {
            "gridcolor": "white",
            "linecolor": "white",
            "ticks": ""
           },
           "bgcolor": "#E5ECF6",
           "caxis": {
            "gridcolor": "white",
            "linecolor": "white",
            "ticks": ""
           }
          },
          "title": {
           "x": 0.05
          },
          "xaxis": {
           "automargin": true,
           "gridcolor": "white",
           "linecolor": "white",
           "ticks": "",
           "title": {
            "standoff": 15
           },
           "zerolinecolor": "white",
           "zerolinewidth": 2
          },
          "yaxis": {
           "automargin": true,
           "gridcolor": "white",
           "linecolor": "white",
           "ticks": "",
           "title": {
            "standoff": 15
           },
           "zerolinecolor": "white",
           "zerolinewidth": 2
          }
         }
        },
        "width": 600,
        "xaxis": {
         "anchor": "y",
         "domain": [
          0,
          1
         ],
         "tickangle": 90,
         "title": {
          "text": "index"
         }
        },
        "yaxis": {
         "anchor": "x",
         "domain": [
          0,
          1
         ],
         "title": {
          "text": "p_value"
         }
        }
       }
      }
     },
     "metadata": {},
     "output_type": "display_data"
    }
   ],
   "source": [
    "# chi-square test\n",
    "X = cat_train_transformed.drop('injury_level',axis=1)\n",
    "y = cat_train_transformed['injury_level']\n",
    "\n",
    "chi_scores = chi2(X,y)\n",
    "\n",
    "# top correlated features + p_values visualization from chi-square test\n",
    "p_values = pd.Series(chi_scores[1],index = X.columns)\n",
    "p_values.sort_values(inplace = True)\n",
    "\n",
    "fig=px.bar(p_values, labels={'value': 'p_value'}, width=600, height=500)\n",
    "fig.add_hline(y=0.05, line_dash=\"dash\", line_color=\"red\")\n",
    "fig.update_layout(showlegend=False)\n",
    "fig.update_xaxes(tickangle = 90)"
   ]
  },
  {
   "cell_type": "code",
   "execution_count": 269,
   "metadata": {},
   "outputs": [
    {
     "data": {
      "text/html": [
       "<div>\n",
       "<style scoped>\n",
       "    .dataframe tbody tr th:only-of-type {\n",
       "        vertical-align: middle;\n",
       "    }\n",
       "\n",
       "    .dataframe tbody tr th {\n",
       "        vertical-align: top;\n",
       "    }\n",
       "\n",
       "    .dataframe thead th {\n",
       "        text-align: right;\n",
       "    }\n",
       "</style>\n",
       "<table border=\"1\" class=\"dataframe\">\n",
       "  <thead>\n",
       "    <tr style=\"text-align: right;\">\n",
       "      <th></th>\n",
       "      <th>p_value</th>\n",
       "    </tr>\n",
       "  </thead>\n",
       "  <tbody>\n",
       "    <tr>\n",
       "      <th>collision_type</th>\n",
       "      <td>0.950256</td>\n",
       "    </tr>\n",
       "    <tr>\n",
       "      <th>event</th>\n",
       "      <td>0.837177</td>\n",
       "    </tr>\n",
       "    <tr>\n",
       "      <th>was_doing</th>\n",
       "      <td>0.474422</td>\n",
       "    </tr>\n",
       "    <tr>\n",
       "      <th>crossing</th>\n",
       "      <td>0.438061</td>\n",
       "    </tr>\n",
       "    <tr>\n",
       "      <th>mobile_obstacle_hurt</th>\n",
       "      <td>0.322150</td>\n",
       "    </tr>\n",
       "  </tbody>\n",
       "</table>\n",
       "</div>"
      ],
      "text/plain": [
       "                       p_value\n",
       "collision_type        0.950256\n",
       "event                 0.837177\n",
       "was_doing             0.474422\n",
       "crossing              0.438061\n",
       "mobile_obstacle_hurt  0.322150"
      ]
     },
     "execution_count": 269,
     "metadata": {},
     "output_type": "execute_result"
    }
   ],
   "source": [
    "# top correlated features + p_values converted to dataframe for top features list extraction\n",
    "cat_pvals_df = pd.DataFrame(p_values, columns=['p_value'])\n",
    "cat_pvals_df.sort_values(by = 'p_value',ascending=False).head()"
   ]
  },
  {
   "cell_type": "code",
   "execution_count": 270,
   "metadata": {},
   "outputs": [
    {
     "name": "stdout",
     "output_type": "stream",
     "text": [
      "18\n"
     ]
    }
   ],
   "source": [
    "# list of top correlated categorical features\n",
    "top_cat_features_list = cat_pvals_df[cat_pvals_df['p_value']<0.05].index.to_list()\n",
    "top_cat_features_list\n",
    "print(len(top_cat_features_list))"
   ]
  },
  {
   "cell_type": "markdown",
   "metadata": {},
   "source": [
    "We get our categorical features to include in our 2nd round"
   ]
  },
  {
   "cell_type": "code",
   "execution_count": 271,
   "metadata": {},
   "outputs": [],
   "source": [
    "# for col in top_cat_features_list:\n",
    "#     injury_summary = pd.crosstab(pede_cat[col], pede_cat['injury_level'])\n",
    "#     injury_summary['Total'] = injury_summary['OK'] + injury_summary['not_ok']\n",
    "#     injury_summary['ok_pct'] = (injury_summary['OK']*100)/injury_summary['Total']\n",
    "#     display(injury_summary[['OK', 'not_ok', 'ok_pct']].style.background_gradient(cmap='Reds'))"
   ]
  },
  {
   "cell_type": "markdown",
   "metadata": {},
   "source": [
    "#### Continuous features selection\n",
    "1. Pick non-correlated features\n",
    "2. If 2 columns are correlated, pick the column with better statistical significance"
   ]
  },
  {
   "cell_type": "code",
   "execution_count": 272,
   "metadata": {},
   "outputs": [
    {
     "name": "stdout",
     "output_type": "stream",
     "text": [
      "5\n"
     ]
    },
    {
     "data": {
      "text/plain": [
       "['road_num', 'num_operating_lanes', 'month', 'hour', 'speed_group']"
      ]
     },
     "execution_count": 272,
     "metadata": {},
     "output_type": "execute_result"
    }
   ],
   "source": [
    "# extracting all continuous feature column\n",
    "pede_cont_columns = [col for col in pede_cont if col not in ['injury_level']]\n",
    "print(len(pede_cont_columns))\n",
    "pede_cont_columns"
   ]
  },
  {
   "cell_type": "code",
   "execution_count": 273,
   "metadata": {},
   "outputs": [
    {
     "name": "stdout",
     "output_type": "stream",
     "text": [
      "road_num has non-normal distribution: running KS test. result: statistically significant\n",
      "num_operating_lanes has non-normal distribution: running KS test. result: statistically significant\n",
      "month has non-normal distribution: running KS test. result: statistically significant\n",
      "hour has non-normal distribution: running KS test. result: statistically significant\n",
      "speed_group has non-normal distribution: running KS test. result: statistically significant\n"
     ]
    },
    {
     "data": {
      "application/vnd.plotly.v1+json": {
       "config": {
        "plotlyServerURL": "https://plot.ly"
       },
       "data": [
        {
         "alignmentgroup": "True",
         "hovertemplate": "variable=p_value<br>index=%{x}<br>p_value=%{y}<extra></extra>",
         "legendgroup": "p_value",
         "marker": {
          "color": "#636efa",
          "pattern": {
           "shape": ""
          }
         },
         "name": "p_value",
         "offsetgroup": "p_value",
         "orientation": "v",
         "showlegend": true,
         "textposition": "auto",
         "type": "bar",
         "x": [
          "road_num",
          "speed_group",
          "num_operating_lanes",
          "hour",
          "month"
         ],
         "xaxis": "x",
         "y": [
          2.252283253046238e-41,
          9.681546961887403e-28,
          1.0116725824895923e-13,
          7.66719070174534e-9,
          0.0016908065070493285
         ],
         "yaxis": "y"
        }
       ],
       "layout": {
        "barmode": "relative",
        "height": 500,
        "legend": {
         "title": {
          "text": "variable"
         },
         "tracegroupgap": 0
        },
        "margin": {
         "t": 60
        },
        "shapes": [
         {
          "line": {
           "color": "red",
           "dash": "dash"
          },
          "type": "line",
          "x0": 0,
          "x1": 1,
          "xref": "x domain",
          "y0": 0.05,
          "y1": 0.05,
          "yref": "y"
         }
        ],
        "showlegend": false,
        "template": {
         "data": {
          "bar": [
           {
            "error_x": {
             "color": "#2a3f5f"
            },
            "error_y": {
             "color": "#2a3f5f"
            },
            "marker": {
             "line": {
              "color": "#E5ECF6",
              "width": 0.5
             },
             "pattern": {
              "fillmode": "overlay",
              "size": 10,
              "solidity": 0.2
             }
            },
            "type": "bar"
           }
          ],
          "barpolar": [
           {
            "marker": {
             "line": {
              "color": "#E5ECF6",
              "width": 0.5
             },
             "pattern": {
              "fillmode": "overlay",
              "size": 10,
              "solidity": 0.2
             }
            },
            "type": "barpolar"
           }
          ],
          "carpet": [
           {
            "aaxis": {
             "endlinecolor": "#2a3f5f",
             "gridcolor": "white",
             "linecolor": "white",
             "minorgridcolor": "white",
             "startlinecolor": "#2a3f5f"
            },
            "baxis": {
             "endlinecolor": "#2a3f5f",
             "gridcolor": "white",
             "linecolor": "white",
             "minorgridcolor": "white",
             "startlinecolor": "#2a3f5f"
            },
            "type": "carpet"
           }
          ],
          "choropleth": [
           {
            "colorbar": {
             "outlinewidth": 0,
             "ticks": ""
            },
            "type": "choropleth"
           }
          ],
          "contour": [
           {
            "colorbar": {
             "outlinewidth": 0,
             "ticks": ""
            },
            "colorscale": [
             [
              0,
              "#0d0887"
             ],
             [
              0.1111111111111111,
              "#46039f"
             ],
             [
              0.2222222222222222,
              "#7201a8"
             ],
             [
              0.3333333333333333,
              "#9c179e"
             ],
             [
              0.4444444444444444,
              "#bd3786"
             ],
             [
              0.5555555555555556,
              "#d8576b"
             ],
             [
              0.6666666666666666,
              "#ed7953"
             ],
             [
              0.7777777777777778,
              "#fb9f3a"
             ],
             [
              0.8888888888888888,
              "#fdca26"
             ],
             [
              1,
              "#f0f921"
             ]
            ],
            "type": "contour"
           }
          ],
          "contourcarpet": [
           {
            "colorbar": {
             "outlinewidth": 0,
             "ticks": ""
            },
            "type": "contourcarpet"
           }
          ],
          "heatmap": [
           {
            "colorbar": {
             "outlinewidth": 0,
             "ticks": ""
            },
            "colorscale": [
             [
              0,
              "#0d0887"
             ],
             [
              0.1111111111111111,
              "#46039f"
             ],
             [
              0.2222222222222222,
              "#7201a8"
             ],
             [
              0.3333333333333333,
              "#9c179e"
             ],
             [
              0.4444444444444444,
              "#bd3786"
             ],
             [
              0.5555555555555556,
              "#d8576b"
             ],
             [
              0.6666666666666666,
              "#ed7953"
             ],
             [
              0.7777777777777778,
              "#fb9f3a"
             ],
             [
              0.8888888888888888,
              "#fdca26"
             ],
             [
              1,
              "#f0f921"
             ]
            ],
            "type": "heatmap"
           }
          ],
          "heatmapgl": [
           {
            "colorbar": {
             "outlinewidth": 0,
             "ticks": ""
            },
            "colorscale": [
             [
              0,
              "#0d0887"
             ],
             [
              0.1111111111111111,
              "#46039f"
             ],
             [
              0.2222222222222222,
              "#7201a8"
             ],
             [
              0.3333333333333333,
              "#9c179e"
             ],
             [
              0.4444444444444444,
              "#bd3786"
             ],
             [
              0.5555555555555556,
              "#d8576b"
             ],
             [
              0.6666666666666666,
              "#ed7953"
             ],
             [
              0.7777777777777778,
              "#fb9f3a"
             ],
             [
              0.8888888888888888,
              "#fdca26"
             ],
             [
              1,
              "#f0f921"
             ]
            ],
            "type": "heatmapgl"
           }
          ],
          "histogram": [
           {
            "marker": {
             "pattern": {
              "fillmode": "overlay",
              "size": 10,
              "solidity": 0.2
             }
            },
            "type": "histogram"
           }
          ],
          "histogram2d": [
           {
            "colorbar": {
             "outlinewidth": 0,
             "ticks": ""
            },
            "colorscale": [
             [
              0,
              "#0d0887"
             ],
             [
              0.1111111111111111,
              "#46039f"
             ],
             [
              0.2222222222222222,
              "#7201a8"
             ],
             [
              0.3333333333333333,
              "#9c179e"
             ],
             [
              0.4444444444444444,
              "#bd3786"
             ],
             [
              0.5555555555555556,
              "#d8576b"
             ],
             [
              0.6666666666666666,
              "#ed7953"
             ],
             [
              0.7777777777777778,
              "#fb9f3a"
             ],
             [
              0.8888888888888888,
              "#fdca26"
             ],
             [
              1,
              "#f0f921"
             ]
            ],
            "type": "histogram2d"
           }
          ],
          "histogram2dcontour": [
           {
            "colorbar": {
             "outlinewidth": 0,
             "ticks": ""
            },
            "colorscale": [
             [
              0,
              "#0d0887"
             ],
             [
              0.1111111111111111,
              "#46039f"
             ],
             [
              0.2222222222222222,
              "#7201a8"
             ],
             [
              0.3333333333333333,
              "#9c179e"
             ],
             [
              0.4444444444444444,
              "#bd3786"
             ],
             [
              0.5555555555555556,
              "#d8576b"
             ],
             [
              0.6666666666666666,
              "#ed7953"
             ],
             [
              0.7777777777777778,
              "#fb9f3a"
             ],
             [
              0.8888888888888888,
              "#fdca26"
             ],
             [
              1,
              "#f0f921"
             ]
            ],
            "type": "histogram2dcontour"
           }
          ],
          "mesh3d": [
           {
            "colorbar": {
             "outlinewidth": 0,
             "ticks": ""
            },
            "type": "mesh3d"
           }
          ],
          "parcoords": [
           {
            "line": {
             "colorbar": {
              "outlinewidth": 0,
              "ticks": ""
             }
            },
            "type": "parcoords"
           }
          ],
          "pie": [
           {
            "automargin": true,
            "type": "pie"
           }
          ],
          "scatter": [
           {
            "fillpattern": {
             "fillmode": "overlay",
             "size": 10,
             "solidity": 0.2
            },
            "type": "scatter"
           }
          ],
          "scatter3d": [
           {
            "line": {
             "colorbar": {
              "outlinewidth": 0,
              "ticks": ""
             }
            },
            "marker": {
             "colorbar": {
              "outlinewidth": 0,
              "ticks": ""
             }
            },
            "type": "scatter3d"
           }
          ],
          "scattercarpet": [
           {
            "marker": {
             "colorbar": {
              "outlinewidth": 0,
              "ticks": ""
             }
            },
            "type": "scattercarpet"
           }
          ],
          "scattergeo": [
           {
            "marker": {
             "colorbar": {
              "outlinewidth": 0,
              "ticks": ""
             }
            },
            "type": "scattergeo"
           }
          ],
          "scattergl": [
           {
            "marker": {
             "colorbar": {
              "outlinewidth": 0,
              "ticks": ""
             }
            },
            "type": "scattergl"
           }
          ],
          "scattermapbox": [
           {
            "marker": {
             "colorbar": {
              "outlinewidth": 0,
              "ticks": ""
             }
            },
            "type": "scattermapbox"
           }
          ],
          "scatterpolar": [
           {
            "marker": {
             "colorbar": {
              "outlinewidth": 0,
              "ticks": ""
             }
            },
            "type": "scatterpolar"
           }
          ],
          "scatterpolargl": [
           {
            "marker": {
             "colorbar": {
              "outlinewidth": 0,
              "ticks": ""
             }
            },
            "type": "scatterpolargl"
           }
          ],
          "scatterternary": [
           {
            "marker": {
             "colorbar": {
              "outlinewidth": 0,
              "ticks": ""
             }
            },
            "type": "scatterternary"
           }
          ],
          "surface": [
           {
            "colorbar": {
             "outlinewidth": 0,
             "ticks": ""
            },
            "colorscale": [
             [
              0,
              "#0d0887"
             ],
             [
              0.1111111111111111,
              "#46039f"
             ],
             [
              0.2222222222222222,
              "#7201a8"
             ],
             [
              0.3333333333333333,
              "#9c179e"
             ],
             [
              0.4444444444444444,
              "#bd3786"
             ],
             [
              0.5555555555555556,
              "#d8576b"
             ],
             [
              0.6666666666666666,
              "#ed7953"
             ],
             [
              0.7777777777777778,
              "#fb9f3a"
             ],
             [
              0.8888888888888888,
              "#fdca26"
             ],
             [
              1,
              "#f0f921"
             ]
            ],
            "type": "surface"
           }
          ],
          "table": [
           {
            "cells": {
             "fill": {
              "color": "#EBF0F8"
             },
             "line": {
              "color": "white"
             }
            },
            "header": {
             "fill": {
              "color": "#C8D4E3"
             },
             "line": {
              "color": "white"
             }
            },
            "type": "table"
           }
          ]
         },
         "layout": {
          "annotationdefaults": {
           "arrowcolor": "#2a3f5f",
           "arrowhead": 0,
           "arrowwidth": 1
          },
          "autotypenumbers": "strict",
          "coloraxis": {
           "colorbar": {
            "outlinewidth": 0,
            "ticks": ""
           }
          },
          "colorscale": {
           "diverging": [
            [
             0,
             "#8e0152"
            ],
            [
             0.1,
             "#c51b7d"
            ],
            [
             0.2,
             "#de77ae"
            ],
            [
             0.3,
             "#f1b6da"
            ],
            [
             0.4,
             "#fde0ef"
            ],
            [
             0.5,
             "#f7f7f7"
            ],
            [
             0.6,
             "#e6f5d0"
            ],
            [
             0.7,
             "#b8e186"
            ],
            [
             0.8,
             "#7fbc41"
            ],
            [
             0.9,
             "#4d9221"
            ],
            [
             1,
             "#276419"
            ]
           ],
           "sequential": [
            [
             0,
             "#0d0887"
            ],
            [
             0.1111111111111111,
             "#46039f"
            ],
            [
             0.2222222222222222,
             "#7201a8"
            ],
            [
             0.3333333333333333,
             "#9c179e"
            ],
            [
             0.4444444444444444,
             "#bd3786"
            ],
            [
             0.5555555555555556,
             "#d8576b"
            ],
            [
             0.6666666666666666,
             "#ed7953"
            ],
            [
             0.7777777777777778,
             "#fb9f3a"
            ],
            [
             0.8888888888888888,
             "#fdca26"
            ],
            [
             1,
             "#f0f921"
            ]
           ],
           "sequentialminus": [
            [
             0,
             "#0d0887"
            ],
            [
             0.1111111111111111,
             "#46039f"
            ],
            [
             0.2222222222222222,
             "#7201a8"
            ],
            [
             0.3333333333333333,
             "#9c179e"
            ],
            [
             0.4444444444444444,
             "#bd3786"
            ],
            [
             0.5555555555555556,
             "#d8576b"
            ],
            [
             0.6666666666666666,
             "#ed7953"
            ],
            [
             0.7777777777777778,
             "#fb9f3a"
            ],
            [
             0.8888888888888888,
             "#fdca26"
            ],
            [
             1,
             "#f0f921"
            ]
           ]
          },
          "colorway": [
           "#636efa",
           "#EF553B",
           "#00cc96",
           "#ab63fa",
           "#FFA15A",
           "#19d3f3",
           "#FF6692",
           "#B6E880",
           "#FF97FF",
           "#FECB52"
          ],
          "font": {
           "color": "#2a3f5f"
          },
          "geo": {
           "bgcolor": "white",
           "lakecolor": "white",
           "landcolor": "#E5ECF6",
           "showlakes": true,
           "showland": true,
           "subunitcolor": "white"
          },
          "hoverlabel": {
           "align": "left"
          },
          "hovermode": "closest",
          "mapbox": {
           "style": "light"
          },
          "paper_bgcolor": "white",
          "plot_bgcolor": "#E5ECF6",
          "polar": {
           "angularaxis": {
            "gridcolor": "white",
            "linecolor": "white",
            "ticks": ""
           },
           "bgcolor": "#E5ECF6",
           "radialaxis": {
            "gridcolor": "white",
            "linecolor": "white",
            "ticks": ""
           }
          },
          "scene": {
           "xaxis": {
            "backgroundcolor": "#E5ECF6",
            "gridcolor": "white",
            "gridwidth": 2,
            "linecolor": "white",
            "showbackground": true,
            "ticks": "",
            "zerolinecolor": "white"
           },
           "yaxis": {
            "backgroundcolor": "#E5ECF6",
            "gridcolor": "white",
            "gridwidth": 2,
            "linecolor": "white",
            "showbackground": true,
            "ticks": "",
            "zerolinecolor": "white"
           },
           "zaxis": {
            "backgroundcolor": "#E5ECF6",
            "gridcolor": "white",
            "gridwidth": 2,
            "linecolor": "white",
            "showbackground": true,
            "ticks": "",
            "zerolinecolor": "white"
           }
          },
          "shapedefaults": {
           "line": {
            "color": "#2a3f5f"
           }
          },
          "ternary": {
           "aaxis": {
            "gridcolor": "white",
            "linecolor": "white",
            "ticks": ""
           },
           "baxis": {
            "gridcolor": "white",
            "linecolor": "white",
            "ticks": ""
           },
           "bgcolor": "#E5ECF6",
           "caxis": {
            "gridcolor": "white",
            "linecolor": "white",
            "ticks": ""
           }
          },
          "title": {
           "x": 0.05
          },
          "xaxis": {
           "automargin": true,
           "gridcolor": "white",
           "linecolor": "white",
           "ticks": "",
           "title": {
            "standoff": 15
           },
           "zerolinecolor": "white",
           "zerolinewidth": 2
          },
          "yaxis": {
           "automargin": true,
           "gridcolor": "white",
           "linecolor": "white",
           "ticks": "",
           "title": {
            "standoff": 15
           },
           "zerolinecolor": "white",
           "zerolinewidth": 2
          }
         }
        },
        "width": 600,
        "xaxis": {
         "anchor": "y",
         "domain": [
          0,
          1
         ],
         "tickangle": 90,
         "title": {
          "text": "index"
         }
        },
        "yaxis": {
         "anchor": "x",
         "domain": [
          0,
          1
         ],
         "title": {
          "text": "p_value"
         }
        }
       }
      }
     },
     "metadata": {},
     "output_type": "display_data"
    }
   ],
   "source": [
    "# running normality and statistical significance tests on continuous features\n",
    "\n",
    "results_dict = {col:cont_stat_sig_test(pede_cont,col) for col in pede_cont_columns}\n",
    "cont_stat_results_df = pd.DataFrame.from_dict(results_dict, orient='index', columns=['p_value']).sort_values(by='p_value')\n",
    "\n",
    "fig=px.bar(cont_stat_results_df, labels={'value': 'p_value'}, width=600, height=500)\n",
    "fig.add_hline(y=0.05, line_dash=\"dash\", line_color=\"red\")\n",
    "fig.update_layout(showlegend=False)\n",
    "fig.update_xaxes(tickangle = 90)\n"
   ]
  },
  {
   "cell_type": "markdown",
   "metadata": {},
   "source": [
    "All our continuous features are statistically significant in predicting severity of an accident"
   ]
  },
  {
   "cell_type": "code",
   "execution_count": 274,
   "metadata": {},
   "outputs": [
    {
     "name": "stdout",
     "output_type": "stream",
     "text": [
      "(19401, 6)\n"
     ]
    },
    {
     "data": {
      "text/html": [
       "<div>\n",
       "<style scoped>\n",
       "    .dataframe tbody tr th:only-of-type {\n",
       "        vertical-align: middle;\n",
       "    }\n",
       "\n",
       "    .dataframe tbody tr th {\n",
       "        vertical-align: top;\n",
       "    }\n",
       "\n",
       "    .dataframe thead th {\n",
       "        text-align: right;\n",
       "    }\n",
       "</style>\n",
       "<table border=\"1\" class=\"dataframe\">\n",
       "  <thead>\n",
       "    <tr style=\"text-align: right;\">\n",
       "      <th></th>\n",
       "      <th>injury_level</th>\n",
       "      <th>road_num</th>\n",
       "      <th>speed_group</th>\n",
       "      <th>num_operating_lanes</th>\n",
       "      <th>hour</th>\n",
       "      <th>month</th>\n",
       "    </tr>\n",
       "  </thead>\n",
       "  <tbody>\n",
       "    <tr>\n",
       "      <th>26</th>\n",
       "      <td>OK</td>\n",
       "      <td>0.0</td>\n",
       "      <td>3.0</td>\n",
       "      <td>3</td>\n",
       "      <td>13</td>\n",
       "      <td>11</td>\n",
       "    </tr>\n",
       "    <tr>\n",
       "      <th>34</th>\n",
       "      <td>OK</td>\n",
       "      <td>0.0</td>\n",
       "      <td>3.0</td>\n",
       "      <td>1</td>\n",
       "      <td>8</td>\n",
       "      <td>11</td>\n",
       "    </tr>\n",
       "    <tr>\n",
       "      <th>36</th>\n",
       "      <td>OK</td>\n",
       "      <td>0.0</td>\n",
       "      <td>3.0</td>\n",
       "      <td>1</td>\n",
       "      <td>9</td>\n",
       "      <td>11</td>\n",
       "    </tr>\n",
       "    <tr>\n",
       "      <th>37</th>\n",
       "      <td>OK</td>\n",
       "      <td>0.0</td>\n",
       "      <td>2.0</td>\n",
       "      <td>1</td>\n",
       "      <td>6</td>\n",
       "      <td>11</td>\n",
       "    </tr>\n",
       "    <tr>\n",
       "      <th>44</th>\n",
       "      <td>OK</td>\n",
       "      <td>0.0</td>\n",
       "      <td>3.0</td>\n",
       "      <td>7</td>\n",
       "      <td>8</td>\n",
       "      <td>11</td>\n",
       "    </tr>\n",
       "  </tbody>\n",
       "</table>\n",
       "</div>"
      ],
      "text/plain": [
       "   injury_level  road_num  speed_group  num_operating_lanes  hour  month\n",
       "26           OK       0.0          3.0                    3    13     11\n",
       "34           OK       0.0          3.0                    1     8     11\n",
       "36           OK       0.0          3.0                    1     9     11\n",
       "37           OK       0.0          2.0                    1     6     11\n",
       "44           OK       0.0          3.0                    7     8     11"
      ]
     },
     "execution_count": 274,
     "metadata": {},
     "output_type": "execute_result"
    }
   ],
   "source": [
    "# rearranging pede_cont dataset's feature columns in the order of statistical significance\n",
    "pede_cont = pede_cont[['injury_level']+cont_stat_results_df.index.tolist()]\n",
    "cont_feature_cols = pede_cont.columns.tolist()\n",
    "cont_feature_cols.remove('injury_level')\n",
    "print(pede_cont.shape)\n",
    "pede_cont.head()"
   ]
  },
  {
   "cell_type": "code",
   "execution_count": 275,
   "metadata": {},
   "outputs": [
    {
     "data": {
      "application/vnd.plotly.v1+json": {
       "config": {
        "plotlyServerURL": "https://plot.ly"
       },
       "data": [
        {
         "coloraxis": "coloraxis",
         "hovertemplate": "x: %{x}<br>y: %{y}<br>color: %{z}<extra></extra>",
         "name": "0",
         "type": "heatmap",
         "x": [
          "road_num",
          "speed_group",
          "num_operating_lanes",
          "hour",
          "month"
         ],
         "xaxis": "x",
         "y": [
          "road_num",
          "speed_group",
          "num_operating_lanes",
          "hour",
          "month"
         ],
         "yaxis": "y",
         "z": [
          [
           0,
           0,
           0,
           0,
           0
          ],
          [
           0,
           0,
           0,
           0,
           0
          ],
          [
           0,
           0,
           0,
           0,
           0
          ],
          [
           0,
           0,
           0,
           0,
           0
          ],
          [
           0,
           0,
           0,
           0,
           0
          ]
         ]
        }
       ],
       "layout": {
        "coloraxis": {
         "colorscale": [
          [
           0,
           "#636EFA"
          ],
          [
           0.1111111111111111,
           "#EF553B"
          ],
          [
           0.2222222222222222,
           "#00CC96"
          ],
          [
           0.3333333333333333,
           "#AB63FA"
          ],
          [
           0.4444444444444444,
           "#FFA15A"
          ],
          [
           0.5555555555555556,
           "#19D3F3"
          ],
          [
           0.6666666666666666,
           "#FF6692"
          ],
          [
           0.7777777777777778,
           "#B6E880"
          ],
          [
           0.8888888888888888,
           "#FF97FF"
          ],
          [
           1,
           "#FECB52"
          ]
         ],
         "showscale": false
        },
        "height": 800,
        "template": {
         "data": {
          "bar": [
           {
            "error_x": {
             "color": "#2a3f5f"
            },
            "error_y": {
             "color": "#2a3f5f"
            },
            "marker": {
             "line": {
              "color": "#E5ECF6",
              "width": 0.5
             },
             "pattern": {
              "fillmode": "overlay",
              "size": 10,
              "solidity": 0.2
             }
            },
            "type": "bar"
           }
          ],
          "barpolar": [
           {
            "marker": {
             "line": {
              "color": "#E5ECF6",
              "width": 0.5
             },
             "pattern": {
              "fillmode": "overlay",
              "size": 10,
              "solidity": 0.2
             }
            },
            "type": "barpolar"
           }
          ],
          "carpet": [
           {
            "aaxis": {
             "endlinecolor": "#2a3f5f",
             "gridcolor": "white",
             "linecolor": "white",
             "minorgridcolor": "white",
             "startlinecolor": "#2a3f5f"
            },
            "baxis": {
             "endlinecolor": "#2a3f5f",
             "gridcolor": "white",
             "linecolor": "white",
             "minorgridcolor": "white",
             "startlinecolor": "#2a3f5f"
            },
            "type": "carpet"
           }
          ],
          "choropleth": [
           {
            "colorbar": {
             "outlinewidth": 0,
             "ticks": ""
            },
            "type": "choropleth"
           }
          ],
          "contour": [
           {
            "colorbar": {
             "outlinewidth": 0,
             "ticks": ""
            },
            "colorscale": [
             [
              0,
              "#0d0887"
             ],
             [
              0.1111111111111111,
              "#46039f"
             ],
             [
              0.2222222222222222,
              "#7201a8"
             ],
             [
              0.3333333333333333,
              "#9c179e"
             ],
             [
              0.4444444444444444,
              "#bd3786"
             ],
             [
              0.5555555555555556,
              "#d8576b"
             ],
             [
              0.6666666666666666,
              "#ed7953"
             ],
             [
              0.7777777777777778,
              "#fb9f3a"
             ],
             [
              0.8888888888888888,
              "#fdca26"
             ],
             [
              1,
              "#f0f921"
             ]
            ],
            "type": "contour"
           }
          ],
          "contourcarpet": [
           {
            "colorbar": {
             "outlinewidth": 0,
             "ticks": ""
            },
            "type": "contourcarpet"
           }
          ],
          "heatmap": [
           {
            "colorbar": {
             "outlinewidth": 0,
             "ticks": ""
            },
            "colorscale": [
             [
              0,
              "#0d0887"
             ],
             [
              0.1111111111111111,
              "#46039f"
             ],
             [
              0.2222222222222222,
              "#7201a8"
             ],
             [
              0.3333333333333333,
              "#9c179e"
             ],
             [
              0.4444444444444444,
              "#bd3786"
             ],
             [
              0.5555555555555556,
              "#d8576b"
             ],
             [
              0.6666666666666666,
              "#ed7953"
             ],
             [
              0.7777777777777778,
              "#fb9f3a"
             ],
             [
              0.8888888888888888,
              "#fdca26"
             ],
             [
              1,
              "#f0f921"
             ]
            ],
            "type": "heatmap"
           }
          ],
          "heatmapgl": [
           {
            "colorbar": {
             "outlinewidth": 0,
             "ticks": ""
            },
            "colorscale": [
             [
              0,
              "#0d0887"
             ],
             [
              0.1111111111111111,
              "#46039f"
             ],
             [
              0.2222222222222222,
              "#7201a8"
             ],
             [
              0.3333333333333333,
              "#9c179e"
             ],
             [
              0.4444444444444444,
              "#bd3786"
             ],
             [
              0.5555555555555556,
              "#d8576b"
             ],
             [
              0.6666666666666666,
              "#ed7953"
             ],
             [
              0.7777777777777778,
              "#fb9f3a"
             ],
             [
              0.8888888888888888,
              "#fdca26"
             ],
             [
              1,
              "#f0f921"
             ]
            ],
            "type": "heatmapgl"
           }
          ],
          "histogram": [
           {
            "marker": {
             "pattern": {
              "fillmode": "overlay",
              "size": 10,
              "solidity": 0.2
             }
            },
            "type": "histogram"
           }
          ],
          "histogram2d": [
           {
            "colorbar": {
             "outlinewidth": 0,
             "ticks": ""
            },
            "colorscale": [
             [
              0,
              "#0d0887"
             ],
             [
              0.1111111111111111,
              "#46039f"
             ],
             [
              0.2222222222222222,
              "#7201a8"
             ],
             [
              0.3333333333333333,
              "#9c179e"
             ],
             [
              0.4444444444444444,
              "#bd3786"
             ],
             [
              0.5555555555555556,
              "#d8576b"
             ],
             [
              0.6666666666666666,
              "#ed7953"
             ],
             [
              0.7777777777777778,
              "#fb9f3a"
             ],
             [
              0.8888888888888888,
              "#fdca26"
             ],
             [
              1,
              "#f0f921"
             ]
            ],
            "type": "histogram2d"
           }
          ],
          "histogram2dcontour": [
           {
            "colorbar": {
             "outlinewidth": 0,
             "ticks": ""
            },
            "colorscale": [
             [
              0,
              "#0d0887"
             ],
             [
              0.1111111111111111,
              "#46039f"
             ],
             [
              0.2222222222222222,
              "#7201a8"
             ],
             [
              0.3333333333333333,
              "#9c179e"
             ],
             [
              0.4444444444444444,
              "#bd3786"
             ],
             [
              0.5555555555555556,
              "#d8576b"
             ],
             [
              0.6666666666666666,
              "#ed7953"
             ],
             [
              0.7777777777777778,
              "#fb9f3a"
             ],
             [
              0.8888888888888888,
              "#fdca26"
             ],
             [
              1,
              "#f0f921"
             ]
            ],
            "type": "histogram2dcontour"
           }
          ],
          "mesh3d": [
           {
            "colorbar": {
             "outlinewidth": 0,
             "ticks": ""
            },
            "type": "mesh3d"
           }
          ],
          "parcoords": [
           {
            "line": {
             "colorbar": {
              "outlinewidth": 0,
              "ticks": ""
             }
            },
            "type": "parcoords"
           }
          ],
          "pie": [
           {
            "automargin": true,
            "type": "pie"
           }
          ],
          "scatter": [
           {
            "fillpattern": {
             "fillmode": "overlay",
             "size": 10,
             "solidity": 0.2
            },
            "type": "scatter"
           }
          ],
          "scatter3d": [
           {
            "line": {
             "colorbar": {
              "outlinewidth": 0,
              "ticks": ""
             }
            },
            "marker": {
             "colorbar": {
              "outlinewidth": 0,
              "ticks": ""
             }
            },
            "type": "scatter3d"
           }
          ],
          "scattercarpet": [
           {
            "marker": {
             "colorbar": {
              "outlinewidth": 0,
              "ticks": ""
             }
            },
            "type": "scattercarpet"
           }
          ],
          "scattergeo": [
           {
            "marker": {
             "colorbar": {
              "outlinewidth": 0,
              "ticks": ""
             }
            },
            "type": "scattergeo"
           }
          ],
          "scattergl": [
           {
            "marker": {
             "colorbar": {
              "outlinewidth": 0,
              "ticks": ""
             }
            },
            "type": "scattergl"
           }
          ],
          "scattermapbox": [
           {
            "marker": {
             "colorbar": {
              "outlinewidth": 0,
              "ticks": ""
             }
            },
            "type": "scattermapbox"
           }
          ],
          "scatterpolar": [
           {
            "marker": {
             "colorbar": {
              "outlinewidth": 0,
              "ticks": ""
             }
            },
            "type": "scatterpolar"
           }
          ],
          "scatterpolargl": [
           {
            "marker": {
             "colorbar": {
              "outlinewidth": 0,
              "ticks": ""
             }
            },
            "type": "scatterpolargl"
           }
          ],
          "scatterternary": [
           {
            "marker": {
             "colorbar": {
              "outlinewidth": 0,
              "ticks": ""
             }
            },
            "type": "scatterternary"
           }
          ],
          "surface": [
           {
            "colorbar": {
             "outlinewidth": 0,
             "ticks": ""
            },
            "colorscale": [
             [
              0,
              "#0d0887"
             ],
             [
              0.1111111111111111,
              "#46039f"
             ],
             [
              0.2222222222222222,
              "#7201a8"
             ],
             [
              0.3333333333333333,
              "#9c179e"
             ],
             [
              0.4444444444444444,
              "#bd3786"
             ],
             [
              0.5555555555555556,
              "#d8576b"
             ],
             [
              0.6666666666666666,
              "#ed7953"
             ],
             [
              0.7777777777777778,
              "#fb9f3a"
             ],
             [
              0.8888888888888888,
              "#fdca26"
             ],
             [
              1,
              "#f0f921"
             ]
            ],
            "type": "surface"
           }
          ],
          "table": [
           {
            "cells": {
             "fill": {
              "color": "#EBF0F8"
             },
             "line": {
              "color": "white"
             }
            },
            "header": {
             "fill": {
              "color": "#C8D4E3"
             },
             "line": {
              "color": "white"
             }
            },
            "type": "table"
           }
          ]
         },
         "layout": {
          "annotationdefaults": {
           "arrowcolor": "#2a3f5f",
           "arrowhead": 0,
           "arrowwidth": 1
          },
          "autotypenumbers": "strict",
          "coloraxis": {
           "colorbar": {
            "outlinewidth": 0,
            "ticks": ""
           }
          },
          "colorscale": {
           "diverging": [
            [
             0,
             "#8e0152"
            ],
            [
             0.1,
             "#c51b7d"
            ],
            [
             0.2,
             "#de77ae"
            ],
            [
             0.3,
             "#f1b6da"
            ],
            [
             0.4,
             "#fde0ef"
            ],
            [
             0.5,
             "#f7f7f7"
            ],
            [
             0.6,
             "#e6f5d0"
            ],
            [
             0.7,
             "#b8e186"
            ],
            [
             0.8,
             "#7fbc41"
            ],
            [
             0.9,
             "#4d9221"
            ],
            [
             1,
             "#276419"
            ]
           ],
           "sequential": [
            [
             0,
             "#0d0887"
            ],
            [
             0.1111111111111111,
             "#46039f"
            ],
            [
             0.2222222222222222,
             "#7201a8"
            ],
            [
             0.3333333333333333,
             "#9c179e"
            ],
            [
             0.4444444444444444,
             "#bd3786"
            ],
            [
             0.5555555555555556,
             "#d8576b"
            ],
            [
             0.6666666666666666,
             "#ed7953"
            ],
            [
             0.7777777777777778,
             "#fb9f3a"
            ],
            [
             0.8888888888888888,
             "#fdca26"
            ],
            [
             1,
             "#f0f921"
            ]
           ],
           "sequentialminus": [
            [
             0,
             "#0d0887"
            ],
            [
             0.1111111111111111,
             "#46039f"
            ],
            [
             0.2222222222222222,
             "#7201a8"
            ],
            [
             0.3333333333333333,
             "#9c179e"
            ],
            [
             0.4444444444444444,
             "#bd3786"
            ],
            [
             0.5555555555555556,
             "#d8576b"
            ],
            [
             0.6666666666666666,
             "#ed7953"
            ],
            [
             0.7777777777777778,
             "#fb9f3a"
            ],
            [
             0.8888888888888888,
             "#fdca26"
            ],
            [
             1,
             "#f0f921"
            ]
           ]
          },
          "colorway": [
           "#636efa",
           "#EF553B",
           "#00cc96",
           "#ab63fa",
           "#FFA15A",
           "#19d3f3",
           "#FF6692",
           "#B6E880",
           "#FF97FF",
           "#FECB52"
          ],
          "font": {
           "color": "#2a3f5f"
          },
          "geo": {
           "bgcolor": "white",
           "lakecolor": "white",
           "landcolor": "#E5ECF6",
           "showlakes": true,
           "showland": true,
           "subunitcolor": "white"
          },
          "hoverlabel": {
           "align": "left"
          },
          "hovermode": "closest",
          "mapbox": {
           "style": "light"
          },
          "paper_bgcolor": "white",
          "plot_bgcolor": "#E5ECF6",
          "polar": {
           "angularaxis": {
            "gridcolor": "white",
            "linecolor": "white",
            "ticks": ""
           },
           "bgcolor": "#E5ECF6",
           "radialaxis": {
            "gridcolor": "white",
            "linecolor": "white",
            "ticks": ""
           }
          },
          "scene": {
           "xaxis": {
            "backgroundcolor": "#E5ECF6",
            "gridcolor": "white",
            "gridwidth": 2,
            "linecolor": "white",
            "showbackground": true,
            "ticks": "",
            "zerolinecolor": "white"
           },
           "yaxis": {
            "backgroundcolor": "#E5ECF6",
            "gridcolor": "white",
            "gridwidth": 2,
            "linecolor": "white",
            "showbackground": true,
            "ticks": "",
            "zerolinecolor": "white"
           },
           "zaxis": {
            "backgroundcolor": "#E5ECF6",
            "gridcolor": "white",
            "gridwidth": 2,
            "linecolor": "white",
            "showbackground": true,
            "ticks": "",
            "zerolinecolor": "white"
           }
          },
          "shapedefaults": {
           "line": {
            "color": "#2a3f5f"
           }
          },
          "ternary": {
           "aaxis": {
            "gridcolor": "white",
            "linecolor": "white",
            "ticks": ""
           },
           "baxis": {
            "gridcolor": "white",
            "linecolor": "white",
            "ticks": ""
           },
           "bgcolor": "#E5ECF6",
           "caxis": {
            "gridcolor": "white",
            "linecolor": "white",
            "ticks": ""
           }
          },
          "title": {
           "x": 0.05
          },
          "xaxis": {
           "automargin": true,
           "gridcolor": "white",
           "linecolor": "white",
           "ticks": "",
           "title": {
            "standoff": 15
           },
           "zerolinecolor": "white",
           "zerolinewidth": 2
          },
          "yaxis": {
           "automargin": true,
           "gridcolor": "white",
           "linecolor": "white",
           "ticks": "",
           "title": {
            "standoff": 15
           },
           "zerolinecolor": "white",
           "zerolinewidth": 2
          }
         }
        },
        "title": {
         "text": "heat map: continuous feature correlations with >0.9 correlation coefficient"
        },
        "width": 800,
        "xaxis": {
         "anchor": "y",
         "constrain": "domain",
         "domain": [
          0,
          1
         ],
         "scaleanchor": "y"
        },
        "yaxis": {
         "anchor": "x",
         "autorange": "reversed",
         "constrain": "domain",
         "domain": [
          0,
          1
         ]
        }
       }
      }
     },
     "metadata": {},
     "output_type": "display_data"
    }
   ],
   "source": [
    "# heatmap to visualize correlated features\n",
    "pearson_corr_features = pede_cont.corr()\n",
    "corr_data = np.tril(pearson_corr_features,k=-1)\n",
    "corr_data = abs(corr_data)>0.90\n",
    "\n",
    "fig = px.imshow(corr_data, x=pearson_corr_features.columns, y=pearson_corr_features.index,\n",
    "                color_continuous_scale=px.colors.qualitative.Plotly, width=800, height=800,\n",
    "                title=\"heat map: continuous feature correlations with >0.9 correlation coefficient\")\n",
    "fig.update(layout_coloraxis_showscale=False)\n",
    "fig.show()\n"
   ]
  },
  {
   "cell_type": "markdown",
   "metadata": {},
   "source": [
    "No correlation"
   ]
  },
  {
   "cell_type": "code",
   "execution_count": 276,
   "metadata": {},
   "outputs": [
    {
     "name": "stdout",
     "output_type": "stream",
     "text": [
      "[]\n",
      "['road_num', 'speed_group', 'num_operating_lanes', 'hour', 'month']\n"
     ]
    }
   ],
   "source": [
    "# getting final list of features for modeling\n",
    "# if 2 columns are correlated (yellow color), pick the column with better statistical significance\n",
    "index_list = [idx for idx,row in enumerate(corr_data) if np.sum(row)>0]\n",
    "print(index_list)\n",
    "\n",
    "top_cont_feature_list = [col for idx, col in enumerate(cont_feature_cols) if idx not in index_list]\n",
    "print(top_cont_feature_list)\n"
   ]
  },
  {
   "cell_type": "markdown",
   "metadata": {},
   "source": [
    "### Model evaluation post features selection"
   ]
  },
  {
   "cell_type": "code",
   "execution_count": 277,
   "metadata": {},
   "outputs": [
    {
     "name": "stdout",
     "output_type": "stream",
     "text": [
      "(19401, 24)\n"
     ]
    },
    {
     "data": {
      "text/html": [
       "<div>\n",
       "<style scoped>\n",
       "    .dataframe tbody tr th:only-of-type {\n",
       "        vertical-align: middle;\n",
       "    }\n",
       "\n",
       "    .dataframe tbody tr th {\n",
       "        vertical-align: top;\n",
       "    }\n",
       "\n",
       "    .dataframe thead th {\n",
       "        text-align: right;\n",
       "    }\n",
       "</style>\n",
       "<table border=\"1\" class=\"dataframe\">\n",
       "  <thead>\n",
       "    <tr style=\"text-align: right;\">\n",
       "      <th></th>\n",
       "      <th>road_num</th>\n",
       "      <th>speed_group</th>\n",
       "      <th>num_operating_lanes</th>\n",
       "      <th>hour</th>\n",
       "      <th>month</th>\n",
       "      <th>age_group</th>\n",
       "      <th>in_out_city</th>\n",
       "      <th>road_type</th>\n",
       "      <th>travelling_direction</th>\n",
       "      <th>vehicule_type</th>\n",
       "      <th>...</th>\n",
       "      <th>pedestrian_loc</th>\n",
       "      <th>impact_location</th>\n",
       "      <th>road_incline</th>\n",
       "      <th>road_surface</th>\n",
       "      <th>navigation_direction</th>\n",
       "      <th>weather</th>\n",
       "      <th>road_curve</th>\n",
       "      <th>gender</th>\n",
       "      <th>road_location_accident</th>\n",
       "      <th>injury_level</th>\n",
       "    </tr>\n",
       "  </thead>\n",
       "  <tbody>\n",
       "    <tr>\n",
       "      <th>26</th>\n",
       "      <td>0.0</td>\n",
       "      <td>3.0</td>\n",
       "      <td>3</td>\n",
       "      <td>13</td>\n",
       "      <td>11</td>\n",
       "      <td>26_60</td>\n",
       "      <td>in_city</td>\n",
       "      <td>urban_rd</td>\n",
       "      <td>bidirectional</td>\n",
       "      <td>car</td>\n",
       "      <td>...</td>\n",
       "      <td>jaywalking</td>\n",
       "      <td>front_left</td>\n",
       "      <td>flat</td>\n",
       "      <td>normal</td>\n",
       "      <td>postal_address_PR</td>\n",
       "      <td>normal</td>\n",
       "      <td>straight_line</td>\n",
       "      <td>m</td>\n",
       "      <td>road</td>\n",
       "      <td>OK</td>\n",
       "    </tr>\n",
       "    <tr>\n",
       "      <th>34</th>\n",
       "      <td>0.0</td>\n",
       "      <td>3.0</td>\n",
       "      <td>1</td>\n",
       "      <td>8</td>\n",
       "      <td>11</td>\n",
       "      <td>60_80</td>\n",
       "      <td>in_city</td>\n",
       "      <td>urban_rd</td>\n",
       "      <td>unidirectional</td>\n",
       "      <td>scoot_blw_125</td>\n",
       "      <td>...</td>\n",
       "      <td>on_cross_road_dark</td>\n",
       "      <td>front</td>\n",
       "      <td>flat</td>\n",
       "      <td>normal</td>\n",
       "      <td>no_marking</td>\n",
       "      <td>normal</td>\n",
       "      <td>straight_line</td>\n",
       "      <td>f</td>\n",
       "      <td>road</td>\n",
       "      <td>OK</td>\n",
       "    </tr>\n",
       "    <tr>\n",
       "      <th>36</th>\n",
       "      <td>0.0</td>\n",
       "      <td>3.0</td>\n",
       "      <td>1</td>\n",
       "      <td>9</td>\n",
       "      <td>11</td>\n",
       "      <td>18_25</td>\n",
       "      <td>in_city</td>\n",
       "      <td>urban_rd</td>\n",
       "      <td>unidirectional</td>\n",
       "      <td>car</td>\n",
       "      <td>...</td>\n",
       "      <td>jaywalking</td>\n",
       "      <td>rear_right</td>\n",
       "      <td>flat</td>\n",
       "      <td>normal</td>\n",
       "      <td>postal_address_PR</td>\n",
       "      <td>overcast</td>\n",
       "      <td>straight_line</td>\n",
       "      <td>f</td>\n",
       "      <td>road</td>\n",
       "      <td>OK</td>\n",
       "    </tr>\n",
       "    <tr>\n",
       "      <th>37</th>\n",
       "      <td>0.0</td>\n",
       "      <td>2.0</td>\n",
       "      <td>1</td>\n",
       "      <td>6</td>\n",
       "      <td>11</td>\n",
       "      <td>0_18</td>\n",
       "      <td>in_city</td>\n",
       "      <td>urban_rd</td>\n",
       "      <td>unidirectional</td>\n",
       "      <td>car</td>\n",
       "      <td>...</td>\n",
       "      <td>jaywalking</td>\n",
       "      <td>front</td>\n",
       "      <td>flat</td>\n",
       "      <td>normal</td>\n",
       "      <td>no_marking</td>\n",
       "      <td>normal</td>\n",
       "      <td>straight_line</td>\n",
       "      <td>m</td>\n",
       "      <td>road</td>\n",
       "      <td>OK</td>\n",
       "    </tr>\n",
       "    <tr>\n",
       "      <th>44</th>\n",
       "      <td>0.0</td>\n",
       "      <td>3.0</td>\n",
       "      <td>7</td>\n",
       "      <td>8</td>\n",
       "      <td>11</td>\n",
       "      <td>18_25</td>\n",
       "      <td>in_city</td>\n",
       "      <td>urban_rd</td>\n",
       "      <td>bidirectional</td>\n",
       "      <td>bus</td>\n",
       "      <td>...</td>\n",
       "      <td>jaywalking</td>\n",
       "      <td>front_right</td>\n",
       "      <td>flat</td>\n",
       "      <td>normal</td>\n",
       "      <td>no_marking</td>\n",
       "      <td>normal</td>\n",
       "      <td>straight_line</td>\n",
       "      <td>m</td>\n",
       "      <td>road</td>\n",
       "      <td>OK</td>\n",
       "    </tr>\n",
       "  </tbody>\n",
       "</table>\n",
       "<p>5 rows × 24 columns</p>\n",
       "</div>"
      ],
      "text/plain": [
       "    road_num  speed_group  num_operating_lanes  hour  month age_group  \\\n",
       "26       0.0          3.0                    3    13     11     26_60   \n",
       "34       0.0          3.0                    1     8     11     60_80   \n",
       "36       0.0          3.0                    1     9     11     18_25   \n",
       "37       0.0          2.0                    1     6     11      0_18   \n",
       "44       0.0          3.0                    7     8     11     18_25   \n",
       "\n",
       "   in_out_city road_type travelling_direction  vehicule_type  ...  \\\n",
       "26     in_city  urban_rd        bidirectional            car  ...   \n",
       "34     in_city  urban_rd       unidirectional  scoot_blw_125  ...   \n",
       "36     in_city  urban_rd       unidirectional            car  ...   \n",
       "37     in_city  urban_rd       unidirectional            car  ...   \n",
       "44     in_city  urban_rd        bidirectional            bus  ...   \n",
       "\n",
       "        pedestrian_loc impact_location road_incline road_surface  \\\n",
       "26          jaywalking      front_left         flat       normal   \n",
       "34  on_cross_road_dark           front         flat       normal   \n",
       "36          jaywalking      rear_right         flat       normal   \n",
       "37          jaywalking           front         flat       normal   \n",
       "44          jaywalking     front_right         flat       normal   \n",
       "\n",
       "   navigation_direction   weather     road_curve gender  \\\n",
       "26    postal_address_PR    normal  straight_line      m   \n",
       "34           no_marking    normal  straight_line      f   \n",
       "36    postal_address_PR  overcast  straight_line      f   \n",
       "37           no_marking    normal  straight_line      m   \n",
       "44           no_marking    normal  straight_line      m   \n",
       "\n",
       "   road_location_accident injury_level  \n",
       "26                   road           OK  \n",
       "34                   road           OK  \n",
       "36                   road           OK  \n",
       "37                   road           OK  \n",
       "44                   road           OK  \n",
       "\n",
       "[5 rows x 24 columns]"
      ]
     },
     "execution_count": 277,
     "metadata": {},
     "output_type": "execute_result"
    }
   ],
   "source": [
    "train_feature_sel = df_pede[top_cont_feature_list + top_cat_features_list + ['injury_level']]\n",
    "print(train_feature_sel.shape)\n",
    "train_feature_sel.head()"
   ]
  },
  {
   "cell_type": "markdown",
   "metadata": {},
   "source": [
    "### 4. Rerunning models"
   ]
  },
  {
   "attachments": {},
   "cell_type": "markdown",
   "metadata": {},
   "source": [
    "#### Logistic Regression"
   ]
  },
  {
   "cell_type": "code",
   "execution_count": 278,
   "metadata": {},
   "outputs": [],
   "source": [
    "#encoding\n",
    "X = train_feature_sel.drop(columns='injury_level')\n",
    "X = pd.get_dummies(X, columns=X.select_dtypes('object').columns, drop_first=True)\n",
    "y=train_feature_sel[['injury_level']]\n",
    "y['injury_level']= y['injury_level'].map({'OK':1,'not_ok':0})\n",
    "X_train,X_test,y_train,y_test = train_test_split(X, y,random_state=42, test_size=0.2, stratify=y)"
   ]
  },
  {
   "cell_type": "code",
   "execution_count": 279,
   "metadata": {},
   "outputs": [],
   "source": [
    "ss = StandardScaler()\n",
    "X_train_ss = ss.fit_transform(X_train) \n",
    "X_test_ss= ss.transform(X_test)"
   ]
  },
  {
   "cell_type": "code",
   "execution_count": 280,
   "metadata": {},
   "outputs": [],
   "source": [
    "lr = LogisticRegression(random_state=42, solver='saga', penalty='l1', class_weight='balanced', C=0.2)"
   ]
  },
  {
   "cell_type": "code",
   "execution_count": 281,
   "metadata": {},
   "outputs": [
    {
     "data": {
      "text/html": [
       "<style>#sk-container-id-11 {color: black;background-color: white;}#sk-container-id-11 pre{padding: 0;}#sk-container-id-11 div.sk-toggleable {background-color: white;}#sk-container-id-11 label.sk-toggleable__label {cursor: pointer;display: block;width: 100%;margin-bottom: 0;padding: 0.3em;box-sizing: border-box;text-align: center;}#sk-container-id-11 label.sk-toggleable__label-arrow:before {content: \"▸\";float: left;margin-right: 0.25em;color: #696969;}#sk-container-id-11 label.sk-toggleable__label-arrow:hover:before {color: black;}#sk-container-id-11 div.sk-estimator:hover label.sk-toggleable__label-arrow:before {color: black;}#sk-container-id-11 div.sk-toggleable__content {max-height: 0;max-width: 0;overflow: hidden;text-align: left;background-color: #f0f8ff;}#sk-container-id-11 div.sk-toggleable__content pre {margin: 0.2em;color: black;border-radius: 0.25em;background-color: #f0f8ff;}#sk-container-id-11 input.sk-toggleable__control:checked~div.sk-toggleable__content {max-height: 200px;max-width: 100%;overflow: auto;}#sk-container-id-11 input.sk-toggleable__control:checked~label.sk-toggleable__label-arrow:before {content: \"▾\";}#sk-container-id-11 div.sk-estimator input.sk-toggleable__control:checked~label.sk-toggleable__label {background-color: #d4ebff;}#sk-container-id-11 div.sk-label input.sk-toggleable__control:checked~label.sk-toggleable__label {background-color: #d4ebff;}#sk-container-id-11 input.sk-hidden--visually {border: 0;clip: rect(1px 1px 1px 1px);clip: rect(1px, 1px, 1px, 1px);height: 1px;margin: -1px;overflow: hidden;padding: 0;position: absolute;width: 1px;}#sk-container-id-11 div.sk-estimator {font-family: monospace;background-color: #f0f8ff;border: 1px dotted black;border-radius: 0.25em;box-sizing: border-box;margin-bottom: 0.5em;}#sk-container-id-11 div.sk-estimator:hover {background-color: #d4ebff;}#sk-container-id-11 div.sk-parallel-item::after {content: \"\";width: 100%;border-bottom: 1px solid gray;flex-grow: 1;}#sk-container-id-11 div.sk-label:hover label.sk-toggleable__label {background-color: #d4ebff;}#sk-container-id-11 div.sk-serial::before {content: \"\";position: absolute;border-left: 1px solid gray;box-sizing: border-box;top: 0;bottom: 0;left: 50%;z-index: 0;}#sk-container-id-11 div.sk-serial {display: flex;flex-direction: column;align-items: center;background-color: white;padding-right: 0.2em;padding-left: 0.2em;position: relative;}#sk-container-id-11 div.sk-item {position: relative;z-index: 1;}#sk-container-id-11 div.sk-parallel {display: flex;align-items: stretch;justify-content: center;background-color: white;position: relative;}#sk-container-id-11 div.sk-item::before, #sk-container-id-11 div.sk-parallel-item::before {content: \"\";position: absolute;border-left: 1px solid gray;box-sizing: border-box;top: 0;bottom: 0;left: 50%;z-index: -1;}#sk-container-id-11 div.sk-parallel-item {display: flex;flex-direction: column;z-index: 1;position: relative;background-color: white;}#sk-container-id-11 div.sk-parallel-item:first-child::after {align-self: flex-end;width: 50%;}#sk-container-id-11 div.sk-parallel-item:last-child::after {align-self: flex-start;width: 50%;}#sk-container-id-11 div.sk-parallel-item:only-child::after {width: 0;}#sk-container-id-11 div.sk-dashed-wrapped {border: 1px dashed gray;margin: 0 0.4em 0.5em 0.4em;box-sizing: border-box;padding-bottom: 0.4em;background-color: white;}#sk-container-id-11 div.sk-label label {font-family: monospace;font-weight: bold;display: inline-block;line-height: 1.2em;}#sk-container-id-11 div.sk-label-container {text-align: center;}#sk-container-id-11 div.sk-container {/* jupyter's `normalize.less` sets `[hidden] { display: none; }` but bootstrap.min.css set `[hidden] { display: none !important; }` so we also need the `!important` here to be able to override the default hidden behavior on the sphinx rendered scikit-learn.org. See: https://github.com/scikit-learn/scikit-learn/issues/21755 */display: inline-block !important;position: relative;}#sk-container-id-11 div.sk-text-repr-fallback {display: none;}</style><div id=\"sk-container-id-11\" class=\"sk-top-container\"><div class=\"sk-text-repr-fallback\"><pre>LogisticRegression(C=0.2, class_weight=&#x27;balanced&#x27;, penalty=&#x27;l1&#x27;,\n",
       "                   random_state=42, solver=&#x27;saga&#x27;)</pre><b>In a Jupyter environment, please rerun this cell to show the HTML representation or trust the notebook. <br />On GitHub, the HTML representation is unable to render, please try loading this page with nbviewer.org.</b></div><div class=\"sk-container\" hidden><div class=\"sk-item\"><div class=\"sk-estimator sk-toggleable\"><input class=\"sk-toggleable__control sk-hidden--visually\" id=\"sk-estimator-id-22\" type=\"checkbox\" checked><label for=\"sk-estimator-id-22\" class=\"sk-toggleable__label sk-toggleable__label-arrow\">LogisticRegression</label><div class=\"sk-toggleable__content\"><pre>LogisticRegression(C=0.2, class_weight=&#x27;balanced&#x27;, penalty=&#x27;l1&#x27;,\n",
       "                   random_state=42, solver=&#x27;saga&#x27;)</pre></div></div></div></div></div>"
      ],
      "text/plain": [
       "LogisticRegression(C=0.2, class_weight='balanced', penalty='l1',\n",
       "                   random_state=42, solver='saga')"
      ]
     },
     "execution_count": 281,
     "metadata": {},
     "output_type": "execute_result"
    }
   ],
   "source": [
    "lr.fit(X_train_ss,y_train)"
   ]
  },
  {
   "cell_type": "code",
   "execution_count": 282,
   "metadata": {},
   "outputs": [],
   "source": [
    "preds = lr.predict(X_test_ss)\n",
    "train_preds = lr.predict(X_train_ss)\n"
   ]
  },
  {
   "cell_type": "code",
   "execution_count": 283,
   "metadata": {},
   "outputs": [
    {
     "name": "stdout",
     "output_type": "stream",
     "text": [
      "best params : <bound method BaseEstimator.get_params of LogisticRegression(C=0.2, class_weight='balanced', penalty='l1',\n",
      "                   random_state=42, solver='saga')>\n",
      "Test_f1_score : 0.7534659433393611\n",
      "Test_precision score : 0.8057584873227331\n",
      "Test_accuracy score : 0.68384437000773\n",
      "Test_recall score : 0.7075471698113207\n",
      "Test_roc_auc score : 0.6701830081388043\n"
     ]
    },
    {
     "data": {
      "image/png": "[encoded data removed]",
      "text/plain": [
       "<Figure size 432x288 with 2 Axes>"
      ]
     },
     "metadata": {
      "needs_background": "light"
     },
     "output_type": "display_data"
    },
    {
     "data": {
      "image/png": "[encoded data removed]",
      "text/plain": [
       "<Figure size 432x288 with 1 Axes>"
      ]
     },
     "metadata": {
      "needs_background": "light"
     },
     "output_type": "display_data"
    }
   ],
   "source": [
    "#getting the test metrics ready\n",
    "test_f1score=f1_score(y_test,preds)\n",
    "test_precision=precision_score(y_test,preds)\n",
    "test_accuracy=accuracy_score(y_test,preds)\n",
    "test_recall=recall_score(y_test,preds)\n",
    "test_roc_auc=roc_auc_score(y_test,preds)\n",
    "test_specificity = specificity_score(y_test,preds)\n",
    "\n",
    "#getting the train metrics\n",
    "train_f1score=f1_score(y_train,train_preds)\n",
    "train_specificity = specificity_score(y_train,train_preds)\n",
    "train_precision=precision_score(y_train,train_preds)\n",
    "train_accuracy=accuracy_score(y_train,train_preds)\n",
    "train_recall=recall_score(y_train,train_preds)\n",
    "train_roc_auc=roc_auc_score(y_train,train_preds)\n",
    "#printing results-----------------------------------------------------------------\n",
    "\n",
    "print(f'best params : {lr.get_params}')\n",
    "\n",
    "print(f'Test_f1_score : {test_f1score}')\n",
    "print(f'Test_precision score : {test_precision}')\n",
    "print(f'Test_accuracy score : {test_accuracy}')\n",
    "print(f'Test_recall score : {test_recall}')\n",
    "print(f'Test_roc_auc score : {test_roc_auc}')\n",
    "        \n",
    "# #update various metrics onto results list-------------------------------------------------------------\n",
    "score_dict_pedestrians['lr_2nd_round'] = {\n",
    "        'Train_acc':train_accuracy,\n",
    "        'Test_acc':test_accuracy,\n",
    "        'Train_recall':train_recall,\n",
    "        'Test_recall':test_recall,\n",
    "        'Train_preci':train_precision,\n",
    "        'Test_preci':test_precision,\n",
    "        'Train_f1score':train_f1score,\n",
    "        'Test_f1score':test_f1score,\n",
    "        'Train_roc_auc':train_roc_auc,\n",
    "        'Test_roc_auc':test_roc_auc,\n",
    "        'Train_specificity': train_specificity,\n",
    "        'Test_specificity':test_specificity\n",
    "        }\n",
    "\n",
    "tn, fp, fn, tp = confusion_matrix(y_test, preds).ravel()\n",
    "cm = confusion_matrix(y_test,preds)\n",
    "displ = ConfusionMatrixDisplay(cm)\n",
    "displ.plot();\n",
    "\n",
    "plot_roc_curve(lr, X_test, y_test)\n",
    "plt.plot([0, 1], [0, 1],\n",
    "label='baseline', linestyle='--') # to simulate random guess \n",
    "plt.legend();"
   ]
  },
  {
   "cell_type": "code",
   "execution_count": 284,
   "metadata": {},
   "outputs": [
    {
     "data": {
      "text/html": [
       "<div>\n",
       "<style scoped>\n",
       "    .dataframe tbody tr th:only-of-type {\n",
       "        vertical-align: middle;\n",
       "    }\n",
       "\n",
       "    .dataframe tbody tr th {\n",
       "        vertical-align: top;\n",
       "    }\n",
       "\n",
       "    .dataframe thead th {\n",
       "        text-align: right;\n",
       "    }\n",
       "</style>\n",
       "<table border=\"1\" class=\"dataframe\">\n",
       "  <thead>\n",
       "    <tr style=\"text-align: right;\">\n",
       "      <th></th>\n",
       "      <th>features_name</th>\n",
       "      <th>coefs</th>\n",
       "    </tr>\n",
       "  </thead>\n",
       "  <tbody>\n",
       "    <tr>\n",
       "      <th>0</th>\n",
       "      <td>road_num</td>\n",
       "      <td>0.263024</td>\n",
       "    </tr>\n",
       "    <tr>\n",
       "      <th>49</th>\n",
       "      <td>pedestrian_loc_on_cross_road_lit</td>\n",
       "      <td>0.206736</td>\n",
       "    </tr>\n",
       "    <tr>\n",
       "      <th>15</th>\n",
       "      <td>road_type_urban_rd</td>\n",
       "      <td>0.147845</td>\n",
       "    </tr>\n",
       "    <tr>\n",
       "      <th>17</th>\n",
       "      <td>travelling_direction_unidirectional</td>\n",
       "      <td>0.140193</td>\n",
       "    </tr>\n",
       "    <tr>\n",
       "      <th>76</th>\n",
       "      <td>weather_light_rain</td>\n",
       "      <td>0.119868</td>\n",
       "    </tr>\n",
       "    <tr>\n",
       "      <th>...</th>\n",
       "      <td>...</td>\n",
       "      <td>...</td>\n",
       "    </tr>\n",
       "    <tr>\n",
       "      <th>25</th>\n",
       "      <td>vehicule_type_moto</td>\n",
       "      <td>-0.182967</td>\n",
       "    </tr>\n",
       "    <tr>\n",
       "      <th>47</th>\n",
       "      <td>vehi_grp_other</td>\n",
       "      <td>-0.185812</td>\n",
       "    </tr>\n",
       "    <tr>\n",
       "      <th>46</th>\n",
       "      <td>vehi_grp_4_wheels</td>\n",
       "      <td>-0.285990</td>\n",
       "    </tr>\n",
       "    <tr>\n",
       "      <th>7</th>\n",
       "      <td>age_group_60_80</td>\n",
       "      <td>-0.382689</td>\n",
       "    </tr>\n",
       "    <tr>\n",
       "      <th>8</th>\n",
       "      <td>age_group_80_over</td>\n",
       "      <td>-0.479552</td>\n",
       "    </tr>\n",
       "  </tbody>\n",
       "</table>\n",
       "<p>91 rows × 2 columns</p>\n",
       "</div>"
      ],
      "text/plain": [
       "                          features_name     coefs\n",
       "0                              road_num  0.263024\n",
       "49     pedestrian_loc_on_cross_road_lit  0.206736\n",
       "15                   road_type_urban_rd  0.147845\n",
       "17  travelling_direction_unidirectional  0.140193\n",
       "76                   weather_light_rain  0.119868\n",
       "..                                  ...       ...\n",
       "25                   vehicule_type_moto -0.182967\n",
       "47                       vehi_grp_other -0.185812\n",
       "46                    vehi_grp_4_wheels -0.285990\n",
       "7                       age_group_60_80 -0.382689\n",
       "8                     age_group_80_over -0.479552\n",
       "\n",
       "[91 rows x 2 columns]"
      ]
     },
     "execution_count": 284,
     "metadata": {},
     "output_type": "execute_result"
    }
   ],
   "source": [
    "pd_features = pd.DataFrame({'features_name':X_train.columns, 'coefs':lr.coef_[0]})\n",
    "pd_features.sort_values(by='coefs', ascending=False)"
   ]
  },
  {
   "attachments": {},
   "cell_type": "markdown",
   "metadata": {},
   "source": [
    "#### Adaboost"
   ]
  },
  {
   "cell_type": "code",
   "execution_count": 285,
   "metadata": {},
   "outputs": [
    {
     "name": "stdout",
     "output_type": "stream",
     "text": [
      "Fitting 3 folds for each of 4 candidates, totalling 12 fits\n",
      "best params : {'learning_rate': 1, 'n_estimators': 300}\n",
      "Test_f1_score : 0.8228259012472237\n",
      "Test_precision score : 0.751795192007493\n",
      "Test_accuracy score : 0.7328008245297604\n",
      "Test_recall score : 0.9086792452830189\n",
      "Test_roc_auc score : 0.631431417929893\n",
      "CPU times: total: 10.4 s\n",
      "Wall time: 40.1 s\n"
     ]
    },
    {
     "data": {
      "image/png": "[encoded data removed]",
      "text/plain": [
       "<Figure size 432x288 with 2 Axes>"
      ]
     },
     "metadata": {
      "needs_background": "light"
     },
     "output_type": "display_data"
    },
    {
     "data": {
      "image/png": "[encoded data removed]",
      "text/plain": [
       "<Figure size 432x288 with 1 Axes>"
      ]
     },
     "metadata": {
      "needs_background": "light"
     },
     "output_type": "display_data"
    }
   ],
   "source": [
    "%%time\n",
    "model = meta_func (\n",
    "    model=AdaBoostClassifier(random_state=42)\n",
    ",\n",
    "    model_name='abc_2nd_round',\n",
    "    param_grid=\n",
    "{\n",
    "    'n_estimators': [150,300], \n",
    "    'learning_rate': [1, 2]\n",
    "    }\n",
    ",\n",
    "    X_train=X_train,\n",
    "    y_train=y_train,\n",
    "    X_test=X_test,\n",
    "    y_test=y_test,\n",
    "    score_dict= score_dict_pedestrians\n",
    ")"
   ]
  },
  {
   "cell_type": "code",
   "execution_count": 286,
   "metadata": {},
   "outputs": [
    {
     "data": {
      "text/html": [
       "<div>\n",
       "<style scoped>\n",
       "    .dataframe tbody tr th:only-of-type {\n",
       "        vertical-align: middle;\n",
       "    }\n",
       "\n",
       "    .dataframe tbody tr th {\n",
       "        vertical-align: top;\n",
       "    }\n",
       "\n",
       "    .dataframe thead th {\n",
       "        text-align: right;\n",
       "    }\n",
       "</style>\n",
       "<table border=\"1\" class=\"dataframe\">\n",
       "  <thead>\n",
       "    <tr style=\"text-align: right;\">\n",
       "      <th></th>\n",
       "      <th>Features</th>\n",
       "      <th>Coef_</th>\n",
       "    </tr>\n",
       "  </thead>\n",
       "  <tbody>\n",
       "    <tr>\n",
       "      <th>3</th>\n",
       "      <td>hour</td>\n",
       "      <td>0.136667</td>\n",
       "    </tr>\n",
       "    <tr>\n",
       "      <th>4</th>\n",
       "      <td>month</td>\n",
       "      <td>0.076667</td>\n",
       "    </tr>\n",
       "    <tr>\n",
       "      <th>46</th>\n",
       "      <td>vehi_grp_4_wheels</td>\n",
       "      <td>0.056667</td>\n",
       "    </tr>\n",
       "    <tr>\n",
       "      <th>87</th>\n",
       "      <td>road_location_accident_road</td>\n",
       "      <td>0.043333</td>\n",
       "    </tr>\n",
       "    <tr>\n",
       "      <th>2</th>\n",
       "      <td>num_operating_lanes</td>\n",
       "      <td>0.043333</td>\n",
       "    </tr>\n",
       "    <tr>\n",
       "      <th>...</th>\n",
       "      <td>...</td>\n",
       "      <td>...</td>\n",
       "    </tr>\n",
       "    <tr>\n",
       "      <th>26</th>\n",
       "      <td>vehicule_type_others</td>\n",
       "      <td>0.000000</td>\n",
       "    </tr>\n",
       "    <tr>\n",
       "      <th>10</th>\n",
       "      <td>road_type_highway</td>\n",
       "      <td>0.000000</td>\n",
       "    </tr>\n",
       "    <tr>\n",
       "      <th>50</th>\n",
       "      <td>pedestrian_loc_on_road_side</td>\n",
       "      <td>0.000000</td>\n",
       "    </tr>\n",
       "    <tr>\n",
       "      <th>52</th>\n",
       "      <td>pedestrian_loc_parrallel_road</td>\n",
       "      <td>0.000000</td>\n",
       "    </tr>\n",
       "    <tr>\n",
       "      <th>39</th>\n",
       "      <td>pedestrian_action_playing_running</td>\n",
       "      <td>0.000000</td>\n",
       "    </tr>\n",
       "  </tbody>\n",
       "</table>\n",
       "<p>91 rows × 2 columns</p>\n",
       "</div>"
      ],
      "text/plain": [
       "                             Features     Coef_\n",
       "3                                hour  0.136667\n",
       "4                               month  0.076667\n",
       "46                  vehi_grp_4_wheels  0.056667\n",
       "87        road_location_accident_road  0.043333\n",
       "2                 num_operating_lanes  0.043333\n",
       "..                                ...       ...\n",
       "26               vehicule_type_others  0.000000\n",
       "10                  road_type_highway  0.000000\n",
       "50        pedestrian_loc_on_road_side  0.000000\n",
       "52      pedestrian_loc_parrallel_road  0.000000\n",
       "39  pedestrian_action_playing_running  0.000000\n",
       "\n",
       "[91 rows x 2 columns]"
      ]
     },
     "execution_count": 286,
     "metadata": {},
     "output_type": "execute_result"
    }
   ],
   "source": [
    "pd_features = pd.DataFrame({'Features': X_train.columns,'Coef_': model.best_estimator_.feature_importances_})\n",
    "pd_features.sort_values(by='Coef_', ascending=False)"
   ]
  },
  {
   "attachments": {},
   "cell_type": "markdown",
   "metadata": {},
   "source": [
    "#### XGBoost"
   ]
  },
  {
   "cell_type": "code",
   "execution_count": 287,
   "metadata": {},
   "outputs": [
    {
     "name": "stdout",
     "output_type": "stream",
     "text": [
      "Fitting 3 folds for each of 8 candidates, totalling 24 fits\n",
      "best params : {'learning_rate': 0.5, 'max_depth': 2, 'min_split_loss': 1}\n",
      "Test_f1_score : 0.8240693523712392\n",
      "Test_precision score : 0.7497680173213733\n",
      "Test_accuracy score : 0.7333161556299923\n",
      "Test_recall score : 0.9147169811320754\n",
      "Test_roc_auc score : 0.6287638520607575\n",
      "CPU times: total: 8.72 s\n",
      "Wall time: 20.1 s\n"
     ]
    },
    {
     "data": {
      "image/png": "[encoded data removed]",
      "text/plain": [
       "<Figure size 432x288 with 2 Axes>"
      ]
     },
     "metadata": {
      "needs_background": "light"
     },
     "output_type": "display_data"
    },
    {
     "data": {
      "image/png": "[encoded data removed]",
      "text/plain": [
       "<Figure size 432x288 with 1 Axes>"
      ]
     },
     "metadata": {
      "needs_background": "light"
     },
     "output_type": "display_data"
    }
   ],
   "source": [
    "%%time\n",
    "model = meta_func (\n",
    "    model=XGBClassifier(random_state=42)\n",
    ",\n",
    "    model_name='xgb_2nd_round',\n",
    "    param_grid=\n",
    "{\n",
    "    'learning_rate': [0.5,1], \n",
    "    'min_split_loss': [1,2], #The larger gamma is, the more conservative the algorithm will be\n",
    "    'max_depth':[2,3] #Maximum depth of a tree. Increasing this value will make the model more complex and more likely to overfit.\n",
    "     # Beware that XGBoost aggressively consumes memory when training a deep tree\n",
    "    }\n",
    ",\n",
    "    X_train=X_train,\n",
    "    y_train=y_train,\n",
    "    X_test=X_test,\n",
    "    y_test=y_test,\n",
    "    score_dict= score_dict_pedestrians\n",
    ")"
   ]
  },
  {
   "cell_type": "code",
   "execution_count": 288,
   "metadata": {},
   "outputs": [
    {
     "data": {
      "text/html": [
       "<div>\n",
       "<style scoped>\n",
       "    .dataframe tbody tr th:only-of-type {\n",
       "        vertical-align: middle;\n",
       "    }\n",
       "\n",
       "    .dataframe tbody tr th {\n",
       "        vertical-align: top;\n",
       "    }\n",
       "\n",
       "    .dataframe thead th {\n",
       "        text-align: right;\n",
       "    }\n",
       "</style>\n",
       "<table border=\"1\" class=\"dataframe\">\n",
       "  <thead>\n",
       "    <tr style=\"text-align: right;\">\n",
       "      <th></th>\n",
       "      <th>Features</th>\n",
       "      <th>Coef_</th>\n",
       "    </tr>\n",
       "  </thead>\n",
       "  <tbody>\n",
       "    <tr>\n",
       "      <th>0</th>\n",
       "      <td>road_num</td>\n",
       "      <td>0.134913</td>\n",
       "    </tr>\n",
       "    <tr>\n",
       "      <th>15</th>\n",
       "      <td>road_type_urban_rd</td>\n",
       "      <td>0.127026</td>\n",
       "    </tr>\n",
       "    <tr>\n",
       "      <th>8</th>\n",
       "      <td>age_group_80_over</td>\n",
       "      <td>0.078355</td>\n",
       "    </tr>\n",
       "    <tr>\n",
       "      <th>1</th>\n",
       "      <td>speed_group</td>\n",
       "      <td>0.062101</td>\n",
       "    </tr>\n",
       "    <tr>\n",
       "      <th>17</th>\n",
       "      <td>travelling_direction_unidirectional</td>\n",
       "      <td>0.055207</td>\n",
       "    </tr>\n",
       "    <tr>\n",
       "      <th>...</th>\n",
       "      <td>...</td>\n",
       "      <td>...</td>\n",
       "    </tr>\n",
       "    <tr>\n",
       "      <th>40</th>\n",
       "      <td>pedestrian_action_same_direction_as_vehicule</td>\n",
       "      <td>0.000000</td>\n",
       "    </tr>\n",
       "    <tr>\n",
       "      <th>26</th>\n",
       "      <td>vehicule_type_others</td>\n",
       "      <td>0.000000</td>\n",
       "    </tr>\n",
       "    <tr>\n",
       "      <th>12</th>\n",
       "      <td>road_type_other_rd</td>\n",
       "      <td>0.000000</td>\n",
       "    </tr>\n",
       "    <tr>\n",
       "      <th>52</th>\n",
       "      <td>pedestrian_loc_parrallel_road</td>\n",
       "      <td>0.000000</td>\n",
       "    </tr>\n",
       "    <tr>\n",
       "      <th>65</th>\n",
       "      <td>road_surface_normal</td>\n",
       "      <td>0.000000</td>\n",
       "    </tr>\n",
       "  </tbody>\n",
       "</table>\n",
       "<p>91 rows × 2 columns</p>\n",
       "</div>"
      ],
      "text/plain": [
       "                                        Features     Coef_\n",
       "0                                       road_num  0.134913\n",
       "15                            road_type_urban_rd  0.127026\n",
       "8                              age_group_80_over  0.078355\n",
       "1                                    speed_group  0.062101\n",
       "17           travelling_direction_unidirectional  0.055207\n",
       "..                                           ...       ...\n",
       "40  pedestrian_action_same_direction_as_vehicule  0.000000\n",
       "26                          vehicule_type_others  0.000000\n",
       "12                            road_type_other_rd  0.000000\n",
       "52                 pedestrian_loc_parrallel_road  0.000000\n",
       "65                           road_surface_normal  0.000000\n",
       "\n",
       "[91 rows x 2 columns]"
      ]
     },
     "execution_count": 288,
     "metadata": {},
     "output_type": "execute_result"
    }
   ],
   "source": [
    "pd_features = pd.DataFrame({'Features': X_train.columns,'Coef_': model.best_estimator_.feature_importances_})\n",
    "pd_features.sort_values(by='Coef_', ascending=False)"
   ]
  },
  {
   "attachments": {},
   "cell_type": "markdown",
   "metadata": {},
   "source": [
    "#### Linear Support Vectors Classifiers"
   ]
  },
  {
   "cell_type": "code",
   "execution_count": 289,
   "metadata": {},
   "outputs": [
    {
     "name": "stdout",
     "output_type": "stream",
     "text": [
      "Fitting 3 folds for each of 24 candidates, totalling 72 fits\n",
      "best params : {'lsvc__C': 0.001, 'lsvc__dual': True, 'lsvc__max_iter': 500, 'lsvc__penalty': 'l2'}\n",
      "Test_f1_score : 0.7518072289156627\n",
      "Test_precision score : 0.8034334763948497\n",
      "Test_accuracy score : 0.6815253800566864\n",
      "Test_recall score : 0.7064150943396227\n",
      "Test_roc_auc score : 0.6671799273485278\n",
      "CPU times: total: 1.06 s\n",
      "Wall time: 28.4 s\n"
     ]
    },
    {
     "data": {
      "image/png": "[encoded data removed]",
      "text/plain": [
       "<Figure size 432x288 with 2 Axes>"
      ]
     },
     "metadata": {
      "needs_background": "light"
     },
     "output_type": "display_data"
    },
    {
     "data": {
      "image/png": "[encoded data removed]",
      "text/plain": [
       "<Figure size 432x288 with 1 Axes>"
      ]
     },
     "metadata": {
      "needs_background": "light"
     },
     "output_type": "display_data"
    }
   ],
   "source": [
    "%%time\n",
    "model = meta_func (\n",
    "    model=Pipeline(\n",
    "        [\n",
    "            ('ss',StandardScaler()),\n",
    "            ('lsvc', LinearSVC(class_weight='balanced'))\n",
    "        ]\n",
    "    ),\n",
    "    model_name='lsvc_2nd_round',\n",
    "    param_grid=\n",
    "{   'lsvc__max_iter':[500,1000],\n",
    "    'lsvc__C': [0.001,0.01,0.1], \n",
    "    'lsvc__dual': [True, False],     \n",
    "    'lsvc__penalty':['l1','l2']   \n",
    "},\n",
    "    X_train=X_train,\n",
    "    y_train=y_train,\n",
    "    X_test=X_test,\n",
    "    y_test=y_test,\n",
    "    score_dict= score_dict_pedestrians\n",
    ")"
   ]
  },
  {
   "cell_type": "code",
   "execution_count": 290,
   "metadata": {},
   "outputs": [
    {
     "data": {
      "text/html": [
       "<div>\n",
       "<style scoped>\n",
       "    .dataframe tbody tr th:only-of-type {\n",
       "        vertical-align: middle;\n",
       "    }\n",
       "\n",
       "    .dataframe tbody tr th {\n",
       "        vertical-align: top;\n",
       "    }\n",
       "\n",
       "    .dataframe thead th {\n",
       "        text-align: right;\n",
       "    }\n",
       "</style>\n",
       "<table border=\"1\" class=\"dataframe\">\n",
       "  <thead>\n",
       "    <tr style=\"text-align: right;\">\n",
       "      <th></th>\n",
       "      <th>Features</th>\n",
       "      <th>Coef_</th>\n",
       "    </tr>\n",
       "  </thead>\n",
       "  <tbody>\n",
       "    <tr>\n",
       "      <th>0</th>\n",
       "      <td>road_num</td>\n",
       "      <td>0.098936</td>\n",
       "    </tr>\n",
       "    <tr>\n",
       "      <th>49</th>\n",
       "      <td>pedestrian_loc_on_cross_road_lit</td>\n",
       "      <td>0.084309</td>\n",
       "    </tr>\n",
       "    <tr>\n",
       "      <th>17</th>\n",
       "      <td>travelling_direction_unidirectional</td>\n",
       "      <td>0.059256</td>\n",
       "    </tr>\n",
       "    <tr>\n",
       "      <th>15</th>\n",
       "      <td>road_type_urban_rd</td>\n",
       "      <td>0.054779</td>\n",
       "    </tr>\n",
       "    <tr>\n",
       "      <th>76</th>\n",
       "      <td>weather_light_rain</td>\n",
       "      <td>0.049062</td>\n",
       "    </tr>\n",
       "    <tr>\n",
       "      <th>...</th>\n",
       "      <td>...</td>\n",
       "      <td>...</td>\n",
       "    </tr>\n",
       "    <tr>\n",
       "      <th>20</th>\n",
       "      <td>vehicule_type_car</td>\n",
       "      <td>-0.062534</td>\n",
       "    </tr>\n",
       "    <tr>\n",
       "      <th>45</th>\n",
       "      <td>light_conditions_night</td>\n",
       "      <td>-0.068358</td>\n",
       "    </tr>\n",
       "    <tr>\n",
       "      <th>46</th>\n",
       "      <td>vehi_grp_4_wheels</td>\n",
       "      <td>-0.094650</td>\n",
       "    </tr>\n",
       "    <tr>\n",
       "      <th>7</th>\n",
       "      <td>age_group_60_80</td>\n",
       "      <td>-0.157799</td>\n",
       "    </tr>\n",
       "    <tr>\n",
       "      <th>8</th>\n",
       "      <td>age_group_80_over</td>\n",
       "      <td>-0.194602</td>\n",
       "    </tr>\n",
       "  </tbody>\n",
       "</table>\n",
       "<p>91 rows × 2 columns</p>\n",
       "</div>"
      ],
      "text/plain": [
       "                               Features     Coef_\n",
       "0                              road_num  0.098936\n",
       "49     pedestrian_loc_on_cross_road_lit  0.084309\n",
       "17  travelling_direction_unidirectional  0.059256\n",
       "15                   road_type_urban_rd  0.054779\n",
       "76                   weather_light_rain  0.049062\n",
       "..                                  ...       ...\n",
       "20                    vehicule_type_car -0.062534\n",
       "45               light_conditions_night -0.068358\n",
       "46                    vehi_grp_4_wheels -0.094650\n",
       "7                       age_group_60_80 -0.157799\n",
       "8                     age_group_80_over -0.194602\n",
       "\n",
       "[91 rows x 2 columns]"
      ]
     },
     "execution_count": 290,
     "metadata": {},
     "output_type": "execute_result"
    }
   ],
   "source": [
    "pd_features = pd.DataFrame({'Features': X_train.columns,'Coef_': model.best_estimator_.steps[-1][1].coef_[0]})\n",
    "pd_features.sort_values(by='Coef_', ascending=False)"
   ]
  },
  {
   "cell_type": "code",
   "execution_count": 291,
   "metadata": {},
   "outputs": [
    {
     "data": {
      "text/html": [
       "<div>\n",
       "<style scoped>\n",
       "    .dataframe tbody tr th:only-of-type {\n",
       "        vertical-align: middle;\n",
       "    }\n",
       "\n",
       "    .dataframe tbody tr th {\n",
       "        vertical-align: top;\n",
       "    }\n",
       "\n",
       "    .dataframe thead th {\n",
       "        text-align: right;\n",
       "    }\n",
       "</style>\n",
       "<table border=\"1\" class=\"dataframe\">\n",
       "  <thead>\n",
       "    <tr style=\"text-align: right;\">\n",
       "      <th></th>\n",
       "      <th>Train_acc</th>\n",
       "      <th>Test_acc</th>\n",
       "      <th>Train_recall</th>\n",
       "      <th>Test_recall</th>\n",
       "      <th>Train_preci</th>\n",
       "      <th>Test_preci</th>\n",
       "      <th>Train_f1score</th>\n",
       "      <th>Test_f1score</th>\n",
       "      <th>Train_roc_auc</th>\n",
       "      <th>Test_roc_auc</th>\n",
       "      <th>Train_specificity</th>\n",
       "      <th>Test_specificity</th>\n",
       "    </tr>\n",
       "  </thead>\n",
       "  <tbody>\n",
       "    <tr>\n",
       "      <th>lr_2nd_round</th>\n",
       "      <td>0.693557</td>\n",
       "      <td>0.683844</td>\n",
       "      <td>0.725248</td>\n",
       "      <td>0.707547</td>\n",
       "      <td>0.806381</td>\n",
       "      <td>0.805758</td>\n",
       "      <td>0.763665</td>\n",
       "      <td>0.753466</td>\n",
       "      <td>0.675314</td>\n",
       "      <td>0.670183</td>\n",
       "      <td>0.625381</td>\n",
       "      <td>0.632819</td>\n",
       "    </tr>\n",
       "    <tr>\n",
       "      <th>lsvc_2nd_round</th>\n",
       "      <td>0.694137</td>\n",
       "      <td>0.681525</td>\n",
       "      <td>0.727985</td>\n",
       "      <td>0.706415</td>\n",
       "      <td>0.805283</td>\n",
       "      <td>0.803433</td>\n",
       "      <td>0.764685</td>\n",
       "      <td>0.751807</td>\n",
       "      <td>0.674652</td>\n",
       "      <td>0.667180</td>\n",
       "      <td>0.621320</td>\n",
       "      <td>0.627945</td>\n",
       "    </tr>\n",
       "    <tr>\n",
       "      <th>lr_1st_round</th>\n",
       "      <td>0.696392</td>\n",
       "      <td>0.683329</td>\n",
       "      <td>0.727041</td>\n",
       "      <td>0.709811</td>\n",
       "      <td>0.808884</td>\n",
       "      <td>0.803503</td>\n",
       "      <td>0.765782</td>\n",
       "      <td>0.753757</td>\n",
       "      <td>0.678749</td>\n",
       "      <td>0.668066</td>\n",
       "      <td>0.630457</td>\n",
       "      <td>0.626320</td>\n",
       "    </tr>\n",
       "    <tr>\n",
       "      <th>lsvc_1st_round</th>\n",
       "      <td>0.698067</td>\n",
       "      <td>0.684875</td>\n",
       "      <td>0.733365</td>\n",
       "      <td>0.715472</td>\n",
       "      <td>0.806770</td>\n",
       "      <td>0.801691</td>\n",
       "      <td>0.768318</td>\n",
       "      <td>0.756132</td>\n",
       "      <td>0.677748</td>\n",
       "      <td>0.667240</td>\n",
       "      <td>0.622132</td>\n",
       "      <td>0.619009</td>\n",
       "    </tr>\n",
       "    <tr>\n",
       "      <th>abc_1st_round</th>\n",
       "      <td>0.741624</td>\n",
       "      <td>0.734604</td>\n",
       "      <td>0.914866</td>\n",
       "      <td>0.909811</td>\n",
       "      <td>0.757206</td>\n",
       "      <td>0.752967</td>\n",
       "      <td>0.828603</td>\n",
       "      <td>0.823992</td>\n",
       "      <td>0.641900</td>\n",
       "      <td>0.633622</td>\n",
       "      <td>0.368934</td>\n",
       "      <td>0.357433</td>\n",
       "    </tr>\n",
       "    <tr>\n",
       "      <th>abc_2nd_round</th>\n",
       "      <td>0.735825</td>\n",
       "      <td>0.732801</td>\n",
       "      <td>0.913733</td>\n",
       "      <td>0.908679</td>\n",
       "      <td>0.752390</td>\n",
       "      <td>0.751795</td>\n",
       "      <td>0.825249</td>\n",
       "      <td>0.822826</td>\n",
       "      <td>0.633415</td>\n",
       "      <td>0.631431</td>\n",
       "      <td>0.353096</td>\n",
       "      <td>0.354184</td>\n",
       "    </tr>\n",
       "    <tr>\n",
       "      <th>xgb_1st_round</th>\n",
       "      <td>0.751160</td>\n",
       "      <td>0.738469</td>\n",
       "      <td>0.926758</td>\n",
       "      <td>0.920000</td>\n",
       "      <td>0.760868</td>\n",
       "      <td>0.752237</td>\n",
       "      <td>0.835660</td>\n",
       "      <td>0.827703</td>\n",
       "      <td>0.650079</td>\n",
       "      <td>0.633842</td>\n",
       "      <td>0.373401</td>\n",
       "      <td>0.347685</td>\n",
       "    </tr>\n",
       "    <tr>\n",
       "      <th>xgb_2nd_round</th>\n",
       "      <td>0.744588</td>\n",
       "      <td>0.733316</td>\n",
       "      <td>0.920812</td>\n",
       "      <td>0.914717</td>\n",
       "      <td>0.757395</td>\n",
       "      <td>0.749768</td>\n",
       "      <td>0.831147</td>\n",
       "      <td>0.824069</td>\n",
       "      <td>0.643147</td>\n",
       "      <td>0.628764</td>\n",
       "      <td>0.365482</td>\n",
       "      <td>0.342811</td>\n",
       "    </tr>\n",
       "  </tbody>\n",
       "</table>\n",
       "</div>"
      ],
      "text/plain": [
       "                Train_acc  Test_acc  Train_recall  Test_recall  Train_preci  \\\n",
       "lr_2nd_round     0.693557  0.683844      0.725248     0.707547     0.806381   \n",
       "lsvc_2nd_round   0.694137  0.681525      0.727985     0.706415     0.805283   \n",
       "lr_1st_round     0.696392  0.683329      0.727041     0.709811     0.808884   \n",
       "lsvc_1st_round   0.698067  0.684875      0.733365     0.715472     0.806770   \n",
       "abc_1st_round    0.741624  0.734604      0.914866     0.909811     0.757206   \n",
       "abc_2nd_round    0.735825  0.732801      0.913733     0.908679     0.752390   \n",
       "xgb_1st_round    0.751160  0.738469      0.926758     0.920000     0.760868   \n",
       "xgb_2nd_round    0.744588  0.733316      0.920812     0.914717     0.757395   \n",
       "\n",
       "                Test_preci  Train_f1score  Test_f1score  Train_roc_auc  \\\n",
       "lr_2nd_round      0.805758       0.763665      0.753466       0.675314   \n",
       "lsvc_2nd_round    0.803433       0.764685      0.751807       0.674652   \n",
       "lr_1st_round      0.803503       0.765782      0.753757       0.678749   \n",
       "lsvc_1st_round    0.801691       0.768318      0.756132       0.677748   \n",
       "abc_1st_round     0.752967       0.828603      0.823992       0.641900   \n",
       "abc_2nd_round     0.751795       0.825249      0.822826       0.633415   \n",
       "xgb_1st_round     0.752237       0.835660      0.827703       0.650079   \n",
       "xgb_2nd_round     0.749768       0.831147      0.824069       0.643147   \n",
       "\n",
       "                Test_roc_auc  Train_specificity  Test_specificity  \n",
       "lr_2nd_round        0.670183           0.625381          0.632819  \n",
       "lsvc_2nd_round      0.667180           0.621320          0.627945  \n",
       "lr_1st_round        0.668066           0.630457          0.626320  \n",
       "lsvc_1st_round      0.667240           0.622132          0.619009  \n",
       "abc_1st_round       0.633622           0.368934          0.357433  \n",
       "abc_2nd_round       0.631431           0.353096          0.354184  \n",
       "xgb_1st_round       0.633842           0.373401          0.347685  \n",
       "xgb_2nd_round       0.628764           0.365482          0.342811  "
      ]
     },
     "execution_count": 291,
     "metadata": {},
     "output_type": "execute_result"
    }
   ],
   "source": [
    "pedestrians_score_df= pd.DataFrame(score_dict_pedestrians).T\n",
    "pedestrians_score_df.sort_values(by= 'Test_specificity', ascending=False)"
   ]
  },
  {
   "cell_type": "code",
   "execution_count": 292,
   "metadata": {},
   "outputs": [
    {
     "data": {
      "text/plain": [
       "{'ResponseMetadata': {'RequestId': '26WZANNK0S628X2S',\n",
       "  'HostId': 'NfQKwz07MkyOuSYwfdoSAEEmSuvZXUjx0D9eQAdOPYiGWNHQZ1YM+HBuXG4wDxdF6NfWlezcHyU=',\n",
       "  'HTTPStatusCode': 200,\n",
       "  'HTTPHeaders': {'x-amz-id-2': 'NfQKwz07MkyOuSYwfdoSAEEmSuvZXUjx0D9eQAdOPYiGWNHQZ1YM+HBuXG4wDxdF6NfWlezcHyU=',\n",
       "   'x-amz-request-id': '26WZANNK0S628X2S',\n",
       "   'date': 'Thu, 08 Dec 2022 07:30:31 GMT',\n",
       "   'etag': '\"13ccaecdd3bd85d72e26e817d79dc531\"',\n",
       "   'server': 'AmazonS3',\n",
       "   'content-length': '0'},\n",
       "  'RetryAttempts': 1},\n",
       " 'ETag': '\"13ccaecdd3bd85d72e26e817d79dc531\"'}"
      ]
     },
     "execution_count": 292,
     "metadata": {},
     "output_type": "execute_result"
    }
   ],
   "source": [
    "#exporting scoring file to AWS S3\n",
    "bucket = aws_creds.bucket # already created on S3\n",
    "csv_buffer = StringIO()\n",
    "pedestrians_score_df.to_csv(csv_buffer)\n",
    "s3_resource = boto3.resource('s3')\n",
    "s3_resource.Object(bucket, 'pedestrians_scores.csv').put(Body=csv_buffer.getvalue()) "
   ]
  },
  {
   "cell_type": "code",
   "execution_count": null,
   "metadata": {},
   "outputs": [],
   "source": [
    "et = time.time() # end time\n",
    "elapsed_time = et - st\n",
    "print('Execution time:', elapsed_time/60, 'minutes')"
   ]
  }
 ],
 "metadata": {
  "kernelspec": {
   "display_name": "Python 3.9.12 ('base')",
   "language": "python",
   "name": "python3"
  },
  "language_info": {
   "codemirror_mode": {
    "name": "ipython",
    "version": 3
   },
   "file_extension": ".py",
   "mimetype": "text/x-python",
   "name": "python",
   "nbconvert_exporter": "python",
   "pygments_lexer": "ipython3",
   "version": "3.9.12 (main, Apr  4 2022, 05:22:27) [MSC v.1916 64 bit (AMD64)]"
  },
  "orig_nbformat": 4,
  "vscode": {
   "interpreter": {
    "hash": "25a04f5bcc4cce45f88f55048bde1d1871ccb10dc4647418ede9299c65043aaf"
   }
  }
 },
 "nbformat": 4,
 "nbformat_minor": 2
}
