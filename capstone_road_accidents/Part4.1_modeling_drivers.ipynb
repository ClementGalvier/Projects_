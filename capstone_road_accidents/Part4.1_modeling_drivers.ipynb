{
 "cells": [
  {
   "cell_type": "markdown",
   "metadata": {},
   "source": [
    "# `Modeling Drivers`<br>\n",
    "### Baseline, Hypothesis testing for feature selection and model improvement"
   ]
  },
  {
   "cell_type": "markdown",
   "metadata": {},
   "source": [
    "In this notebook, we want to assess how well our model perform to predict the inrjury level for drivers. Will will improve the model by adding hypothesis testing for feature selection and try to improve our score\n",
    "\n",
    "For this classification tasks, we have selected the following models\n",
    "\n",
    "1. Logistic Regression\n",
    "2. Ada Boost\n",
    "3. XG Boost\n",
    "4. Linear Support Vectors (SVCs)"
   ]
  },
  {
   "cell_type": "code",
   "execution_count": 1,
   "metadata": {},
   "outputs": [],
   "source": [
    "#Importing data manipulation and visualization libraries\n",
    "import pandas as pd # for dataframe manipulation\n",
    "import numpy as np # for numbers manipulations\n",
    "\n",
    "\n",
    "import seaborn as sns # for data visualization\n",
    "import matplotlib.pyplot as plt # for data visualization\n",
    "import scipy.stats as stats # # we never just \"import scipy\" as all the juice is in the submodules\n",
    "\n",
    "import plotly.express as px # for data visualization\n",
    "import plotly.figure_factory as ff# for data visualization\n",
    "\n",
    "from sklearn.preprocessing import LabelEncoder,FunctionTransformer,StandardScaler #for data preprocessing and scaling\n",
    "from sklearn.feature_selection import chi2 #for hypothesis testing on categorical variables\n",
    "from sklearn.pipeline import Pipeline #for chaining operations prior to the gridsearch\n",
    "\n",
    "from sklearn.model_selection import train_test_split, cross_val_score,GridSearchCV #for modeling preparation\n",
    "\n",
    "#importing our models\n",
    "from sklearn.linear_model import LogisticRegression \n",
    "from sklearn.ensemble import GradientBoostingClassifier, AdaBoostClassifier\n",
    "from sklearn.svm import SVC, LinearSVC\n",
    "from xgboost import XGBClassifier, plot_importance\n",
    "\n",
    "#importing metrics to evaluate models performance\n",
    "from sklearn.metrics import classification_report,confusion_matrix\n",
    "from sklearn.metrics import  precision_score, recall_score, roc_auc_score, accuracy_score,f1_score,confusion_matrix,ConfusionMatrixDisplay, RocCurveDisplay, plot_roc_curve \n",
    "from imblearn.metrics import specificity_score\n",
    "\n",
    "import warnings\n",
    "warnings.filterwarnings(\"ignore\")\n",
    "\n",
    "# to access AWS\n",
    "import aws_creds\n",
    "import os\n",
    "from smart_open import smart_open\n",
    "import boto3 \n",
    "from io import StringIO # python3; python2: BytesIO \n",
    "\n",
    "#check time it takes to run the entire notebook\n",
    "import time\n",
    "st = time.time()"
   ]
  },
  {
   "cell_type": "markdown",
   "metadata": {},
   "source": [
    "Helper functions"
   ]
  },
  {
   "cell_type": "code",
   "execution_count": 2,
   "metadata": {},
   "outputs": [],
   "source": [
    "#this function will fit models and generate visualization\n",
    "def meta_func (model,model_name,param_grid,X_train,y_train,X_test,y_test,score_dict):\n",
    "        #model\n",
    "        gs_model = GridSearchCV(\n",
    "        model,\n",
    "        param_grid=param_grid,\n",
    "        cv=3,\n",
    "        verbose=1,\n",
    "        n_jobs=-1\n",
    "        )\n",
    "\n",
    "        #fitting model -------------------------------------------------------\n",
    "        gs_model.fit(X_train,y_train)\n",
    "\n",
    "        #getting predictions\n",
    "        train_preds = gs_model.predict(X_train)\n",
    "        preds = gs_model.predict(X_test)\n",
    "        \n",
    "        #getting the test metrics ready\n",
    "        test_f1score=f1_score(y_test,preds)\n",
    "        test_precision=precision_score(y_test,preds)\n",
    "        test_accuracy=accuracy_score(y_test,preds)\n",
    "        test_recall=recall_score(y_test,preds)\n",
    "        test_roc_auc=roc_auc_score(y_test,preds)\n",
    "        test_specificity = specificity_score(y_test,preds)\n",
    "\n",
    "        #getting the train metrics\n",
    "        train_f1score=f1_score(y_train,train_preds)\n",
    "        train_specificity = specificity_score(y_train,train_preds)\n",
    "        train_precision=precision_score(y_train,train_preds)\n",
    "        train_accuracy=accuracy_score(y_train,train_preds)\n",
    "        train_recall=recall_score(y_train,train_preds)\n",
    "        train_roc_auc=roc_auc_score(y_train,train_preds)\n",
    "        #printing results-----------------------------------------------------------------\n",
    "\n",
    "        print(f'best params : {gs_model.best_params_}')\n",
    "\n",
    "        print(f'Test_f1_score : {test_f1score}')\n",
    "        print(f'Test_precision score : {test_precision}')\n",
    "        print(f'Test_accuracy score : {test_accuracy}')\n",
    "        print(f'Test_recall score : {test_recall}')\n",
    "        print(f'Test_roc_auc score : {test_roc_auc}')\n",
    "                \n",
    "        # #update various metrics onto results list-------------------------------------------------------------\n",
    "        score_dict[model_name] = {\n",
    "                'Train_acc':train_accuracy,\n",
    "                'Test_acc':test_accuracy,\n",
    "                'Train_recall':train_recall,\n",
    "                'Test_recall':test_recall,\n",
    "                'Train_preci':train_precision,\n",
    "                'Test_preci':test_precision,\n",
    "                'Train_f1score':train_f1score,\n",
    "                'Test_f1score':test_f1score,\n",
    "                'Train_roc_auc':train_roc_auc,\n",
    "                'Test_roc_auc':test_roc_auc,\n",
    "                'Train_specificity': train_specificity,\n",
    "                'Test_specificity':test_specificity\n",
    "                }\n",
    "\n",
    "        tn, fp, fn, tp = confusion_matrix(y_test, preds).ravel()\n",
    "        cm = confusion_matrix(y_test,preds)\n",
    "        displ = ConfusionMatrixDisplay(cm)\n",
    "        displ.plot();\n",
    "\n",
    "        plot_roc_curve(gs_model.best_estimator_, X_test, y_test)\n",
    "        plt.plot([0, 1], [0, 1],\n",
    "        label='baseline', linestyle='--') # to simulate random guess \n",
    "        plt.legend();\n",
    "\n",
    "        return gs_model"
   ]
  },
  {
   "cell_type": "code",
   "execution_count": 3,
   "metadata": {},
   "outputs": [],
   "source": [
    "#Helper functions - showing dataframe quality\n",
    "def df_quality (df):\n",
    "    df_qual= pd.DataFrame(df.dtypes, columns={'dtypes'}) # creating a colum to display all data types\n",
    "    df_qual['isna%'] = np.round((df.isna().sum()/len(df))*100,1) # creating new columns = to missing values %\n",
    "    df_qual['isna']= df.isna().sum()\n",
    "    df_qual['unique']=df.nunique() # creating new columns eq to missing values\n",
    "    return df_qual.sort_values(by= 'isna%' , ascending=False)[:40] # sorting and shortlisting"
   ]
  },
  {
   "cell_type": "code",
   "execution_count": 4,
   "metadata": {},
   "outputs": [],
   "source": [
    "#function to test for statistical significance, and chosing the right test depending on data distribution\n",
    "#borrowed from Shilpa's github  -https://github.com/shilpaleo/employee_resignation_prediction/blob/main/notebook/Resignation%20Case%20Study.ipynb\n",
    "\n",
    "def cont_stat_sig_test(df,col):\n",
    "    # defining function for normality + statistical significance check\n",
    "    # Step 1: normality test\n",
    "    stat, p_value = stats.normaltest(df[col].values)\n",
    "    \n",
    "    # Step 2: filter series    \n",
    "    df_ok = df[df['injury_level']=='OK'][col].values\n",
    "    df_not_ok = df[df['injury_level']=='not_ok'][col].values\n",
    "    \n",
    "    # Step 3: determining appropriate statistical significance test based on normality\n",
    "    if p_value>0.01:\n",
    "        distribution = 'normal distribution'\n",
    "        test = 'Anova test'\n",
    "        stat, p_value = stats.f_oneway(df_ok, df_not_ok)\n",
    "    \n",
    "    else:\n",
    "        distribution = 'non-normal distribution'\n",
    "        test = 'KS test'\n",
    "        stat, p_value = stats.ks_2samp(df_ok, df_not_ok)\n",
    "    \n",
    "    # Step 4: conclude on statistical significance\n",
    "    if p_value>0.05:\n",
    "        sig = 'not statistically significant'\n",
    "    else:\n",
    "        sig = 'statistically significant'\n",
    "\n",
    "    print(f'{col} has {distribution}: running {test}. result: {sig}')\n",
    "    return p_value\n"
   ]
  },
  {
   "cell_type": "code",
   "execution_count": 5,
   "metadata": {},
   "outputs": [],
   "source": [
    "#dictionary to store our results\n",
    "score_dict_drivers={}"
   ]
  },
  {
   "cell_type": "markdown",
   "metadata": {},
   "source": [
    "### 1. Preping data for 1st run"
   ]
  },
  {
   "cell_type": "markdown",
   "metadata": {},
   "source": [
    "Importing file"
   ]
  },
  {
   "cell_type": "code",
   "execution_count": 6,
   "metadata": {},
   "outputs": [],
   "source": [
    "#importing our file from AWS\n",
    "aws_key = aws_creds.aws_key\n",
    "aws_secret = aws_creds.aws_secret\n",
    "\n",
    "bucket_name = aws_creds.bucket\n",
    "object_key = 'df_eda.csv'\n",
    "\n",
    "path = 's3://{}:{}@{}/{}'.format(aws_key, aws_secret, bucket_name, object_key)\n",
    "\n",
    "df = pd.read_csv(smart_open(path), index_col=[0]) # index_col=[0] to avoid unammed:0"
   ]
  },
  {
   "cell_type": "code",
   "execution_count": 7,
   "metadata": {},
   "outputs": [
    {
     "data": {
      "text/plain": [
       "1    227065\n",
       "0     45673\n",
       "Name: injury_level, dtype: int64"
      ]
     },
     "execution_count": 7,
     "metadata": {},
     "output_type": "execute_result"
    }
   ],
   "source": [
    "df['injury_level'] = df['injury_level'].map({'OK':1,'not_ok':0}) #mapping target variable to binary\n",
    "df_driv = df[(df['user_type']=='driver')]\n",
    "df_driv['injury_level'].value_counts()"
   ]
  },
  {
   "cell_type": "code",
   "execution_count": 8,
   "metadata": {},
   "outputs": [
    {
     "data": {
      "text/html": [
       "<div>\n",
       "<style scoped>\n",
       "    .dataframe tbody tr th:only-of-type {\n",
       "        vertical-align: middle;\n",
       "    }\n",
       "\n",
       "    .dataframe tbody tr th {\n",
       "        vertical-align: top;\n",
       "    }\n",
       "\n",
       "    .dataframe thead th {\n",
       "        text-align: right;\n",
       "    }\n",
       "</style>\n",
       "<table border=\"1\" class=\"dataframe\">\n",
       "  <thead>\n",
       "    <tr style=\"text-align: right;\">\n",
       "      <th></th>\n",
       "      <th>dtypes</th>\n",
       "      <th>isna%</th>\n",
       "      <th>isna</th>\n",
       "      <th>unique</th>\n",
       "    </tr>\n",
       "  </thead>\n",
       "  <tbody>\n",
       "    <tr>\n",
       "      <th>pedestrian_group</th>\n",
       "      <td>object</td>\n",
       "      <td>100.0</td>\n",
       "      <td>272738</td>\n",
       "      <td>0</td>\n",
       "    </tr>\n",
       "    <tr>\n",
       "      <th>pedestrian_loc</th>\n",
       "      <td>object</td>\n",
       "      <td>100.0</td>\n",
       "      <td>272738</td>\n",
       "      <td>0</td>\n",
       "    </tr>\n",
       "    <tr>\n",
       "      <th>pedestrian_action</th>\n",
       "      <td>object</td>\n",
       "      <td>100.0</td>\n",
       "      <td>272717</td>\n",
       "      <td>4</td>\n",
       "    </tr>\n",
       "    <tr>\n",
       "      <th>reserved_path</th>\n",
       "      <td>object</td>\n",
       "      <td>90.3</td>\n",
       "      <td>246257</td>\n",
       "      <td>2</td>\n",
       "    </tr>\n",
       "    <tr>\n",
       "      <th>fixed_obstacle_hurt</th>\n",
       "      <td>object</td>\n",
       "      <td>85.5</td>\n",
       "      <td>233286</td>\n",
       "      <td>15</td>\n",
       "    </tr>\n",
       "    <tr>\n",
       "      <th>infra_type</th>\n",
       "      <td>object</td>\n",
       "      <td>84.4</td>\n",
       "      <td>230157</td>\n",
       "      <td>9</td>\n",
       "    </tr>\n",
       "    <tr>\n",
       "      <th>safety_feat_2</th>\n",
       "      <td>object</td>\n",
       "      <td>44.0</td>\n",
       "      <td>120004</td>\n",
       "      <td>8</td>\n",
       "    </tr>\n",
       "    <tr>\n",
       "      <th>width_road_only</th>\n",
       "      <td>object</td>\n",
       "      <td>35.5</td>\n",
       "      <td>96780</td>\n",
       "      <td>216</td>\n",
       "    </tr>\n",
       "    <tr>\n",
       "      <th>journey_reason</th>\n",
       "      <td>object</td>\n",
       "      <td>26.6</td>\n",
       "      <td>72633</td>\n",
       "      <td>6</td>\n",
       "    </tr>\n",
       "    <tr>\n",
       "      <th>mobile_obstacle_hurt</th>\n",
       "      <td>object</td>\n",
       "      <td>18.6</td>\n",
       "      <td>50699</td>\n",
       "      <td>6</td>\n",
       "    </tr>\n",
       "    <tr>\n",
       "      <th>safety_feat_1</th>\n",
       "      <td>object</td>\n",
       "      <td>11.7</td>\n",
       "      <td>32009</td>\n",
       "      <td>9</td>\n",
       "    </tr>\n",
       "    <tr>\n",
       "      <th>lane_num</th>\n",
       "      <td>object</td>\n",
       "      <td>10.2</td>\n",
       "      <td>27863</td>\n",
       "      <td>30464</td>\n",
       "    </tr>\n",
       "    <tr>\n",
       "      <th>engine_type</th>\n",
       "      <td>object</td>\n",
       "      <td>7.9</td>\n",
       "      <td>21665</td>\n",
       "      <td>6</td>\n",
       "    </tr>\n",
       "    <tr>\n",
       "      <th>navigation_direction</th>\n",
       "      <td>object</td>\n",
       "      <td>6.9</td>\n",
       "      <td>18939</td>\n",
       "      <td>3</td>\n",
       "    </tr>\n",
       "    <tr>\n",
       "      <th>road_num</th>\n",
       "      <td>float64</td>\n",
       "      <td>6.3</td>\n",
       "      <td>17160</td>\n",
       "      <td>4</td>\n",
       "    </tr>\n",
       "    <tr>\n",
       "      <th>impact_location</th>\n",
       "      <td>object</td>\n",
       "      <td>5.9</td>\n",
       "      <td>16024</td>\n",
       "      <td>9</td>\n",
       "    </tr>\n",
       "    <tr>\n",
       "      <th>travelling_direction</th>\n",
       "      <td>object</td>\n",
       "      <td>5.2</td>\n",
       "      <td>14133</td>\n",
       "      <td>4</td>\n",
       "    </tr>\n",
       "    <tr>\n",
       "      <th>speed_group</th>\n",
       "      <td>float64</td>\n",
       "      <td>1.5</td>\n",
       "      <td>4150</td>\n",
       "      <td>7</td>\n",
       "    </tr>\n",
       "    <tr>\n",
       "      <th>max_speed_allowed</th>\n",
       "      <td>float64</td>\n",
       "      <td>1.5</td>\n",
       "      <td>4150</td>\n",
       "      <td>20</td>\n",
       "    </tr>\n",
       "    <tr>\n",
       "      <th>age</th>\n",
       "      <td>float64</td>\n",
       "      <td>1.1</td>\n",
       "      <td>3007</td>\n",
       "      <td>105</td>\n",
       "    </tr>\n",
       "    <tr>\n",
       "      <th>dob</th>\n",
       "      <td>float64</td>\n",
       "      <td>1.1</td>\n",
       "      <td>3007</td>\n",
       "      <td>105</td>\n",
       "    </tr>\n",
       "    <tr>\n",
       "      <th>gender</th>\n",
       "      <td>object</td>\n",
       "      <td>1.1</td>\n",
       "      <td>3002</td>\n",
       "      <td>2</td>\n",
       "    </tr>\n",
       "    <tr>\n",
       "      <th>age_group</th>\n",
       "      <td>object</td>\n",
       "      <td>1.1</td>\n",
       "      <td>3007</td>\n",
       "      <td>5</td>\n",
       "    </tr>\n",
       "    <tr>\n",
       "      <th>collision_type</th>\n",
       "      <td>object</td>\n",
       "      <td>1.1</td>\n",
       "      <td>2981</td>\n",
       "      <td>7</td>\n",
       "    </tr>\n",
       "    <tr>\n",
       "      <th>postal_address</th>\n",
       "      <td>object</td>\n",
       "      <td>0.8</td>\n",
       "      <td>2280</td>\n",
       "      <td>68815</td>\n",
       "    </tr>\n",
       "    <tr>\n",
       "      <th>vehi_grp</th>\n",
       "      <td>object</td>\n",
       "      <td>0.1</td>\n",
       "      <td>338</td>\n",
       "      <td>3</td>\n",
       "    </tr>\n",
       "    <tr>\n",
       "      <th>lat</th>\n",
       "      <td>float64</td>\n",
       "      <td>0.0</td>\n",
       "      <td>0</td>\n",
       "      <td>147077</td>\n",
       "    </tr>\n",
       "    <tr>\n",
       "      <th>crossing</th>\n",
       "      <td>object</td>\n",
       "      <td>0.0</td>\n",
       "      <td>0</td>\n",
       "      <td>5</td>\n",
       "    </tr>\n",
       "    <tr>\n",
       "      <th>weather</th>\n",
       "      <td>object</td>\n",
       "      <td>0.0</td>\n",
       "      <td>0</td>\n",
       "      <td>9</td>\n",
       "    </tr>\n",
       "    <tr>\n",
       "      <th>long</th>\n",
       "      <td>float64</td>\n",
       "      <td>0.0</td>\n",
       "      <td>0</td>\n",
       "      <td>149463</td>\n",
       "    </tr>\n",
       "    <tr>\n",
       "      <th>acc_num</th>\n",
       "      <td>int64</td>\n",
       "      <td>0.0</td>\n",
       "      <td>0</td>\n",
       "      <td>161198</td>\n",
       "    </tr>\n",
       "    <tr>\n",
       "      <th>date</th>\n",
       "      <td>object</td>\n",
       "      <td>0.0</td>\n",
       "      <td>0</td>\n",
       "      <td>1096</td>\n",
       "    </tr>\n",
       "    <tr>\n",
       "      <th>day_of_week</th>\n",
       "      <td>object</td>\n",
       "      <td>0.0</td>\n",
       "      <td>0</td>\n",
       "      <td>7</td>\n",
       "    </tr>\n",
       "    <tr>\n",
       "      <th>hour</th>\n",
       "      <td>int64</td>\n",
       "      <td>0.0</td>\n",
       "      <td>0</td>\n",
       "      <td>24</td>\n",
       "    </tr>\n",
       "    <tr>\n",
       "      <th>YYYY-MM</th>\n",
       "      <td>object</td>\n",
       "      <td>0.0</td>\n",
       "      <td>0</td>\n",
       "      <td>36</td>\n",
       "    </tr>\n",
       "    <tr>\n",
       "      <th>event</th>\n",
       "      <td>object</td>\n",
       "      <td>0.0</td>\n",
       "      <td>0</td>\n",
       "      <td>12</td>\n",
       "    </tr>\n",
       "    <tr>\n",
       "      <th>city</th>\n",
       "      <td>object</td>\n",
       "      <td>0.0</td>\n",
       "      <td>0</td>\n",
       "      <td>18950</td>\n",
       "    </tr>\n",
       "    <tr>\n",
       "      <th>country</th>\n",
       "      <td>object</td>\n",
       "      <td>0.0</td>\n",
       "      <td>0</td>\n",
       "      <td>1</td>\n",
       "    </tr>\n",
       "    <tr>\n",
       "      <th>in_out_city</th>\n",
       "      <td>object</td>\n",
       "      <td>0.0</td>\n",
       "      <td>0</td>\n",
       "      <td>2</td>\n",
       "    </tr>\n",
       "    <tr>\n",
       "      <th>road_surface</th>\n",
       "      <td>object</td>\n",
       "      <td>0.0</td>\n",
       "      <td>0</td>\n",
       "      <td>8</td>\n",
       "    </tr>\n",
       "  </tbody>\n",
       "</table>\n",
       "</div>"
      ],
      "text/plain": [
       "                       dtypes  isna%    isna  unique\n",
       "pedestrian_group       object  100.0  272738       0\n",
       "pedestrian_loc         object  100.0  272738       0\n",
       "pedestrian_action      object  100.0  272717       4\n",
       "reserved_path          object   90.3  246257       2\n",
       "fixed_obstacle_hurt    object   85.5  233286      15\n",
       "infra_type             object   84.4  230157       9\n",
       "safety_feat_2          object   44.0  120004       8\n",
       "width_road_only        object   35.5   96780     216\n",
       "journey_reason         object   26.6   72633       6\n",
       "mobile_obstacle_hurt   object   18.6   50699       6\n",
       "safety_feat_1          object   11.7   32009       9\n",
       "lane_num               object   10.2   27863   30464\n",
       "engine_type            object    7.9   21665       6\n",
       "navigation_direction   object    6.9   18939       3\n",
       "road_num              float64    6.3   17160       4\n",
       "impact_location        object    5.9   16024       9\n",
       "travelling_direction   object    5.2   14133       4\n",
       "speed_group           float64    1.5    4150       7\n",
       "max_speed_allowed     float64    1.5    4150      20\n",
       "age                   float64    1.1    3007     105\n",
       "dob                   float64    1.1    3007     105\n",
       "gender                 object    1.1    3002       2\n",
       "age_group              object    1.1    3007       5\n",
       "collision_type         object    1.1    2981       7\n",
       "postal_address         object    0.8    2280   68815\n",
       "vehi_grp               object    0.1     338       3\n",
       "lat                   float64    0.0       0  147077\n",
       "crossing               object    0.0       0       5\n",
       "weather                object    0.0       0       9\n",
       "long                  float64    0.0       0  149463\n",
       "acc_num                 int64    0.0       0  161198\n",
       "date                   object    0.0       0    1096\n",
       "day_of_week            object    0.0       0       7\n",
       "hour                    int64    0.0       0      24\n",
       "YYYY-MM                object    0.0       0      36\n",
       "event                  object    0.0       0      12\n",
       "city                   object    0.0       0   18950\n",
       "country                object    0.0       0       1\n",
       "in_out_city            object    0.0       0       2\n",
       "road_surface           object    0.0       0       8"
      ]
     },
     "execution_count": 8,
     "metadata": {},
     "output_type": "execute_result"
    }
   ],
   "source": [
    "df_quality (df_driv)"
   ]
  },
  {
   "cell_type": "markdown",
   "metadata": {},
   "source": [
    "Let's clear the NaN before fitting models. Given the NaNs identified above and the information contained in the columns, we make the choice to cut any feature with more than 10% NaN"
   ]
  },
  {
   "cell_type": "code",
   "execution_count": 9,
   "metadata": {},
   "outputs": [
    {
     "name": "stdout",
     "output_type": "stream",
     "text": [
      "after dropping high_nan features, shape is : (272738, 48)\n",
      "after dropping high_nan and remaining nan, shape is: (157870, 48)\n",
      "after dropping duplicates, final shape is : (157870, 29)\n"
     ]
    }
   ],
   "source": [
    "#Let's remove all 10% above NaN features\n",
    "high_nans = [col for col in df_driv.columns if ((df_driv[col].isna().sum()/len(df)))>0.1]\n",
    "df_driv = df_driv.drop(columns = high_nans)\n",
    "print(f'after dropping high_nan features, shape is : {df_driv.shape}')\n",
    "\n",
    "#then we drop any columns with NaNs remaining \n",
    "df_driv = df_driv.dropna()\n",
    "print(f'after dropping high_nan and remaining nan, shape is: {df_driv.shape}')\n",
    "\n",
    "#finally, we manually renmove these columns as they are either duplicates or strongly correlated to other features\n",
    "driv_cols_todrop = [\n",
    "    'acc_num', # not informative \n",
    "    'id_vehicule', #not informative\n",
    "    #'seat', only valid for drivers and passengers\n",
    "    'user_type',# already filtered on drivers + passengers\n",
    "    'day',#duplicate with day of the week and month\n",
    "    'year',# dropping year but keeping month for seasonality\n",
    "    'lat',#duplicate with geo\n",
    "    'long', #duplicate with geo\n",
    "    'date',#duplicate with day of the week and Month - we do not need that much details\n",
    "    'hhmm',#already captured in hh\n",
    "    'YYYY-MM',#another date duplicate only used for EDA\n",
    "    'country',#not informative\n",
    "    'lane_num', #not informative and generate tons of columns when dummified.\n",
    "    'max_speed_allowed', # we are going with speed_group instead\n",
    "    'city',\n",
    "    'age',\n",
    "    'geo',\n",
    "    'dob',\n",
    "    'postal_address',\n",
    "    'department_fr']\n",
    "\n",
    "df_driv = df_driv.drop(columns = driv_cols_todrop)\n",
    "print(f'after dropping duplicates, final shape is : {df_driv.shape}')"
   ]
  },
  {
   "cell_type": "code",
   "execution_count": 10,
   "metadata": {},
   "outputs": [
    {
     "data": {
      "text/html": [
       "<div>\n",
       "<style scoped>\n",
       "    .dataframe tbody tr th:only-of-type {\n",
       "        vertical-align: middle;\n",
       "    }\n",
       "\n",
       "    .dataframe tbody tr th {\n",
       "        vertical-align: top;\n",
       "    }\n",
       "\n",
       "    .dataframe thead th {\n",
       "        text-align: right;\n",
       "    }\n",
       "</style>\n",
       "<table border=\"1\" class=\"dataframe\">\n",
       "  <thead>\n",
       "    <tr style=\"text-align: right;\">\n",
       "      <th></th>\n",
       "      <th>dtypes</th>\n",
       "      <th>isna%</th>\n",
       "      <th>isna</th>\n",
       "      <th>unique</th>\n",
       "    </tr>\n",
       "  </thead>\n",
       "  <tbody>\n",
       "    <tr>\n",
       "      <th>seat</th>\n",
       "      <td>object</td>\n",
       "      <td>0.0</td>\n",
       "      <td>0</td>\n",
       "      <td>2</td>\n",
       "    </tr>\n",
       "    <tr>\n",
       "      <th>road_surface</th>\n",
       "      <td>object</td>\n",
       "      <td>0.0</td>\n",
       "      <td>0</td>\n",
       "      <td>8</td>\n",
       "    </tr>\n",
       "    <tr>\n",
       "      <th>vehi_grp</th>\n",
       "      <td>object</td>\n",
       "      <td>0.0</td>\n",
       "      <td>0</td>\n",
       "      <td>3</td>\n",
       "    </tr>\n",
       "    <tr>\n",
       "      <th>speed_group</th>\n",
       "      <td>float64</td>\n",
       "      <td>0.0</td>\n",
       "      <td>0</td>\n",
       "      <td>7</td>\n",
       "    </tr>\n",
       "    <tr>\n",
       "      <th>event</th>\n",
       "      <td>object</td>\n",
       "      <td>0.0</td>\n",
       "      <td>0</td>\n",
       "      <td>12</td>\n",
       "    </tr>\n",
       "    <tr>\n",
       "      <th>hour</th>\n",
       "      <td>int64</td>\n",
       "      <td>0.0</td>\n",
       "      <td>0</td>\n",
       "      <td>24</td>\n",
       "    </tr>\n",
       "    <tr>\n",
       "      <th>day_of_week</th>\n",
       "      <td>object</td>\n",
       "      <td>0.0</td>\n",
       "      <td>0</td>\n",
       "      <td>7</td>\n",
       "    </tr>\n",
       "    <tr>\n",
       "      <th>collision_type</th>\n",
       "      <td>object</td>\n",
       "      <td>0.0</td>\n",
       "      <td>0</td>\n",
       "      <td>7</td>\n",
       "    </tr>\n",
       "    <tr>\n",
       "      <th>weather</th>\n",
       "      <td>object</td>\n",
       "      <td>0.0</td>\n",
       "      <td>0</td>\n",
       "      <td>9</td>\n",
       "    </tr>\n",
       "    <tr>\n",
       "      <th>crossing</th>\n",
       "      <td>object</td>\n",
       "      <td>0.0</td>\n",
       "      <td>0</td>\n",
       "      <td>5</td>\n",
       "    </tr>\n",
       "    <tr>\n",
       "      <th>in_out_city</th>\n",
       "      <td>object</td>\n",
       "      <td>0.0</td>\n",
       "      <td>0</td>\n",
       "      <td>2</td>\n",
       "    </tr>\n",
       "    <tr>\n",
       "      <th>light_conditions</th>\n",
       "      <td>object</td>\n",
       "      <td>0.0</td>\n",
       "      <td>0</td>\n",
       "      <td>3</td>\n",
       "    </tr>\n",
       "    <tr>\n",
       "      <th>month</th>\n",
       "      <td>int64</td>\n",
       "      <td>0.0</td>\n",
       "      <td>0</td>\n",
       "      <td>12</td>\n",
       "    </tr>\n",
       "    <tr>\n",
       "      <th>road_location_accident</th>\n",
       "      <td>object</td>\n",
       "      <td>0.0</td>\n",
       "      <td>0</td>\n",
       "      <td>7</td>\n",
       "    </tr>\n",
       "    <tr>\n",
       "      <th>road_curve</th>\n",
       "      <td>object</td>\n",
       "      <td>0.0</td>\n",
       "      <td>0</td>\n",
       "      <td>4</td>\n",
       "    </tr>\n",
       "    <tr>\n",
       "      <th>injury_level</th>\n",
       "      <td>int64</td>\n",
       "      <td>0.0</td>\n",
       "      <td>0</td>\n",
       "      <td>2</td>\n",
       "    </tr>\n",
       "    <tr>\n",
       "      <th>road_incline</th>\n",
       "      <td>object</td>\n",
       "      <td>0.0</td>\n",
       "      <td>0</td>\n",
       "      <td>4</td>\n",
       "    </tr>\n",
       "    <tr>\n",
       "      <th>num_operating_lanes</th>\n",
       "      <td>int64</td>\n",
       "      <td>0.0</td>\n",
       "      <td>0</td>\n",
       "      <td>14</td>\n",
       "    </tr>\n",
       "    <tr>\n",
       "      <th>travelling_direction</th>\n",
       "      <td>object</td>\n",
       "      <td>0.0</td>\n",
       "      <td>0</td>\n",
       "      <td>4</td>\n",
       "    </tr>\n",
       "    <tr>\n",
       "      <th>road_num</th>\n",
       "      <td>float64</td>\n",
       "      <td>0.0</td>\n",
       "      <td>0</td>\n",
       "      <td>4</td>\n",
       "    </tr>\n",
       "    <tr>\n",
       "      <th>road_type</th>\n",
       "      <td>object</td>\n",
       "      <td>0.0</td>\n",
       "      <td>0</td>\n",
       "      <td>7</td>\n",
       "    </tr>\n",
       "    <tr>\n",
       "      <th>engine_type</th>\n",
       "      <td>object</td>\n",
       "      <td>0.0</td>\n",
       "      <td>0</td>\n",
       "      <td>6</td>\n",
       "    </tr>\n",
       "    <tr>\n",
       "      <th>was_doing</th>\n",
       "      <td>object</td>\n",
       "      <td>0.0</td>\n",
       "      <td>0</td>\n",
       "      <td>20</td>\n",
       "    </tr>\n",
       "    <tr>\n",
       "      <th>impact_location</th>\n",
       "      <td>object</td>\n",
       "      <td>0.0</td>\n",
       "      <td>0</td>\n",
       "      <td>9</td>\n",
       "    </tr>\n",
       "    <tr>\n",
       "      <th>vehicule_type</th>\n",
       "      <td>object</td>\n",
       "      <td>0.0</td>\n",
       "      <td>0</td>\n",
       "      <td>18</td>\n",
       "    </tr>\n",
       "    <tr>\n",
       "      <th>navigation_direction</th>\n",
       "      <td>object</td>\n",
       "      <td>0.0</td>\n",
       "      <td>0</td>\n",
       "      <td>3</td>\n",
       "    </tr>\n",
       "    <tr>\n",
       "      <th>safety_feat_1</th>\n",
       "      <td>object</td>\n",
       "      <td>0.0</td>\n",
       "      <td>0</td>\n",
       "      <td>9</td>\n",
       "    </tr>\n",
       "    <tr>\n",
       "      <th>gender</th>\n",
       "      <td>object</td>\n",
       "      <td>0.0</td>\n",
       "      <td>0</td>\n",
       "      <td>2</td>\n",
       "    </tr>\n",
       "    <tr>\n",
       "      <th>age_group</th>\n",
       "      <td>object</td>\n",
       "      <td>0.0</td>\n",
       "      <td>0</td>\n",
       "      <td>5</td>\n",
       "    </tr>\n",
       "  </tbody>\n",
       "</table>\n",
       "</div>"
      ],
      "text/plain": [
       "                         dtypes  isna%  isna  unique\n",
       "seat                     object    0.0     0       2\n",
       "road_surface             object    0.0     0       8\n",
       "vehi_grp                 object    0.0     0       3\n",
       "speed_group             float64    0.0     0       7\n",
       "event                    object    0.0     0      12\n",
       "hour                      int64    0.0     0      24\n",
       "day_of_week              object    0.0     0       7\n",
       "collision_type           object    0.0     0       7\n",
       "weather                  object    0.0     0       9\n",
       "crossing                 object    0.0     0       5\n",
       "in_out_city              object    0.0     0       2\n",
       "light_conditions         object    0.0     0       3\n",
       "month                     int64    0.0     0      12\n",
       "road_location_accident   object    0.0     0       7\n",
       "road_curve               object    0.0     0       4\n",
       "injury_level              int64    0.0     0       2\n",
       "road_incline             object    0.0     0       4\n",
       "num_operating_lanes       int64    0.0     0      14\n",
       "travelling_direction     object    0.0     0       4\n",
       "road_num                float64    0.0     0       4\n",
       "road_type                object    0.0     0       7\n",
       "engine_type              object    0.0     0       6\n",
       "was_doing                object    0.0     0      20\n",
       "impact_location          object    0.0     0       9\n",
       "vehicule_type            object    0.0     0      18\n",
       "navigation_direction     object    0.0     0       3\n",
       "safety_feat_1            object    0.0     0       9\n",
       "gender                   object    0.0     0       2\n",
       "age_group                object    0.0     0       5"
      ]
     },
     "execution_count": 10,
     "metadata": {},
     "output_type": "execute_result"
    }
   ],
   "source": [
    "df_quality(df_driv) # check"
   ]
  },
  {
   "cell_type": "code",
   "execution_count": 11,
   "metadata": {},
   "outputs": [],
   "source": [
    "#preparing our X and y\n",
    "X = df_driv.drop(columns='injury_level')\n",
    "y=df_driv['injury_level']"
   ]
  },
  {
   "cell_type": "code",
   "execution_count": 12,
   "metadata": {},
   "outputs": [
    {
     "name": "stdout",
     "output_type": "stream",
     "text": [
      "(157870, 138)\n"
     ]
    }
   ],
   "source": [
    "#encoding categorical variables\n",
    "X = pd.get_dummies(X, columns=X.select_dtypes('object').columns, drop_first=True)\n",
    "X_train,X_test,y_train,y_test = train_test_split(X,y, random_state=42, test_size=0.2, stratify=y)\n",
    "print(X.shape)"
   ]
  },
  {
   "cell_type": "markdown",
   "metadata": {},
   "source": [
    "### 2. Modeling"
   ]
  },
  {
   "attachments": {},
   "cell_type": "markdown",
   "metadata": {},
   "source": [
    "#### Logistic Regression"
   ]
  },
  {
   "cell_type": "code",
   "execution_count": 13,
   "metadata": {},
   "outputs": [
    {
     "name": "stdout",
     "output_type": "stream",
     "text": [
      "Fitting 3 folds for each of 4 candidates, totalling 12 fits\n",
      "best params : {'lr__C': 0.2, 'lr__class_weight': 'balanced', 'lr__penalty': 'l2'}\n",
      "Test_f1_score : 0.8581067182293166\n",
      "Test_precision score : 0.955255324021067\n",
      "Test_accuracy score : 0.7815291062266422\n",
      "Test_recall score : 0.7788939094066246\n",
      "Test_roc_auc score : 0.7875699995416856\n",
      "CPU times: total: 22 s\n",
      "Wall time: 1min 51s\n"
     ]
    },
    {
     "data": {
      "image/png": "[encoded data removed]",
      "text/plain": [
       "<Figure size 432x288 with 2 Axes>"
      ]
     },
     "metadata": {
      "needs_background": "light"
     },
     "output_type": "display_data"
    },
    {
     "data": {
      "image/png": "[encoded data removed]",
      "text/plain": [
       "<Figure size 432x288 with 1 Axes>"
      ]
     },
     "metadata": {
      "needs_background": "light"
     },
     "output_type": "display_data"
    }
   ],
   "source": [
    "%%time\n",
    "model = meta_func (\n",
    "    model=\n",
    "        Pipeline(\n",
    "    [\n",
    "    ('ss',StandardScaler()),\n",
    "    ('lr', LogisticRegression(random_state=42, solver='saga'))\n",
    "    ]\n",
    ")\n",
    ",\n",
    "    model_name='lr_1st_round',\n",
    "    param_grid=\n",
    "    {\"lr__penalty\":['l1','l2'],\n",
    "    \"lr__C\":[0.2,0.3],#Inverse of regularization strength; must be a positive float. Like in support vector machines, smaller values specify stronger regularization.\n",
    "    \"lr__class_weight\":['balanced']     \n",
    "    }\n",
    ",\n",
    "    X_train=X_train,\n",
    "    y_train=y_train,\n",
    "    X_test=X_test,\n",
    "    y_test=y_test,\n",
    "    score_dict= score_dict_drivers\n",
    ")"
   ]
  },
  {
   "cell_type": "code",
   "execution_count": 14,
   "metadata": {},
   "outputs": [
    {
     "data": {
      "text/html": [
       "<div>\n",
       "<style scoped>\n",
       "    .dataframe tbody tr th:only-of-type {\n",
       "        vertical-align: middle;\n",
       "    }\n",
       "\n",
       "    .dataframe tbody tr th {\n",
       "        vertical-align: top;\n",
       "    }\n",
       "\n",
       "    .dataframe thead th {\n",
       "        text-align: right;\n",
       "    }\n",
       "</style>\n",
       "<table border=\"1\" class=\"dataframe\">\n",
       "  <thead>\n",
       "    <tr style=\"text-align: right;\">\n",
       "      <th></th>\n",
       "      <th>Features</th>\n",
       "      <th>Coef_</th>\n",
       "    </tr>\n",
       "  </thead>\n",
       "  <tbody>\n",
       "    <tr>\n",
       "      <th>13</th>\n",
       "      <td>safety_feat_1_safety_belt</td>\n",
       "      <td>0.430395</td>\n",
       "    </tr>\n",
       "    <tr>\n",
       "      <th>59</th>\n",
       "      <td>was_doing_turning</td>\n",
       "      <td>0.331802</td>\n",
       "    </tr>\n",
       "    <tr>\n",
       "      <th>73</th>\n",
       "      <td>travelling_direction_unidirectional</td>\n",
       "      <td>0.269392</td>\n",
       "    </tr>\n",
       "    <tr>\n",
       "      <th>110</th>\n",
       "      <td>collision_type_three_or_more_vehicules_chain</td>\n",
       "      <td>0.238388</td>\n",
       "    </tr>\n",
       "    <tr>\n",
       "      <th>66</th>\n",
       "      <td>road_type_highway</td>\n",
       "      <td>0.224844</td>\n",
       "    </tr>\n",
       "    <tr>\n",
       "      <th>...</th>\n",
       "      <td>...</td>\n",
       "      <td>...</td>\n",
       "    </tr>\n",
       "    <tr>\n",
       "      <th>89</th>\n",
       "      <td>road_location_accident_others</td>\n",
       "      <td>-0.198967</td>\n",
       "    </tr>\n",
       "    <tr>\n",
       "      <th>10</th>\n",
       "      <td>safety_feat_1_helmet</td>\n",
       "      <td>-0.316653</td>\n",
       "    </tr>\n",
       "    <tr>\n",
       "      <th>96</th>\n",
       "      <td>in_out_city_out_of_city</td>\n",
       "      <td>-0.362933</td>\n",
       "    </tr>\n",
       "    <tr>\n",
       "      <th>91</th>\n",
       "      <td>road_location_accident_road_side</td>\n",
       "      <td>-0.385521</td>\n",
       "    </tr>\n",
       "    <tr>\n",
       "      <th>4</th>\n",
       "      <td>speed_group</td>\n",
       "      <td>-0.480429</td>\n",
       "    </tr>\n",
       "  </tbody>\n",
       "</table>\n",
       "<p>138 rows × 2 columns</p>\n",
       "</div>"
      ],
      "text/plain": [
       "                                         Features     Coef_\n",
       "13                      safety_feat_1_safety_belt  0.430395\n",
       "59                              was_doing_turning  0.331802\n",
       "73            travelling_direction_unidirectional  0.269392\n",
       "110  collision_type_three_or_more_vehicules_chain  0.238388\n",
       "66                              road_type_highway  0.224844\n",
       "..                                            ...       ...\n",
       "89                  road_location_accident_others -0.198967\n",
       "10                           safety_feat_1_helmet -0.316653\n",
       "96                        in_out_city_out_of_city -0.362933\n",
       "91               road_location_accident_road_side -0.385521\n",
       "4                                     speed_group -0.480429\n",
       "\n",
       "[138 rows x 2 columns]"
      ]
     },
     "execution_count": 14,
     "metadata": {},
     "output_type": "execute_result"
    }
   ],
   "source": [
    "#extract top features\n",
    "pd_features = pd.DataFrame({'Features': X_train.columns,'Coef_': model.best_estimator_.steps[-1][1].coef_[0]})\n",
    "pd_features.sort_values(by='Coef_', ascending=False)"
   ]
  },
  {
   "attachments": {},
   "cell_type": "markdown",
   "metadata": {},
   "source": [
    "#### AdaBoost"
   ]
  },
  {
   "cell_type": "code",
   "execution_count": 15,
   "metadata": {},
   "outputs": [
    {
     "name": "stdout",
     "output_type": "stream",
     "text": [
      "Fitting 3 folds for each of 4 candidates, totalling 12 fits\n",
      "best params : {'learning_rate': 1, 'n_estimators': 300}\n",
      "Test_f1_score : 0.9283705601031723\n",
      "Test_precision score : 0.8920826161790018\n",
      "Test_accuracy score : 0.8733451574079939\n",
      "Test_recall score : 0.9677359124687255\n",
      "Test_roc_auc score : 0.6569649322510468\n",
      "CPU times: total: 1min 32s\n",
      "Wall time: 5min 3s\n"
     ]
    },
    {
     "data": {
      "image/png": "[encoded data removed]",
      "text/plain": [
       "<Figure size 432x288 with 2 Axes>"
      ]
     },
     "metadata": {
      "needs_background": "light"
     },
     "output_type": "display_data"
    },
    {
     "data": {
      "image/png": "[encoded data removed]",
      "text/plain": [
       "<Figure size 432x288 with 1 Axes>"
      ]
     },
     "metadata": {
      "needs_background": "light"
     },
     "output_type": "display_data"
    }
   ],
   "source": [
    "%%time\n",
    "model = meta_func (\n",
    "    model=AdaBoostClassifier(random_state=42)\n",
    ",\n",
    "    model_name='abc_1st_round',\n",
    "    param_grid=\n",
    "{\n",
    "    'n_estimators': [150,300], \n",
    "    'learning_rate': [1, 2]\n",
    "    }\n",
    ",\n",
    "    X_train=X_train,\n",
    "    y_train=y_train,\n",
    "    X_test=X_test,\n",
    "    y_test=y_test,\n",
    "    score_dict= score_dict_drivers\n",
    ")"
   ]
  },
  {
   "cell_type": "code",
   "execution_count": 16,
   "metadata": {},
   "outputs": [
    {
     "data": {
      "text/html": [
       "<div>\n",
       "<style scoped>\n",
       "    .dataframe tbody tr th:only-of-type {\n",
       "        vertical-align: middle;\n",
       "    }\n",
       "\n",
       "    .dataframe tbody tr th {\n",
       "        vertical-align: top;\n",
       "    }\n",
       "\n",
       "    .dataframe thead th {\n",
       "        text-align: right;\n",
       "    }\n",
       "</style>\n",
       "<table border=\"1\" class=\"dataframe\">\n",
       "  <thead>\n",
       "    <tr style=\"text-align: right;\">\n",
       "      <th></th>\n",
       "      <th>Features</th>\n",
       "      <th>Coef_</th>\n",
       "    </tr>\n",
       "  </thead>\n",
       "  <tbody>\n",
       "    <tr>\n",
       "      <th>3</th>\n",
       "      <td>hour</td>\n",
       "      <td>0.090000</td>\n",
       "    </tr>\n",
       "    <tr>\n",
       "      <th>90</th>\n",
       "      <td>road_location_accident_road</td>\n",
       "      <td>0.083333</td>\n",
       "    </tr>\n",
       "    <tr>\n",
       "      <th>4</th>\n",
       "      <td>speed_group</td>\n",
       "      <td>0.066667</td>\n",
       "    </tr>\n",
       "    <tr>\n",
       "      <th>91</th>\n",
       "      <td>road_location_accident_road_side</td>\n",
       "      <td>0.063333</td>\n",
       "    </tr>\n",
       "    <tr>\n",
       "      <th>1</th>\n",
       "      <td>num_operating_lanes</td>\n",
       "      <td>0.043333</td>\n",
       "    </tr>\n",
       "    <tr>\n",
       "      <th>...</th>\n",
       "      <td>...</td>\n",
       "      <td>...</td>\n",
       "    </tr>\n",
       "    <tr>\n",
       "      <th>71</th>\n",
       "      <td>road_type_urban_rd</td>\n",
       "      <td>0.000000</td>\n",
       "    </tr>\n",
       "    <tr>\n",
       "      <th>108</th>\n",
       "      <td>weather_snow</td>\n",
       "      <td>0.000000</td>\n",
       "    </tr>\n",
       "    <tr>\n",
       "      <th>44</th>\n",
       "      <td>was_doing_bus_lane_opp_direct</td>\n",
       "      <td>0.000000</td>\n",
       "    </tr>\n",
       "    <tr>\n",
       "      <th>111</th>\n",
       "      <td>collision_type_three_or_more_vehicules_multiple</td>\n",
       "      <td>0.000000</td>\n",
       "    </tr>\n",
       "    <tr>\n",
       "      <th>76</th>\n",
       "      <td>road_incline_hill_top</td>\n",
       "      <td>0.000000</td>\n",
       "    </tr>\n",
       "  </tbody>\n",
       "</table>\n",
       "<p>138 rows × 2 columns</p>\n",
       "</div>"
      ],
      "text/plain": [
       "                                            Features     Coef_\n",
       "3                                               hour  0.090000\n",
       "90                       road_location_accident_road  0.083333\n",
       "4                                        speed_group  0.066667\n",
       "91                  road_location_accident_road_side  0.063333\n",
       "1                                num_operating_lanes  0.043333\n",
       "..                                               ...       ...\n",
       "71                                road_type_urban_rd  0.000000\n",
       "108                                     weather_snow  0.000000\n",
       "44                     was_doing_bus_lane_opp_direct  0.000000\n",
       "111  collision_type_three_or_more_vehicules_multiple  0.000000\n",
       "76                             road_incline_hill_top  0.000000\n",
       "\n",
       "[138 rows x 2 columns]"
      ]
     },
     "execution_count": 16,
     "metadata": {},
     "output_type": "execute_result"
    }
   ],
   "source": [
    "pd_features = pd.DataFrame({'Features': X_train.columns,'Coef_': model.best_estimator_.feature_importances_})\n",
    "pd_features.sort_values(by='Coef_', ascending=False)"
   ]
  },
  {
   "attachments": {},
   "cell_type": "markdown",
   "metadata": {},
   "source": [
    "#### XGBoost"
   ]
  },
  {
   "cell_type": "code",
   "execution_count": 17,
   "metadata": {},
   "outputs": [
    {
     "name": "stdout",
     "output_type": "stream",
     "text": [
      "Fitting 3 folds for each of 8 candidates, totalling 24 fits\n",
      "best params : {'learning_rate': 1, 'max_depth': 2, 'min_split_loss': 1}\n",
      "Test_f1_score : 0.9302283729551712\n",
      "Test_precision score : 0.8977699041267194\n",
      "Test_accuracy score : 0.877209096091721\n",
      "Test_recall score : 0.9651219238955898\n",
      "Test_roc_auc score : 0.6756787930218303\n",
      "CPU times: total: 1min 1s\n",
      "Wall time: 3min 2s\n"
     ]
    },
    {
     "data": {
      "image/png": "[encoded data removed]",
      "text/plain": [
       "<Figure size 432x288 with 2 Axes>"
      ]
     },
     "metadata": {
      "needs_background": "light"
     },
     "output_type": "display_data"
    },
    {
     "data": {
      "image/png": "[encoded data removed]",
      "text/plain": [
       "<Figure size 432x288 with 1 Axes>"
      ]
     },
     "metadata": {
      "needs_background": "light"
     },
     "output_type": "display_data"
    }
   ],
   "source": [
    "%%time\n",
    "model = meta_func (\n",
    "    model=XGBClassifier(random_state=42)\n",
    ",\n",
    "    model_name='xgb_1st_round',\n",
    "    param_grid=\n",
    "{\n",
    "    'learning_rate': [0.5,1], \n",
    "    'min_split_loss': [1,2], #The larger gamma is, the more conservative the algorithm will be\n",
    "    'max_depth':[2,3] #Maximum depth of a tree. Increasing this value will make the model more complex and more likely to overfit.\n",
    "     # Beware that XGBoost aggressively consumes memory when training a deep tree\n",
    "    }\n",
    ",\n",
    "    X_train=X_train,\n",
    "    y_train=y_train,\n",
    "    X_test=X_test,\n",
    "    y_test=y_test,\n",
    "    score_dict= score_dict_drivers\n",
    ")"
   ]
  },
  {
   "cell_type": "code",
   "execution_count": 18,
   "metadata": {},
   "outputs": [
    {
     "data": {
      "text/html": [
       "<div>\n",
       "<style scoped>\n",
       "    .dataframe tbody tr th:only-of-type {\n",
       "        vertical-align: middle;\n",
       "    }\n",
       "\n",
       "    .dataframe tbody tr th {\n",
       "        vertical-align: top;\n",
       "    }\n",
       "\n",
       "    .dataframe thead th {\n",
       "        text-align: right;\n",
       "    }\n",
       "</style>\n",
       "<table border=\"1\" class=\"dataframe\">\n",
       "  <thead>\n",
       "    <tr style=\"text-align: right;\">\n",
       "      <th></th>\n",
       "      <th>Features</th>\n",
       "      <th>Coef_</th>\n",
       "    </tr>\n",
       "  </thead>\n",
       "  <tbody>\n",
       "    <tr>\n",
       "      <th>13</th>\n",
       "      <td>safety_feat_1_safety_belt</td>\n",
       "      <td>0.225316</td>\n",
       "    </tr>\n",
       "    <tr>\n",
       "      <th>69</th>\n",
       "      <td>road_type_regional_rd</td>\n",
       "      <td>0.095567</td>\n",
       "    </tr>\n",
       "    <tr>\n",
       "      <th>66</th>\n",
       "      <td>road_type_highway</td>\n",
       "      <td>0.075080</td>\n",
       "    </tr>\n",
       "    <tr>\n",
       "      <th>96</th>\n",
       "      <td>in_out_city_out_of_city</td>\n",
       "      <td>0.056309</td>\n",
       "    </tr>\n",
       "    <tr>\n",
       "      <th>91</th>\n",
       "      <td>road_location_accident_road_side</td>\n",
       "      <td>0.050669</td>\n",
       "    </tr>\n",
       "    <tr>\n",
       "      <th>...</th>\n",
       "      <td>...</td>\n",
       "      <td>...</td>\n",
       "    </tr>\n",
       "    <tr>\n",
       "      <th>51</th>\n",
       "      <td>was_doing_on_sidewalk</td>\n",
       "      <td>0.000000</td>\n",
       "    </tr>\n",
       "    <tr>\n",
       "      <th>107</th>\n",
       "      <td>weather_overcast</td>\n",
       "      <td>0.000000</td>\n",
       "    </tr>\n",
       "    <tr>\n",
       "      <th>108</th>\n",
       "      <td>weather_snow</td>\n",
       "      <td>0.000000</td>\n",
       "    </tr>\n",
       "    <tr>\n",
       "      <th>16</th>\n",
       "      <td>navigation_direction_postal_address_PR</td>\n",
       "      <td>0.000000</td>\n",
       "    </tr>\n",
       "    <tr>\n",
       "      <th>81</th>\n",
       "      <td>road_surface_muddy</td>\n",
       "      <td>0.000000</td>\n",
       "    </tr>\n",
       "  </tbody>\n",
       "</table>\n",
       "<p>138 rows × 2 columns</p>\n",
       "</div>"
      ],
      "text/plain": [
       "                                   Features     Coef_\n",
       "13                safety_feat_1_safety_belt  0.225316\n",
       "69                    road_type_regional_rd  0.095567\n",
       "66                        road_type_highway  0.075080\n",
       "96                  in_out_city_out_of_city  0.056309\n",
       "91         road_location_accident_road_side  0.050669\n",
       "..                                      ...       ...\n",
       "51                    was_doing_on_sidewalk  0.000000\n",
       "107                        weather_overcast  0.000000\n",
       "108                            weather_snow  0.000000\n",
       "16   navigation_direction_postal_address_PR  0.000000\n",
       "81                       road_surface_muddy  0.000000\n",
       "\n",
       "[138 rows x 2 columns]"
      ]
     },
     "execution_count": 18,
     "metadata": {},
     "output_type": "execute_result"
    }
   ],
   "source": [
    "pd_features = pd.DataFrame({'Features': X_train.columns,'Coef_': model.best_estimator_.feature_importances_})\n",
    "pd_features.sort_values(by='Coef_', ascending=False)"
   ]
  },
  {
   "attachments": {},
   "cell_type": "markdown",
   "metadata": {},
   "source": [
    "#### Linear Support Vectors Classifiers"
   ]
  },
  {
   "cell_type": "code",
   "execution_count": 19,
   "metadata": {},
   "outputs": [
    {
     "name": "stdout",
     "output_type": "stream",
     "text": [
      "Fitting 3 folds for each of 24 candidates, totalling 72 fits\n",
      "best params : {'lsvc__C': 0.1, 'lsvc__dual': True, 'lsvc__max_iter': 500, 'lsvc__penalty': 'l2'}\n",
      "Test_f1_score : 0.8590273069099427\n",
      "Test_precision score : 0.9549566011877569\n",
      "Test_accuracy score : 0.7827009564831824\n",
      "Test_recall score : 0.7806116733261137\n",
      "Test_roc_auc score : 0.7874904039206168\n",
      "CPU times: total: 37.2 s\n",
      "Wall time: 8min 37s\n"
     ]
    },
    {
     "data": {
      "image/png": "[encoded data removed]",
      "text/plain": [
       "<Figure size 432x288 with 2 Axes>"
      ]
     },
     "metadata": {
      "needs_background": "light"
     },
     "output_type": "display_data"
    },
    {
     "data": {
      "image/png": "[encoded data removed]",
      "text/plain": [
       "<Figure size 432x288 with 1 Axes>"
      ]
     },
     "metadata": {
      "needs_background": "light"
     },
     "output_type": "display_data"
    }
   ],
   "source": [
    "%%time\n",
    "model = meta_func (\n",
    "    model=Pipeline(\n",
    "        [\n",
    "            ('ss',StandardScaler()),\n",
    "            ('lsvc', LinearSVC(class_weight='balanced'))\n",
    "        ]\n",
    "    ),\n",
    "    model_name='lsvc_1st_round',\n",
    "    param_grid=\n",
    "{   'lsvc__max_iter':[500,1000],\n",
    "    'lsvc__C': [0.001,0.01,0.1], \n",
    "    'lsvc__dual': [True, False],     \n",
    "    'lsvc__penalty':['l1','l2']   \n",
    "},\n",
    "    X_train=X_train,\n",
    "    y_train=y_train,\n",
    "    X_test=X_test,\n",
    "    y_test=y_test,\n",
    "    score_dict= score_dict_drivers\n",
    ")"
   ]
  },
  {
   "cell_type": "markdown",
   "metadata": {},
   "source": [
    "#### Checking our baseline models"
   ]
  },
  {
   "cell_type": "code",
   "execution_count": 20,
   "metadata": {},
   "outputs": [
    {
     "data": {
      "text/html": [
       "<div>\n",
       "<style scoped>\n",
       "    .dataframe tbody tr th:only-of-type {\n",
       "        vertical-align: middle;\n",
       "    }\n",
       "\n",
       "    .dataframe tbody tr th {\n",
       "        vertical-align: top;\n",
       "    }\n",
       "\n",
       "    .dataframe thead th {\n",
       "        text-align: right;\n",
       "    }\n",
       "</style>\n",
       "<table border=\"1\" class=\"dataframe\">\n",
       "  <thead>\n",
       "    <tr style=\"text-align: right;\">\n",
       "      <th></th>\n",
       "      <th>Train_acc</th>\n",
       "      <th>Test_acc</th>\n",
       "      <th>Train_recall</th>\n",
       "      <th>Test_recall</th>\n",
       "      <th>Train_preci</th>\n",
       "      <th>Test_preci</th>\n",
       "      <th>Train_f1score</th>\n",
       "      <th>Test_f1score</th>\n",
       "      <th>Train_roc_auc</th>\n",
       "      <th>Test_roc_auc</th>\n",
       "      <th>Train_specificity</th>\n",
       "      <th>Test_specificity</th>\n",
       "    </tr>\n",
       "  </thead>\n",
       "  <tbody>\n",
       "    <tr>\n",
       "      <th>lr_1st_round</th>\n",
       "      <td>0.781204</td>\n",
       "      <td>0.781529</td>\n",
       "      <td>0.777731</td>\n",
       "      <td>0.778894</td>\n",
       "      <td>0.956113</td>\n",
       "      <td>0.955255</td>\n",
       "      <td>0.857746</td>\n",
       "      <td>0.858107</td>\n",
       "      <td>0.789168</td>\n",
       "      <td>0.787570</td>\n",
       "      <td>0.800605</td>\n",
       "      <td>0.796246</td>\n",
       "    </tr>\n",
       "    <tr>\n",
       "      <th>abc_1st_round</th>\n",
       "      <td>0.877003</td>\n",
       "      <td>0.873345</td>\n",
       "      <td>0.968623</td>\n",
       "      <td>0.967736</td>\n",
       "      <td>0.894997</td>\n",
       "      <td>0.892083</td>\n",
       "      <td>0.930356</td>\n",
       "      <td>0.928371</td>\n",
       "      <td>0.666943</td>\n",
       "      <td>0.656965</td>\n",
       "      <td>0.365262</td>\n",
       "      <td>0.346194</td>\n",
       "    </tr>\n",
       "    <tr>\n",
       "      <th>xgb_1st_round</th>\n",
       "      <td>0.880250</td>\n",
       "      <td>0.877209</td>\n",
       "      <td>0.965076</td>\n",
       "      <td>0.965122</td>\n",
       "      <td>0.900810</td>\n",
       "      <td>0.897770</td>\n",
       "      <td>0.931836</td>\n",
       "      <td>0.930228</td>\n",
       "      <td>0.685766</td>\n",
       "      <td>0.675679</td>\n",
       "      <td>0.406455</td>\n",
       "      <td>0.386236</td>\n",
       "    </tr>\n",
       "    <tr>\n",
       "      <th>lsvc_1st_round</th>\n",
       "      <td>0.782693</td>\n",
       "      <td>0.782701</td>\n",
       "      <td>0.779757</td>\n",
       "      <td>0.780612</td>\n",
       "      <td>0.955905</td>\n",
       "      <td>0.954957</td>\n",
       "      <td>0.858892</td>\n",
       "      <td>0.859027</td>\n",
       "      <td>0.789425</td>\n",
       "      <td>0.787490</td>\n",
       "      <td>0.799093</td>\n",
       "      <td>0.794369</td>\n",
       "    </tr>\n",
       "  </tbody>\n",
       "</table>\n",
       "</div>"
      ],
      "text/plain": [
       "                Train_acc  Test_acc  Train_recall  Test_recall  Train_preci  \\\n",
       "lr_1st_round     0.781204  0.781529      0.777731     0.778894     0.956113   \n",
       "abc_1st_round    0.877003  0.873345      0.968623     0.967736     0.894997   \n",
       "xgb_1st_round    0.880250  0.877209      0.965076     0.965122     0.900810   \n",
       "lsvc_1st_round   0.782693  0.782701      0.779757     0.780612     0.955905   \n",
       "\n",
       "                Test_preci  Train_f1score  Test_f1score  Train_roc_auc  \\\n",
       "lr_1st_round      0.955255       0.857746      0.858107       0.789168   \n",
       "abc_1st_round     0.892083       0.930356      0.928371       0.666943   \n",
       "xgb_1st_round     0.897770       0.931836      0.930228       0.685766   \n",
       "lsvc_1st_round    0.954957       0.858892      0.859027       0.789425   \n",
       "\n",
       "                Test_roc_auc  Train_specificity  Test_specificity  \n",
       "lr_1st_round        0.787570           0.800605          0.796246  \n",
       "abc_1st_round       0.656965           0.365262          0.346194  \n",
       "xgb_1st_round       0.675679           0.406455          0.386236  \n",
       "lsvc_1st_round      0.787490           0.799093          0.794369  "
      ]
     },
     "execution_count": 20,
     "metadata": {},
     "output_type": "execute_result"
    }
   ],
   "source": [
    "drivers_score_df= pd.DataFrame(score_dict_drivers).T\n",
    "drivers_score_df"
   ]
  },
  {
   "cell_type": "markdown",
   "metadata": {},
   "source": [
    "### 3. Feature selection based on statistical significance - Hypothesis testing"
   ]
  },
  {
   "cell_type": "markdown",
   "metadata": {},
   "source": [
    "Categorical - Continuous Split"
   ]
  },
  {
   "cell_type": "code",
   "execution_count": 21,
   "metadata": {},
   "outputs": [
    {
     "data": {
      "text/plain": [
       "(157870, 29)"
      ]
     },
     "execution_count": 21,
     "metadata": {},
     "output_type": "execute_result"
    }
   ],
   "source": [
    "df_driv.shape"
   ]
  },
  {
   "cell_type": "code",
   "execution_count": 22,
   "metadata": {},
   "outputs": [],
   "source": [
    "df_driv['injury_level'] = df_driv['injury_level'].map({1:'OK',0:'not_ok'}) #Reverting target variable into categorical to fit to this template"
   ]
  },
  {
   "cell_type": "code",
   "execution_count": 23,
   "metadata": {},
   "outputs": [],
   "source": [
    "# subsetting categorical and continuous features to run chi-square test\n",
    "driv_cat = df_driv.select_dtypes(include=['object'])\n",
    "driv_cont = df_driv.select_dtypes(include=['int64','float64'])"
   ]
  },
  {
   "cell_type": "code",
   "execution_count": 24,
   "metadata": {},
   "outputs": [
    {
     "name": "stdout",
     "output_type": "stream",
     "text": [
      "(157870, 24)\n",
      "(157870, 5)\n"
     ]
    }
   ],
   "source": [
    "print(driv_cat.shape)\n",
    "print(driv_cont.shape)"
   ]
  },
  {
   "cell_type": "code",
   "execution_count": 25,
   "metadata": {},
   "outputs": [
    {
     "data": {
      "text/html": [
       "<div>\n",
       "<style scoped>\n",
       "    .dataframe tbody tr th:only-of-type {\n",
       "        vertical-align: middle;\n",
       "    }\n",
       "\n",
       "    .dataframe tbody tr th {\n",
       "        vertical-align: top;\n",
       "    }\n",
       "\n",
       "    .dataframe thead th {\n",
       "        text-align: right;\n",
       "    }\n",
       "</style>\n",
       "<table border=\"1\" class=\"dataframe\">\n",
       "  <thead>\n",
       "    <tr style=\"text-align: right;\">\n",
       "      <th></th>\n",
       "      <th>road_num</th>\n",
       "      <th>num_operating_lanes</th>\n",
       "      <th>month</th>\n",
       "      <th>hour</th>\n",
       "      <th>speed_group</th>\n",
       "    </tr>\n",
       "  </thead>\n",
       "  <tbody>\n",
       "    <tr>\n",
       "      <th>0</th>\n",
       "      <td>0.0</td>\n",
       "      <td>10</td>\n",
       "      <td>11</td>\n",
       "      <td>1</td>\n",
       "      <td>4.0</td>\n",
       "    </tr>\n",
       "  </tbody>\n",
       "</table>\n",
       "</div>"
      ],
      "text/plain": [
       "   road_num  num_operating_lanes  month  hour  speed_group\n",
       "0       0.0                   10     11     1          4.0"
      ]
     },
     "execution_count": 25,
     "metadata": {},
     "output_type": "execute_result"
    }
   ],
   "source": [
    "# subsetting continuous features to run anova/KS test\n",
    "driv_cont.head(1)\n"
   ]
  },
  {
   "cell_type": "code",
   "execution_count": 26,
   "metadata": {},
   "outputs": [
    {
     "name": "stdout",
     "output_type": "stream",
     "text": [
      "(157870, 6)\n"
     ]
    },
    {
     "data": {
      "text/html": [
       "<div>\n",
       "<style scoped>\n",
       "    .dataframe tbody tr th:only-of-type {\n",
       "        vertical-align: middle;\n",
       "    }\n",
       "\n",
       "    .dataframe tbody tr th {\n",
       "        vertical-align: top;\n",
       "    }\n",
       "\n",
       "    .dataframe thead th {\n",
       "        text-align: right;\n",
       "    }\n",
       "</style>\n",
       "<table border=\"1\" class=\"dataframe\">\n",
       "  <thead>\n",
       "    <tr style=\"text-align: right;\">\n",
       "      <th></th>\n",
       "      <th>road_num</th>\n",
       "      <th>num_operating_lanes</th>\n",
       "      <th>month</th>\n",
       "      <th>hour</th>\n",
       "      <th>speed_group</th>\n",
       "      <th>injury_level</th>\n",
       "    </tr>\n",
       "  </thead>\n",
       "  <tbody>\n",
       "    <tr>\n",
       "      <th>0</th>\n",
       "      <td>0.0</td>\n",
       "      <td>10</td>\n",
       "      <td>11</td>\n",
       "      <td>1</td>\n",
       "      <td>4.0</td>\n",
       "      <td>OK</td>\n",
       "    </tr>\n",
       "    <tr>\n",
       "      <th>2</th>\n",
       "      <td>0.0</td>\n",
       "      <td>10</td>\n",
       "      <td>11</td>\n",
       "      <td>1</td>\n",
       "      <td>4.0</td>\n",
       "      <td>OK</td>\n",
       "    </tr>\n",
       "    <tr>\n",
       "      <th>3</th>\n",
       "      <td>0.0</td>\n",
       "      <td>2</td>\n",
       "      <td>11</td>\n",
       "      <td>2</td>\n",
       "      <td>4.0</td>\n",
       "      <td>OK</td>\n",
       "    </tr>\n",
       "    <tr>\n",
       "      <th>4</th>\n",
       "      <td>0.0</td>\n",
       "      <td>8</td>\n",
       "      <td>11</td>\n",
       "      <td>15</td>\n",
       "      <td>5.0</td>\n",
       "      <td>OK</td>\n",
       "    </tr>\n",
       "    <tr>\n",
       "      <th>6</th>\n",
       "      <td>0.0</td>\n",
       "      <td>8</td>\n",
       "      <td>11</td>\n",
       "      <td>15</td>\n",
       "      <td>5.0</td>\n",
       "      <td>OK</td>\n",
       "    </tr>\n",
       "  </tbody>\n",
       "</table>\n",
       "</div>"
      ],
      "text/plain": [
       "   road_num  num_operating_lanes  month  hour  speed_group injury_level\n",
       "0       0.0                   10     11     1          4.0           OK\n",
       "2       0.0                   10     11     1          4.0           OK\n",
       "3       0.0                    2     11     2          4.0           OK\n",
       "4       0.0                    8     11    15          5.0           OK\n",
       "6       0.0                    8     11    15          5.0           OK"
      ]
     },
     "execution_count": 26,
     "metadata": {},
     "output_type": "execute_result"
    }
   ],
   "source": [
    "# joining response variable, injury_level, into continuous features dataframe\n",
    "injury_level_serie = driv_cat[['injury_level']]\n",
    "driv_cont = driv_cont.join(injury_level_serie) #adding the injury to the continuous table\n",
    "print(driv_cont.shape)\n",
    "driv_cont.head()"
   ]
  },
  {
   "cell_type": "markdown",
   "metadata": {},
   "source": [
    "#### Categorical features selection<br>\n",
    "Pick statistically significant features"
   ]
  },
  {
   "cell_type": "code",
   "execution_count": 27,
   "metadata": {},
   "outputs": [
    {
     "name": "stdout",
     "output_type": "stream",
     "text": [
      "(157870, 24)\n"
     ]
    },
    {
     "data": {
      "text/html": [
       "<div>\n",
       "<style scoped>\n",
       "    .dataframe tbody tr th:only-of-type {\n",
       "        vertical-align: middle;\n",
       "    }\n",
       "\n",
       "    .dataframe tbody tr th {\n",
       "        vertical-align: top;\n",
       "    }\n",
       "\n",
       "    .dataframe thead th {\n",
       "        text-align: right;\n",
       "    }\n",
       "</style>\n",
       "<table border=\"1\" class=\"dataframe\">\n",
       "  <thead>\n",
       "    <tr style=\"text-align: right;\">\n",
       "      <th></th>\n",
       "      <th>seat</th>\n",
       "      <th>injury_level</th>\n",
       "      <th>gender</th>\n",
       "      <th>safety_feat_1</th>\n",
       "      <th>navigation_direction</th>\n",
       "      <th>vehicule_type</th>\n",
       "      <th>impact_location</th>\n",
       "      <th>was_doing</th>\n",
       "      <th>engine_type</th>\n",
       "      <th>road_type</th>\n",
       "      <th>...</th>\n",
       "      <th>road_location_accident</th>\n",
       "      <th>light_conditions</th>\n",
       "      <th>in_out_city</th>\n",
       "      <th>crossing</th>\n",
       "      <th>weather</th>\n",
       "      <th>collision_type</th>\n",
       "      <th>day_of_week</th>\n",
       "      <th>event</th>\n",
       "      <th>vehi_grp</th>\n",
       "      <th>age_group</th>\n",
       "    </tr>\n",
       "  </thead>\n",
       "  <tbody>\n",
       "    <tr>\n",
       "      <th>0</th>\n",
       "      <td>0</td>\n",
       "      <td>0</td>\n",
       "      <td>0</td>\n",
       "      <td>7</td>\n",
       "      <td>1</td>\n",
       "      <td>2</td>\n",
       "      <td>6</td>\n",
       "      <td>16</td>\n",
       "      <td>1</td>\n",
       "      <td>1</td>\n",
       "      <td>...</td>\n",
       "      <td>3</td>\n",
       "      <td>2</td>\n",
       "      <td>1</td>\n",
       "      <td>0</td>\n",
       "      <td>5</td>\n",
       "      <td>4</td>\n",
       "      <td>2</td>\n",
       "      <td>11</td>\n",
       "      <td>1</td>\n",
       "      <td>2</td>\n",
       "    </tr>\n",
       "    <tr>\n",
       "      <th>1</th>\n",
       "      <td>0</td>\n",
       "      <td>0</td>\n",
       "      <td>1</td>\n",
       "      <td>7</td>\n",
       "      <td>1</td>\n",
       "      <td>15</td>\n",
       "      <td>1</td>\n",
       "      <td>5</td>\n",
       "      <td>1</td>\n",
       "      <td>1</td>\n",
       "      <td>...</td>\n",
       "      <td>3</td>\n",
       "      <td>2</td>\n",
       "      <td>1</td>\n",
       "      <td>0</td>\n",
       "      <td>5</td>\n",
       "      <td>4</td>\n",
       "      <td>2</td>\n",
       "      <td>11</td>\n",
       "      <td>1</td>\n",
       "      <td>3</td>\n",
       "    </tr>\n",
       "    <tr>\n",
       "      <th>2</th>\n",
       "      <td>0</td>\n",
       "      <td>0</td>\n",
       "      <td>0</td>\n",
       "      <td>7</td>\n",
       "      <td>2</td>\n",
       "      <td>2</td>\n",
       "      <td>0</td>\n",
       "      <td>17</td>\n",
       "      <td>1</td>\n",
       "      <td>1</td>\n",
       "      <td>...</td>\n",
       "      <td>3</td>\n",
       "      <td>2</td>\n",
       "      <td>1</td>\n",
       "      <td>0</td>\n",
       "      <td>5</td>\n",
       "      <td>1</td>\n",
       "      <td>2</td>\n",
       "      <td>11</td>\n",
       "      <td>1</td>\n",
       "      <td>2</td>\n",
       "    </tr>\n",
       "    <tr>\n",
       "      <th>3</th>\n",
       "      <td>0</td>\n",
       "      <td>0</td>\n",
       "      <td>1</td>\n",
       "      <td>7</td>\n",
       "      <td>2</td>\n",
       "      <td>2</td>\n",
       "      <td>0</td>\n",
       "      <td>17</td>\n",
       "      <td>1</td>\n",
       "      <td>1</td>\n",
       "      <td>...</td>\n",
       "      <td>3</td>\n",
       "      <td>0</td>\n",
       "      <td>1</td>\n",
       "      <td>0</td>\n",
       "      <td>5</td>\n",
       "      <td>2</td>\n",
       "      <td>4</td>\n",
       "      <td>11</td>\n",
       "      <td>1</td>\n",
       "      <td>1</td>\n",
       "    </tr>\n",
       "    <tr>\n",
       "      <th>4</th>\n",
       "      <td>0</td>\n",
       "      <td>0</td>\n",
       "      <td>1</td>\n",
       "      <td>7</td>\n",
       "      <td>2</td>\n",
       "      <td>2</td>\n",
       "      <td>4</td>\n",
       "      <td>17</td>\n",
       "      <td>1</td>\n",
       "      <td>1</td>\n",
       "      <td>...</td>\n",
       "      <td>3</td>\n",
       "      <td>0</td>\n",
       "      <td>1</td>\n",
       "      <td>0</td>\n",
       "      <td>5</td>\n",
       "      <td>2</td>\n",
       "      <td>4</td>\n",
       "      <td>11</td>\n",
       "      <td>1</td>\n",
       "      <td>1</td>\n",
       "    </tr>\n",
       "  </tbody>\n",
       "</table>\n",
       "<p>5 rows × 24 columns</p>\n",
       "</div>"
      ],
      "text/plain": [
       "   seat  injury_level  gender  safety_feat_1  navigation_direction  \\\n",
       "0     0             0       0              7                     1   \n",
       "1     0             0       1              7                     1   \n",
       "2     0             0       0              7                     2   \n",
       "3     0             0       1              7                     2   \n",
       "4     0             0       1              7                     2   \n",
       "\n",
       "   vehicule_type  impact_location  was_doing  engine_type  road_type  ...  \\\n",
       "0              2                6         16            1          1  ...   \n",
       "1             15                1          5            1          1  ...   \n",
       "2              2                0         17            1          1  ...   \n",
       "3              2                0         17            1          1  ...   \n",
       "4              2                4         17            1          1  ...   \n",
       "\n",
       "   road_location_accident  light_conditions  in_out_city  crossing  weather  \\\n",
       "0                       3                 2            1         0        5   \n",
       "1                       3                 2            1         0        5   \n",
       "2                       3                 2            1         0        5   \n",
       "3                       3                 0            1         0        5   \n",
       "4                       3                 0            1         0        5   \n",
       "\n",
       "   collision_type  day_of_week  event  vehi_grp  age_group  \n",
       "0               4            2     11         1          2  \n",
       "1               4            2     11         1          3  \n",
       "2               1            2     11         1          2  \n",
       "3               2            4     11         1          1  \n",
       "4               2            4     11         1          1  \n",
       "\n",
       "[5 rows x 24 columns]"
      ]
     },
     "execution_count": 27,
     "metadata": {},
     "output_type": "execute_result"
    }
   ],
   "source": [
    "# label encoding for categorical features with more than 2 values\n",
    "label_encoder = LabelEncoder()\n",
    "\n",
    "cat_train_transformed_dict = {}\n",
    "\n",
    "for col in driv_cat.columns:\n",
    "    cat_train_transformed = label_encoder.fit_transform(driv_cat[col])\n",
    "    cat_train_transformed_dict[col] = cat_train_transformed\n",
    "    \n",
    "cat_train_transformed = pd.DataFrame(cat_train_transformed_dict)\n",
    "print(cat_train_transformed.shape)\n",
    "cat_train_transformed.head()"
   ]
  },
  {
   "cell_type": "code",
   "execution_count": 28,
   "metadata": {},
   "outputs": [
    {
     "data": {
      "application/vnd.plotly.v1+json": {
       "config": {
        "plotlyServerURL": "https://plot.ly"
       },
       "data": [
        {
         "alignmentgroup": "True",
         "hovertemplate": "variable=0<br>index=%{x}<br>p_value=%{y}<extra></extra>",
         "legendgroup": "0",
         "marker": {
          "color": "#636efa",
          "pattern": {
           "shape": ""
          }
         },
         "name": "0",
         "offsetgroup": "0",
         "orientation": "v",
         "showlegend": true,
         "textposition": "auto",
         "type": "bar",
         "x": [
          "vehi_grp",
          "safety_feat_1",
          "road_incline",
          "vehicule_type",
          "impact_location",
          "in_out_city",
          "travelling_direction",
          "road_curve",
          "was_doing",
          "collision_type",
          "crossing",
          "gender",
          "road_type",
          "light_conditions",
          "road_location_accident",
          "road_surface",
          "day_of_week",
          "seat",
          "engine_type",
          "navigation_direction",
          "weather",
          "event",
          "age_group"
         ],
         "xaxis": "x",
         "y": [
          0,
          0,
          0,
          0,
          0,
          0,
          0,
          4.5950839860470056e-197,
          6.935881952366557e-131,
          2.1717985879856904e-124,
          5.4431049499498945e-59,
          4.760206789658266e-53,
          1.336827905904952e-32,
          5.5860050177633025e-30,
          1.0960251956743189e-23,
          3.9959134033921217e-19,
          1.107126725568932e-8,
          5.141191981553296e-7,
          0.000021831138253778365,
          0.0023784785823324707,
          0.0181335897545511,
          0.08922706345895609,
          0.12066717498569499
         ],
         "yaxis": "y"
        }
       ],
       "layout": {
        "barmode": "relative",
        "height": 500,
        "legend": {
         "title": {
          "text": "variable"
         },
         "tracegroupgap": 0
        },
        "margin": {
         "t": 60
        },
        "shapes": [
         {
          "line": {
           "color": "red",
           "dash": "dash"
          },
          "type": "line",
          "x0": 0,
          "x1": 1,
          "xref": "x domain",
          "y0": 0.05,
          "y1": 0.05,
          "yref": "y"
         }
        ],
        "showlegend": false,
        "template": {
         "data": {
          "bar": [
           {
            "error_x": {
             "color": "#2a3f5f"
            },
            "error_y": {
             "color": "#2a3f5f"
            },
            "marker": {
             "line": {
              "color": "#E5ECF6",
              "width": 0.5
             },
             "pattern": {
              "fillmode": "overlay",
              "size": 10,
              "solidity": 0.2
             }
            },
            "type": "bar"
           }
          ],
          "barpolar": [
           {
            "marker": {
             "line": {
              "color": "#E5ECF6",
              "width": 0.5
             },
             "pattern": {
              "fillmode": "overlay",
              "size": 10,
              "solidity": 0.2
             }
            },
            "type": "barpolar"
           }
          ],
          "carpet": [
           {
            "aaxis": {
             "endlinecolor": "#2a3f5f",
             "gridcolor": "white",
             "linecolor": "white",
             "minorgridcolor": "white",
             "startlinecolor": "#2a3f5f"
            },
            "baxis": {
             "endlinecolor": "#2a3f5f",
             "gridcolor": "white",
             "linecolor": "white",
             "minorgridcolor": "white",
             "startlinecolor": "#2a3f5f"
            },
            "type": "carpet"
           }
          ],
          "choropleth": [
           {
            "colorbar": {
             "outlinewidth": 0,
             "ticks": ""
            },
            "type": "choropleth"
           }
          ],
          "contour": [
           {
            "colorbar": {
             "outlinewidth": 0,
             "ticks": ""
            },
            "colorscale": [
             [
              0,
              "#0d0887"
             ],
             [
              0.1111111111111111,
              "#46039f"
             ],
             [
              0.2222222222222222,
              "#7201a8"
             ],
             [
              0.3333333333333333,
              "#9c179e"
             ],
             [
              0.4444444444444444,
              "#bd3786"
             ],
             [
              0.5555555555555556,
              "#d8576b"
             ],
             [
              0.6666666666666666,
              "#ed7953"
             ],
             [
              0.7777777777777778,
              "#fb9f3a"
             ],
             [
              0.8888888888888888,
              "#fdca26"
             ],
             [
              1,
              "#f0f921"
             ]
            ],
            "type": "contour"
           }
          ],
          "contourcarpet": [
           {
            "colorbar": {
             "outlinewidth": 0,
             "ticks": ""
            },
            "type": "contourcarpet"
           }
          ],
          "heatmap": [
           {
            "colorbar": {
             "outlinewidth": 0,
             "ticks": ""
            },
            "colorscale": [
             [
              0,
              "#0d0887"
             ],
             [
              0.1111111111111111,
              "#46039f"
             ],
             [
              0.2222222222222222,
              "#7201a8"
             ],
             [
              0.3333333333333333,
              "#9c179e"
             ],
             [
              0.4444444444444444,
              "#bd3786"
             ],
             [
              0.5555555555555556,
              "#d8576b"
             ],
             [
              0.6666666666666666,
              "#ed7953"
             ],
             [
              0.7777777777777778,
              "#fb9f3a"
             ],
             [
              0.8888888888888888,
              "#fdca26"
             ],
             [
              1,
              "#f0f921"
             ]
            ],
            "type": "heatmap"
           }
          ],
          "heatmapgl": [
           {
            "colorbar": {
             "outlinewidth": 0,
             "ticks": ""
            },
            "colorscale": [
             [
              0,
              "#0d0887"
             ],
             [
              0.1111111111111111,
              "#46039f"
             ],
             [
              0.2222222222222222,
              "#7201a8"
             ],
             [
              0.3333333333333333,
              "#9c179e"
             ],
             [
              0.4444444444444444,
              "#bd3786"
             ],
             [
              0.5555555555555556,
              "#d8576b"
             ],
             [
              0.6666666666666666,
              "#ed7953"
             ],
             [
              0.7777777777777778,
              "#fb9f3a"
             ],
             [
              0.8888888888888888,
              "#fdca26"
             ],
             [
              1,
              "#f0f921"
             ]
            ],
            "type": "heatmapgl"
           }
          ],
          "histogram": [
           {
            "marker": {
             "pattern": {
              "fillmode": "overlay",
              "size": 10,
              "solidity": 0.2
             }
            },
            "type": "histogram"
           }
          ],
          "histogram2d": [
           {
            "colorbar": {
             "outlinewidth": 0,
             "ticks": ""
            },
            "colorscale": [
             [
              0,
              "#0d0887"
             ],
             [
              0.1111111111111111,
              "#46039f"
             ],
             [
              0.2222222222222222,
              "#7201a8"
             ],
             [
              0.3333333333333333,
              "#9c179e"
             ],
             [
              0.4444444444444444,
              "#bd3786"
             ],
             [
              0.5555555555555556,
              "#d8576b"
             ],
             [
              0.6666666666666666,
              "#ed7953"
             ],
             [
              0.7777777777777778,
              "#fb9f3a"
             ],
             [
              0.8888888888888888,
              "#fdca26"
             ],
             [
              1,
              "#f0f921"
             ]
            ],
            "type": "histogram2d"
           }
          ],
          "histogram2dcontour": [
           {
            "colorbar": {
             "outlinewidth": 0,
             "ticks": ""
            },
            "colorscale": [
             [
              0,
              "#0d0887"
             ],
             [
              0.1111111111111111,
              "#46039f"
             ],
             [
              0.2222222222222222,
              "#7201a8"
             ],
             [
              0.3333333333333333,
              "#9c179e"
             ],
             [
              0.4444444444444444,
              "#bd3786"
             ],
             [
              0.5555555555555556,
              "#d8576b"
             ],
             [
              0.6666666666666666,
              "#ed7953"
             ],
             [
              0.7777777777777778,
              "#fb9f3a"
             ],
             [
              0.8888888888888888,
              "#fdca26"
             ],
             [
              1,
              "#f0f921"
             ]
            ],
            "type": "histogram2dcontour"
           }
          ],
          "mesh3d": [
           {
            "colorbar": {
             "outlinewidth": 0,
             "ticks": ""
            },
            "type": "mesh3d"
           }
          ],
          "parcoords": [
           {
            "line": {
             "colorbar": {
              "outlinewidth": 0,
              "ticks": ""
             }
            },
            "type": "parcoords"
           }
          ],
          "pie": [
           {
            "automargin": true,
            "type": "pie"
           }
          ],
          "scatter": [
           {
            "fillpattern": {
             "fillmode": "overlay",
             "size": 10,
             "solidity": 0.2
            },
            "type": "scatter"
           }
          ],
          "scatter3d": [
           {
            "line": {
             "colorbar": {
              "outlinewidth": 0,
              "ticks": ""
             }
            },
            "marker": {
             "colorbar": {
              "outlinewidth": 0,
              "ticks": ""
             }
            },
            "type": "scatter3d"
           }
          ],
          "scattercarpet": [
           {
            "marker": {
             "colorbar": {
              "outlinewidth": 0,
              "ticks": ""
             }
            },
            "type": "scattercarpet"
           }
          ],
          "scattergeo": [
           {
            "marker": {
             "colorbar": {
              "outlinewidth": 0,
              "ticks": ""
             }
            },
            "type": "scattergeo"
           }
          ],
          "scattergl": [
           {
            "marker": {
             "colorbar": {
              "outlinewidth": 0,
              "ticks": ""
             }
            },
            "type": "scattergl"
           }
          ],
          "scattermapbox": [
           {
            "marker": {
             "colorbar": {
              "outlinewidth": 0,
              "ticks": ""
             }
            },
            "type": "scattermapbox"
           }
          ],
          "scatterpolar": [
           {
            "marker": {
             "colorbar": {
              "outlinewidth": 0,
              "ticks": ""
             }
            },
            "type": "scatterpolar"
           }
          ],
          "scatterpolargl": [
           {
            "marker": {
             "colorbar": {
              "outlinewidth": 0,
              "ticks": ""
             }
            },
            "type": "scatterpolargl"
           }
          ],
          "scatterternary": [
           {
            "marker": {
             "colorbar": {
              "outlinewidth": 0,
              "ticks": ""
             }
            },
            "type": "scatterternary"
           }
          ],
          "surface": [
           {
            "colorbar": {
             "outlinewidth": 0,
             "ticks": ""
            },
            "colorscale": [
             [
              0,
              "#0d0887"
             ],
             [
              0.1111111111111111,
              "#46039f"
             ],
             [
              0.2222222222222222,
              "#7201a8"
             ],
             [
              0.3333333333333333,
              "#9c179e"
             ],
             [
              0.4444444444444444,
              "#bd3786"
             ],
             [
              0.5555555555555556,
              "#d8576b"
             ],
             [
              0.6666666666666666,
              "#ed7953"
             ],
             [
              0.7777777777777778,
              "#fb9f3a"
             ],
             [
              0.8888888888888888,
              "#fdca26"
             ],
             [
              1,
              "#f0f921"
             ]
            ],
            "type": "surface"
           }
          ],
          "table": [
           {
            "cells": {
             "fill": {
              "color": "#EBF0F8"
             },
             "line": {
              "color": "white"
             }
            },
            "header": {
             "fill": {
              "color": "#C8D4E3"
             },
             "line": {
              "color": "white"
             }
            },
            "type": "table"
           }
          ]
         },
         "layout": {
          "annotationdefaults": {
           "arrowcolor": "#2a3f5f",
           "arrowhead": 0,
           "arrowwidth": 1
          },
          "autotypenumbers": "strict",
          "coloraxis": {
           "colorbar": {
            "outlinewidth": 0,
            "ticks": ""
           }
          },
          "colorscale": {
           "diverging": [
            [
             0,
             "#8e0152"
            ],
            [
             0.1,
             "#c51b7d"
            ],
            [
             0.2,
             "#de77ae"
            ],
            [
             0.3,
             "#f1b6da"
            ],
            [
             0.4,
             "#fde0ef"
            ],
            [
             0.5,
             "#f7f7f7"
            ],
            [
             0.6,
             "#e6f5d0"
            ],
            [
             0.7,
             "#b8e186"
            ],
            [
             0.8,
             "#7fbc41"
            ],
            [
             0.9,
             "#4d9221"
            ],
            [
             1,
             "#276419"
            ]
           ],
           "sequential": [
            [
             0,
             "#0d0887"
            ],
            [
             0.1111111111111111,
             "#46039f"
            ],
            [
             0.2222222222222222,
             "#7201a8"
            ],
            [
             0.3333333333333333,
             "#9c179e"
            ],
            [
             0.4444444444444444,
             "#bd3786"
            ],
            [
             0.5555555555555556,
             "#d8576b"
            ],
            [
             0.6666666666666666,
             "#ed7953"
            ],
            [
             0.7777777777777778,
             "#fb9f3a"
            ],
            [
             0.8888888888888888,
             "#fdca26"
            ],
            [
             1,
             "#f0f921"
            ]
           ],
           "sequentialminus": [
            [
             0,
             "#0d0887"
            ],
            [
             0.1111111111111111,
             "#46039f"
            ],
            [
             0.2222222222222222,
             "#7201a8"
            ],
            [
             0.3333333333333333,
             "#9c179e"
            ],
            [
             0.4444444444444444,
             "#bd3786"
            ],
            [
             0.5555555555555556,
             "#d8576b"
            ],
            [
             0.6666666666666666,
             "#ed7953"
            ],
            [
             0.7777777777777778,
             "#fb9f3a"
            ],
            [
             0.8888888888888888,
             "#fdca26"
            ],
            [
             1,
             "#f0f921"
            ]
           ]
          },
          "colorway": [
           "#636efa",
           "#EF553B",
           "#00cc96",
           "#ab63fa",
           "#FFA15A",
           "#19d3f3",
           "#FF6692",
           "#B6E880",
           "#FF97FF",
           "#FECB52"
          ],
          "font": {
           "color": "#2a3f5f"
          },
          "geo": {
           "bgcolor": "white",
           "lakecolor": "white",
           "landcolor": "#E5ECF6",
           "showlakes": true,
           "showland": true,
           "subunitcolor": "white"
          },
          "hoverlabel": {
           "align": "left"
          },
          "hovermode": "closest",
          "mapbox": {
           "style": "light"
          },
          "paper_bgcolor": "white",
          "plot_bgcolor": "#E5ECF6",
          "polar": {
           "angularaxis": {
            "gridcolor": "white",
            "linecolor": "white",
            "ticks": ""
           },
           "bgcolor": "#E5ECF6",
           "radialaxis": {
            "gridcolor": "white",
            "linecolor": "white",
            "ticks": ""
           }
          },
          "scene": {
           "xaxis": {
            "backgroundcolor": "#E5ECF6",
            "gridcolor": "white",
            "gridwidth": 2,
            "linecolor": "white",
            "showbackground": true,
            "ticks": "",
            "zerolinecolor": "white"
           },
           "yaxis": {
            "backgroundcolor": "#E5ECF6",
            "gridcolor": "white",
            "gridwidth": 2,
            "linecolor": "white",
            "showbackground": true,
            "ticks": "",
            "zerolinecolor": "white"
           },
           "zaxis": {
            "backgroundcolor": "#E5ECF6",
            "gridcolor": "white",
            "gridwidth": 2,
            "linecolor": "white",
            "showbackground": true,
            "ticks": "",
            "zerolinecolor": "white"
           }
          },
          "shapedefaults": {
           "line": {
            "color": "#2a3f5f"
           }
          },
          "ternary": {
           "aaxis": {
            "gridcolor": "white",
            "linecolor": "white",
            "ticks": ""
           },
           "baxis": {
            "gridcolor": "white",
            "linecolor": "white",
            "ticks": ""
           },
           "bgcolor": "#E5ECF6",
           "caxis": {
            "gridcolor": "white",
            "linecolor": "white",
            "ticks": ""
           }
          },
          "title": {
           "x": 0.05
          },
          "xaxis": {
           "automargin": true,
           "gridcolor": "white",
           "linecolor": "white",
           "ticks": "",
           "title": {
            "standoff": 15
           },
           "zerolinecolor": "white",
           "zerolinewidth": 2
          },
          "yaxis": {
           "automargin": true,
           "gridcolor": "white",
           "linecolor": "white",
           "ticks": "",
           "title": {
            "standoff": 15
           },
           "zerolinecolor": "white",
           "zerolinewidth": 2
          }
         }
        },
        "width": 600,
        "xaxis": {
         "anchor": "y",
         "domain": [
          0,
          1
         ],
         "tickangle": 90,
         "title": {
          "text": "index"
         }
        },
        "yaxis": {
         "anchor": "x",
         "domain": [
          0,
          1
         ],
         "title": {
          "text": "p_value"
         }
        }
       }
      }
     },
     "metadata": {},
     "output_type": "display_data"
    }
   ],
   "source": [
    "# chi-square test\n",
    "X = cat_train_transformed.drop('injury_level',axis=1)\n",
    "y = cat_train_transformed['injury_level']\n",
    "\n",
    "chi_scores = chi2(X,y)\n",
    "\n",
    "# top correlated features + p_values visualization from chi-square test\n",
    "p_values = pd.Series(chi_scores[1],index = X.columns)\n",
    "p_values.sort_values(inplace = True)\n",
    "\n",
    "fig=px.bar(p_values, labels={'value': 'p_value'}, width=600, height=500)\n",
    "fig.add_hline(y=0.05, line_dash=\"dash\", line_color=\"red\")\n",
    "fig.update_layout(showlegend=False)\n",
    "fig.update_xaxes(tickangle = 90)"
   ]
  },
  {
   "cell_type": "code",
   "execution_count": 29,
   "metadata": {},
   "outputs": [
    {
     "data": {
      "text/html": [
       "<div>\n",
       "<style scoped>\n",
       "    .dataframe tbody tr th:only-of-type {\n",
       "        vertical-align: middle;\n",
       "    }\n",
       "\n",
       "    .dataframe tbody tr th {\n",
       "        vertical-align: top;\n",
       "    }\n",
       "\n",
       "    .dataframe thead th {\n",
       "        text-align: right;\n",
       "    }\n",
       "</style>\n",
       "<table border=\"1\" class=\"dataframe\">\n",
       "  <thead>\n",
       "    <tr style=\"text-align: right;\">\n",
       "      <th></th>\n",
       "      <th>p_value</th>\n",
       "    </tr>\n",
       "  </thead>\n",
       "  <tbody>\n",
       "    <tr>\n",
       "      <th>age_group</th>\n",
       "      <td>1.206672e-01</td>\n",
       "    </tr>\n",
       "    <tr>\n",
       "      <th>event</th>\n",
       "      <td>8.922706e-02</td>\n",
       "    </tr>\n",
       "    <tr>\n",
       "      <th>weather</th>\n",
       "      <td>1.813359e-02</td>\n",
       "    </tr>\n",
       "    <tr>\n",
       "      <th>navigation_direction</th>\n",
       "      <td>2.378479e-03</td>\n",
       "    </tr>\n",
       "    <tr>\n",
       "      <th>engine_type</th>\n",
       "      <td>2.183114e-05</td>\n",
       "    </tr>\n",
       "    <tr>\n",
       "      <th>seat</th>\n",
       "      <td>5.141192e-07</td>\n",
       "    </tr>\n",
       "    <tr>\n",
       "      <th>day_of_week</th>\n",
       "      <td>1.107127e-08</td>\n",
       "    </tr>\n",
       "    <tr>\n",
       "      <th>road_surface</th>\n",
       "      <td>3.995913e-19</td>\n",
       "    </tr>\n",
       "    <tr>\n",
       "      <th>road_location_accident</th>\n",
       "      <td>1.096025e-23</td>\n",
       "    </tr>\n",
       "    <tr>\n",
       "      <th>light_conditions</th>\n",
       "      <td>5.586005e-30</td>\n",
       "    </tr>\n",
       "    <tr>\n",
       "      <th>road_type</th>\n",
       "      <td>1.336828e-32</td>\n",
       "    </tr>\n",
       "    <tr>\n",
       "      <th>gender</th>\n",
       "      <td>4.760207e-53</td>\n",
       "    </tr>\n",
       "    <tr>\n",
       "      <th>crossing</th>\n",
       "      <td>5.443105e-59</td>\n",
       "    </tr>\n",
       "    <tr>\n",
       "      <th>collision_type</th>\n",
       "      <td>2.171799e-124</td>\n",
       "    </tr>\n",
       "    <tr>\n",
       "      <th>was_doing</th>\n",
       "      <td>6.935882e-131</td>\n",
       "    </tr>\n",
       "    <tr>\n",
       "      <th>road_curve</th>\n",
       "      <td>4.595084e-197</td>\n",
       "    </tr>\n",
       "    <tr>\n",
       "      <th>safety_feat_1</th>\n",
       "      <td>0.000000e+00</td>\n",
       "    </tr>\n",
       "    <tr>\n",
       "      <th>travelling_direction</th>\n",
       "      <td>0.000000e+00</td>\n",
       "    </tr>\n",
       "  </tbody>\n",
       "</table>\n",
       "</div>"
      ],
      "text/plain": [
       "                              p_value\n",
       "age_group                1.206672e-01\n",
       "event                    8.922706e-02\n",
       "weather                  1.813359e-02\n",
       "navigation_direction     2.378479e-03\n",
       "engine_type              2.183114e-05\n",
       "seat                     5.141192e-07\n",
       "day_of_week              1.107127e-08\n",
       "road_surface             3.995913e-19\n",
       "road_location_accident   1.096025e-23\n",
       "light_conditions         5.586005e-30\n",
       "road_type                1.336828e-32\n",
       "gender                   4.760207e-53\n",
       "crossing                 5.443105e-59\n",
       "collision_type          2.171799e-124\n",
       "was_doing               6.935882e-131\n",
       "road_curve              4.595084e-197\n",
       "safety_feat_1            0.000000e+00\n",
       "travelling_direction     0.000000e+00"
      ]
     },
     "execution_count": 29,
     "metadata": {},
     "output_type": "execute_result"
    }
   ],
   "source": [
    "# top correlated features + p_values converted to dataframe for top features list extraction\n",
    "cat_pvals_df = pd.DataFrame(p_values, columns=['p_value'])\n",
    "cat_pvals_df.sort_values(by = 'p_value',ascending=False).head(-5)"
   ]
  },
  {
   "cell_type": "code",
   "execution_count": 30,
   "metadata": {},
   "outputs": [
    {
     "name": "stdout",
     "output_type": "stream",
     "text": [
      "21\n"
     ]
    }
   ],
   "source": [
    "# list of top correlated categorical features\n",
    "top_cat_features_list = cat_pvals_df[cat_pvals_df['p_value']<0.05].index.to_list()\n",
    "top_cat_features_list\n",
    "print(len(top_cat_features_list))"
   ]
  },
  {
   "cell_type": "markdown",
   "metadata": {},
   "source": [
    "We get our categorical features to include in our 2nd round"
   ]
  },
  {
   "cell_type": "markdown",
   "metadata": {},
   "source": [
    "#### Continuous features selection\n",
    "1. Pick non-correlated features\n",
    "2. If 2 columns are correlated, pick the column with better statistical significance"
   ]
  },
  {
   "cell_type": "code",
   "execution_count": 31,
   "metadata": {},
   "outputs": [
    {
     "name": "stdout",
     "output_type": "stream",
     "text": [
      "5\n"
     ]
    },
    {
     "data": {
      "text/plain": [
       "['road_num', 'num_operating_lanes', 'month', 'hour', 'speed_group']"
      ]
     },
     "execution_count": 31,
     "metadata": {},
     "output_type": "execute_result"
    }
   ],
   "source": [
    "# extracting all continuous feature column\n",
    "driv_cont_columns = [col for col in driv_cont if col not in ['injury_level']]\n",
    "print(len(driv_cont_columns))\n",
    "driv_cont_columns"
   ]
  },
  {
   "cell_type": "code",
   "execution_count": 32,
   "metadata": {},
   "outputs": [
    {
     "name": "stdout",
     "output_type": "stream",
     "text": [
      "road_num has non-normal distribution: running KS test. result: statistically significant\n",
      "num_operating_lanes has non-normal distribution: running KS test. result: statistically significant\n",
      "month has non-normal distribution: running KS test. result: statistically significant\n",
      "hour has non-normal distribution: running KS test. result: statistically significant\n",
      "speed_group has non-normal distribution: running KS test. result: statistically significant\n"
     ]
    },
    {
     "data": {
      "application/vnd.plotly.v1+json": {
       "config": {
        "plotlyServerURL": "https://plot.ly"
       },
       "data": [
        {
         "alignmentgroup": "True",
         "hovertemplate": "variable=p_value<br>index=%{x}<br>p_value=%{y}<extra></extra>",
         "legendgroup": "p_value",
         "marker": {
          "color": "#636efa",
          "pattern": {
           "shape": ""
          }
         },
         "name": "p_value",
         "offsetgroup": "p_value",
         "orientation": "v",
         "showlegend": true,
         "textposition": "auto",
         "type": "bar",
         "x": [
          "road_num",
          "num_operating_lanes",
          "speed_group",
          "hour",
          "month"
         ],
         "xaxis": "x",
         "y": [
          0,
          0,
          0,
          1.5130207409490492e-25,
          6.453443148476666e-21
         ],
         "yaxis": "y"
        }
       ],
       "layout": {
        "barmode": "relative",
        "height": 500,
        "legend": {
         "title": {
          "text": "variable"
         },
         "tracegroupgap": 0
        },
        "margin": {
         "t": 60
        },
        "shapes": [
         {
          "line": {
           "color": "red",
           "dash": "dash"
          },
          "type": "line",
          "x0": 0,
          "x1": 1,
          "xref": "x domain",
          "y0": 0.05,
          "y1": 0.05,
          "yref": "y"
         }
        ],
        "showlegend": false,
        "template": {
         "data": {
          "bar": [
           {
            "error_x": {
             "color": "#2a3f5f"
            },
            "error_y": {
             "color": "#2a3f5f"
            },
            "marker": {
             "line": {
              "color": "#E5ECF6",
              "width": 0.5
             },
             "pattern": {
              "fillmode": "overlay",
              "size": 10,
              "solidity": 0.2
             }
            },
            "type": "bar"
           }
          ],
          "barpolar": [
           {
            "marker": {
             "line": {
              "color": "#E5ECF6",
              "width": 0.5
             },
             "pattern": {
              "fillmode": "overlay",
              "size": 10,
              "solidity": 0.2
             }
            },
            "type": "barpolar"
           }
          ],
          "carpet": [
           {
            "aaxis": {
             "endlinecolor": "#2a3f5f",
             "gridcolor": "white",
             "linecolor": "white",
             "minorgridcolor": "white",
             "startlinecolor": "#2a3f5f"
            },
            "baxis": {
             "endlinecolor": "#2a3f5f",
             "gridcolor": "white",
             "linecolor": "white",
             "minorgridcolor": "white",
             "startlinecolor": "#2a3f5f"
            },
            "type": "carpet"
           }
          ],
          "choropleth": [
           {
            "colorbar": {
             "outlinewidth": 0,
             "ticks": ""
            },
            "type": "choropleth"
           }
          ],
          "contour": [
           {
            "colorbar": {
             "outlinewidth": 0,
             "ticks": ""
            },
            "colorscale": [
             [
              0,
              "#0d0887"
             ],
             [
              0.1111111111111111,
              "#46039f"
             ],
             [
              0.2222222222222222,
              "#7201a8"
             ],
             [
              0.3333333333333333,
              "#9c179e"
             ],
             [
              0.4444444444444444,
              "#bd3786"
             ],
             [
              0.5555555555555556,
              "#d8576b"
             ],
             [
              0.6666666666666666,
              "#ed7953"
             ],
             [
              0.7777777777777778,
              "#fb9f3a"
             ],
             [
              0.8888888888888888,
              "#fdca26"
             ],
             [
              1,
              "#f0f921"
             ]
            ],
            "type": "contour"
           }
          ],
          "contourcarpet": [
           {
            "colorbar": {
             "outlinewidth": 0,
             "ticks": ""
            },
            "type": "contourcarpet"
           }
          ],
          "heatmap": [
           {
            "colorbar": {
             "outlinewidth": 0,
             "ticks": ""
            },
            "colorscale": [
             [
              0,
              "#0d0887"
             ],
             [
              0.1111111111111111,
              "#46039f"
             ],
             [
              0.2222222222222222,
              "#7201a8"
             ],
             [
              0.3333333333333333,
              "#9c179e"
             ],
             [
              0.4444444444444444,
              "#bd3786"
             ],
             [
              0.5555555555555556,
              "#d8576b"
             ],
             [
              0.6666666666666666,
              "#ed7953"
             ],
             [
              0.7777777777777778,
              "#fb9f3a"
             ],
             [
              0.8888888888888888,
              "#fdca26"
             ],
             [
              1,
              "#f0f921"
             ]
            ],
            "type": "heatmap"
           }
          ],
          "heatmapgl": [
           {
            "colorbar": {
             "outlinewidth": 0,
             "ticks": ""
            },
            "colorscale": [
             [
              0,
              "#0d0887"
             ],
             [
              0.1111111111111111,
              "#46039f"
             ],
             [
              0.2222222222222222,
              "#7201a8"
             ],
             [
              0.3333333333333333,
              "#9c179e"
             ],
             [
              0.4444444444444444,
              "#bd3786"
             ],
             [
              0.5555555555555556,
              "#d8576b"
             ],
             [
              0.6666666666666666,
              "#ed7953"
             ],
             [
              0.7777777777777778,
              "#fb9f3a"
             ],
             [
              0.8888888888888888,
              "#fdca26"
             ],
             [
              1,
              "#f0f921"
             ]
            ],
            "type": "heatmapgl"
           }
          ],
          "histogram": [
           {
            "marker": {
             "pattern": {
              "fillmode": "overlay",
              "size": 10,
              "solidity": 0.2
             }
            },
            "type": "histogram"
           }
          ],
          "histogram2d": [
           {
            "colorbar": {
             "outlinewidth": 0,
             "ticks": ""
            },
            "colorscale": [
             [
              0,
              "#0d0887"
             ],
             [
              0.1111111111111111,
              "#46039f"
             ],
             [
              0.2222222222222222,
              "#7201a8"
             ],
             [
              0.3333333333333333,
              "#9c179e"
             ],
             [
              0.4444444444444444,
              "#bd3786"
             ],
             [
              0.5555555555555556,
              "#d8576b"
             ],
             [
              0.6666666666666666,
              "#ed7953"
             ],
             [
              0.7777777777777778,
              "#fb9f3a"
             ],
             [
              0.8888888888888888,
              "#fdca26"
             ],
             [
              1,
              "#f0f921"
             ]
            ],
            "type": "histogram2d"
           }
          ],
          "histogram2dcontour": [
           {
            "colorbar": {
             "outlinewidth": 0,
             "ticks": ""
            },
            "colorscale": [
             [
              0,
              "#0d0887"
             ],
             [
              0.1111111111111111,
              "#46039f"
             ],
             [
              0.2222222222222222,
              "#7201a8"
             ],
             [
              0.3333333333333333,
              "#9c179e"
             ],
             [
              0.4444444444444444,
              "#bd3786"
             ],
             [
              0.5555555555555556,
              "#d8576b"
             ],
             [
              0.6666666666666666,
              "#ed7953"
             ],
             [
              0.7777777777777778,
              "#fb9f3a"
             ],
             [
              0.8888888888888888,
              "#fdca26"
             ],
             [
              1,
              "#f0f921"
             ]
            ],
            "type": "histogram2dcontour"
           }
          ],
          "mesh3d": [
           {
            "colorbar": {
             "outlinewidth": 0,
             "ticks": ""
            },
            "type": "mesh3d"
           }
          ],
          "parcoords": [
           {
            "line": {
             "colorbar": {
              "outlinewidth": 0,
              "ticks": ""
             }
            },
            "type": "parcoords"
           }
          ],
          "pie": [
           {
            "automargin": true,
            "type": "pie"
           }
          ],
          "scatter": [
           {
            "fillpattern": {
             "fillmode": "overlay",
             "size": 10,
             "solidity": 0.2
            },
            "type": "scatter"
           }
          ],
          "scatter3d": [
           {
            "line": {
             "colorbar": {
              "outlinewidth": 0,
              "ticks": ""
             }
            },
            "marker": {
             "colorbar": {
              "outlinewidth": 0,
              "ticks": ""
             }
            },
            "type": "scatter3d"
           }
          ],
          "scattercarpet": [
           {
            "marker": {
             "colorbar": {
              "outlinewidth": 0,
              "ticks": ""
             }
            },
            "type": "scattercarpet"
           }
          ],
          "scattergeo": [
           {
            "marker": {
             "colorbar": {
              "outlinewidth": 0,
              "ticks": ""
             }
            },
            "type": "scattergeo"
           }
          ],
          "scattergl": [
           {
            "marker": {
             "colorbar": {
              "outlinewidth": 0,
              "ticks": ""
             }
            },
            "type": "scattergl"
           }
          ],
          "scattermapbox": [
           {
            "marker": {
             "colorbar": {
              "outlinewidth": 0,
              "ticks": ""
             }
            },
            "type": "scattermapbox"
           }
          ],
          "scatterpolar": [
           {
            "marker": {
             "colorbar": {
              "outlinewidth": 0,
              "ticks": ""
             }
            },
            "type": "scatterpolar"
           }
          ],
          "scatterpolargl": [
           {
            "marker": {
             "colorbar": {
              "outlinewidth": 0,
              "ticks": ""
             }
            },
            "type": "scatterpolargl"
           }
          ],
          "scatterternary": [
           {
            "marker": {
             "colorbar": {
              "outlinewidth": 0,
              "ticks": ""
             }
            },
            "type": "scatterternary"
           }
          ],
          "surface": [
           {
            "colorbar": {
             "outlinewidth": 0,
             "ticks": ""
            },
            "colorscale": [
             [
              0,
              "#0d0887"
             ],
             [
              0.1111111111111111,
              "#46039f"
             ],
             [
              0.2222222222222222,
              "#7201a8"
             ],
             [
              0.3333333333333333,
              "#9c179e"
             ],
             [
              0.4444444444444444,
              "#bd3786"
             ],
             [
              0.5555555555555556,
              "#d8576b"
             ],
             [
              0.6666666666666666,
              "#ed7953"
             ],
             [
              0.7777777777777778,
              "#fb9f3a"
             ],
             [
              0.8888888888888888,
              "#fdca26"
             ],
             [
              1,
              "#f0f921"
             ]
            ],
            "type": "surface"
           }
          ],
          "table": [
           {
            "cells": {
             "fill": {
              "color": "#EBF0F8"
             },
             "line": {
              "color": "white"
             }
            },
            "header": {
             "fill": {
              "color": "#C8D4E3"
             },
             "line": {
              "color": "white"
             }
            },
            "type": "table"
           }
          ]
         },
         "layout": {
          "annotationdefaults": {
           "arrowcolor": "#2a3f5f",
           "arrowhead": 0,
           "arrowwidth": 1
          },
          "autotypenumbers": "strict",
          "coloraxis": {
           "colorbar": {
            "outlinewidth": 0,
            "ticks": ""
           }
          },
          "colorscale": {
           "diverging": [
            [
             0,
             "#8e0152"
            ],
            [
             0.1,
             "#c51b7d"
            ],
            [
             0.2,
             "#de77ae"
            ],
            [
             0.3,
             "#f1b6da"
            ],
            [
             0.4,
             "#fde0ef"
            ],
            [
             0.5,
             "#f7f7f7"
            ],
            [
             0.6,
             "#e6f5d0"
            ],
            [
             0.7,
             "#b8e186"
            ],
            [
             0.8,
             "#7fbc41"
            ],
            [
             0.9,
             "#4d9221"
            ],
            [
             1,
             "#276419"
            ]
           ],
           "sequential": [
            [
             0,
             "#0d0887"
            ],
            [
             0.1111111111111111,
             "#46039f"
            ],
            [
             0.2222222222222222,
             "#7201a8"
            ],
            [
             0.3333333333333333,
             "#9c179e"
            ],
            [
             0.4444444444444444,
             "#bd3786"
            ],
            [
             0.5555555555555556,
             "#d8576b"
            ],
            [
             0.6666666666666666,
             "#ed7953"
            ],
            [
             0.7777777777777778,
             "#fb9f3a"
            ],
            [
             0.8888888888888888,
             "#fdca26"
            ],
            [
             1,
             "#f0f921"
            ]
           ],
           "sequentialminus": [
            [
             0,
             "#0d0887"
            ],
            [
             0.1111111111111111,
             "#46039f"
            ],
            [
             0.2222222222222222,
             "#7201a8"
            ],
            [
             0.3333333333333333,
             "#9c179e"
            ],
            [
             0.4444444444444444,
             "#bd3786"
            ],
            [
             0.5555555555555556,
             "#d8576b"
            ],
            [
             0.6666666666666666,
             "#ed7953"
            ],
            [
             0.7777777777777778,
             "#fb9f3a"
            ],
            [
             0.8888888888888888,
             "#fdca26"
            ],
            [
             1,
             "#f0f921"
            ]
           ]
          },
          "colorway": [
           "#636efa",
           "#EF553B",
           "#00cc96",
           "#ab63fa",
           "#FFA15A",
           "#19d3f3",
           "#FF6692",
           "#B6E880",
           "#FF97FF",
           "#FECB52"
          ],
          "font": {
           "color": "#2a3f5f"
          },
          "geo": {
           "bgcolor": "white",
           "lakecolor": "white",
           "landcolor": "#E5ECF6",
           "showlakes": true,
           "showland": true,
           "subunitcolor": "white"
          },
          "hoverlabel": {
           "align": "left"
          },
          "hovermode": "closest",
          "mapbox": {
           "style": "light"
          },
          "paper_bgcolor": "white",
          "plot_bgcolor": "#E5ECF6",
          "polar": {
           "angularaxis": {
            "gridcolor": "white",
            "linecolor": "white",
            "ticks": ""
           },
           "bgcolor": "#E5ECF6",
           "radialaxis": {
            "gridcolor": "white",
            "linecolor": "white",
            "ticks": ""
           }
          },
          "scene": {
           "xaxis": {
            "backgroundcolor": "#E5ECF6",
            "gridcolor": "white",
            "gridwidth": 2,
            "linecolor": "white",
            "showbackground": true,
            "ticks": "",
            "zerolinecolor": "white"
           },
           "yaxis": {
            "backgroundcolor": "#E5ECF6",
            "gridcolor": "white",
            "gridwidth": 2,
            "linecolor": "white",
            "showbackground": true,
            "ticks": "",
            "zerolinecolor": "white"
           },
           "zaxis": {
            "backgroundcolor": "#E5ECF6",
            "gridcolor": "white",
            "gridwidth": 2,
            "linecolor": "white",
            "showbackground": true,
            "ticks": "",
            "zerolinecolor": "white"
           }
          },
          "shapedefaults": {
           "line": {
            "color": "#2a3f5f"
           }
          },
          "ternary": {
           "aaxis": {
            "gridcolor": "white",
            "linecolor": "white",
            "ticks": ""
           },
           "baxis": {
            "gridcolor": "white",
            "linecolor": "white",
            "ticks": ""
           },
           "bgcolor": "#E5ECF6",
           "caxis": {
            "gridcolor": "white",
            "linecolor": "white",
            "ticks": ""
           }
          },
          "title": {
           "x": 0.05
          },
          "xaxis": {
           "automargin": true,
           "gridcolor": "white",
           "linecolor": "white",
           "ticks": "",
           "title": {
            "standoff": 15
           },
           "zerolinecolor": "white",
           "zerolinewidth": 2
          },
          "yaxis": {
           "automargin": true,
           "gridcolor": "white",
           "linecolor": "white",
           "ticks": "",
           "title": {
            "standoff": 15
           },
           "zerolinecolor": "white",
           "zerolinewidth": 2
          }
         }
        },
        "width": 600,
        "xaxis": {
         "anchor": "y",
         "domain": [
          0,
          1
         ],
         "tickangle": 90,
         "title": {
          "text": "index"
         }
        },
        "yaxis": {
         "anchor": "x",
         "domain": [
          0,
          1
         ],
         "title": {
          "text": "p_value"
         }
        }
       }
      }
     },
     "metadata": {},
     "output_type": "display_data"
    }
   ],
   "source": [
    "# running normality and statistical significance tests on continuous features\n",
    "\n",
    "results_dict = {col:cont_stat_sig_test(driv_cont,col) for col in driv_cont_columns}\n",
    "cont_stat_results_df = pd.DataFrame.from_dict(results_dict, orient='index', columns=['p_value']).sort_values(by='p_value')\n",
    "\n",
    "fig=px.bar(cont_stat_results_df, labels={'value': 'p_value'}, width=600, height=500)\n",
    "fig.add_hline(y=0.05, line_dash=\"dash\", line_color=\"red\")\n",
    "fig.update_layout(showlegend=False)\n",
    "fig.update_xaxes(tickangle = 90)\n"
   ]
  },
  {
   "cell_type": "markdown",
   "metadata": {},
   "source": [
    "All our continuous features are statistically significant in predicting severity of an accident"
   ]
  },
  {
   "cell_type": "code",
   "execution_count": 33,
   "metadata": {},
   "outputs": [
    {
     "name": "stdout",
     "output_type": "stream",
     "text": [
      "(157870, 6)\n"
     ]
    },
    {
     "data": {
      "text/html": [
       "<div>\n",
       "<style scoped>\n",
       "    .dataframe tbody tr th:only-of-type {\n",
       "        vertical-align: middle;\n",
       "    }\n",
       "\n",
       "    .dataframe tbody tr th {\n",
       "        vertical-align: top;\n",
       "    }\n",
       "\n",
       "    .dataframe thead th {\n",
       "        text-align: right;\n",
       "    }\n",
       "</style>\n",
       "<table border=\"1\" class=\"dataframe\">\n",
       "  <thead>\n",
       "    <tr style=\"text-align: right;\">\n",
       "      <th></th>\n",
       "      <th>injury_level</th>\n",
       "      <th>road_num</th>\n",
       "      <th>num_operating_lanes</th>\n",
       "      <th>speed_group</th>\n",
       "      <th>hour</th>\n",
       "      <th>month</th>\n",
       "    </tr>\n",
       "  </thead>\n",
       "  <tbody>\n",
       "    <tr>\n",
       "      <th>0</th>\n",
       "      <td>OK</td>\n",
       "      <td>0.0</td>\n",
       "      <td>10</td>\n",
       "      <td>4.0</td>\n",
       "      <td>1</td>\n",
       "      <td>11</td>\n",
       "    </tr>\n",
       "    <tr>\n",
       "      <th>2</th>\n",
       "      <td>OK</td>\n",
       "      <td>0.0</td>\n",
       "      <td>10</td>\n",
       "      <td>4.0</td>\n",
       "      <td>1</td>\n",
       "      <td>11</td>\n",
       "    </tr>\n",
       "    <tr>\n",
       "      <th>3</th>\n",
       "      <td>OK</td>\n",
       "      <td>0.0</td>\n",
       "      <td>2</td>\n",
       "      <td>4.0</td>\n",
       "      <td>2</td>\n",
       "      <td>11</td>\n",
       "    </tr>\n",
       "    <tr>\n",
       "      <th>4</th>\n",
       "      <td>OK</td>\n",
       "      <td>0.0</td>\n",
       "      <td>8</td>\n",
       "      <td>5.0</td>\n",
       "      <td>15</td>\n",
       "      <td>11</td>\n",
       "    </tr>\n",
       "    <tr>\n",
       "      <th>6</th>\n",
       "      <td>OK</td>\n",
       "      <td>0.0</td>\n",
       "      <td>8</td>\n",
       "      <td>5.0</td>\n",
       "      <td>15</td>\n",
       "      <td>11</td>\n",
       "    </tr>\n",
       "  </tbody>\n",
       "</table>\n",
       "</div>"
      ],
      "text/plain": [
       "  injury_level  road_num  num_operating_lanes  speed_group  hour  month\n",
       "0           OK       0.0                   10          4.0     1     11\n",
       "2           OK       0.0                   10          4.0     1     11\n",
       "3           OK       0.0                    2          4.0     2     11\n",
       "4           OK       0.0                    8          5.0    15     11\n",
       "6           OK       0.0                    8          5.0    15     11"
      ]
     },
     "execution_count": 33,
     "metadata": {},
     "output_type": "execute_result"
    }
   ],
   "source": [
    "# rearranging driv_cont dataset's feature columns in the order of statistical significance\n",
    "driv_cont = driv_cont[['injury_level']+cont_stat_results_df.index.tolist()]\n",
    "cont_feature_cols = driv_cont.columns.tolist()\n",
    "cont_feature_cols.remove('injury_level')\n",
    "print(driv_cont.shape)\n",
    "driv_cont.head()"
   ]
  },
  {
   "cell_type": "code",
   "execution_count": 34,
   "metadata": {},
   "outputs": [
    {
     "data": {
      "application/vnd.plotly.v1+json": {
       "config": {
        "plotlyServerURL": "https://plot.ly"
       },
       "data": [
        {
         "coloraxis": "coloraxis",
         "hovertemplate": "x: %{x}<br>y: %{y}<br>color: %{z}<extra></extra>",
         "name": "0",
         "type": "heatmap",
         "x": [
          "road_num",
          "num_operating_lanes",
          "speed_group",
          "hour",
          "month"
         ],
         "xaxis": "x",
         "y": [
          "road_num",
          "num_operating_lanes",
          "speed_group",
          "hour",
          "month"
         ],
         "yaxis": "y",
         "z": [
          [
           0,
           0,
           0,
           0,
           0
          ],
          [
           0,
           0,
           0,
           0,
           0
          ],
          [
           0,
           0,
           0,
           0,
           0
          ],
          [
           0,
           0,
           0,
           0,
           0
          ],
          [
           0,
           0,
           0,
           0,
           0
          ]
         ]
        }
       ],
       "layout": {
        "coloraxis": {
         "colorscale": [
          [
           0,
           "#636EFA"
          ],
          [
           0.1111111111111111,
           "#EF553B"
          ],
          [
           0.2222222222222222,
           "#00CC96"
          ],
          [
           0.3333333333333333,
           "#AB63FA"
          ],
          [
           0.4444444444444444,
           "#FFA15A"
          ],
          [
           0.5555555555555556,
           "#19D3F3"
          ],
          [
           0.6666666666666666,
           "#FF6692"
          ],
          [
           0.7777777777777778,
           "#B6E880"
          ],
          [
           0.8888888888888888,
           "#FF97FF"
          ],
          [
           1,
           "#FECB52"
          ]
         ],
         "showscale": false
        },
        "height": 800,
        "template": {
         "data": {
          "bar": [
           {
            "error_x": {
             "color": "#2a3f5f"
            },
            "error_y": {
             "color": "#2a3f5f"
            },
            "marker": {
             "line": {
              "color": "#E5ECF6",
              "width": 0.5
             },
             "pattern": {
              "fillmode": "overlay",
              "size": 10,
              "solidity": 0.2
             }
            },
            "type": "bar"
           }
          ],
          "barpolar": [
           {
            "marker": {
             "line": {
              "color": "#E5ECF6",
              "width": 0.5
             },
             "pattern": {
              "fillmode": "overlay",
              "size": 10,
              "solidity": 0.2
             }
            },
            "type": "barpolar"
           }
          ],
          "carpet": [
           {
            "aaxis": {
             "endlinecolor": "#2a3f5f",
             "gridcolor": "white",
             "linecolor": "white",
             "minorgridcolor": "white",
             "startlinecolor": "#2a3f5f"
            },
            "baxis": {
             "endlinecolor": "#2a3f5f",
             "gridcolor": "white",
             "linecolor": "white",
             "minorgridcolor": "white",
             "startlinecolor": "#2a3f5f"
            },
            "type": "carpet"
           }
          ],
          "choropleth": [
           {
            "colorbar": {
             "outlinewidth": 0,
             "ticks": ""
            },
            "type": "choropleth"
           }
          ],
          "contour": [
           {
            "colorbar": {
             "outlinewidth": 0,
             "ticks": ""
            },
            "colorscale": [
             [
              0,
              "#0d0887"
             ],
             [
              0.1111111111111111,
              "#46039f"
             ],
             [
              0.2222222222222222,
              "#7201a8"
             ],
             [
              0.3333333333333333,
              "#9c179e"
             ],
             [
              0.4444444444444444,
              "#bd3786"
             ],
             [
              0.5555555555555556,
              "#d8576b"
             ],
             [
              0.6666666666666666,
              "#ed7953"
             ],
             [
              0.7777777777777778,
              "#fb9f3a"
             ],
             [
              0.8888888888888888,
              "#fdca26"
             ],
             [
              1,
              "#f0f921"
             ]
            ],
            "type": "contour"
           }
          ],
          "contourcarpet": [
           {
            "colorbar": {
             "outlinewidth": 0,
             "ticks": ""
            },
            "type": "contourcarpet"
           }
          ],
          "heatmap": [
           {
            "colorbar": {
             "outlinewidth": 0,
             "ticks": ""
            },
            "colorscale": [
             [
              0,
              "#0d0887"
             ],
             [
              0.1111111111111111,
              "#46039f"
             ],
             [
              0.2222222222222222,
              "#7201a8"
             ],
             [
              0.3333333333333333,
              "#9c179e"
             ],
             [
              0.4444444444444444,
              "#bd3786"
             ],
             [
              0.5555555555555556,
              "#d8576b"
             ],
             [
              0.6666666666666666,
              "#ed7953"
             ],
             [
              0.7777777777777778,
              "#fb9f3a"
             ],
             [
              0.8888888888888888,
              "#fdca26"
             ],
             [
              1,
              "#f0f921"
             ]
            ],
            "type": "heatmap"
           }
          ],
          "heatmapgl": [
           {
            "colorbar": {
             "outlinewidth": 0,
             "ticks": ""
            },
            "colorscale": [
             [
              0,
              "#0d0887"
             ],
             [
              0.1111111111111111,
              "#46039f"
             ],
             [
              0.2222222222222222,
              "#7201a8"
             ],
             [
              0.3333333333333333,
              "#9c179e"
             ],
             [
              0.4444444444444444,
              "#bd3786"
             ],
             [
              0.5555555555555556,
              "#d8576b"
             ],
             [
              0.6666666666666666,
              "#ed7953"
             ],
             [
              0.7777777777777778,
              "#fb9f3a"
             ],
             [
              0.8888888888888888,
              "#fdca26"
             ],
             [
              1,
              "#f0f921"
             ]
            ],
            "type": "heatmapgl"
           }
          ],
          "histogram": [
           {
            "marker": {
             "pattern": {
              "fillmode": "overlay",
              "size": 10,
              "solidity": 0.2
             }
            },
            "type": "histogram"
           }
          ],
          "histogram2d": [
           {
            "colorbar": {
             "outlinewidth": 0,
             "ticks": ""
            },
            "colorscale": [
             [
              0,
              "#0d0887"
             ],
             [
              0.1111111111111111,
              "#46039f"
             ],
             [
              0.2222222222222222,
              "#7201a8"
             ],
             [
              0.3333333333333333,
              "#9c179e"
             ],
             [
              0.4444444444444444,
              "#bd3786"
             ],
             [
              0.5555555555555556,
              "#d8576b"
             ],
             [
              0.6666666666666666,
              "#ed7953"
             ],
             [
              0.7777777777777778,
              "#fb9f3a"
             ],
             [
              0.8888888888888888,
              "#fdca26"
             ],
             [
              1,
              "#f0f921"
             ]
            ],
            "type": "histogram2d"
           }
          ],
          "histogram2dcontour": [
           {
            "colorbar": {
             "outlinewidth": 0,
             "ticks": ""
            },
            "colorscale": [
             [
              0,
              "#0d0887"
             ],
             [
              0.1111111111111111,
              "#46039f"
             ],
             [
              0.2222222222222222,
              "#7201a8"
             ],
             [
              0.3333333333333333,
              "#9c179e"
             ],
             [
              0.4444444444444444,
              "#bd3786"
             ],
             [
              0.5555555555555556,
              "#d8576b"
             ],
             [
              0.6666666666666666,
              "#ed7953"
             ],
             [
              0.7777777777777778,
              "#fb9f3a"
             ],
             [
              0.8888888888888888,
              "#fdca26"
             ],
             [
              1,
              "#f0f921"
             ]
            ],
            "type": "histogram2dcontour"
           }
          ],
          "mesh3d": [
           {
            "colorbar": {
             "outlinewidth": 0,
             "ticks": ""
            },
            "type": "mesh3d"
           }
          ],
          "parcoords": [
           {
            "line": {
             "colorbar": {
              "outlinewidth": 0,
              "ticks": ""
             }
            },
            "type": "parcoords"
           }
          ],
          "pie": [
           {
            "automargin": true,
            "type": "pie"
           }
          ],
          "scatter": [
           {
            "fillpattern": {
             "fillmode": "overlay",
             "size": 10,
             "solidity": 0.2
            },
            "type": "scatter"
           }
          ],
          "scatter3d": [
           {
            "line": {
             "colorbar": {
              "outlinewidth": 0,
              "ticks": ""
             }
            },
            "marker": {
             "colorbar": {
              "outlinewidth": 0,
              "ticks": ""
             }
            },
            "type": "scatter3d"
           }
          ],
          "scattercarpet": [
           {
            "marker": {
             "colorbar": {
              "outlinewidth": 0,
              "ticks": ""
             }
            },
            "type": "scattercarpet"
           }
          ],
          "scattergeo": [
           {
            "marker": {
             "colorbar": {
              "outlinewidth": 0,
              "ticks": ""
             }
            },
            "type": "scattergeo"
           }
          ],
          "scattergl": [
           {
            "marker": {
             "colorbar": {
              "outlinewidth": 0,
              "ticks": ""
             }
            },
            "type": "scattergl"
           }
          ],
          "scattermapbox": [
           {
            "marker": {
             "colorbar": {
              "outlinewidth": 0,
              "ticks": ""
             }
            },
            "type": "scattermapbox"
           }
          ],
          "scatterpolar": [
           {
            "marker": {
             "colorbar": {
              "outlinewidth": 0,
              "ticks": ""
             }
            },
            "type": "scatterpolar"
           }
          ],
          "scatterpolargl": [
           {
            "marker": {
             "colorbar": {
              "outlinewidth": 0,
              "ticks": ""
             }
            },
            "type": "scatterpolargl"
           }
          ],
          "scatterternary": [
           {
            "marker": {
             "colorbar": {
              "outlinewidth": 0,
              "ticks": ""
             }
            },
            "type": "scatterternary"
           }
          ],
          "surface": [
           {
            "colorbar": {
             "outlinewidth": 0,
             "ticks": ""
            },
            "colorscale": [
             [
              0,
              "#0d0887"
             ],
             [
              0.1111111111111111,
              "#46039f"
             ],
             [
              0.2222222222222222,
              "#7201a8"
             ],
             [
              0.3333333333333333,
              "#9c179e"
             ],
             [
              0.4444444444444444,
              "#bd3786"
             ],
             [
              0.5555555555555556,
              "#d8576b"
             ],
             [
              0.6666666666666666,
              "#ed7953"
             ],
             [
              0.7777777777777778,
              "#fb9f3a"
             ],
             [
              0.8888888888888888,
              "#fdca26"
             ],
             [
              1,
              "#f0f921"
             ]
            ],
            "type": "surface"
           }
          ],
          "table": [
           {
            "cells": {
             "fill": {
              "color": "#EBF0F8"
             },
             "line": {
              "color": "white"
             }
            },
            "header": {
             "fill": {
              "color": "#C8D4E3"
             },
             "line": {
              "color": "white"
             }
            },
            "type": "table"
           }
          ]
         },
         "layout": {
          "annotationdefaults": {
           "arrowcolor": "#2a3f5f",
           "arrowhead": 0,
           "arrowwidth": 1
          },
          "autotypenumbers": "strict",
          "coloraxis": {
           "colorbar": {
            "outlinewidth": 0,
            "ticks": ""
           }
          },
          "colorscale": {
           "diverging": [
            [
             0,
             "#8e0152"
            ],
            [
             0.1,
             "#c51b7d"
            ],
            [
             0.2,
             "#de77ae"
            ],
            [
             0.3,
             "#f1b6da"
            ],
            [
             0.4,
             "#fde0ef"
            ],
            [
             0.5,
             "#f7f7f7"
            ],
            [
             0.6,
             "#e6f5d0"
            ],
            [
             0.7,
             "#b8e186"
            ],
            [
             0.8,
             "#7fbc41"
            ],
            [
             0.9,
             "#4d9221"
            ],
            [
             1,
             "#276419"
            ]
           ],
           "sequential": [
            [
             0,
             "#0d0887"
            ],
            [
             0.1111111111111111,
             "#46039f"
            ],
            [
             0.2222222222222222,
             "#7201a8"
            ],
            [
             0.3333333333333333,
             "#9c179e"
            ],
            [
             0.4444444444444444,
             "#bd3786"
            ],
            [
             0.5555555555555556,
             "#d8576b"
            ],
            [
             0.6666666666666666,
             "#ed7953"
            ],
            [
             0.7777777777777778,
             "#fb9f3a"
            ],
            [
             0.8888888888888888,
             "#fdca26"
            ],
            [
             1,
             "#f0f921"
            ]
           ],
           "sequentialminus": [
            [
             0,
             "#0d0887"
            ],
            [
             0.1111111111111111,
             "#46039f"
            ],
            [
             0.2222222222222222,
             "#7201a8"
            ],
            [
             0.3333333333333333,
             "#9c179e"
            ],
            [
             0.4444444444444444,
             "#bd3786"
            ],
            [
             0.5555555555555556,
             "#d8576b"
            ],
            [
             0.6666666666666666,
             "#ed7953"
            ],
            [
             0.7777777777777778,
             "#fb9f3a"
            ],
            [
             0.8888888888888888,
             "#fdca26"
            ],
            [
             1,
             "#f0f921"
            ]
           ]
          },
          "colorway": [
           "#636efa",
           "#EF553B",
           "#00cc96",
           "#ab63fa",
           "#FFA15A",
           "#19d3f3",
           "#FF6692",
           "#B6E880",
           "#FF97FF",
           "#FECB52"
          ],
          "font": {
           "color": "#2a3f5f"
          },
          "geo": {
           "bgcolor": "white",
           "lakecolor": "white",
           "landcolor": "#E5ECF6",
           "showlakes": true,
           "showland": true,
           "subunitcolor": "white"
          },
          "hoverlabel": {
           "align": "left"
          },
          "hovermode": "closest",
          "mapbox": {
           "style": "light"
          },
          "paper_bgcolor": "white",
          "plot_bgcolor": "#E5ECF6",
          "polar": {
           "angularaxis": {
            "gridcolor": "white",
            "linecolor": "white",
            "ticks": ""
           },
           "bgcolor": "#E5ECF6",
           "radialaxis": {
            "gridcolor": "white",
            "linecolor": "white",
            "ticks": ""
           }
          },
          "scene": {
           "xaxis": {
            "backgroundcolor": "#E5ECF6",
            "gridcolor": "white",
            "gridwidth": 2,
            "linecolor": "white",
            "showbackground": true,
            "ticks": "",
            "zerolinecolor": "white"
           },
           "yaxis": {
            "backgroundcolor": "#E5ECF6",
            "gridcolor": "white",
            "gridwidth": 2,
            "linecolor": "white",
            "showbackground": true,
            "ticks": "",
            "zerolinecolor": "white"
           },
           "zaxis": {
            "backgroundcolor": "#E5ECF6",
            "gridcolor": "white",
            "gridwidth": 2,
            "linecolor": "white",
            "showbackground": true,
            "ticks": "",
            "zerolinecolor": "white"
           }
          },
          "shapedefaults": {
           "line": {
            "color": "#2a3f5f"
           }
          },
          "ternary": {
           "aaxis": {
            "gridcolor": "white",
            "linecolor": "white",
            "ticks": ""
           },
           "baxis": {
            "gridcolor": "white",
            "linecolor": "white",
            "ticks": ""
           },
           "bgcolor": "#E5ECF6",
           "caxis": {
            "gridcolor": "white",
            "linecolor": "white",
            "ticks": ""
           }
          },
          "title": {
           "x": 0.05
          },
          "xaxis": {
           "automargin": true,
           "gridcolor": "white",
           "linecolor": "white",
           "ticks": "",
           "title": {
            "standoff": 15
           },
           "zerolinecolor": "white",
           "zerolinewidth": 2
          },
          "yaxis": {
           "automargin": true,
           "gridcolor": "white",
           "linecolor": "white",
           "ticks": "",
           "title": {
            "standoff": 15
           },
           "zerolinecolor": "white",
           "zerolinewidth": 2
          }
         }
        },
        "title": {
         "text": "heat map: continuous feature correlations with >0.9 correlation coefficient"
        },
        "width": 800,
        "xaxis": {
         "anchor": "y",
         "constrain": "domain",
         "domain": [
          0,
          1
         ],
         "scaleanchor": "y"
        },
        "yaxis": {
         "anchor": "x",
         "autorange": "reversed",
         "constrain": "domain",
         "domain": [
          0,
          1
         ]
        }
       }
      }
     },
     "metadata": {},
     "output_type": "display_data"
    }
   ],
   "source": [
    "# heatmap to visualize correlated features\n",
    "pearson_corr_features = driv_cont.corr()\n",
    "corr_data = np.tril(pearson_corr_features,k=-1)\n",
    "corr_data = abs(corr_data)>0.90\n",
    "\n",
    "fig = px.imshow(corr_data, x=pearson_corr_features.columns, y=pearson_corr_features.index,\n",
    "                color_continuous_scale=px.colors.qualitative.Plotly, width=800, height=800,\n",
    "                title=\"heat map: continuous feature correlations with >0.9 correlation coefficient\")\n",
    "fig.update(layout_coloraxis_showscale=False)\n",
    "fig.show()\n"
   ]
  },
  {
   "cell_type": "markdown",
   "metadata": {},
   "source": [
    "No correlation"
   ]
  },
  {
   "cell_type": "code",
   "execution_count": 35,
   "metadata": {},
   "outputs": [
    {
     "name": "stdout",
     "output_type": "stream",
     "text": [
      "[]\n",
      "['road_num', 'num_operating_lanes', 'speed_group', 'hour', 'month']\n"
     ]
    }
   ],
   "source": [
    "# getting final list of features for modeling\n",
    "# if 2 columns are correlated (yellow color), pick the column with better statistical significance\n",
    "index_list = [idx for idx,row in enumerate(corr_data) if np.sum(row)>0]\n",
    "print(index_list)\n",
    "\n",
    "top_cont_feature_list = [col for idx, col in enumerate(cont_feature_cols) if idx not in index_list]\n",
    "print(top_cont_feature_list)\n"
   ]
  },
  {
   "cell_type": "markdown",
   "metadata": {},
   "source": [
    "### Model evaluation post features selection"
   ]
  },
  {
   "cell_type": "code",
   "execution_count": 36,
   "metadata": {},
   "outputs": [
    {
     "name": "stdout",
     "output_type": "stream",
     "text": [
      "(157870, 27)\n"
     ]
    },
    {
     "data": {
      "text/html": [
       "<div>\n",
       "<style scoped>\n",
       "    .dataframe tbody tr th:only-of-type {\n",
       "        vertical-align: middle;\n",
       "    }\n",
       "\n",
       "    .dataframe tbody tr th {\n",
       "        vertical-align: top;\n",
       "    }\n",
       "\n",
       "    .dataframe thead th {\n",
       "        text-align: right;\n",
       "    }\n",
       "</style>\n",
       "<table border=\"1\" class=\"dataframe\">\n",
       "  <thead>\n",
       "    <tr style=\"text-align: right;\">\n",
       "      <th></th>\n",
       "      <th>road_num</th>\n",
       "      <th>num_operating_lanes</th>\n",
       "      <th>speed_group</th>\n",
       "      <th>hour</th>\n",
       "      <th>month</th>\n",
       "      <th>vehi_grp</th>\n",
       "      <th>safety_feat_1</th>\n",
       "      <th>road_incline</th>\n",
       "      <th>vehicule_type</th>\n",
       "      <th>impact_location</th>\n",
       "      <th>...</th>\n",
       "      <th>road_type</th>\n",
       "      <th>light_conditions</th>\n",
       "      <th>road_location_accident</th>\n",
       "      <th>road_surface</th>\n",
       "      <th>day_of_week</th>\n",
       "      <th>seat</th>\n",
       "      <th>engine_type</th>\n",
       "      <th>navigation_direction</th>\n",
       "      <th>weather</th>\n",
       "      <th>injury_level</th>\n",
       "    </tr>\n",
       "  </thead>\n",
       "  <tbody>\n",
       "    <tr>\n",
       "      <th>0</th>\n",
       "      <td>0.0</td>\n",
       "      <td>10</td>\n",
       "      <td>4.0</td>\n",
       "      <td>1</td>\n",
       "      <td>11</td>\n",
       "      <td>4_wheels</td>\n",
       "      <td>safety_belt</td>\n",
       "      <td>flat</td>\n",
       "      <td>car</td>\n",
       "      <td>rear_right</td>\n",
       "      <td>...</td>\n",
       "      <td>highway</td>\n",
       "      <td>night</td>\n",
       "      <td>road</td>\n",
       "      <td>normal</td>\n",
       "      <td>Saturday</td>\n",
       "      <td>driver</td>\n",
       "      <td>gas</td>\n",
       "      <td>postal_address_PK</td>\n",
       "      <td>normal</td>\n",
       "      <td>OK</td>\n",
       "    </tr>\n",
       "    <tr>\n",
       "      <th>2</th>\n",
       "      <td>0.0</td>\n",
       "      <td>10</td>\n",
       "      <td>4.0</td>\n",
       "      <td>1</td>\n",
       "      <td>11</td>\n",
       "      <td>4_wheels</td>\n",
       "      <td>safety_belt</td>\n",
       "      <td>flat</td>\n",
       "      <td>tractor</td>\n",
       "      <td>front_left</td>\n",
       "      <td>...</td>\n",
       "      <td>highway</td>\n",
       "      <td>night</td>\n",
       "      <td>road</td>\n",
       "      <td>normal</td>\n",
       "      <td>Saturday</td>\n",
       "      <td>driver</td>\n",
       "      <td>gas</td>\n",
       "      <td>postal_address_PK</td>\n",
       "      <td>normal</td>\n",
       "      <td>OK</td>\n",
       "    </tr>\n",
       "    <tr>\n",
       "      <th>3</th>\n",
       "      <td>0.0</td>\n",
       "      <td>2</td>\n",
       "      <td>4.0</td>\n",
       "      <td>2</td>\n",
       "      <td>11</td>\n",
       "      <td>4_wheels</td>\n",
       "      <td>safety_belt</td>\n",
       "      <td>hill_down</td>\n",
       "      <td>car</td>\n",
       "      <td>front</td>\n",
       "      <td>...</td>\n",
       "      <td>highway</td>\n",
       "      <td>night</td>\n",
       "      <td>road</td>\n",
       "      <td>normal</td>\n",
       "      <td>Saturday</td>\n",
       "      <td>driver</td>\n",
       "      <td>gas</td>\n",
       "      <td>postal_address_PR</td>\n",
       "      <td>normal</td>\n",
       "      <td>OK</td>\n",
       "    </tr>\n",
       "    <tr>\n",
       "      <th>4</th>\n",
       "      <td>0.0</td>\n",
       "      <td>8</td>\n",
       "      <td>5.0</td>\n",
       "      <td>15</td>\n",
       "      <td>11</td>\n",
       "      <td>4_wheels</td>\n",
       "      <td>safety_belt</td>\n",
       "      <td>flat</td>\n",
       "      <td>car</td>\n",
       "      <td>front</td>\n",
       "      <td>...</td>\n",
       "      <td>highway</td>\n",
       "      <td>bright_light</td>\n",
       "      <td>road</td>\n",
       "      <td>normal</td>\n",
       "      <td>Thursday</td>\n",
       "      <td>driver</td>\n",
       "      <td>gas</td>\n",
       "      <td>postal_address_PR</td>\n",
       "      <td>normal</td>\n",
       "      <td>OK</td>\n",
       "    </tr>\n",
       "    <tr>\n",
       "      <th>6</th>\n",
       "      <td>0.0</td>\n",
       "      <td>8</td>\n",
       "      <td>5.0</td>\n",
       "      <td>15</td>\n",
       "      <td>11</td>\n",
       "      <td>4_wheels</td>\n",
       "      <td>safety_belt</td>\n",
       "      <td>flat</td>\n",
       "      <td>car</td>\n",
       "      <td>rear</td>\n",
       "      <td>...</td>\n",
       "      <td>highway</td>\n",
       "      <td>bright_light</td>\n",
       "      <td>road</td>\n",
       "      <td>normal</td>\n",
       "      <td>Thursday</td>\n",
       "      <td>driver</td>\n",
       "      <td>gas</td>\n",
       "      <td>postal_address_PR</td>\n",
       "      <td>normal</td>\n",
       "      <td>OK</td>\n",
       "    </tr>\n",
       "  </tbody>\n",
       "</table>\n",
       "<p>5 rows × 27 columns</p>\n",
       "</div>"
      ],
      "text/plain": [
       "   road_num  num_operating_lanes  speed_group  hour  month  vehi_grp  \\\n",
       "0       0.0                   10          4.0     1     11  4_wheels   \n",
       "2       0.0                   10          4.0     1     11  4_wheels   \n",
       "3       0.0                    2          4.0     2     11  4_wheels   \n",
       "4       0.0                    8          5.0    15     11  4_wheels   \n",
       "6       0.0                    8          5.0    15     11  4_wheels   \n",
       "\n",
       "  safety_feat_1 road_incline vehicule_type impact_location  ... road_type  \\\n",
       "0   safety_belt         flat           car      rear_right  ...   highway   \n",
       "2   safety_belt         flat       tractor      front_left  ...   highway   \n",
       "3   safety_belt    hill_down           car           front  ...   highway   \n",
       "4   safety_belt         flat           car           front  ...   highway   \n",
       "6   safety_belt         flat           car            rear  ...   highway   \n",
       "\n",
       "  light_conditions road_location_accident road_surface day_of_week    seat  \\\n",
       "0            night                   road       normal    Saturday  driver   \n",
       "2            night                   road       normal    Saturday  driver   \n",
       "3            night                   road       normal    Saturday  driver   \n",
       "4     bright_light                   road       normal    Thursday  driver   \n",
       "6     bright_light                   road       normal    Thursday  driver   \n",
       "\n",
       "  engine_type navigation_direction weather injury_level  \n",
       "0         gas    postal_address_PK  normal           OK  \n",
       "2         gas    postal_address_PK  normal           OK  \n",
       "3         gas    postal_address_PR  normal           OK  \n",
       "4         gas    postal_address_PR  normal           OK  \n",
       "6         gas    postal_address_PR  normal           OK  \n",
       "\n",
       "[5 rows x 27 columns]"
      ]
     },
     "execution_count": 36,
     "metadata": {},
     "output_type": "execute_result"
    }
   ],
   "source": [
    "train_feature_sel = df_driv[top_cont_feature_list + top_cat_features_list + ['injury_level']]\n",
    "print(train_feature_sel.shape)\n",
    "train_feature_sel.head()"
   ]
  },
  {
   "cell_type": "markdown",
   "metadata": {},
   "source": [
    "### 4. Rerunning models"
   ]
  },
  {
   "cell_type": "code",
   "execution_count": 37,
   "metadata": {},
   "outputs": [],
   "source": [
    "#encoding\n",
    "X = train_feature_sel.drop(columns='injury_level')\n",
    "X = pd.get_dummies(X, columns=X.select_dtypes('object').columns, drop_first=True)\n",
    "y=train_feature_sel[['injury_level']]\n",
    "y['injury_level']= y['injury_level'].map({'OK':1,'not_ok':0})#remapping our variable of interest to a binary outcome\n",
    "X_train,X_test,y_train,y_test = train_test_split(X, y,random_state=42, test_size=0.2, stratify=y)"
   ]
  },
  {
   "attachments": {},
   "cell_type": "markdown",
   "metadata": {},
   "source": [
    "#### Logistic Regression"
   ]
  },
  {
   "cell_type": "code",
   "execution_count": 38,
   "metadata": {},
   "outputs": [],
   "source": [
    "ss = StandardScaler()\n",
    "X_train_ss = ss.fit_transform(X_train) \n",
    "X_test_ss= ss.transform(X_test)"
   ]
  },
  {
   "cell_type": "code",
   "execution_count": 39,
   "metadata": {},
   "outputs": [],
   "source": [
    "lr = LogisticRegression(random_state=42, solver='saga', penalty='l2', class_weight='balanced', C=0.2)"
   ]
  },
  {
   "cell_type": "code",
   "execution_count": 40,
   "metadata": {},
   "outputs": [
    {
     "data": {
      "text/html": [
       "<style>#sk-container-id-1 {color: black;background-color: white;}#sk-container-id-1 pre{padding: 0;}#sk-container-id-1 div.sk-toggleable {background-color: white;}#sk-container-id-1 label.sk-toggleable__label {cursor: pointer;display: block;width: 100%;margin-bottom: 0;padding: 0.3em;box-sizing: border-box;text-align: center;}#sk-container-id-1 label.sk-toggleable__label-arrow:before {content: \"▸\";float: left;margin-right: 0.25em;color: #696969;}#sk-container-id-1 label.sk-toggleable__label-arrow:hover:before {color: black;}#sk-container-id-1 div.sk-estimator:hover label.sk-toggleable__label-arrow:before {color: black;}#sk-container-id-1 div.sk-toggleable__content {max-height: 0;max-width: 0;overflow: hidden;text-align: left;background-color: #f0f8ff;}#sk-container-id-1 div.sk-toggleable__content pre {margin: 0.2em;color: black;border-radius: 0.25em;background-color: #f0f8ff;}#sk-container-id-1 input.sk-toggleable__control:checked~div.sk-toggleable__content {max-height: 200px;max-width: 100%;overflow: auto;}#sk-container-id-1 input.sk-toggleable__control:checked~label.sk-toggleable__label-arrow:before {content: \"▾\";}#sk-container-id-1 div.sk-estimator input.sk-toggleable__control:checked~label.sk-toggleable__label {background-color: #d4ebff;}#sk-container-id-1 div.sk-label input.sk-toggleable__control:checked~label.sk-toggleable__label {background-color: #d4ebff;}#sk-container-id-1 input.sk-hidden--visually {border: 0;clip: rect(1px 1px 1px 1px);clip: rect(1px, 1px, 1px, 1px);height: 1px;margin: -1px;overflow: hidden;padding: 0;position: absolute;width: 1px;}#sk-container-id-1 div.sk-estimator {font-family: monospace;background-color: #f0f8ff;border: 1px dotted black;border-radius: 0.25em;box-sizing: border-box;margin-bottom: 0.5em;}#sk-container-id-1 div.sk-estimator:hover {background-color: #d4ebff;}#sk-container-id-1 div.sk-parallel-item::after {content: \"\";width: 100%;border-bottom: 1px solid gray;flex-grow: 1;}#sk-container-id-1 div.sk-label:hover label.sk-toggleable__label {background-color: #d4ebff;}#sk-container-id-1 div.sk-serial::before {content: \"\";position: absolute;border-left: 1px solid gray;box-sizing: border-box;top: 0;bottom: 0;left: 50%;z-index: 0;}#sk-container-id-1 div.sk-serial {display: flex;flex-direction: column;align-items: center;background-color: white;padding-right: 0.2em;padding-left: 0.2em;position: relative;}#sk-container-id-1 div.sk-item {position: relative;z-index: 1;}#sk-container-id-1 div.sk-parallel {display: flex;align-items: stretch;justify-content: center;background-color: white;position: relative;}#sk-container-id-1 div.sk-item::before, #sk-container-id-1 div.sk-parallel-item::before {content: \"\";position: absolute;border-left: 1px solid gray;box-sizing: border-box;top: 0;bottom: 0;left: 50%;z-index: -1;}#sk-container-id-1 div.sk-parallel-item {display: flex;flex-direction: column;z-index: 1;position: relative;background-color: white;}#sk-container-id-1 div.sk-parallel-item:first-child::after {align-self: flex-end;width: 50%;}#sk-container-id-1 div.sk-parallel-item:last-child::after {align-self: flex-start;width: 50%;}#sk-container-id-1 div.sk-parallel-item:only-child::after {width: 0;}#sk-container-id-1 div.sk-dashed-wrapped {border: 1px dashed gray;margin: 0 0.4em 0.5em 0.4em;box-sizing: border-box;padding-bottom: 0.4em;background-color: white;}#sk-container-id-1 div.sk-label label {font-family: monospace;font-weight: bold;display: inline-block;line-height: 1.2em;}#sk-container-id-1 div.sk-label-container {text-align: center;}#sk-container-id-1 div.sk-container {/* jupyter's `normalize.less` sets `[hidden] { display: none; }` but bootstrap.min.css set `[hidden] { display: none !important; }` so we also need the `!important` here to be able to override the default hidden behavior on the sphinx rendered scikit-learn.org. See: https://github.com/scikit-learn/scikit-learn/issues/21755 */display: inline-block !important;position: relative;}#sk-container-id-1 div.sk-text-repr-fallback {display: none;}</style><div id=\"sk-container-id-1\" class=\"sk-top-container\"><div class=\"sk-text-repr-fallback\"><pre>LogisticRegression(C=0.2, class_weight=&#x27;balanced&#x27;, random_state=42,\n",
       "                   solver=&#x27;saga&#x27;)</pre><b>In a Jupyter environment, please rerun this cell to show the HTML representation or trust the notebook. <br />On GitHub, the HTML representation is unable to render, please try loading this page with nbviewer.org.</b></div><div class=\"sk-container\" hidden><div class=\"sk-item\"><div class=\"sk-estimator sk-toggleable\"><input class=\"sk-toggleable__control sk-hidden--visually\" id=\"sk-estimator-id-1\" type=\"checkbox\" checked><label for=\"sk-estimator-id-1\" class=\"sk-toggleable__label sk-toggleable__label-arrow\">LogisticRegression</label><div class=\"sk-toggleable__content\"><pre>LogisticRegression(C=0.2, class_weight=&#x27;balanced&#x27;, random_state=42,\n",
       "                   solver=&#x27;saga&#x27;)</pre></div></div></div></div></div>"
      ],
      "text/plain": [
       "LogisticRegression(C=0.2, class_weight='balanced', random_state=42,\n",
       "                   solver='saga')"
      ]
     },
     "execution_count": 40,
     "metadata": {},
     "output_type": "execute_result"
    }
   ],
   "source": [
    "lr.fit(X_train_ss,y_train)"
   ]
  },
  {
   "cell_type": "code",
   "execution_count": 41,
   "metadata": {},
   "outputs": [],
   "source": [
    "preds = lr.predict(X_test_ss)\n",
    "train_preds = lr.predict(X_train_ss)\n"
   ]
  },
  {
   "cell_type": "code",
   "execution_count": 42,
   "metadata": {},
   "outputs": [
    {
     "name": "stdout",
     "output_type": "stream",
     "text": [
      "best params : <bound method BaseEstimator.get_params of LogisticRegression(C=0.2, class_weight='balanced', random_state=42,\n",
      "                   solver='saga')>\n",
      "Test_f1_score : 0.855759922555663\n",
      "Test_precision score : 0.9541613081021495\n",
      "Test_accuracy score : 0.7782035852283524\n",
      "Test_recall score : 0.7757571231188618\n",
      "Test_roc_auc score : 0.7838118253759063\n"
     ]
    },
    {
     "data": {
      "image/png": "[encoded data removed]",
      "text/plain": [
       "<Figure size 432x288 with 2 Axes>"
      ]
     },
     "metadata": {
      "needs_background": "light"
     },
     "output_type": "display_data"
    },
    {
     "data": {
      "image/png": "[encoded data removed]",
      "text/plain": [
       "<Figure size 432x288 with 1 Axes>"
      ]
     },
     "metadata": {
      "needs_background": "light"
     },
     "output_type": "display_data"
    }
   ],
   "source": [
    "#getting the test metrics ready\n",
    "test_f1score=f1_score(y_test,preds)\n",
    "test_precision=precision_score(y_test,preds)\n",
    "test_accuracy=accuracy_score(y_test,preds)\n",
    "test_recall=recall_score(y_test,preds)\n",
    "test_roc_auc=roc_auc_score(y_test,preds)\n",
    "test_specificity = specificity_score(y_test,preds)\n",
    "\n",
    "#getting the train metrics\n",
    "train_f1score=f1_score(y_train,train_preds)\n",
    "train_specificity = specificity_score(y_train,train_preds)\n",
    "train_precision=precision_score(y_train,train_preds)\n",
    "train_accuracy=accuracy_score(y_train,train_preds)\n",
    "train_recall=recall_score(y_train,train_preds)\n",
    "train_roc_auc=roc_auc_score(y_train,train_preds)\n",
    "#printing results-----------------------------------------------------------------\n",
    "\n",
    "print(f'best params : {lr.get_params}')\n",
    "\n",
    "print(f'Test_f1_score : {test_f1score}')\n",
    "print(f'Test_precision score : {test_precision}')\n",
    "print(f'Test_accuracy score : {test_accuracy}')\n",
    "print(f'Test_recall score : {test_recall}')\n",
    "print(f'Test_roc_auc score : {test_roc_auc}')\n",
    "        \n",
    "# #update various metrics onto results list-------------------------------------------------------------\n",
    "score_dict_drivers['lr_2nd_round'] = {\n",
    "        'Train_acc':train_accuracy,\n",
    "        'Test_acc':test_accuracy,\n",
    "        'Train_recall':train_recall,\n",
    "        'Test_recall':test_recall,\n",
    "        'Train_preci':train_precision,\n",
    "        'Test_preci':test_precision,\n",
    "        'Train_f1score':train_f1score,\n",
    "        'Test_f1score':test_f1score,\n",
    "        'Train_roc_auc':train_roc_auc,\n",
    "        'Test_roc_auc':test_roc_auc,\n",
    "        'Train_specificity': train_specificity,\n",
    "        'Test_specificity':test_specificity\n",
    "        }\n",
    "\n",
    "tn, fp, fn, tp = confusion_matrix(y_test, preds).ravel()\n",
    "cm = confusion_matrix(y_test,preds)\n",
    "displ = ConfusionMatrixDisplay(cm)\n",
    "displ.plot();\n",
    "\n",
    "plot_roc_curve(lr, X_test, y_test)\n",
    "plt.plot([0, 1], [0, 1],\n",
    "label='baseline', linestyle='--') # to simulate random guess \n",
    "plt.legend();"
   ]
  },
  {
   "cell_type": "code",
   "execution_count": 43,
   "metadata": {},
   "outputs": [
    {
     "data": {
      "text/html": [
       "<div>\n",
       "<style scoped>\n",
       "    .dataframe tbody tr th:only-of-type {\n",
       "        vertical-align: middle;\n",
       "    }\n",
       "\n",
       "    .dataframe tbody tr th {\n",
       "        vertical-align: top;\n",
       "    }\n",
       "\n",
       "    .dataframe thead th {\n",
       "        text-align: right;\n",
       "    }\n",
       "</style>\n",
       "<table border=\"1\" class=\"dataframe\">\n",
       "  <thead>\n",
       "    <tr style=\"text-align: right;\">\n",
       "      <th></th>\n",
       "      <th>features_name</th>\n",
       "      <th>coefs</th>\n",
       "    </tr>\n",
       "  </thead>\n",
       "  <tbody>\n",
       "    <tr>\n",
       "      <th>13</th>\n",
       "      <td>safety_feat_1_safety_belt</td>\n",
       "      <td>0.419224</td>\n",
       "    </tr>\n",
       "    <tr>\n",
       "      <th>67</th>\n",
       "      <td>was_doing_turning</td>\n",
       "      <td>0.326380</td>\n",
       "    </tr>\n",
       "    <tr>\n",
       "      <th>45</th>\n",
       "      <td>travelling_direction_unidirectional</td>\n",
       "      <td>0.278443</td>\n",
       "    </tr>\n",
       "    <tr>\n",
       "      <th>70</th>\n",
       "      <td>collision_type_three_or_more_vehicules_chain</td>\n",
       "      <td>0.249060</td>\n",
       "    </tr>\n",
       "    <tr>\n",
       "      <th>80</th>\n",
       "      <td>road_type_highway</td>\n",
       "      <td>0.227160</td>\n",
       "    </tr>\n",
       "    <tr>\n",
       "      <th>...</th>\n",
       "      <td>...</td>\n",
       "      <td>...</td>\n",
       "    </tr>\n",
       "    <tr>\n",
       "      <th>89</th>\n",
       "      <td>road_location_accident_others</td>\n",
       "      <td>-0.201329</td>\n",
       "    </tr>\n",
       "    <tr>\n",
       "      <th>10</th>\n",
       "      <td>safety_feat_1_helmet</td>\n",
       "      <td>-0.309034</td>\n",
       "    </tr>\n",
       "    <tr>\n",
       "      <th>43</th>\n",
       "      <td>in_out_city_out_of_city</td>\n",
       "      <td>-0.361171</td>\n",
       "    </tr>\n",
       "    <tr>\n",
       "      <th>91</th>\n",
       "      <td>road_location_accident_road_side</td>\n",
       "      <td>-0.386250</td>\n",
       "    </tr>\n",
       "    <tr>\n",
       "      <th>2</th>\n",
       "      <td>speed_group</td>\n",
       "      <td>-0.483902</td>\n",
       "    </tr>\n",
       "  </tbody>\n",
       "</table>\n",
       "<p>123 rows × 2 columns</p>\n",
       "</div>"
      ],
      "text/plain": [
       "                                   features_name     coefs\n",
       "13                     safety_feat_1_safety_belt  0.419224\n",
       "67                             was_doing_turning  0.326380\n",
       "45           travelling_direction_unidirectional  0.278443\n",
       "70  collision_type_three_or_more_vehicules_chain  0.249060\n",
       "80                             road_type_highway  0.227160\n",
       "..                                           ...       ...\n",
       "89                 road_location_accident_others -0.201329\n",
       "10                          safety_feat_1_helmet -0.309034\n",
       "43                       in_out_city_out_of_city -0.361171\n",
       "91              road_location_accident_road_side -0.386250\n",
       "2                                    speed_group -0.483902\n",
       "\n",
       "[123 rows x 2 columns]"
      ]
     },
     "execution_count": 43,
     "metadata": {},
     "output_type": "execute_result"
    }
   ],
   "source": [
    "pd_features = pd.DataFrame({'features_name':X_train.columns, 'coefs':lr.coef_[0]})\n",
    "pd_features.sort_values(by='coefs', ascending=False)"
   ]
  },
  {
   "attachments": {},
   "cell_type": "markdown",
   "metadata": {},
   "source": [
    "#### Adaboost"
   ]
  },
  {
   "cell_type": "code",
   "execution_count": 44,
   "metadata": {},
   "outputs": [
    {
     "name": "stdout",
     "output_type": "stream",
     "text": [
      "Fitting 3 folds for each of 4 candidates, totalling 12 fits\n",
      "best params : {'learning_rate': 1, 'n_estimators': 300}\n",
      "Test_f1_score : 0.928149923107185\n",
      "Test_precision score : 0.8905054386988299\n",
      "Test_accuracy score : 0.8727433964654463\n",
      "Test_recall score : 0.9691175921430972\n",
      "Test_roc_auc score : 0.6518163560298385\n",
      "CPU times: total: 1min 20s\n",
      "Wall time: 5min\n"
     ]
    },
    {
     "data": {
      "image/png": "[encoded data removed]",
      "text/plain": [
       "<Figure size 432x288 with 2 Axes>"
      ]
     },
     "metadata": {
      "needs_background": "light"
     },
     "output_type": "display_data"
    },
    {
     "data": {
      "image/png": "[encoded data removed]",
      "text/plain": [
       "<Figure size 432x288 with 1 Axes>"
      ]
     },
     "metadata": {
      "needs_background": "light"
     },
     "output_type": "display_data"
    }
   ],
   "source": [
    "%%time\n",
    "model = meta_func (\n",
    "    model=AdaBoostClassifier(random_state=42)\n",
    ",\n",
    "    model_name='abc_2nd_round',\n",
    "    param_grid=\n",
    "{\n",
    "    'n_estimators': [150,300], \n",
    "    'learning_rate': [1, 2]\n",
    "    }\n",
    ",\n",
    "    X_train=X_train,\n",
    "    y_train=y_train,\n",
    "    X_test=X_test,\n",
    "    y_test=y_test,\n",
    "    score_dict= score_dict_drivers\n",
    ")"
   ]
  },
  {
   "cell_type": "code",
   "execution_count": 45,
   "metadata": {},
   "outputs": [
    {
     "data": {
      "text/html": [
       "<div>\n",
       "<style scoped>\n",
       "    .dataframe tbody tr th:only-of-type {\n",
       "        vertical-align: middle;\n",
       "    }\n",
       "\n",
       "    .dataframe tbody tr th {\n",
       "        vertical-align: top;\n",
       "    }\n",
       "\n",
       "    .dataframe thead th {\n",
       "        text-align: right;\n",
       "    }\n",
       "</style>\n",
       "<table border=\"1\" class=\"dataframe\">\n",
       "  <thead>\n",
       "    <tr style=\"text-align: right;\">\n",
       "      <th></th>\n",
       "      <th>Features</th>\n",
       "      <th>Coef_</th>\n",
       "    </tr>\n",
       "  </thead>\n",
       "  <tbody>\n",
       "    <tr>\n",
       "      <th>3</th>\n",
       "      <td>hour</td>\n",
       "      <td>0.110000</td>\n",
       "    </tr>\n",
       "    <tr>\n",
       "      <th>90</th>\n",
       "      <td>road_location_accident_road</td>\n",
       "      <td>0.076667</td>\n",
       "    </tr>\n",
       "    <tr>\n",
       "      <th>2</th>\n",
       "      <td>speed_group</td>\n",
       "      <td>0.070000</td>\n",
       "    </tr>\n",
       "    <tr>\n",
       "      <th>91</th>\n",
       "      <td>road_location_accident_road_side</td>\n",
       "      <td>0.063333</td>\n",
       "    </tr>\n",
       "    <tr>\n",
       "      <th>1</th>\n",
       "      <td>num_operating_lanes</td>\n",
       "      <td>0.046667</td>\n",
       "    </tr>\n",
       "    <tr>\n",
       "      <th>...</th>\n",
       "      <td>...</td>\n",
       "      <td>...</td>\n",
       "    </tr>\n",
       "    <tr>\n",
       "      <th>94</th>\n",
       "      <td>road_surface_muddy</td>\n",
       "      <td>0.000000</td>\n",
       "    </tr>\n",
       "    <tr>\n",
       "      <th>95</th>\n",
       "      <td>road_surface_normal</td>\n",
       "      <td>0.000000</td>\n",
       "    </tr>\n",
       "    <tr>\n",
       "      <th>97</th>\n",
       "      <td>road_surface_others</td>\n",
       "      <td>0.000000</td>\n",
       "    </tr>\n",
       "    <tr>\n",
       "      <th>98</th>\n",
       "      <td>road_surface_snow_ice</td>\n",
       "      <td>0.000000</td>\n",
       "    </tr>\n",
       "    <tr>\n",
       "      <th>122</th>\n",
       "      <td>weather_snow</td>\n",
       "      <td>0.000000</td>\n",
       "    </tr>\n",
       "  </tbody>\n",
       "</table>\n",
       "<p>123 rows × 2 columns</p>\n",
       "</div>"
      ],
      "text/plain": [
       "                             Features     Coef_\n",
       "3                                hour  0.110000\n",
       "90        road_location_accident_road  0.076667\n",
       "2                         speed_group  0.070000\n",
       "91   road_location_accident_road_side  0.063333\n",
       "1                 num_operating_lanes  0.046667\n",
       "..                                ...       ...\n",
       "94                 road_surface_muddy  0.000000\n",
       "95                road_surface_normal  0.000000\n",
       "97                road_surface_others  0.000000\n",
       "98              road_surface_snow_ice  0.000000\n",
       "122                      weather_snow  0.000000\n",
       "\n",
       "[123 rows x 2 columns]"
      ]
     },
     "execution_count": 45,
     "metadata": {},
     "output_type": "execute_result"
    }
   ],
   "source": [
    "pd_features = pd.DataFrame({'Features': X_train.columns,'Coef_': model.best_estimator_.feature_importances_})\n",
    "pd_features.sort_values(by='Coef_', ascending=False)"
   ]
  },
  {
   "attachments": {},
   "cell_type": "markdown",
   "metadata": {},
   "source": [
    "#### XGBoost"
   ]
  },
  {
   "cell_type": "code",
   "execution_count": 46,
   "metadata": {},
   "outputs": [
    {
     "name": "stdout",
     "output_type": "stream",
     "text": [
      "Fitting 3 folds for each of 8 candidates, totalling 24 fits\n",
      "best params : {'learning_rate': 0.5, 'max_depth': 3, 'min_split_loss': 2}\n",
      "Test_f1_score : 0.9297324510932106\n",
      "Test_precision score : 0.896556507264972\n",
      "Test_accuracy score : 0.8762272756065117\n",
      "Test_recall score : 0.9654580081407073\n",
      "Test_roc_auc score : 0.6716758236741075\n",
      "CPU times: total: 1min 20s\n",
      "Wall time: 2min 49s\n"
     ]
    },
    {
     "data": {
      "image/png": "[encoded data removed]",
      "text/plain": [
       "<Figure size 432x288 with 2 Axes>"
      ]
     },
     "metadata": {
      "needs_background": "light"
     },
     "output_type": "display_data"
    },
    {
     "data": {
      "image/png": "[encoded data removed]",
      "text/plain": [
       "<Figure size 432x288 with 1 Axes>"
      ]
     },
     "metadata": {
      "needs_background": "light"
     },
     "output_type": "display_data"
    }
   ],
   "source": [
    "%%time\n",
    "model = meta_func (\n",
    "    model=XGBClassifier(random_state=42)\n",
    ",\n",
    "    model_name='xgb_2nd_round',\n",
    "    param_grid=\n",
    "{\n",
    "    'learning_rate': [0.5,1], \n",
    "    'min_split_loss': [1,2], #The larger gamma is, the more conservative the algorithm will be\n",
    "    'max_depth':[2,3] #Maximum depth of a tree. Increasing this value will make the model more complex and more likely to overfit.\n",
    "     # Beware that XGBoost aggressively consumes memory when training a deep tree\n",
    "    }\n",
    ",\n",
    "    X_train=X_train,\n",
    "    y_train=y_train,\n",
    "    X_test=X_test,\n",
    "    y_test=y_test,\n",
    "    score_dict= score_dict_drivers\n",
    ")"
   ]
  },
  {
   "cell_type": "code",
   "execution_count": 47,
   "metadata": {},
   "outputs": [
    {
     "data": {
      "text/html": [
       "<div>\n",
       "<style scoped>\n",
       "    .dataframe tbody tr th:only-of-type {\n",
       "        vertical-align: middle;\n",
       "    }\n",
       "\n",
       "    .dataframe tbody tr th {\n",
       "        vertical-align: top;\n",
       "    }\n",
       "\n",
       "    .dataframe thead th {\n",
       "        text-align: right;\n",
       "    }\n",
       "</style>\n",
       "<table border=\"1\" class=\"dataframe\">\n",
       "  <thead>\n",
       "    <tr style=\"text-align: right;\">\n",
       "      <th></th>\n",
       "      <th>Features</th>\n",
       "      <th>Coef_</th>\n",
       "    </tr>\n",
       "  </thead>\n",
       "  <tbody>\n",
       "    <tr>\n",
       "      <th>13</th>\n",
       "      <td>safety_feat_1_safety_belt</td>\n",
       "      <td>0.206050</td>\n",
       "    </tr>\n",
       "    <tr>\n",
       "      <th>83</th>\n",
       "      <td>road_type_regional_rd</td>\n",
       "      <td>0.114867</td>\n",
       "    </tr>\n",
       "    <tr>\n",
       "      <th>91</th>\n",
       "      <td>road_location_accident_road_side</td>\n",
       "      <td>0.064915</td>\n",
       "    </tr>\n",
       "    <tr>\n",
       "      <th>43</th>\n",
       "      <td>in_out_city_out_of_city</td>\n",
       "      <td>0.053323</td>\n",
       "    </tr>\n",
       "    <tr>\n",
       "      <th>45</th>\n",
       "      <td>travelling_direction_unidirectional</td>\n",
       "      <td>0.038549</td>\n",
       "    </tr>\n",
       "    <tr>\n",
       "      <th>...</th>\n",
       "      <td>...</td>\n",
       "      <td>...</td>\n",
       "    </tr>\n",
       "    <tr>\n",
       "      <th>84</th>\n",
       "      <td>road_type_unpaved_rd</td>\n",
       "      <td>0.000000</td>\n",
       "    </tr>\n",
       "    <tr>\n",
       "      <th>99</th>\n",
       "      <td>road_surface_water_patches</td>\n",
       "      <td>0.000000</td>\n",
       "    </tr>\n",
       "    <tr>\n",
       "      <th>97</th>\n",
       "      <td>road_surface_others</td>\n",
       "      <td>0.000000</td>\n",
       "    </tr>\n",
       "    <tr>\n",
       "      <th>96</th>\n",
       "      <td>road_surface_oily_slippery</td>\n",
       "      <td>0.000000</td>\n",
       "    </tr>\n",
       "    <tr>\n",
       "      <th>59</th>\n",
       "      <td>was_doing_on_sidewalk</td>\n",
       "      <td>0.000000</td>\n",
       "    </tr>\n",
       "  </tbody>\n",
       "</table>\n",
       "<p>123 rows × 2 columns</p>\n",
       "</div>"
      ],
      "text/plain": [
       "                               Features     Coef_\n",
       "13            safety_feat_1_safety_belt  0.206050\n",
       "83                road_type_regional_rd  0.114867\n",
       "91     road_location_accident_road_side  0.064915\n",
       "43              in_out_city_out_of_city  0.053323\n",
       "45  travelling_direction_unidirectional  0.038549\n",
       "..                                  ...       ...\n",
       "84                 road_type_unpaved_rd  0.000000\n",
       "99           road_surface_water_patches  0.000000\n",
       "97                  road_surface_others  0.000000\n",
       "96           road_surface_oily_slippery  0.000000\n",
       "59                was_doing_on_sidewalk  0.000000\n",
       "\n",
       "[123 rows x 2 columns]"
      ]
     },
     "execution_count": 47,
     "metadata": {},
     "output_type": "execute_result"
    }
   ],
   "source": [
    "pd_features = pd.DataFrame({'Features': X_train.columns,'Coef_': model.best_estimator_.feature_importances_})\n",
    "pd_features.sort_values(by='Coef_', ascending=False)"
   ]
  },
  {
   "attachments": {},
   "cell_type": "markdown",
   "metadata": {},
   "source": [
    "#### Linear Support Vectors Classifiers"
   ]
  },
  {
   "cell_type": "code",
   "execution_count": 48,
   "metadata": {},
   "outputs": [
    {
     "name": "stdout",
     "output_type": "stream",
     "text": [
      "Fitting 3 folds for each of 24 candidates, totalling 72 fits\n",
      "best params : {'lsvc__C': 0.1, 'lsvc__dual': True, 'lsvc__max_iter': 500, 'lsvc__penalty': 'l2'}\n",
      "Test_f1_score : 0.8557246720079089\n",
      "Test_precision score : 0.9540736658399926\n",
      "Test_accuracy score : 0.7781402419712422\n",
      "Test_recall score : 0.7757571231188618\n",
      "Test_roc_auc score : 0.7836032748023923\n",
      "CPU times: total: 34.4 s\n",
      "Wall time: 8min 59s\n"
     ]
    },
    {
     "data": {
      "image/png": "[encoded data removed]",
      "text/plain": [
       "<Figure size 432x288 with 2 Axes>"
      ]
     },
     "metadata": {
      "needs_background": "light"
     },
     "output_type": "display_data"
    },
    {
     "data": {
      "image/png": "[encoded data removed]",
      "text/plain": [
       "<Figure size 432x288 with 1 Axes>"
      ]
     },
     "metadata": {
      "needs_background": "light"
     },
     "output_type": "display_data"
    }
   ],
   "source": [
    "%%time\n",
    "model = meta_func (\n",
    "    model=Pipeline(\n",
    "        [\n",
    "            ('ss',StandardScaler()),\n",
    "            ('lsvc', LinearSVC(class_weight='balanced'))\n",
    "        ]\n",
    "    ),\n",
    "    model_name='lsvc_2nd_round',\n",
    "    param_grid=\n",
    "{   'lsvc__max_iter':[500,1000],\n",
    "    'lsvc__C': [0.001,0.01,0.1], \n",
    "    'lsvc__dual': [True, False],     \n",
    "    'lsvc__penalty':['l1','l2']   \n",
    "},\n",
    "    X_train=X_train,\n",
    "    y_train=y_train,\n",
    "    X_test=X_test,\n",
    "    y_test=y_test,\n",
    "    score_dict= score_dict_drivers\n",
    ")"
   ]
  },
  {
   "cell_type": "code",
   "execution_count": 49,
   "metadata": {},
   "outputs": [
    {
     "data": {
      "text/html": [
       "<div>\n",
       "<style scoped>\n",
       "    .dataframe tbody tr th:only-of-type {\n",
       "        vertical-align: middle;\n",
       "    }\n",
       "\n",
       "    .dataframe tbody tr th {\n",
       "        vertical-align: top;\n",
       "    }\n",
       "\n",
       "    .dataframe thead th {\n",
       "        text-align: right;\n",
       "    }\n",
       "</style>\n",
       "<table border=\"1\" class=\"dataframe\">\n",
       "  <thead>\n",
       "    <tr style=\"text-align: right;\">\n",
       "      <th></th>\n",
       "      <th>Features</th>\n",
       "      <th>Coef_</th>\n",
       "    </tr>\n",
       "  </thead>\n",
       "  <tbody>\n",
       "    <tr>\n",
       "      <th>13</th>\n",
       "      <td>safety_feat_1_safety_belt</td>\n",
       "      <td>0.240355</td>\n",
       "    </tr>\n",
       "    <tr>\n",
       "      <th>85</th>\n",
       "      <td>road_type_urban_rd</td>\n",
       "      <td>0.238185</td>\n",
       "    </tr>\n",
       "    <tr>\n",
       "      <th>80</th>\n",
       "      <td>road_type_highway</td>\n",
       "      <td>0.232772</td>\n",
       "    </tr>\n",
       "    <tr>\n",
       "      <th>67</th>\n",
       "      <td>was_doing_turning</td>\n",
       "      <td>0.145626</td>\n",
       "    </tr>\n",
       "    <tr>\n",
       "      <th>83</th>\n",
       "      <td>road_type_regional_rd</td>\n",
       "      <td>0.130299</td>\n",
       "    </tr>\n",
       "    <tr>\n",
       "      <th>...</th>\n",
       "      <td>...</td>\n",
       "      <td>...</td>\n",
       "    </tr>\n",
       "    <tr>\n",
       "      <th>90</th>\n",
       "      <td>road_location_accident_road</td>\n",
       "      <td>-0.076873</td>\n",
       "    </tr>\n",
       "    <tr>\n",
       "      <th>89</th>\n",
       "      <td>road_location_accident_others</td>\n",
       "      <td>-0.077731</td>\n",
       "    </tr>\n",
       "    <tr>\n",
       "      <th>43</th>\n",
       "      <td>in_out_city_out_of_city</td>\n",
       "      <td>-0.127251</td>\n",
       "    </tr>\n",
       "    <tr>\n",
       "      <th>91</th>\n",
       "      <td>road_location_accident_road_side</td>\n",
       "      <td>-0.148060</td>\n",
       "    </tr>\n",
       "    <tr>\n",
       "      <th>2</th>\n",
       "      <td>speed_group</td>\n",
       "      <td>-0.165746</td>\n",
       "    </tr>\n",
       "  </tbody>\n",
       "</table>\n",
       "<p>123 rows × 2 columns</p>\n",
       "</div>"
      ],
      "text/plain": [
       "                            Features     Coef_\n",
       "13         safety_feat_1_safety_belt  0.240355\n",
       "85                road_type_urban_rd  0.238185\n",
       "80                 road_type_highway  0.232772\n",
       "67                 was_doing_turning  0.145626\n",
       "83             road_type_regional_rd  0.130299\n",
       "..                               ...       ...\n",
       "90       road_location_accident_road -0.076873\n",
       "89     road_location_accident_others -0.077731\n",
       "43           in_out_city_out_of_city -0.127251\n",
       "91  road_location_accident_road_side -0.148060\n",
       "2                        speed_group -0.165746\n",
       "\n",
       "[123 rows x 2 columns]"
      ]
     },
     "execution_count": 49,
     "metadata": {},
     "output_type": "execute_result"
    }
   ],
   "source": [
    "pd_features = pd.DataFrame({'Features': X_train.columns,'Coef_': model.best_estimator_.steps[-1][1].coef_[0]})\n",
    "pd_features.sort_values(by='Coef_', ascending=False)"
   ]
  },
  {
   "cell_type": "code",
   "execution_count": 50,
   "metadata": {},
   "outputs": [
    {
     "data": {
      "text/html": [
       "<div>\n",
       "<style scoped>\n",
       "    .dataframe tbody tr th:only-of-type {\n",
       "        vertical-align: middle;\n",
       "    }\n",
       "\n",
       "    .dataframe tbody tr th {\n",
       "        vertical-align: top;\n",
       "    }\n",
       "\n",
       "    .dataframe thead th {\n",
       "        text-align: right;\n",
       "    }\n",
       "</style>\n",
       "<table border=\"1\" class=\"dataframe\">\n",
       "  <thead>\n",
       "    <tr style=\"text-align: right;\">\n",
       "      <th></th>\n",
       "      <th>Train_acc</th>\n",
       "      <th>Test_acc</th>\n",
       "      <th>Train_recall</th>\n",
       "      <th>Test_recall</th>\n",
       "      <th>Train_preci</th>\n",
       "      <th>Test_preci</th>\n",
       "      <th>Train_f1score</th>\n",
       "      <th>Test_f1score</th>\n",
       "      <th>Train_roc_auc</th>\n",
       "      <th>Test_roc_auc</th>\n",
       "      <th>Train_specificity</th>\n",
       "      <th>Test_specificity</th>\n",
       "    </tr>\n",
       "  </thead>\n",
       "  <tbody>\n",
       "    <tr>\n",
       "      <th>lr_1st_round</th>\n",
       "      <td>0.781204</td>\n",
       "      <td>0.781529</td>\n",
       "      <td>0.777731</td>\n",
       "      <td>0.778894</td>\n",
       "      <td>0.956113</td>\n",
       "      <td>0.955255</td>\n",
       "      <td>0.857746</td>\n",
       "      <td>0.858107</td>\n",
       "      <td>0.789168</td>\n",
       "      <td>0.787570</td>\n",
       "      <td>0.800605</td>\n",
       "      <td>0.796246</td>\n",
       "    </tr>\n",
       "    <tr>\n",
       "      <th>lsvc_1st_round</th>\n",
       "      <td>0.782693</td>\n",
       "      <td>0.782701</td>\n",
       "      <td>0.779757</td>\n",
       "      <td>0.780612</td>\n",
       "      <td>0.955905</td>\n",
       "      <td>0.954957</td>\n",
       "      <td>0.858892</td>\n",
       "      <td>0.859027</td>\n",
       "      <td>0.789425</td>\n",
       "      <td>0.787490</td>\n",
       "      <td>0.799093</td>\n",
       "      <td>0.794369</td>\n",
       "    </tr>\n",
       "    <tr>\n",
       "      <th>lr_2nd_round</th>\n",
       "      <td>0.778409</td>\n",
       "      <td>0.778204</td>\n",
       "      <td>0.774566</td>\n",
       "      <td>0.775757</td>\n",
       "      <td>0.955787</td>\n",
       "      <td>0.954161</td>\n",
       "      <td>0.855687</td>\n",
       "      <td>0.855760</td>\n",
       "      <td>0.787221</td>\n",
       "      <td>0.783812</td>\n",
       "      <td>0.799875</td>\n",
       "      <td>0.791867</td>\n",
       "    </tr>\n",
       "    <tr>\n",
       "      <th>lsvc_2nd_round</th>\n",
       "      <td>0.779051</td>\n",
       "      <td>0.778140</td>\n",
       "      <td>0.775808</td>\n",
       "      <td>0.775757</td>\n",
       "      <td>0.955284</td>\n",
       "      <td>0.954074</td>\n",
       "      <td>0.856242</td>\n",
       "      <td>0.855725</td>\n",
       "      <td>0.786486</td>\n",
       "      <td>0.783603</td>\n",
       "      <td>0.797163</td>\n",
       "      <td>0.791449</td>\n",
       "    </tr>\n",
       "    <tr>\n",
       "      <th>xgb_1st_round</th>\n",
       "      <td>0.880250</td>\n",
       "      <td>0.877209</td>\n",
       "      <td>0.965076</td>\n",
       "      <td>0.965122</td>\n",
       "      <td>0.900810</td>\n",
       "      <td>0.897770</td>\n",
       "      <td>0.931836</td>\n",
       "      <td>0.930228</td>\n",
       "      <td>0.685766</td>\n",
       "      <td>0.675679</td>\n",
       "      <td>0.406455</td>\n",
       "      <td>0.386236</td>\n",
       "    </tr>\n",
       "    <tr>\n",
       "      <th>xgb_2nd_round</th>\n",
       "      <td>0.880701</td>\n",
       "      <td>0.876227</td>\n",
       "      <td>0.966327</td>\n",
       "      <td>0.965458</td>\n",
       "      <td>0.900323</td>\n",
       "      <td>0.896557</td>\n",
       "      <td>0.932158</td>\n",
       "      <td>0.929732</td>\n",
       "      <td>0.684384</td>\n",
       "      <td>0.671676</td>\n",
       "      <td>0.402440</td>\n",
       "      <td>0.377894</td>\n",
       "    </tr>\n",
       "    <tr>\n",
       "      <th>abc_1st_round</th>\n",
       "      <td>0.877003</td>\n",
       "      <td>0.873345</td>\n",
       "      <td>0.968623</td>\n",
       "      <td>0.967736</td>\n",
       "      <td>0.894997</td>\n",
       "      <td>0.892083</td>\n",
       "      <td>0.930356</td>\n",
       "      <td>0.928371</td>\n",
       "      <td>0.666943</td>\n",
       "      <td>0.656965</td>\n",
       "      <td>0.365262</td>\n",
       "      <td>0.346194</td>\n",
       "    </tr>\n",
       "    <tr>\n",
       "      <th>abc_2nd_round</th>\n",
       "      <td>0.875404</td>\n",
       "      <td>0.872743</td>\n",
       "      <td>0.968950</td>\n",
       "      <td>0.969118</td>\n",
       "      <td>0.893203</td>\n",
       "      <td>0.890505</td>\n",
       "      <td>0.929536</td>\n",
       "      <td>0.928150</td>\n",
       "      <td>0.660927</td>\n",
       "      <td>0.651816</td>\n",
       "      <td>0.352904</td>\n",
       "      <td>0.334515</td>\n",
       "    </tr>\n",
       "  </tbody>\n",
       "</table>\n",
       "</div>"
      ],
      "text/plain": [
       "                Train_acc  Test_acc  Train_recall  Test_recall  Train_preci  \\\n",
       "lr_1st_round     0.781204  0.781529      0.777731     0.778894     0.956113   \n",
       "lsvc_1st_round   0.782693  0.782701      0.779757     0.780612     0.955905   \n",
       "lr_2nd_round     0.778409  0.778204      0.774566     0.775757     0.955787   \n",
       "lsvc_2nd_round   0.779051  0.778140      0.775808     0.775757     0.955284   \n",
       "xgb_1st_round    0.880250  0.877209      0.965076     0.965122     0.900810   \n",
       "xgb_2nd_round    0.880701  0.876227      0.966327     0.965458     0.900323   \n",
       "abc_1st_round    0.877003  0.873345      0.968623     0.967736     0.894997   \n",
       "abc_2nd_round    0.875404  0.872743      0.968950     0.969118     0.893203   \n",
       "\n",
       "                Test_preci  Train_f1score  Test_f1score  Train_roc_auc  \\\n",
       "lr_1st_round      0.955255       0.857746      0.858107       0.789168   \n",
       "lsvc_1st_round    0.954957       0.858892      0.859027       0.789425   \n",
       "lr_2nd_round      0.954161       0.855687      0.855760       0.787221   \n",
       "lsvc_2nd_round    0.954074       0.856242      0.855725       0.786486   \n",
       "xgb_1st_round     0.897770       0.931836      0.930228       0.685766   \n",
       "xgb_2nd_round     0.896557       0.932158      0.929732       0.684384   \n",
       "abc_1st_round     0.892083       0.930356      0.928371       0.666943   \n",
       "abc_2nd_round     0.890505       0.929536      0.928150       0.660927   \n",
       "\n",
       "                Test_roc_auc  Train_specificity  Test_specificity  \n",
       "lr_1st_round        0.787570           0.800605          0.796246  \n",
       "lsvc_1st_round      0.787490           0.799093          0.794369  \n",
       "lr_2nd_round        0.783812           0.799875          0.791867  \n",
       "lsvc_2nd_round      0.783603           0.797163          0.791449  \n",
       "xgb_1st_round       0.675679           0.406455          0.386236  \n",
       "xgb_2nd_round       0.671676           0.402440          0.377894  \n",
       "abc_1st_round       0.656965           0.365262          0.346194  \n",
       "abc_2nd_round       0.651816           0.352904          0.334515  "
      ]
     },
     "execution_count": 50,
     "metadata": {},
     "output_type": "execute_result"
    }
   ],
   "source": [
    "drivers_score_df= pd.DataFrame(score_dict_drivers).T\n",
    "drivers_score_df.sort_values(by= 'Test_specificity', ascending=False)"
   ]
  },
  {
   "cell_type": "code",
   "execution_count": 51,
   "metadata": {},
   "outputs": [
    {
     "data": {
      "text/plain": [
       "{'ResponseMetadata': {'RequestId': 'YACGQ90SJ55YRCRV',\n",
       "  'HostId': 'jygLG7GVJeK6bDu/6dJxQS0l1Tdj0aqRTNbIX1/pQHXT3cV3p4kFqwwIhcySqWQaqUZlxb2lcX8=',\n",
       "  'HTTPStatusCode': 200,\n",
       "  'HTTPHeaders': {'x-amz-id-2': 'jygLG7GVJeK6bDu/6dJxQS0l1Tdj0aqRTNbIX1/pQHXT3cV3p4kFqwwIhcySqWQaqUZlxb2lcX8=',\n",
       "   'x-amz-request-id': 'YACGQ90SJ55YRCRV',\n",
       "   'date': 'Thu, 08 Dec 2022 09:29:26 GMT',\n",
       "   'etag': '\"f584968528bd3d56e03e45a81872893d\"',\n",
       "   'server': 'AmazonS3',\n",
       "   'content-length': '0'},\n",
       "  'RetryAttempts': 1},\n",
       " 'ETag': '\"f584968528bd3d56e03e45a81872893d\"'}"
      ]
     },
     "execution_count": 51,
     "metadata": {},
     "output_type": "execute_result"
    }
   ],
   "source": [
    "#exporting scoring file to AWS S3\n",
    "bucket = aws_creds.bucket # already created on S3\n",
    "csv_buffer = StringIO()\n",
    "drivers_score_df.to_csv(csv_buffer)\n",
    "s3_resource = boto3.resource('s3')\n",
    "s3_resource.Object(bucket, 'drivers_scores.csv').put(Body=csv_buffer.getvalue()) # exporting the dataframe"
   ]
  },
  {
   "cell_type": "code",
   "execution_count": 52,
   "metadata": {},
   "outputs": [
    {
     "name": "stdout",
     "output_type": "stream",
     "text": [
      "Execution time: 36.5991930603981 minutes\n"
     ]
    }
   ],
   "source": [
    "et = time.time() # end time\n",
    "elapsed_time = et - st\n",
    "print('Execution time:', elapsed_time/60, 'minutes')"
   ]
  }
 ],
 "metadata": {
  "kernelspec": {
   "display_name": "Python 3.9.12 ('base')",
   "language": "python",
   "name": "python3"
  },
  "language_info": {
   "codemirror_mode": {
    "name": "ipython",
    "version": 3
   },
   "file_extension": ".py",
   "mimetype": "text/x-python",
   "name": "python",
   "nbconvert_exporter": "python",
   "pygments_lexer": "ipython3",
   "version": "3.9.12 (main, Apr  4 2022, 05:22:27) [MSC v.1916 64 bit (AMD64)]"
  },
  "orig_nbformat": 4,
  "vscode": {
   "interpreter": {
    "hash": "25a04f5bcc4cce45f88f55048bde1d1871ccb10dc4647418ede9299c65043aaf"
   }
  }
 },
 "nbformat": 4,
 "nbformat_minor": 2
}
