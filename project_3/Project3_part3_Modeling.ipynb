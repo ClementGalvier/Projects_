{
 "cells": [
  {
   "cell_type": "markdown",
   "metadata": {},
   "source": [
    "## `Modeling plan`\n",
    "---\n",
    "1. [Importing data](#importing-and-shaping-data-for-modeling)\n",
    "2. [Baseline model with TF-IDF and MutinomialNB](#modeling-baseline-with-tfidf-and-mnb)\n",
    "3. [We will test a selection of models](#lets-compare-the-following-3-models) \n",
    "- Random forests (TVEC vs CVEC)\n",
    "- Multinomial NB (TVEC vs CVEC)\n",
    "- Logistic regression (TVEC vs CVEC)<br>\n",
    "\n",
    "[and compare them to evaluate individual performance](#on-to-metrics-comparison).<br>\n",
    "\n",
    "Finally, we attempted to push the project on streamlit using Flask, Docker and GCP, but resulted in error on streamlit"
   ]
  },
  {
   "cell_type": "code",
   "execution_count": 1,
   "metadata": {},
   "outputs": [],
   "source": [
    "# importing data manipulation\n",
    "import pandas as pd\n",
    "import numpy as np\n",
    "\n",
    "#importing sklearn tools for modelling\n",
    "from sklearn.model_selection import train_test_split, GridSearchCV # split our data and run hyperparameter search\n",
    "from sklearn.pipeline import Pipeline # to compactly pack multiple modeling operations\n",
    "\n",
    "from sklearn.feature_extraction.text import CountVectorizer\n",
    "from sklearn.feature_extraction.text import TfidfVectorizer, TfidfTransformer\n",
    "from sklearn.model_selection import cross_val_score\n",
    "from sklearn.naive_bayes import MultinomialNB # to build our classification model\n",
    "from sklearn.ensemble import RandomForestClassifier\n",
    "from sklearn.preprocessing import StandardScaler\n",
    "from sklearn.neighbors import KNeighborsClassifier\n",
    "from sklearn.linear_model import LogisticRegression\n",
    "\n",
    "from sklearn import metrics\n",
    "from sklearn.metrics import confusion_matrix, ConfusionMatrixDisplay # to access results from binary classification task (you may also import other specific classification metrics)\n",
    "from sklearn.metrics import plot_roc_curve, precision_score, recall_score, f1_score, accuracy_score,roc_auc_score\n",
    "\n",
    "# pass regex in r'regex for match-filter'\n",
    "from nltk import RegexpTokenizer\n",
    "from nltk.stem import WordNetLemmatizer\n",
    "from nltk.corpus import stopwords # for stopwords removal\n",
    "from nltk.stem import PorterStemmer\n",
    "\n",
    "#importing visualizations\n",
    "import seaborn as sns\n",
    "import matplotlib.pyplot as plt"
   ]
  },
  {
   "cell_type": "code",
   "execution_count": 2,
   "metadata": {},
   "outputs": [],
   "source": [
    "## Settings\n",
    "sns.set_style(\"darkgrid\") # setting seaborn style\n",
    "\n",
    "# enable inline plotting\n",
    "%matplotlib inline \n",
    "\n",
    "pd.set_option('display.max_columns', None) # disable column overflow in pandas display"
   ]
  },
  {
   "cell_type": "markdown",
   "metadata": {},
   "source": [
    "### `Importing and shaping data for modeling`"
   ]
  },
  {
   "cell_type": "code",
   "execution_count": 3,
   "metadata": {},
   "outputs": [],
   "source": [
    "df_concat = pd.read_csv('.\\\\transformed_csv\\df_concat_part2.csv')"
   ]
  },
  {
   "cell_type": "code",
   "execution_count": 4,
   "metadata": {},
   "outputs": [
    {
     "data": {
      "text/plain": [
       "(5801, 8)"
      ]
     },
     "execution_count": 4,
     "metadata": {},
     "output_type": "execute_result"
    }
   ],
   "source": [
    "df_concat.shape #checking we got what we left in Part1"
   ]
  },
  {
   "cell_type": "code",
   "execution_count": 5,
   "metadata": {},
   "outputs": [
    {
     "data": {
      "text/plain": [
       "Index(['Unnamed: 0', 'subreddit', 'selftext', 'title', 'no_stopwords_selftext',\n",
       "       'unigrams_no_stopwords', 'selftext_lemmatized', 'len_posts'],\n",
       "      dtype='object')"
      ]
     },
     "execution_count": 5,
     "metadata": {},
     "output_type": "execute_result"
    }
   ],
   "source": [
    "df_concat.columns"
   ]
  },
  {
   "cell_type": "code",
   "execution_count": 6,
   "metadata": {},
   "outputs": [
    {
     "data": {
      "text/plain": [
       "(5801, 3)"
      ]
     },
     "execution_count": 6,
     "metadata": {},
     "output_type": "execute_result"
    }
   ],
   "source": [
    "df_concat.drop(columns=['Unnamed: 0','unigrams_no_stopwords','selftext_lemmatized','no_stopwords_selftext','title'], inplace=True)\n",
    "df_concat.shape"
   ]
  },
  {
   "cell_type": "code",
   "execution_count": 7,
   "metadata": {},
   "outputs": [
    {
     "data": {
      "text/html": [
       "<div>\n",
       "<style scoped>\n",
       "    .dataframe tbody tr th:only-of-type {\n",
       "        vertical-align: middle;\n",
       "    }\n",
       "\n",
       "    .dataframe tbody tr th {\n",
       "        vertical-align: top;\n",
       "    }\n",
       "\n",
       "    .dataframe thead th {\n",
       "        text-align: right;\n",
       "    }\n",
       "</style>\n",
       "<table border=\"1\" class=\"dataframe\">\n",
       "  <thead>\n",
       "    <tr style=\"text-align: right;\">\n",
       "      <th></th>\n",
       "      <th>subreddit</th>\n",
       "      <th>selftext</th>\n",
       "      <th>len_posts</th>\n",
       "    </tr>\n",
       "  </thead>\n",
       "  <tbody>\n",
       "    <tr>\n",
       "      <th>0</th>\n",
       "      <td>DunkinDonuts</td>\n",
       "      <td>pumpkin small: $1.99\\n\\noriginal small: $2.29\\...</td>\n",
       "      <td>282</td>\n",
       "    </tr>\n",
       "    <tr>\n",
       "      <th>1</th>\n",
       "      <td>DunkinDonuts</td>\n",
       "      <td>a few weeks ago someone posted a comment about...</td>\n",
       "      <td>622</td>\n",
       "    </tr>\n",
       "    <tr>\n",
       "      <th>2</th>\n",
       "      <td>DunkinDonuts</td>\n",
       "      <td>our nearest dunkin is a bit of a drive, and th...</td>\n",
       "      <td>212</td>\n",
       "    </tr>\n",
       "    <tr>\n",
       "      <th>3</th>\n",
       "      <td>DunkinDonuts</td>\n",
       "      <td>how do i ask for an extra shot of flavor in th...</td>\n",
       "      <td>379</td>\n",
       "    </tr>\n",
       "    <tr>\n",
       "      <th>4</th>\n",
       "      <td>DunkinDonuts</td>\n",
       "      <td>i’ve used a can of monster and a variable amou...</td>\n",
       "      <td>134</td>\n",
       "    </tr>\n",
       "  </tbody>\n",
       "</table>\n",
       "</div>"
      ],
      "text/plain": [
       "      subreddit                                           selftext  len_posts\n",
       "0  DunkinDonuts  pumpkin small: $1.99\\n\\noriginal small: $2.29\\...        282\n",
       "1  DunkinDonuts  a few weeks ago someone posted a comment about...        622\n",
       "2  DunkinDonuts  our nearest dunkin is a bit of a drive, and th...        212\n",
       "3  DunkinDonuts  how do i ask for an extra shot of flavor in th...        379\n",
       "4  DunkinDonuts  i’ve used a can of monster and a variable amou...        134"
      ]
     },
     "execution_count": 7,
     "metadata": {},
     "output_type": "execute_result"
    }
   ],
   "source": [
    "df_concat.head()"
   ]
  },
  {
   "cell_type": "markdown",
   "metadata": {},
   "source": [
    "### `Mapping target variable to 1 for Dunkin and 0 for Starbucks`"
   ]
  },
  {
   "cell_type": "code",
   "execution_count": 8,
   "metadata": {},
   "outputs": [],
   "source": [
    "df_concat['subreddit']= df_concat['subreddit'].map({'DunkinDonuts':1,'starbucks':0})"
   ]
  },
  {
   "cell_type": "code",
   "execution_count": 9,
   "metadata": {},
   "outputs": [
    {
     "data": {
      "text/html": [
       "<div>\n",
       "<style scoped>\n",
       "    .dataframe tbody tr th:only-of-type {\n",
       "        vertical-align: middle;\n",
       "    }\n",
       "\n",
       "    .dataframe tbody tr th {\n",
       "        vertical-align: top;\n",
       "    }\n",
       "\n",
       "    .dataframe thead th {\n",
       "        text-align: right;\n",
       "    }\n",
       "</style>\n",
       "<table border=\"1\" class=\"dataframe\">\n",
       "  <thead>\n",
       "    <tr style=\"text-align: right;\">\n",
       "      <th></th>\n",
       "      <th>subreddit</th>\n",
       "      <th>selftext</th>\n",
       "      <th>len_posts</th>\n",
       "    </tr>\n",
       "  </thead>\n",
       "  <tbody>\n",
       "    <tr>\n",
       "      <th>0</th>\n",
       "      <td>1</td>\n",
       "      <td>pumpkin small: $1.99\\n\\noriginal small: $2.29\\...</td>\n",
       "      <td>282</td>\n",
       "    </tr>\n",
       "    <tr>\n",
       "      <th>1</th>\n",
       "      <td>1</td>\n",
       "      <td>a few weeks ago someone posted a comment about...</td>\n",
       "      <td>622</td>\n",
       "    </tr>\n",
       "    <tr>\n",
       "      <th>2</th>\n",
       "      <td>1</td>\n",
       "      <td>our nearest dunkin is a bit of a drive, and th...</td>\n",
       "      <td>212</td>\n",
       "    </tr>\n",
       "    <tr>\n",
       "      <th>3</th>\n",
       "      <td>1</td>\n",
       "      <td>how do i ask for an extra shot of flavor in th...</td>\n",
       "      <td>379</td>\n",
       "    </tr>\n",
       "    <tr>\n",
       "      <th>4</th>\n",
       "      <td>1</td>\n",
       "      <td>i’ve used a can of monster and a variable amou...</td>\n",
       "      <td>134</td>\n",
       "    </tr>\n",
       "  </tbody>\n",
       "</table>\n",
       "</div>"
      ],
      "text/plain": [
       "   subreddit                                           selftext  len_posts\n",
       "0          1  pumpkin small: $1.99\\n\\noriginal small: $2.29\\...        282\n",
       "1          1  a few weeks ago someone posted a comment about...        622\n",
       "2          1  our nearest dunkin is a bit of a drive, and th...        212\n",
       "3          1  how do i ask for an extra shot of flavor in th...        379\n",
       "4          1  i’ve used a can of monster and a variable amou...        134"
      ]
     },
     "execution_count": 9,
     "metadata": {},
     "output_type": "execute_result"
    }
   ],
   "source": [
    "df_concat.head()"
   ]
  },
  {
   "cell_type": "markdown",
   "metadata": {},
   "source": [
    "### `Data Dictionary`"
   ]
  },
  {
   "cell_type": "markdown",
   "metadata": {},
   "source": [
    "| Data Dictionary | Description |\n",
    "| ----------- | ----------- |\n",
    "| subreddit | where is the record from (0 = Dunkin, 1=Starbucks) |\n",
    "| selftext | text belonging to the thread |\n",
    "|len_posts | post length in words|"
   ]
  },
  {
   "cell_type": "markdown",
   "metadata": {},
   "source": [
    "### `Metrics we will evaluate:`\n",
    "---"
   ]
  },
  {
   "cell_type": "markdown",
   "metadata": {},
   "source": [
    "1. F1 Score\n",
    "- The highest possible value of an F-score is 1.0, indicating perfect precision and recall, and the lowest possible value is 0, if either the precision or the recall is zero.\n",
    "- The F1 score is the harmonic mean of the precision and recall\n",
    "\n",
    "2. Precision score: Intuitively, precision is the ability of the classifier not to label as positive a sample that is negative\n",
    "\n",
    "3. Accuracy Score: The easiest metric to understand: either the fraction of correct predictions.\n",
    "\n",
    "4. Recall score: \n",
    "- In binary classification, recall is called sensitivity. It can be viewed as the probability that a relevant document is retrieved by the query."
   ]
  },
  {
   "cell_type": "markdown",
   "metadata": {},
   "source": [
    "## `Modeling process`\n",
    "---"
   ]
  },
  {
   "cell_type": "markdown",
   "metadata": {},
   "source": [
    "### `Baseline  TF-IDF and NaiveBayes`\n",
    "-------"
   ]
  },
  {
   "cell_type": "markdown",
   "metadata": {},
   "source": [
    "We will **lemmatize**, **vectorize (using TF-IDF)** and feed the data to Multinomial NaiveBayes"
   ]
  },
  {
   "cell_type": "code",
   "execution_count": 10,
   "metadata": {},
   "outputs": [
    {
     "name": "stdout",
     "output_type": "stream",
     "text": [
      "CPU times: total: 4.38 s\n",
      "Wall time: 4.67 s\n"
     ]
    }
   ],
   "source": [
    "%%time\n",
    "#lemmatizing our data\n",
    "\n",
    "\n",
    "lemmatizer = WordNetLemmatizer()\n",
    "tokenizer = RegexpTokenizer(r'\\w+')\n",
    "\n",
    "# set up the lemmatizer\n",
    "lemmatized_posts = []\n",
    "for post in df_concat['selftext']:\n",
    "    tokens = tokenizer.tokenize(post)\n",
    "    post = [lemmatizer.lemmatize(post) for post in tokens]\n",
    "    lemmatized_posts.append(' '.join(post))\n",
    "    \n",
    "# append the lemmatized posts to the DataFrame\n",
    "df_concat['selftext_lemmatized'] = lemmatized_posts"
   ]
  },
  {
   "cell_type": "code",
   "execution_count": 11,
   "metadata": {},
   "outputs": [],
   "source": [
    "#spliting our X and y\n",
    "X=df_concat['selftext_lemmatized'] #selecting only selftext to predict our origin subreddit\n",
    "y=df_concat['subreddit']\n",
    "# define training and testing sets\n",
    "X_train, X_test, y_train, y_test = train_test_split(X,\n",
    "                                                    y,\n",
    "                                                    test_size=0.33,\n",
    "                                                    stratify=y, #usefull to make sure each fold contains a fair share of positive and negative class. In our case, the dataset is balanced so not very critical\n",
    "                                                    random_state=42)"
   ]
  },
  {
   "cell_type": "markdown",
   "metadata": {},
   "source": [
    "### `Preparing objects for the notebook`"
   ]
  },
  {
   "cell_type": "markdown",
   "metadata": {},
   "source": [
    "Putting it together: TF-IDF\n",
    "To summarize the key intuition motivating TF-IDF is the importance of a term is inversely related to its frequency across documents.TF gives us information on how often a term appears in a document and IDF gives us information about the relative rarity of a term in the collection of documents. By multiplying these values together we can get our final TF-IDF value [^1]\n",
    "\n",
    "[1^] *https://www.capitalone.com/tech/machine-learning/understanding-tf-idf/*"
   ]
  },
  {
   "cell_type": "code",
   "execution_count": 12,
   "metadata": {},
   "outputs": [],
   "source": [
    "#adding the stopwords to the pipe\n",
    "new_stopwords = [\"dunkin\", \"Dunkin\", \"DunkinDonuts\", \"donuts\", \"starbucks\", \"Starbucks\",\"sbucks\",\"Sbucks\"] \n",
    "model_stopwords = stopwords.words('english')\n",
    "model_stopwords.extend(new_stopwords)\n",
    "\n",
    "#instantiating vectorizers\n",
    "tvec = TfidfVectorizer(stop_words=model_stopwords) #instantiating the tf-idf object and removing stopswords - in case stop words are not the same from nltk corpus\n",
    "\n",
    "\n",
    "# Countvectorizer\n",
    "cvec= CountVectorizer(stop_words=model_stopwords) #max_features : “If not None, build a vocabulary that only consider the top max_features ordered by term frequency across the corpus.”"
   ]
  },
  {
   "cell_type": "code",
   "execution_count": 13,
   "metadata": {},
   "outputs": [],
   "source": [
    "#instanciating Models\n",
    "#NaiveBayes\n",
    "mNB =MultinomialNB()"
   ]
  },
  {
   "cell_type": "code",
   "execution_count": 14,
   "metadata": {},
   "outputs": [],
   "source": [
    "#let's store all models performance in a list that we can use to compare at the end  \n",
    "models_scores_list =[]"
   ]
  },
  {
   "cell_type": "code",
   "execution_count": 15,
   "metadata": {},
   "outputs": [],
   "source": [
    "#create a dictionary for each model to store performance\n",
    "results_01 = {}\n",
    "\n",
    "# instantiate Logistic Regression model \n",
    "# Set up a pipeline with tf-idf vectorizer and multinomial naive bayes\n",
    "pipe_tvec = Pipeline([\n",
    "    ('tvec', tvec), # we execute the vectorization using tvec tuned with new stop words. by default, tvec grams are (1,1), which is what we want\n",
    "    ('nb', mNB)\n",
    "])\n",
    "\n",
    "# update the results list \n",
    "results_01['model'] = 'pipe_tvec'\n",
    "results_01['vectorizer'] = 'tvec'\n"
   ]
  },
  {
   "cell_type": "code",
   "execution_count": 16,
   "metadata": {},
   "outputs": [
    {
     "name": "stderr",
     "output_type": "stream",
     "text": [
      "c:\\Users\\galvi\\anaconda3\\lib\\site-packages\\sklearn\\feature_extraction\\text.py:404: UserWarning: Your stop_words may be inconsistent with your preprocessing. Tokenizing the stop words generated tokens ['dunkindonuts'] not in stop_words.\n",
      "  warnings.warn(\n",
      "c:\\Users\\galvi\\anaconda3\\lib\\site-packages\\sklearn\\feature_extraction\\text.py:404: UserWarning: Your stop_words may be inconsistent with your preprocessing. Tokenizing the stop words generated tokens ['dunkindonuts'] not in stop_words.\n",
      "  warnings.warn(\n",
      "c:\\Users\\galvi\\anaconda3\\lib\\site-packages\\sklearn\\feature_extraction\\text.py:404: UserWarning: Your stop_words may be inconsistent with your preprocessing. Tokenizing the stop words generated tokens ['dunkindonuts'] not in stop_words.\n",
      "  warnings.warn(\n"
     ]
    },
    {
     "data": {
      "text/plain": [
       "0.7923347951125729"
      ]
     },
     "execution_count": 16,
     "metadata": {},
     "output_type": "execute_result"
    }
   ],
   "source": [
    "# Estimate how your model performs on training data\n",
    "cross_val_score(pipe_tvec, X_train, y_train, cv=3).mean()\n",
    "# score is the mean accuracy ( correct predictions / total preds), as we are using MNB estimator"
   ]
  },
  {
   "cell_type": "markdown",
   "metadata": {},
   "source": [
    "79% accuracy score, not bad for a first try  "
   ]
  },
  {
   "cell_type": "code",
   "execution_count": 17,
   "metadata": {},
   "outputs": [
    {
     "name": "stderr",
     "output_type": "stream",
     "text": [
      "c:\\Users\\galvi\\anaconda3\\lib\\site-packages\\sklearn\\feature_extraction\\text.py:404: UserWarning: Your stop_words may be inconsistent with your preprocessing. Tokenizing the stop words generated tokens ['dunkindonuts'] not in stop_words.\n",
      "  warnings.warn(\n"
     ]
    },
    {
     "data": {
      "text/html": [
       "<style>#sk-container-id-1 {color: black;background-color: white;}#sk-container-id-1 pre{padding: 0;}#sk-container-id-1 div.sk-toggleable {background-color: white;}#sk-container-id-1 label.sk-toggleable__label {cursor: pointer;display: block;width: 100%;margin-bottom: 0;padding: 0.3em;box-sizing: border-box;text-align: center;}#sk-container-id-1 label.sk-toggleable__label-arrow:before {content: \"▸\";float: left;margin-right: 0.25em;color: #696969;}#sk-container-id-1 label.sk-toggleable__label-arrow:hover:before {color: black;}#sk-container-id-1 div.sk-estimator:hover label.sk-toggleable__label-arrow:before {color: black;}#sk-container-id-1 div.sk-toggleable__content {max-height: 0;max-width: 0;overflow: hidden;text-align: left;background-color: #f0f8ff;}#sk-container-id-1 div.sk-toggleable__content pre {margin: 0.2em;color: black;border-radius: 0.25em;background-color: #f0f8ff;}#sk-container-id-1 input.sk-toggleable__control:checked~div.sk-toggleable__content {max-height: 200px;max-width: 100%;overflow: auto;}#sk-container-id-1 input.sk-toggleable__control:checked~label.sk-toggleable__label-arrow:before {content: \"▾\";}#sk-container-id-1 div.sk-estimator input.sk-toggleable__control:checked~label.sk-toggleable__label {background-color: #d4ebff;}#sk-container-id-1 div.sk-label input.sk-toggleable__control:checked~label.sk-toggleable__label {background-color: #d4ebff;}#sk-container-id-1 input.sk-hidden--visually {border: 0;clip: rect(1px 1px 1px 1px);clip: rect(1px, 1px, 1px, 1px);height: 1px;margin: -1px;overflow: hidden;padding: 0;position: absolute;width: 1px;}#sk-container-id-1 div.sk-estimator {font-family: monospace;background-color: #f0f8ff;border: 1px dotted black;border-radius: 0.25em;box-sizing: border-box;margin-bottom: 0.5em;}#sk-container-id-1 div.sk-estimator:hover {background-color: #d4ebff;}#sk-container-id-1 div.sk-parallel-item::after {content: \"\";width: 100%;border-bottom: 1px solid gray;flex-grow: 1;}#sk-container-id-1 div.sk-label:hover label.sk-toggleable__label {background-color: #d4ebff;}#sk-container-id-1 div.sk-serial::before {content: \"\";position: absolute;border-left: 1px solid gray;box-sizing: border-box;top: 0;bottom: 0;left: 50%;z-index: 0;}#sk-container-id-1 div.sk-serial {display: flex;flex-direction: column;align-items: center;background-color: white;padding-right: 0.2em;padding-left: 0.2em;position: relative;}#sk-container-id-1 div.sk-item {position: relative;z-index: 1;}#sk-container-id-1 div.sk-parallel {display: flex;align-items: stretch;justify-content: center;background-color: white;position: relative;}#sk-container-id-1 div.sk-item::before, #sk-container-id-1 div.sk-parallel-item::before {content: \"\";position: absolute;border-left: 1px solid gray;box-sizing: border-box;top: 0;bottom: 0;left: 50%;z-index: -1;}#sk-container-id-1 div.sk-parallel-item {display: flex;flex-direction: column;z-index: 1;position: relative;background-color: white;}#sk-container-id-1 div.sk-parallel-item:first-child::after {align-self: flex-end;width: 50%;}#sk-container-id-1 div.sk-parallel-item:last-child::after {align-self: flex-start;width: 50%;}#sk-container-id-1 div.sk-parallel-item:only-child::after {width: 0;}#sk-container-id-1 div.sk-dashed-wrapped {border: 1px dashed gray;margin: 0 0.4em 0.5em 0.4em;box-sizing: border-box;padding-bottom: 0.4em;background-color: white;}#sk-container-id-1 div.sk-label label {font-family: monospace;font-weight: bold;display: inline-block;line-height: 1.2em;}#sk-container-id-1 div.sk-label-container {text-align: center;}#sk-container-id-1 div.sk-container {/* jupyter's `normalize.less` sets `[hidden] { display: none; }` but bootstrap.min.css set `[hidden] { display: none !important; }` so we also need the `!important` here to be able to override the default hidden behavior on the sphinx rendered scikit-learn.org. See: https://github.com/scikit-learn/scikit-learn/issues/21755 */display: inline-block !important;position: relative;}#sk-container-id-1 div.sk-text-repr-fallback {display: none;}</style><div id=\"sk-container-id-1\" class=\"sk-top-container\"><div class=\"sk-text-repr-fallback\"><pre>Pipeline(steps=[(&#x27;tvec&#x27;,\n",
       "                 TfidfVectorizer(stop_words=[&#x27;i&#x27;, &#x27;me&#x27;, &#x27;my&#x27;, &#x27;myself&#x27;, &#x27;we&#x27;,\n",
       "                                             &#x27;our&#x27;, &#x27;ours&#x27;, &#x27;ourselves&#x27;, &#x27;you&#x27;,\n",
       "                                             &quot;you&#x27;re&quot;, &quot;you&#x27;ve&quot;, &quot;you&#x27;ll&quot;,\n",
       "                                             &quot;you&#x27;d&quot;, &#x27;your&#x27;, &#x27;yours&#x27;,\n",
       "                                             &#x27;yourself&#x27;, &#x27;yourselves&#x27;, &#x27;he&#x27;,\n",
       "                                             &#x27;him&#x27;, &#x27;his&#x27;, &#x27;himself&#x27;, &#x27;she&#x27;,\n",
       "                                             &quot;she&#x27;s&quot;, &#x27;her&#x27;, &#x27;hers&#x27;, &#x27;herself&#x27;,\n",
       "                                             &#x27;it&#x27;, &quot;it&#x27;s&quot;, &#x27;its&#x27;, &#x27;itself&#x27;, ...])),\n",
       "                (&#x27;nb&#x27;, MultinomialNB())])</pre><b>In a Jupyter environment, please rerun this cell to show the HTML representation or trust the notebook. <br />On GitHub, the HTML representation is unable to render, please try loading this page with nbviewer.org.</b></div><div class=\"sk-container\" hidden><div class=\"sk-item sk-dashed-wrapped\"><div class=\"sk-label-container\"><div class=\"sk-label sk-toggleable\"><input class=\"sk-toggleable__control sk-hidden--visually\" id=\"sk-estimator-id-1\" type=\"checkbox\" ><label for=\"sk-estimator-id-1\" class=\"sk-toggleable__label sk-toggleable__label-arrow\">Pipeline</label><div class=\"sk-toggleable__content\"><pre>Pipeline(steps=[(&#x27;tvec&#x27;,\n",
       "                 TfidfVectorizer(stop_words=[&#x27;i&#x27;, &#x27;me&#x27;, &#x27;my&#x27;, &#x27;myself&#x27;, &#x27;we&#x27;,\n",
       "                                             &#x27;our&#x27;, &#x27;ours&#x27;, &#x27;ourselves&#x27;, &#x27;you&#x27;,\n",
       "                                             &quot;you&#x27;re&quot;, &quot;you&#x27;ve&quot;, &quot;you&#x27;ll&quot;,\n",
       "                                             &quot;you&#x27;d&quot;, &#x27;your&#x27;, &#x27;yours&#x27;,\n",
       "                                             &#x27;yourself&#x27;, &#x27;yourselves&#x27;, &#x27;he&#x27;,\n",
       "                                             &#x27;him&#x27;, &#x27;his&#x27;, &#x27;himself&#x27;, &#x27;she&#x27;,\n",
       "                                             &quot;she&#x27;s&quot;, &#x27;her&#x27;, &#x27;hers&#x27;, &#x27;herself&#x27;,\n",
       "                                             &#x27;it&#x27;, &quot;it&#x27;s&quot;, &#x27;its&#x27;, &#x27;itself&#x27;, ...])),\n",
       "                (&#x27;nb&#x27;, MultinomialNB())])</pre></div></div></div><div class=\"sk-serial\"><div class=\"sk-item\"><div class=\"sk-estimator sk-toggleable\"><input class=\"sk-toggleable__control sk-hidden--visually\" id=\"sk-estimator-id-2\" type=\"checkbox\" ><label for=\"sk-estimator-id-2\" class=\"sk-toggleable__label sk-toggleable__label-arrow\">TfidfVectorizer</label><div class=\"sk-toggleable__content\"><pre>TfidfVectorizer(stop_words=[&#x27;i&#x27;, &#x27;me&#x27;, &#x27;my&#x27;, &#x27;myself&#x27;, &#x27;we&#x27;, &#x27;our&#x27;, &#x27;ours&#x27;,\n",
       "                            &#x27;ourselves&#x27;, &#x27;you&#x27;, &quot;you&#x27;re&quot;, &quot;you&#x27;ve&quot;, &quot;you&#x27;ll&quot;,\n",
       "                            &quot;you&#x27;d&quot;, &#x27;your&#x27;, &#x27;yours&#x27;, &#x27;yourself&#x27;, &#x27;yourselves&#x27;,\n",
       "                            &#x27;he&#x27;, &#x27;him&#x27;, &#x27;his&#x27;, &#x27;himself&#x27;, &#x27;she&#x27;, &quot;she&#x27;s&quot;,\n",
       "                            &#x27;her&#x27;, &#x27;hers&#x27;, &#x27;herself&#x27;, &#x27;it&#x27;, &quot;it&#x27;s&quot;, &#x27;its&#x27;,\n",
       "                            &#x27;itself&#x27;, ...])</pre></div></div></div><div class=\"sk-item\"><div class=\"sk-estimator sk-toggleable\"><input class=\"sk-toggleable__control sk-hidden--visually\" id=\"sk-estimator-id-3\" type=\"checkbox\" ><label for=\"sk-estimator-id-3\" class=\"sk-toggleable__label sk-toggleable__label-arrow\">MultinomialNB</label><div class=\"sk-toggleable__content\"><pre>MultinomialNB()</pre></div></div></div></div></div></div></div>"
      ],
      "text/plain": [
       "Pipeline(steps=[('tvec',\n",
       "                 TfidfVectorizer(stop_words=['i', 'me', 'my', 'myself', 'we',\n",
       "                                             'our', 'ours', 'ourselves', 'you',\n",
       "                                             \"you're\", \"you've\", \"you'll\",\n",
       "                                             \"you'd\", 'your', 'yours',\n",
       "                                             'yourself', 'yourselves', 'he',\n",
       "                                             'him', 'his', 'himself', 'she',\n",
       "                                             \"she's\", 'her', 'hers', 'herself',\n",
       "                                             'it', \"it's\", 'its', 'itself', ...])),\n",
       "                ('nb', MultinomialNB())])"
      ]
     },
     "execution_count": 17,
     "metadata": {},
     "output_type": "execute_result"
    }
   ],
   "source": [
    "# Fitting the model. fit = \"\".learn\"\n",
    "pipe_tvec.fit(X_train, y_train)"
   ]
  },
  {
   "cell_type": "code",
   "execution_count": 18,
   "metadata": {},
   "outputs": [
    {
     "data": {
      "text/plain": [
       "0.8710756562017499"
      ]
     },
     "execution_count": 18,
     "metadata": {},
     "output_type": "execute_result"
    }
   ],
   "source": [
    "# Training score\n",
    "pipe_tvec.score(X_train, y_train) \n",
    "#Return the mean accuracy on the given test data and labels.\n",
    "#We are happy to use this as we simply want to classify post origin, so we want the TP + TN over the total.\n",
    "#Specificity and recall matter less for this example"
   ]
  },
  {
   "cell_type": "code",
   "execution_count": 19,
   "metadata": {},
   "outputs": [],
   "source": [
    "preds = pipe_tvec.predict(X_test) #evaluating our baseline model on preds"
   ]
  },
  {
   "cell_type": "code",
   "execution_count": 20,
   "metadata": {},
   "outputs": [
    {
     "data": {
      "text/plain": [
       "array([[939, 105],\n",
       "       [257, 614]], dtype=int64)"
      ]
     },
     "execution_count": 20,
     "metadata": {},
     "output_type": "execute_result"
    }
   ],
   "source": [
    "confusion_matrix(y_test, preds) #run the confusion matrix"
   ]
  },
  {
   "cell_type": "code",
   "execution_count": 21,
   "metadata": {},
   "outputs": [
    {
     "name": "stdout",
     "output_type": "stream",
     "text": [
      "939 105 257 614\n"
     ]
    }
   ],
   "source": [
    "# ravel() to convert to 1-D and Save confusion matrix values\n",
    "tn, fp, fn, tp = confusion_matrix(y_test, preds).ravel()\n",
    "print(tn, fp, fn, tp)"
   ]
  },
  {
   "cell_type": "code",
   "execution_count": 22,
   "metadata": {},
   "outputs": [
    {
     "data": {
      "text/plain": [
       "<sklearn.metrics._plot.confusion_matrix.ConfusionMatrixDisplay at 0x1fa966f5f10>"
      ]
     },
     "execution_count": 22,
     "metadata": {},
     "output_type": "execute_result"
    },
    {
     "data": {
      "image/png": "[encoded data removed]",
      "text/plain": [
       "<Figure size 432x288 with 2 Axes>"
      ]
     },
     "metadata": {
      "needs_background": "light"
     },
     "output_type": "display_data"
    }
   ],
   "source": [
    "# plot confusion matrix\n",
    "cm = confusion_matrix(y_test, preds)\n",
    "disp = ConfusionMatrixDisplay(confusion_matrix=cm, display_labels=['Dunkin', 'Starbucks'])\n",
    "disp.plot(cmap=plt.cm.Blues)"
   ]
  },
  {
   "cell_type": "code",
   "execution_count": 23,
   "metadata": {},
   "outputs": [
    {
     "data": {
      "text/plain": [
       "[{'model': 'pipe_tvec',\n",
       "  'vectorizer': 'tvec',\n",
       "  'accuracy': 0.8109660574412533,\n",
       "  'recall': 0.7049368541905855,\n",
       "  'precision': 0.8539638386648123,\n",
       "  'f1_score': 0.7723270440251573,\n",
       "  'roc_auc': 0.8021810707734537}]"
      ]
     },
     "execution_count": 23,
     "metadata": {},
     "output_type": "execute_result"
    }
   ],
   "source": [
    "#getting the metrics ready\n",
    "f1score=f1_score(y_test,preds)\n",
    "precision=precision_score(y_test,preds)\n",
    "accuracy=accuracy_score(y_test,preds)\n",
    "recall=recall_score(y_test,preds)\n",
    "roc_auc=roc_auc_score(y_test,preds)\n",
    "\n",
    "# update various metrics onto results list\n",
    "results_01['accuracy'] = accuracy\n",
    "results_01['recall'] = recall\n",
    "results_01['precision'] = precision\n",
    "results_01['f1_score'] = f1score\n",
    "results_01['roc_auc'] = roc_auc\n",
    "\n",
    "#storing metrics for later\n",
    "models_scores_list.append(results_01)\n",
    "\n",
    "# checking it works fine\n",
    "models_scores_list"
   ]
  },
  {
   "cell_type": "markdown",
   "metadata": {},
   "source": [
    "- In our context, we really want the highest accuracy score to make sure that posts are classified in the correct subreddit. \n",
    "- Type 1 and type 2 errors are not extremely critical, worst case a post is not directed to the right subreddit.( not great, but worse things in life)"
   ]
  },
  {
   "cell_type": "markdown",
   "metadata": {},
   "source": [
    "## `Let's compare the following 3 models`\n",
    "---\n",
    "- Random forests (TFIDF vs CVEC)\n",
    "- NaiveBayes (TFIDF vs CVEC)\n",
    "- Logisitc Regression (TFIDF vs CVEC)"
   ]
  },
  {
   "cell_type": "markdown",
   "metadata": {},
   "source": [
    "## `Random Forests`\n",
    "---"
   ]
  },
  {
   "cell_type": "markdown",
   "metadata": {},
   "source": [
    "Let's remember what Random forests do: **from notebook**<br>\n",
    "\n",
    "*In summary, Bagging is an ensemble algorithm that fits multiple models on different subsets of a training dataset, then combines the predictions from all models.*\n",
    "\n",
    "*Random forest is an extension of bagging that also randomly selects subsets of features used in each data sample. Random forest is another ensemble of decision tree models and may be considered an improvement upon bagging. The main difference is that all features (variables or columns) are not used; instead, a small, randomly selected subset of features (columns) is chosen for each bootstrap sample. This has the effect of de-correlating the decision trees (making them more independent), and in turn, improving the ensemble prediction*\n"
   ]
  },
  {
   "cell_type": "code",
   "execution_count": 24,
   "metadata": {},
   "outputs": [],
   "source": [
    "#RandomForest\n",
    "rf = RandomForestClassifier()"
   ]
  },
  {
   "cell_type": "markdown",
   "metadata": {},
   "source": [
    "Let's start with TFIDF"
   ]
  },
  {
   "cell_type": "code",
   "execution_count": 25,
   "metadata": {},
   "outputs": [
    {
     "name": "stdout",
     "output_type": "stream",
     "text": [
      "Fitting 3 folds for each of 18 candidates, totalling 54 fits\n"
     ]
    },
    {
     "name": "stderr",
     "output_type": "stream",
     "text": [
      "c:\\Users\\galvi\\anaconda3\\lib\\site-packages\\sklearn\\feature_extraction\\text.py:404: UserWarning: Your stop_words may be inconsistent with your preprocessing. Tokenizing the stop words generated tokens ['dunkindonuts'] not in stop_words.\n",
      "  warnings.warn(\n"
     ]
    },
    {
     "name": "stdout",
     "output_type": "stream",
     "text": [
      "Our F1 score is : 0.7533805537669027\n",
      "Our Precision score is : 0.8577712609970675\n",
      "Our accuracy score is : 0.8\n",
      "Our recall score is : 0.6716417910447762\n",
      "CPU times: total: 1.78 s\n",
      "Wall time: 23.5 s\n"
     ]
    },
    {
     "data": {
      "image/png": "[encoded data removed]",
      "text/plain": [
       "<Figure size 432x288 with 2 Axes>"
      ]
     },
     "metadata": {
      "needs_background": "light"
     },
     "output_type": "display_data"
    }
   ],
   "source": [
    "%%time\n",
    "# update the results list \n",
    "results_02={}\n",
    "results_02['model'] = 'RandomF_TFIDF'\n",
    "results_02['vectorizer'] = 'tvec'\n",
    "\n",
    "# Set up a pipeline with tf-idf vectorizer and random forest\n",
    "pipe_tvec = Pipeline([\n",
    "    ('tvec', tvec), #this tvec object has been set to remove stop words\n",
    "    ('rf', rf)\n",
    "])\n",
    "\n",
    "#Preping for the gridsearch with random forest params\n",
    "rf_params = {\n",
    "    'rf__n_estimators': [50, 100, 250], # iterating over different number of trees in the forest\n",
    "    'rf__min_samples_split':[2,5,10], # minimum different elements in one features to split the tree further\n",
    "    'rf__max_depth': [10, 20]# iterating over a defined set of max depth of tree. For None, the nodes are expanded until all leaves are pure\n",
    "    }\n",
    "\n",
    "#using GridsearchCv to find the best parameters for this model\n",
    "gscv_rf = GridSearchCV(\n",
    "    pipe_tvec, \n",
    "    param_grid=rf_params, \n",
    "    cv=3, #cross validate our data\n",
    "    verbose =1,\n",
    "    n_jobs=-1)\n",
    "\n",
    "#fitting model\n",
    "gscv_rf.fit(X_train, y_train)\n",
    "\n",
    "#getting predictions to evaluate performance\n",
    "preds = gscv_rf.predict(X_test)\n",
    "\n",
    "tn, fp, fn, tp = confusion_matrix(y_test, preds).ravel()\n",
    "\n",
    "cm = confusion_matrix(y_test,preds)\n",
    "displ = ConfusionMatrixDisplay(cm)\n",
    "displ.plot();\n",
    "\n",
    "\n",
    "#getting the metrics ready\n",
    "f1score=f1_score(y_test,preds)\n",
    "precision=precision_score(y_test,preds)\n",
    "accuracy=accuracy_score(y_test,preds)\n",
    "recall=recall_score(y_test,preds)\n",
    "roc_auc=roc_auc_score(y_test,preds)\n",
    "\n",
    "#printing\n",
    "print(f'Our F1 score is : {f1_score(y_test,preds)}')\n",
    "print(f'Our Precision score is : {precision_score(y_test,preds)}')\n",
    "print(f'Our accuracy score is : {accuracy_score(y_test,preds)}')\n",
    "print(f'Our recall score is : {recall_score(y_test,preds)}')\n",
    "\n",
    "# update various metrics onto results list\n",
    "results_02['accuracy'] = accuracy\n",
    "results_02['recall'] = recall\n",
    "results_02['precision'] = precision\n",
    "results_02['f1_score'] = f1score\n",
    "results_02['roc_auc'] = roc_auc\n",
    "\n",
    "models_scores_list.append(results_02)"
   ]
  },
  {
   "cell_type": "markdown",
   "metadata": {},
   "source": [
    "Same with CVEC"
   ]
  },
  {
   "cell_type": "code",
   "execution_count": 26,
   "metadata": {},
   "outputs": [
    {
     "name": "stdout",
     "output_type": "stream",
     "text": [
      "Fitting 3 folds for each of 18 candidates, totalling 54 fits\n"
     ]
    },
    {
     "name": "stderr",
     "output_type": "stream",
     "text": [
      "c:\\Users\\galvi\\anaconda3\\lib\\site-packages\\sklearn\\feature_extraction\\text.py:404: UserWarning: Your stop_words may be inconsistent with your preprocessing. Tokenizing the stop words generated tokens ['dunkindonuts'] not in stop_words.\n",
      "  warnings.warn(\n"
     ]
    },
    {
     "name": "stdout",
     "output_type": "stream",
     "text": [
      "Our F1 score is : 0.7664281067013662\n",
      "Our Precision score is : 0.8843843843843844\n",
      "Our accuracy score is : 0.812532637075718\n",
      "Our recall score is : 0.6762342135476463\n",
      "CPU times: total: 2.34 s\n",
      "Wall time: 19.1 s\n"
     ]
    },
    {
     "data": {
      "image/png": "[encoded data removed]",
      "text/plain": [
       "<Figure size 432x288 with 2 Axes>"
      ]
     },
     "metadata": {
      "needs_background": "light"
     },
     "output_type": "display_data"
    }
   ],
   "source": [
    "%%time\n",
    "\n",
    "# update the results list \n",
    "results_03={}\n",
    "results_03['model'] = 'RandomF_CVEC'\n",
    "results_03['vectorizer'] = 'cvec'\n",
    "\n",
    "# Set up a pipeline with tf-idf vectorizer and random forest\n",
    "pipe_tvec = Pipeline([\n",
    "    ('cvec', cvec), #this tvec object has been set to remove stop words\n",
    "    ('rf', rf)\n",
    "])\n",
    "\n",
    "#Preping for the gridsearch with random forest params\n",
    "rf_params = {\n",
    "    'rf__n_estimators': [50, 100, 250], # iterating over different number of trees in the forest\n",
    "    'rf__min_samples_split':[2,5,10], # minimum different elements in one features to split the tree further\n",
    "    'rf__max_depth': [10, 20]# iterating over a defined set of max depth of tree. For None, the nodes are expanded until all leaves are pure\n",
    "    }\n",
    "\n",
    "#using GridsearchCv to find the best parameters for this model\n",
    "gscv_rf = GridSearchCV(\n",
    "    pipe_tvec, \n",
    "    param_grid=rf_params, \n",
    "    cv=3, #cross validate our data\n",
    "    verbose =1,\n",
    "    n_jobs=-1)\n",
    "\n",
    "\n",
    "gscv_rf.fit(X_train, y_train)\n",
    "#getting predictions to evaluate performance\n",
    "preds = gscv_rf.predict(X_test)\n",
    "\n",
    "tn, fp, fn, tp = confusion_matrix(y_test, preds).ravel()\n",
    "\n",
    "cm = confusion_matrix(y_test,preds)\n",
    "displ = ConfusionMatrixDisplay(cm)\n",
    "displ.plot();\n",
    "\n",
    "#getting the metrics ready\n",
    "\n",
    "f1score=f1_score(y_test,preds)\n",
    "precision=precision_score(y_test,preds)\n",
    "accuracy=accuracy_score(y_test,preds)\n",
    "recall=recall_score(y_test,preds)\n",
    "roc_auc=roc_auc_score(y_test,preds)\n",
    "\n",
    "#printing\n",
    "print(f'Our F1 score is : {f1_score(y_test,preds)}')\n",
    "print(f'Our Precision score is : {precision_score(y_test,preds)}')\n",
    "print(f'Our accuracy score is : {accuracy_score(y_test,preds)}')\n",
    "print(f'Our recall score is : {recall_score(y_test,preds)}')\n",
    "\n",
    "# update various metrics onto results list\n",
    "results_03['accuracy'] = accuracy\n",
    "results_03['recall'] = recall\n",
    "results_03['precision'] = precision\n",
    "results_03['f1_score'] = f1score\n",
    "results_03['roc_auc'] = roc_auc\n",
    "\n",
    "models_scores_list.append(results_03)"
   ]
  },
  {
   "cell_type": "markdown",
   "metadata": {},
   "source": [
    "## `Naive Bayes`\n",
    "---"
   ]
  },
  {
   "cell_type": "code",
   "execution_count": 27,
   "metadata": {},
   "outputs": [],
   "source": [
    "#Naive Bayes\n",
    "mNB =MultinomialNB() \n",
    "# because our predicted variable is 0 or 1 (DD or Starbcuks)\n",
    "#- [Multinomial Naive Bayes](https://scikit-learn.org/stable/modules/generated/sklearn.naive_bayes.MultinomialNB.html#sklearn.naive_bayes.MultinomialNB): \n",
    "# choose when our variables are positive integers or fractional counts. (we'll be using this mostly)\n",
    "#The multinomial Naive Bayes classifier is suitable for classification with discrete features (e.g., word counts for text classification). \n",
    "# The multinomial distribution normally requires integer feature counts. \n",
    "# However, in practice, fractional counts such as tf-idf may also work."
   ]
  },
  {
   "cell_type": "markdown",
   "metadata": {},
   "source": [
    "Starting with TFIDF"
   ]
  },
  {
   "cell_type": "code",
   "execution_count": 28,
   "metadata": {},
   "outputs": [
    {
     "name": "stdout",
     "output_type": "stream",
     "text": [
      "Fitting 5 folds for each of 3 candidates, totalling 15 fits\n"
     ]
    },
    {
     "name": "stderr",
     "output_type": "stream",
     "text": [
      "c:\\Users\\galvi\\anaconda3\\lib\\site-packages\\sklearn\\feature_extraction\\text.py:404: UserWarning: Your stop_words may be inconsistent with your preprocessing. Tokenizing the stop words generated tokens ['dunkindonuts'] not in stop_words.\n",
      "  warnings.warn(\n"
     ]
    },
    {
     "name": "stdout",
     "output_type": "stream",
     "text": [
      "Our F1 score is : 0.8042704626334519\n",
      "Our Precision score is : 0.8319018404907975\n",
      "Our accuracy score is : 0.8276762402088773\n",
      "Our recall score is : 0.7784156142365097\n"
     ]
    },
    {
     "data": {
      "image/png": "[encoded data removed]",
      "text/plain": [
       "<Figure size 432x288 with 2 Axes>"
      ]
     },
     "metadata": {
      "needs_background": "light"
     },
     "output_type": "display_data"
    }
   ],
   "source": [
    "results_04={}\n",
    "results_04['model'] = 'NaiveB_TFIDF'\n",
    "results_04['vectorizer'] = 'tvec'\n",
    "\n",
    "# Instantiating a pipeline.\n",
    "text_clf_pipe = Pipeline(\n",
    "    [\n",
    "    ('tvec', tvec),\n",
    "    ('mNB', mNB)\n",
    "    ])\n",
    "\n",
    "#define params for GridSearchCV \n",
    "params_MNB = [\n",
    "    {\"mNB__alpha\":[0.1,0.5,1]\n",
    "    }\n",
    "]\n",
    "\n",
    "#define gridsearch:\n",
    "gs_mnb = GridSearchCV(\n",
    "    text_clf_pipe, \n",
    "    param_grid= params_MNB,\n",
    "    cv=5,\n",
    "    verbose=1,\n",
    "    n_jobs=-1\n",
    "    )\n",
    "\n",
    "#fitting model\n",
    "gs_mnb.fit(X_train,y_train)\n",
    "\n",
    "#getting predictions\n",
    "preds = gs_mnb.predict(X_test)\n",
    "\n",
    "#plotting confusion matrix\n",
    "tn, fp, fn, tp = confusion_matrix(y_test, preds).ravel()\n",
    "cm = confusion_matrix(y_test,preds)\n",
    "displ = ConfusionMatrixDisplay(cm)\n",
    "displ.plot();\n",
    "\n",
    "\n",
    "#getting the metrics ready\n",
    "f1score=f1_score(y_test,preds)\n",
    "precision=precision_score(y_test,preds)\n",
    "accuracy=accuracy_score(y_test,preds)\n",
    "recall=recall_score(y_test,preds)\n",
    "roc_auc=roc_auc_score(y_test,preds)\n",
    "\n",
    "print(f'Our F1 score is : {f1_score(y_test,preds)}')\n",
    "print(f'Our Precision score is : {precision_score(y_test,preds)}')\n",
    "print(f'Our accuracy score is : {accuracy_score(y_test,preds)}')\n",
    "print(f'Our recall score is : {recall_score(y_test,preds)}')\n",
    "\n",
    "# update various metrics onto results list\n",
    "results_04['accuracy'] = accuracy\n",
    "results_04['recall'] = recall\n",
    "results_04['precision'] = precision\n",
    "results_04['f1_score'] = f1score\n",
    "results_04['roc_auc'] = roc_auc\n",
    "\n",
    "models_scores_list.append(results_04)"
   ]
  },
  {
   "cell_type": "markdown",
   "metadata": {},
   "source": [
    "Naive Bayes with CVEC"
   ]
  },
  {
   "cell_type": "code",
   "execution_count": 29,
   "metadata": {},
   "outputs": [
    {
     "name": "stdout",
     "output_type": "stream",
     "text": [
      "Fitting 5 folds for each of 3 candidates, totalling 15 fits\n"
     ]
    },
    {
     "name": "stderr",
     "output_type": "stream",
     "text": [
      "c:\\Users\\galvi\\anaconda3\\lib\\site-packages\\sklearn\\feature_extraction\\text.py:404: UserWarning: Your stop_words may be inconsistent with your preprocessing. Tokenizing the stop words generated tokens ['dunkindonuts'] not in stop_words.\n",
      "  warnings.warn(\n"
     ]
    },
    {
     "name": "stdout",
     "output_type": "stream",
     "text": [
      "Our F1 score is : 0.8097949886104784\n",
      "Our Precision score is : 0.8033898305084746\n",
      "Our accuracy score is : 0.8255874673629243\n",
      "Our recall score is : 0.8163030998851895\n"
     ]
    },
    {
     "data": {
      "image/png": "[encoded data removed]",
      "text/plain": [
       "<Figure size 432x288 with 2 Axes>"
      ]
     },
     "metadata": {
      "needs_background": "light"
     },
     "output_type": "display_data"
    }
   ],
   "source": [
    "results_05={}\n",
    "results_05['model'] = 'NaiveB_CVEC'\n",
    "results_05['vectorizer'] = 'cvec'\n",
    "\n",
    "# Instantiating a pipeline.\n",
    "text_clf_pipe = Pipeline(\n",
    "    [\n",
    "    ('cvec', cvec),\n",
    "    ('mNB', mNB)\n",
    "    ])\n",
    "\n",
    "#define params for GridSearchCV \n",
    "params_MNB = [\n",
    "    {\"mNB__alpha\":[0.1,0.5,1]\n",
    "    }\n",
    "]\n",
    "\n",
    "#define gridsearch:\n",
    "gs_mnb = GridSearchCV(\n",
    "    text_clf_pipe, \n",
    "    param_grid= params_MNB,\n",
    "    cv=5,\n",
    "    verbose=1,\n",
    "    n_jobs=-1\n",
    "    )\n",
    "\n",
    "#fitting model\n",
    "gs_mnb.fit(X_train,y_train)\n",
    "\n",
    "#getting predictions\n",
    "preds = gs_mnb.predict(X_test)\n",
    "\n",
    "#plotting confusion matrix\n",
    "tn, fp, fn, tp = confusion_matrix(y_test, preds).ravel()\n",
    "cm = confusion_matrix(y_test,preds)\n",
    "displ = ConfusionMatrixDisplay(cm)\n",
    "displ.plot();\n",
    "\n",
    "\n",
    "#getting the metrics ready\n",
    "f1score=f1_score(y_test,preds)\n",
    "precision=precision_score(y_test,preds)\n",
    "accuracy=accuracy_score(y_test,preds)\n",
    "recall=recall_score(y_test,preds)\n",
    "roc_auc=roc_auc_score(y_test,preds)\n",
    "\n",
    "print(f'Our F1 score is : {f1_score(y_test,preds)}')\n",
    "print(f'Our Precision score is : {precision_score(y_test,preds)}')\n",
    "print(f'Our accuracy score is : {accuracy_score(y_test,preds)}')\n",
    "print(f'Our recall score is : {recall_score(y_test,preds)}')\n",
    "\n",
    "# update various metrics onto results list\n",
    "results_05['accuracy'] = accuracy\n",
    "results_05['recall'] = recall\n",
    "results_05['precision'] = precision\n",
    "results_05['f1_score'] = f1score\n",
    "results_05['roc_auc'] = roc_auc\n",
    "\n",
    "models_scores_list.append(results_05)"
   ]
  },
  {
   "cell_type": "markdown",
   "metadata": {},
   "source": [
    "## `Logistic Regression`\n",
    "---"
   ]
  },
  {
   "cell_type": "markdown",
   "metadata": {},
   "source": [
    "Logistic regression is a supervised machine learning algorithm used for classification purposes. It is used when the data is in the form of binary, i.e., 0 and 1. We can use two functions for binary values,viz logistic function and sigmoid function\n",
    "*https://www.sciencedirect.com/science/article/pii/S2666412722000101#:~:text=Logistic%20regression%20is%20a%20supervised,from%20one%20category%20or%20another.*"
   ]
  },
  {
   "cell_type": "code",
   "execution_count": 30,
   "metadata": {},
   "outputs": [],
   "source": [
    "#LogisticRegression\n",
    "lr= LogisticRegression()"
   ]
  },
  {
   "cell_type": "markdown",
   "metadata": {},
   "source": [
    "LR with TF-IDF"
   ]
  },
  {
   "cell_type": "code",
   "execution_count": 31,
   "metadata": {},
   "outputs": [
    {
     "name": "stdout",
     "output_type": "stream",
     "text": [
      "Fitting 5 folds for each of 6 candidates, totalling 30 fits\n"
     ]
    },
    {
     "name": "stderr",
     "output_type": "stream",
     "text": [
      "c:\\Users\\galvi\\anaconda3\\lib\\site-packages\\sklearn\\model_selection\\_validation.py:378: FitFailedWarning: \n",
      "15 fits failed out of a total of 30.\n",
      "The score on these train-test partitions for these parameters will be set to nan.\n",
      "If these failures are not expected, you can try to debug them by setting error_score='raise'.\n",
      "\n",
      "Below are more details about the failures:\n",
      "--------------------------------------------------------------------------------\n",
      "15 fits failed with the following error:\n",
      "Traceback (most recent call last):\n",
      "  File \"c:\\Users\\galvi\\anaconda3\\lib\\site-packages\\sklearn\\model_selection\\_validation.py\", line 686, in _fit_and_score\n",
      "    estimator.fit(X_train, y_train, **fit_params)\n",
      "  File \"c:\\Users\\galvi\\anaconda3\\lib\\site-packages\\sklearn\\pipeline.py\", line 382, in fit\n",
      "    self._final_estimator.fit(Xt, y, **fit_params_last_step)\n",
      "  File \"c:\\Users\\galvi\\anaconda3\\lib\\site-packages\\sklearn\\linear_model\\_logistic.py\", line 1091, in fit\n",
      "    solver = _check_solver(self.solver, self.penalty, self.dual)\n",
      "  File \"c:\\Users\\galvi\\anaconda3\\lib\\site-packages\\sklearn\\linear_model\\_logistic.py\", line 61, in _check_solver\n",
      "    raise ValueError(\n",
      "ValueError: Solver lbfgs supports only 'l2' or 'none' penalties, got l1 penalty.\n",
      "\n",
      "  warnings.warn(some_fits_failed_message, FitFailedWarning)\n",
      "c:\\Users\\galvi\\anaconda3\\lib\\site-packages\\sklearn\\model_selection\\_search.py:953: UserWarning: One or more of the test scores are non-finite: [       nan 0.74729945        nan 0.79876593        nan 0.81163396]\n",
      "  warnings.warn(\n",
      "c:\\Users\\galvi\\anaconda3\\lib\\site-packages\\sklearn\\feature_extraction\\text.py:404: UserWarning: Your stop_words may be inconsistent with your preprocessing. Tokenizing the stop words generated tokens ['dunkindonuts'] not in stop_words.\n",
      "  warnings.warn(\n"
     ]
    },
    {
     "name": "stdout",
     "output_type": "stream",
     "text": [
      "Our F1 score is : 0.8007334963325183\n",
      "Our Precision score is : 0.8562091503267973\n",
      "Our accuracy score is : 0.8297650130548303\n",
      "Our recall score is : 0.7520091848450058\n"
     ]
    },
    {
     "data": {
      "image/png": "[encoded data removed]",
      "text/plain": [
       "<Figure size 432x288 with 2 Axes>"
      ]
     },
     "metadata": {
      "needs_background": "light"
     },
     "output_type": "display_data"
    }
   ],
   "source": [
    "# Instantiating a pipeline.\n",
    "results_06={}\n",
    "results_06['model'] = 'LogisticR_TFIDF'\n",
    "results_06['vectorizer'] = 'tvec'\n",
    "\n",
    "text_clf_pipe = Pipeline(\n",
    "    [\n",
    "    ('tvec', tvec),\n",
    "    ('lr_class', lr)\n",
    "    ])\n",
    "\n",
    "#define params for GridSearchCV \n",
    "params_lr = [\n",
    "    {\"lr_class__penalty\":['l1','l2'],\n",
    "    \"lr_class__C\":[0.1,0.5,1] #Inverse of regularization strength; must be a positive float. Like in support vector machines, smaller values specify stronger regularization.\n",
    "    }\n",
    "]\n",
    "\n",
    "#define gridsearch:\n",
    "gs_lr = GridSearchCV(\n",
    "    text_clf_pipe, \n",
    "    param_grid= params_lr,\n",
    "    cv=5,\n",
    "    verbose=1,\n",
    "    n_jobs=-1\n",
    "    )\n",
    "\n",
    "#fitting model\n",
    "gs_lr.fit(X_train,y_train)\n",
    "\n",
    "#getting predictions\n",
    "preds = gs_lr.predict(X_test)\n",
    "\n",
    "#displaying confusion matrix\n",
    "tn, fp, fn, tp = confusion_matrix(y_test, preds).ravel()\n",
    "cm = confusion_matrix(y_test,preds)\n",
    "displ = ConfusionMatrixDisplay(cm)\n",
    "displ.plot();\n",
    "\n",
    "#getting the metrics ready\n",
    "f1score=f1_score(y_test,preds)\n",
    "precision=precision_score(y_test,preds)\n",
    "accuracy=accuracy_score(y_test,preds)\n",
    "recall=recall_score(y_test,preds)\n",
    "roc_auc=roc_auc_score(y_test,preds)\n",
    "\n",
    "print(f'Our F1 score is : {f1_score(y_test,preds)}')\n",
    "print(f'Our Precision score is : {precision_score(y_test,preds)}')\n",
    "print(f'Our accuracy score is : {accuracy_score(y_test,preds)}')\n",
    "print(f'Our recall score is : {recall_score(y_test,preds)}')\n",
    "\n",
    "# update various metrics onto results list\n",
    "results_06['accuracy'] = accuracy\n",
    "results_06['recall'] = recall\n",
    "results_06['precision'] = precision\n",
    "results_06['f1_score'] = f1score\n",
    "results_06['roc_auc'] = roc_auc\n",
    "\n",
    "models_scores_list.append(results_06)"
   ]
  },
  {
   "cell_type": "markdown",
   "metadata": {},
   "source": [
    "LR with CVEC"
   ]
  },
  {
   "cell_type": "code",
   "execution_count": 32,
   "metadata": {},
   "outputs": [
    {
     "name": "stdout",
     "output_type": "stream",
     "text": [
      "Fitting 5 folds for each of 6 candidates, totalling 30 fits\n"
     ]
    },
    {
     "name": "stderr",
     "output_type": "stream",
     "text": [
      "c:\\Users\\galvi\\anaconda3\\lib\\site-packages\\sklearn\\model_selection\\_validation.py:378: FitFailedWarning: \n",
      "15 fits failed out of a total of 30.\n",
      "The score on these train-test partitions for these parameters will be set to nan.\n",
      "If these failures are not expected, you can try to debug them by setting error_score='raise'.\n",
      "\n",
      "Below are more details about the failures:\n",
      "--------------------------------------------------------------------------------\n",
      "15 fits failed with the following error:\n",
      "Traceback (most recent call last):\n",
      "  File \"c:\\Users\\galvi\\anaconda3\\lib\\site-packages\\sklearn\\model_selection\\_validation.py\", line 686, in _fit_and_score\n",
      "    estimator.fit(X_train, y_train, **fit_params)\n",
      "  File \"c:\\Users\\galvi\\anaconda3\\lib\\site-packages\\sklearn\\pipeline.py\", line 382, in fit\n",
      "    self._final_estimator.fit(Xt, y, **fit_params_last_step)\n",
      "  File \"c:\\Users\\galvi\\anaconda3\\lib\\site-packages\\sklearn\\linear_model\\_logistic.py\", line 1091, in fit\n",
      "    solver = _check_solver(self.solver, self.penalty, self.dual)\n",
      "  File \"c:\\Users\\galvi\\anaconda3\\lib\\site-packages\\sklearn\\linear_model\\_logistic.py\", line 61, in _check_solver\n",
      "    raise ValueError(\n",
      "ValueError: Solver lbfgs supports only 'l2' or 'none' penalties, got l1 penalty.\n",
      "\n",
      "  warnings.warn(some_fits_failed_message, FitFailedWarning)\n",
      "c:\\Users\\galvi\\anaconda3\\lib\\site-packages\\sklearn\\model_selection\\_search.py:953: UserWarning: One or more of the test scores are non-finite: [       nan 0.81240947        nan 0.81498149        nan 0.81446669]\n",
      "  warnings.warn(\n",
      "c:\\Users\\galvi\\anaconda3\\lib\\site-packages\\sklearn\\feature_extraction\\text.py:404: UserWarning: Your stop_words may be inconsistent with your preprocessing. Tokenizing the stop words generated tokens ['dunkindonuts'] not in stop_words.\n",
      "  warnings.warn(\n"
     ]
    },
    {
     "name": "stdout",
     "output_type": "stream",
     "text": [
      "Our F1 score is : 0.8181296615031554\n",
      "Our Precision score is : 0.8176605504587156\n",
      "Our accuracy score is : 0.8344647519582246\n",
      "Our recall score is : 0.8185993111366245\n"
     ]
    },
    {
     "data": {
      "image/png": "[encoded data removed]",
      "text/plain": [
       "<Figure size 432x288 with 2 Axes>"
      ]
     },
     "metadata": {
      "needs_background": "light"
     },
     "output_type": "display_data"
    }
   ],
   "source": [
    "# Instantiating a pipeline.\n",
    "results_07={}\n",
    "results_07['model'] = 'LogisticR_CVEC'\n",
    "results_07['vectorizer'] = 'cvec'\n",
    "\n",
    "text_clf_pipe = Pipeline(\n",
    "    [\n",
    "    ('cvec', cvec),\n",
    "    ('lr_class', lr)\n",
    "    ])\n",
    "\n",
    "#define params for GridSearchCV \n",
    "params_lr = [\n",
    "    {\"lr_class__penalty\":['l1','l2'],\n",
    "    \"lr_class__C\":[0.1,0.5,1] #Inverse of regularization strength; must be a positive float. Like in support vector machines, smaller values specify stronger regularization.\n",
    "    }\n",
    "]\n",
    "\n",
    "#define gridsearch:\n",
    "gs_lr = GridSearchCV(\n",
    "    text_clf_pipe, \n",
    "    param_grid= params_lr,\n",
    "    cv=5,\n",
    "    verbose=1,\n",
    "    n_jobs=-1\n",
    "    )\n",
    "\n",
    "#fitting model\n",
    "gs_lr.fit(X_train,y_train)\n",
    "\n",
    "#getting predictions\n",
    "preds = gs_lr.predict(X_test)\n",
    "\n",
    "#displaying confusion matrix\n",
    "tn, fp, fn, tp = confusion_matrix(y_test, preds).ravel()\n",
    "cm = confusion_matrix(y_test,preds)\n",
    "displ = ConfusionMatrixDisplay(cm)\n",
    "displ.plot();\n",
    "\n",
    "#getting the metrics ready\n",
    "f1score=f1_score(y_test,preds)\n",
    "precision=precision_score(y_test,preds)\n",
    "accuracy=accuracy_score(y_test,preds)\n",
    "recall=recall_score(y_test,preds)\n",
    "roc_auc=roc_auc_score(y_test,preds)\n",
    "\n",
    "print(f'Our F1 score is : {f1_score(y_test,preds)}')\n",
    "print(f'Our Precision score is : {precision_score(y_test,preds)}')\n",
    "print(f'Our accuracy score is : {accuracy_score(y_test,preds)}')\n",
    "print(f'Our recall score is : {recall_score(y_test,preds)}')\n",
    "\n",
    "# update various metrics onto results list\n",
    "results_07['accuracy'] = accuracy\n",
    "results_07['recall'] = recall\n",
    "results_07['precision'] = precision\n",
    "results_07['f1_score'] = f1score\n",
    "results_07['roc_auc'] = roc_auc\n",
    "\n",
    "models_scores_list.append(results_07)"
   ]
  },
  {
   "cell_type": "code",
   "execution_count": 33,
   "metadata": {},
   "outputs": [
    {
     "name": "stderr",
     "output_type": "stream",
     "text": [
      "c:\\Users\\galvi\\anaconda3\\lib\\site-packages\\sklearn\\utils\\deprecation.py:87: FutureWarning: Function plot_roc_curve is deprecated; Function :func:`plot_roc_curve` is deprecated in 1.0 and will be removed in 1.2. Use one of the class methods: :meth:`sklearn.metric.RocCurveDisplay.from_predictions` or :meth:`sklearn.metric.RocCurveDisplay.from_estimator`.\n",
      "  warnings.warn(msg, category=FutureWarning)\n"
     ]
    },
    {
     "data": {
      "image/png": "[encoded data removed]",
      "text/plain": [
       "<Figure size 432x288 with 1 Axes>"
      ]
     },
     "metadata": {
      "needs_background": "light"
     },
     "output_type": "display_data"
    }
   ],
   "source": [
    "# plot the ROC curve\n",
    "plot_roc_curve(gs_lr.best_estimator_, X_test, y_test);\n",
    "\n",
    "# add the 50-50 scenario\n",
    "plt.plot([0,1], [0,1],\n",
    "         label = 'baseline',\n",
    "         linestyle = '--');\n",
    "\n",
    "# add a legend\n",
    "plt.legend();"
   ]
  },
  {
   "cell_type": "markdown",
   "metadata": {},
   "source": [
    "Logisitic regression tops all classification metrics and seems to be a clear winner for our goal. <br>\n",
    "We wanted to be able to classify with **high accuracy** which subreddit does a comment or post belong to.\n",
    "<br>"
   ]
  },
  {
   "cell_type": "markdown",
   "metadata": {},
   "source": [
    "**Logistic regression provides the best results to classify our posts** We have not evaluated the performance compared to the training set for each model but from the baseline comparison, we see that training score is close to testing score, so we conclude that the model is not significantly overfit"
   ]
  },
  {
   "cell_type": "markdown",
   "metadata": {},
   "source": [
    "### `On to metrics comparison`"
   ]
  },
  {
   "cell_type": "markdown",
   "metadata": {},
   "source": [
    "With the help of lesson notebook + *https://towardsdatascience.com/confusion-matrix-un-confused-1ba98dee0d7f*"
   ]
  },
  {
   "cell_type": "code",
   "execution_count": 35,
   "metadata": {},
   "outputs": [
    {
     "data": {
      "text/html": [
       "<div>\n",
       "<style scoped>\n",
       "    .dataframe tbody tr th:only-of-type {\n",
       "        vertical-align: middle;\n",
       "    }\n",
       "\n",
       "    .dataframe tbody tr th {\n",
       "        vertical-align: top;\n",
       "    }\n",
       "\n",
       "    .dataframe thead th {\n",
       "        text-align: right;\n",
       "    }\n",
       "</style>\n",
       "<table border=\"1\" class=\"dataframe\">\n",
       "  <thead>\n",
       "    <tr style=\"text-align: right;\">\n",
       "      <th></th>\n",
       "      <th>model</th>\n",
       "      <th>vectorizer</th>\n",
       "      <th>accuracy</th>\n",
       "      <th>recall</th>\n",
       "      <th>precision</th>\n",
       "      <th>f1_score</th>\n",
       "      <th>roc_auc</th>\n",
       "    </tr>\n",
       "  </thead>\n",
       "  <tbody>\n",
       "    <tr>\n",
       "      <th>0</th>\n",
       "      <td>pipe_tvec</td>\n",
       "      <td>tvec</td>\n",
       "      <td>0.810966</td>\n",
       "      <td>0.704937</td>\n",
       "      <td>0.853964</td>\n",
       "      <td>0.772327</td>\n",
       "      <td>0.802181</td>\n",
       "    </tr>\n",
       "    <tr>\n",
       "      <th>1</th>\n",
       "      <td>RandomF_TFIDF</td>\n",
       "      <td>tvec</td>\n",
       "      <td>0.800000</td>\n",
       "      <td>0.671642</td>\n",
       "      <td>0.857771</td>\n",
       "      <td>0.753381</td>\n",
       "      <td>0.789365</td>\n",
       "    </tr>\n",
       "    <tr>\n",
       "      <th>2</th>\n",
       "      <td>RandomF_CVEC</td>\n",
       "      <td>cvec</td>\n",
       "      <td>0.812533</td>\n",
       "      <td>0.676234</td>\n",
       "      <td>0.884384</td>\n",
       "      <td>0.766428</td>\n",
       "      <td>0.801240</td>\n",
       "    </tr>\n",
       "    <tr>\n",
       "      <th>3</th>\n",
       "      <td>NaiveB_TFIDF</td>\n",
       "      <td>tvec</td>\n",
       "      <td>0.827676</td>\n",
       "      <td>0.778416</td>\n",
       "      <td>0.831902</td>\n",
       "      <td>0.804270</td>\n",
       "      <td>0.823595</td>\n",
       "    </tr>\n",
       "    <tr>\n",
       "      <th>4</th>\n",
       "      <td>NaiveB_CVEC</td>\n",
       "      <td>cvec</td>\n",
       "      <td>0.825587</td>\n",
       "      <td>0.816303</td>\n",
       "      <td>0.803390</td>\n",
       "      <td>0.809795</td>\n",
       "      <td>0.824818</td>\n",
       "    </tr>\n",
       "    <tr>\n",
       "      <th>5</th>\n",
       "      <td>LogisticR_TFIDF</td>\n",
       "      <td>tvec</td>\n",
       "      <td>0.829765</td>\n",
       "      <td>0.752009</td>\n",
       "      <td>0.856209</td>\n",
       "      <td>0.800733</td>\n",
       "      <td>0.823323</td>\n",
       "    </tr>\n",
       "    <tr>\n",
       "      <th>6</th>\n",
       "      <td>LogisticR_CVEC</td>\n",
       "      <td>cvec</td>\n",
       "      <td>0.834465</td>\n",
       "      <td>0.818599</td>\n",
       "      <td>0.817661</td>\n",
       "      <td>0.818130</td>\n",
       "      <td>0.833150</td>\n",
       "    </tr>\n",
       "  </tbody>\n",
       "</table>\n",
       "</div>"
      ],
      "text/plain": [
       "             model vectorizer  accuracy    recall  precision  f1_score  \\\n",
       "0        pipe_tvec       tvec  0.810966  0.704937   0.853964  0.772327   \n",
       "1    RandomF_TFIDF       tvec  0.800000  0.671642   0.857771  0.753381   \n",
       "2     RandomF_CVEC       cvec  0.812533  0.676234   0.884384  0.766428   \n",
       "3     NaiveB_TFIDF       tvec  0.827676  0.778416   0.831902  0.804270   \n",
       "4      NaiveB_CVEC       cvec  0.825587  0.816303   0.803390  0.809795   \n",
       "5  LogisticR_TFIDF       tvec  0.829765  0.752009   0.856209  0.800733   \n",
       "6   LogisticR_CVEC       cvec  0.834465  0.818599   0.817661  0.818130   \n",
       "\n",
       "    roc_auc  \n",
       "0  0.802181  \n",
       "1  0.789365  \n",
       "2  0.801240  \n",
       "3  0.823595  \n",
       "4  0.824818  \n",
       "5  0.823323  \n",
       "6  0.833150  "
      ]
     },
     "execution_count": 35,
     "metadata": {},
     "output_type": "execute_result"
    }
   ],
   "source": [
    "metrics_df = pd.DataFrame(models_scores_list)\n",
    "metrics_df.head(10)"
   ]
  },
  {
   "cell_type": "markdown",
   "metadata": {},
   "source": [
    "Accuracy is our key metric here; <br>\n",
    "First, all models seems to be performing well, around 80% accuracy, which means our data processing is not completely wrong ( the model makes mistakes but is able to get the majority of the subreddits correctly; **most important, it beats our baseline**)\n",
    "\n",
    "**Logistic Regression** is our preferred model for this task and we would recommend Reddit to use it to classify posts.\n",
    "<br>Reminder of Logistic regression strengths:<br>\n",
    "- Quick to train data\n",
    "- Work well for categorical data\n",
    "- Simple parameterEstimation"
   ]
  },
  {
   "cell_type": "markdown",
   "metadata": {},
   "source": [
    "## `Going further - sentiment analysis with Vader`\n",
    "---"
   ]
  },
  {
   "cell_type": "markdown",
   "metadata": {},
   "source": [
    "We could include a sentiment analysis feature in our post to filter for Starbucks / Dunkin. This would allow marketing teams to go and read specific comments without searching for too long"
   ]
  },
  {
   "cell_type": "code",
   "execution_count": 36,
   "metadata": {},
   "outputs": [],
   "source": [
    "from nltk.sentiment.vader import SentimentIntensityAnalyzer # analyze sentiments using Vader library (implemented from technical paper)\n",
    "sentiment = SentimentIntensityAnalyzer()\n",
    "tokenizer = RegexpTokenizer(r'\\w+')"
   ]
  },
  {
   "cell_type": "code",
   "execution_count": 37,
   "metadata": {},
   "outputs": [
    {
     "data": {
      "text/plain": [
       "['a',\n",
       " 'few',\n",
       " 'week',\n",
       " 'ago',\n",
       " 'someone',\n",
       " 'posted',\n",
       " 'a',\n",
       " 'comment',\n",
       " 'about',\n",
       " 'changing',\n",
       " 'the',\n",
       " 'zip',\n",
       " 'code',\n",
       " 'in',\n",
       " 'the',\n",
       " 'app',\n",
       " 'to',\n",
       " '90001',\n",
       " 'to',\n",
       " 'get',\n",
       " 'in',\n",
       " 'early',\n",
       " 'on',\n",
       " 'the',\n",
       " 'new',\n",
       " 'reward',\n",
       " 'program',\n",
       " 'which',\n",
       " 'suck',\n",
       " 'and',\n",
       " 'getting',\n",
       " 'a',\n",
       " 'free',\n",
       " 'medium',\n",
       " 'coffee',\n",
       " 'by',\n",
       " 'doing',\n",
       " 'so',\n",
       " 'well',\n",
       " 'i',\n",
       " 'did',\n",
       " 'it',\n",
       " 'and',\n",
       " 'now',\n",
       " 'i',\n",
       " 'cannot',\n",
       " 'change',\n",
       " 'it',\n",
       " 'back',\n",
       " 'to',\n",
       " 'my',\n",
       " 'actual',\n",
       " 'zip',\n",
       " 'code',\n",
       " '2838',\n",
       " 'mile',\n",
       " 'to',\n",
       " 'the',\n",
       " 'east',\n",
       " 'not',\n",
       " 'only',\n",
       " 'have',\n",
       " 'i',\n",
       " 'not',\n",
       " 'been',\n",
       " 'able',\n",
       " 'to',\n",
       " 'get',\n",
       " 'the',\n",
       " 'free',\n",
       " 'medium',\n",
       " 'coffee',\n",
       " 'but',\n",
       " 'any',\n",
       " 'of',\n",
       " 'the',\n",
       " 'reward',\n",
       " 'offer',\n",
       " 'ive',\n",
       " 'selected',\n",
       " 'are',\n",
       " 'redeemable',\n",
       " 'in',\n",
       " 'california',\n",
       " 'only',\n",
       " 'ive',\n",
       " 'tried',\n",
       " 'deleting',\n",
       " 'and',\n",
       " 're',\n",
       " 'installing',\n",
       " 'app',\n",
       " 'amp',\n",
       " 'accessing',\n",
       " 'account',\n",
       " 'on',\n",
       " 'line',\n",
       " 'to',\n",
       " 'change',\n",
       " 'it',\n",
       " 'but',\n",
       " 'the',\n",
       " 'zip',\n",
       " 'code',\n",
       " 'field',\n",
       " 'is',\n",
       " 'locked',\n",
       " 'i',\n",
       " 'will',\n",
       " 'email',\n",
       " 'their',\n",
       " 'customer',\n",
       " 'support',\n",
       " 'but',\n",
       " 'i',\n",
       " 'figured',\n",
       " 'i',\n",
       " 'would',\n",
       " 'a',\n",
       " 'here',\n",
       " 'first',\n",
       " 'thanks']"
      ]
     },
     "execution_count": 37,
     "metadata": {},
     "output_type": "execute_result"
    }
   ],
   "source": [
    "#running tokenizer on the first comment\n",
    "first_comment = tokenizer.tokenize(df_concat['selftext_lemmatized'][1])\n",
    "first_comment"
   ]
  },
  {
   "cell_type": "code",
   "execution_count": 38,
   "metadata": {},
   "outputs": [
    {
     "data": {
      "text/plain": [
       "{'neg': 0.015, 'neu': 0.819, 'pos': 0.165, 'compound': 0.9585}"
      ]
     },
     "execution_count": 38,
     "metadata": {},
     "output_type": "execute_result"
    }
   ],
   "source": [
    "sentiment.polarity_scores(df_concat['selftext_lemmatized'][1])"
   ]
  },
  {
   "cell_type": "markdown",
   "metadata": {},
   "source": [
    "Let's tag each comment with a sentiment prediction from VADER to analyze the data further"
   ]
  },
  {
   "cell_type": "code",
   "execution_count": 39,
   "metadata": {},
   "outputs": [],
   "source": [
    "df_concat['vader_sentiment_pred']=''"
   ]
  },
  {
   "cell_type": "code",
   "execution_count": 40,
   "metadata": {},
   "outputs": [
    {
     "data": {
      "text/html": [
       "<div>\n",
       "<style scoped>\n",
       "    .dataframe tbody tr th:only-of-type {\n",
       "        vertical-align: middle;\n",
       "    }\n",
       "\n",
       "    .dataframe tbody tr th {\n",
       "        vertical-align: top;\n",
       "    }\n",
       "\n",
       "    .dataframe thead th {\n",
       "        text-align: right;\n",
       "    }\n",
       "</style>\n",
       "<table border=\"1\" class=\"dataframe\">\n",
       "  <thead>\n",
       "    <tr style=\"text-align: right;\">\n",
       "      <th></th>\n",
       "      <th>subreddit</th>\n",
       "      <th>selftext</th>\n",
       "      <th>len_posts</th>\n",
       "      <th>selftext_lemmatized</th>\n",
       "      <th>vader_sentiment_pred</th>\n",
       "    </tr>\n",
       "  </thead>\n",
       "  <tbody>\n",
       "    <tr>\n",
       "      <th>0</th>\n",
       "      <td>1</td>\n",
       "      <td>pumpkin small: $1.99\\n\\noriginal small: $2.29\\...</td>\n",
       "      <td>282</td>\n",
       "      <td>pumpkin small 1 99 original small 2 29 pumpkin...</td>\n",
       "      <td>1</td>\n",
       "    </tr>\n",
       "    <tr>\n",
       "      <th>1</th>\n",
       "      <td>1</td>\n",
       "      <td>a few weeks ago someone posted a comment about...</td>\n",
       "      <td>622</td>\n",
       "      <td>a few week ago someone posted a comment about ...</td>\n",
       "      <td>1</td>\n",
       "    </tr>\n",
       "    <tr>\n",
       "      <th>2</th>\n",
       "      <td>1</td>\n",
       "      <td>our nearest dunkin is a bit of a drive, and th...</td>\n",
       "      <td>212</td>\n",
       "      <td>our nearest dunkin is a bit of a drive and the...</td>\n",
       "      <td>1</td>\n",
       "    </tr>\n",
       "    <tr>\n",
       "      <th>3</th>\n",
       "      <td>1</td>\n",
       "      <td>how do i ask for an extra shot of flavor in th...</td>\n",
       "      <td>379</td>\n",
       "      <td>how do i ask for an extra shot of flavor in th...</td>\n",
       "      <td>1</td>\n",
       "    </tr>\n",
       "    <tr>\n",
       "      <th>4</th>\n",
       "      <td>1</td>\n",
       "      <td>i’ve used a can of monster and a variable amou...</td>\n",
       "      <td>134</td>\n",
       "      <td>i ve used a can of monster and a variable amou...</td>\n",
       "      <td>1</td>\n",
       "    </tr>\n",
       "  </tbody>\n",
       "</table>\n",
       "</div>"
      ],
      "text/plain": [
       "   subreddit                                           selftext  len_posts  \\\n",
       "0          1  pumpkin small: $1.99\\n\\noriginal small: $2.29\\...        282   \n",
       "1          1  a few weeks ago someone posted a comment about...        622   \n",
       "2          1  our nearest dunkin is a bit of a drive, and th...        212   \n",
       "3          1  how do i ask for an extra shot of flavor in th...        379   \n",
       "4          1  i’ve used a can of monster and a variable amou...        134   \n",
       "\n",
       "                                 selftext_lemmatized  vader_sentiment_pred  \n",
       "0  pumpkin small 1 99 original small 2 29 pumpkin...                     1  \n",
       "1  a few week ago someone posted a comment about ...                     1  \n",
       "2  our nearest dunkin is a bit of a drive and the...                     1  \n",
       "3  how do i ask for an extra shot of flavor in th...                     1  \n",
       "4  i ve used a can of monster and a variable amou...                     1  "
      ]
     },
     "execution_count": 40,
     "metadata": {},
     "output_type": "execute_result"
    }
   ],
   "source": [
    "def vader_sentiment_pred(review):\n",
    "    vader_output = sentiment.polarity_scores(review)\n",
    "# we're writing custom transformation because Vader uses a threshold of 0.05 to account for a 3rd Neutral sentiment that we don't have in our data set    \n",
    "    if vader_output['compound'] < 0: # converting 'compound' polarity_score to 0s and 1s\n",
    "        # negative\n",
    "        return 0\n",
    "    else:\n",
    "        # positive\n",
    "        return 1\n",
    "\n",
    "df_concat['vader_sentiment_pred'] = df_concat['selftext_lemmatized'].apply(vader_sentiment_pred)\n",
    "df_concat.head()"
   ]
  },
  {
   "cell_type": "code",
   "execution_count": 41,
   "metadata": {},
   "outputs": [
    {
     "data": {
      "text/plain": [
       "1    0.71367\n",
       "0    0.28633\n",
       "Name: vader_sentiment_pred, dtype: float64"
      ]
     },
     "execution_count": 41,
     "metadata": {},
     "output_type": "execute_result"
    }
   ],
   "source": [
    "df_concat['vader_sentiment_pred'].value_counts()/len(df_concat)"
   ]
  },
  {
   "cell_type": "code",
   "execution_count": 42,
   "metadata": {},
   "outputs": [],
   "source": [
    "#for plotting purposes, we remove the outliers in len_post"
   ]
  },
  {
   "cell_type": "code",
   "execution_count": 43,
   "metadata": {},
   "outputs": [],
   "source": [
    "df_concat_short=df_concat[df_concat['len_posts']<2000]"
   ]
  },
  {
   "cell_type": "code",
   "execution_count": 44,
   "metadata": {},
   "outputs": [
    {
     "data": {
      "image/png": "[encoded data removed]",
      "text/plain": [
       "<Figure size 432x288 with 1 Axes>"
      ]
     },
     "metadata": {
      "needs_background": "light"
     },
     "output_type": "display_data"
    }
   ],
   "source": [
    "sns.histplot(\n",
    "    data=df_concat_short\n",
    "    ,hue= 'vader_sentiment_pred'\n",
    "    ,x= 'subreddit'\n",
    "    ,multiple='dodge'\n",
    "    )\n",
    "plt.show()"
   ]
  },
  {
   "cell_type": "markdown",
   "metadata": {},
   "source": [
    "both subreddit have an equivalent % of positive and negative comments "
   ]
  },
  {
   "cell_type": "code",
   "execution_count": 45,
   "metadata": {},
   "outputs": [
    {
     "data": {
      "image/png": "[encoded data removed]",
      "text/plain": [
       "<Figure size 1080x432 with 1 Axes>"
      ]
     },
     "metadata": {
      "needs_background": "light"
     },
     "output_type": "display_data"
    }
   ],
   "source": [
    "plt.figure(figsize=(15,6))\n",
    "sns.histplot(\n",
    "    data=df_concat_short,\n",
    "    x= 'len_posts',\n",
    "    hue =\"vader_sentiment_pred\"\n",
    "    )\n",
    "plt.show()"
   ]
  },
  {
   "cell_type": "markdown",
   "metadata": {},
   "source": [
    "We realize that post shorter than 500 words are  2x-3x more likely to be positive comments"
   ]
  },
  {
   "cell_type": "markdown",
   "metadata": {},
   "source": []
  },
  {
   "cell_type": "markdown",
   "metadata": {},
   "source": []
  }
 ],
 "metadata": {
  "kernelspec": {
   "display_name": "Python 3.9.12 ('base')",
   "language": "python",
   "name": "python3"
  },
  "language_info": {
   "codemirror_mode": {
    "name": "ipython",
    "version": 3
   },
   "file_extension": ".py",
   "mimetype": "text/x-python",
   "name": "python",
   "nbconvert_exporter": "python",
   "pygments_lexer": "ipython3",
   "version": "3.9.12"
  },
  "orig_nbformat": 4,
  "vscode": {
   "interpreter": {
    "hash": "25a04f5bcc4cce45f88f55048bde1d1871ccb10dc4647418ede9299c65043aaf"
   }
  }
 },
 "nbformat": 4,
 "nbformat_minor": 2
}
